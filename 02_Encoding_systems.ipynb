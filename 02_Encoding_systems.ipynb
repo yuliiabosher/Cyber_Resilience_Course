{
  "nbformat": 4,
  "nbformat_minor": 0,
  "metadata": {
    "colab": {
      "provenance": [],
      "include_colab_link": true
    },
    "kernelspec": {
      "name": "python3",
      "display_name": "Python 3"
    },
    "language_info": {
      "name": "python"
    }
  },
  "cells": [
    {
      "cell_type": "markdown",
      "metadata": {
        "id": "view-in-github",
        "colab_type": "text"
      },
      "source": [
        "<a href=\"https://colab.research.google.com/github/yuliiabosher/Cyber_Resilience_Course/blob/main/02_Encoding_systems.ipynb\" target=\"_parent\"><img src=\"https://colab.research.google.com/assets/colab-badge.svg\" alt=\"Open In Colab\"/></a>"
      ]
    },
    {
      "cell_type": "markdown",
      "source": [
        "# Encoding challenges inspired by https://cryptopals.com/\n",
        "---\n",
        "\n",
        "Have a go at the 5 challenges.  Each will need specific Python libraries and a basic understanding of the different encoding systems."
      ],
      "metadata": {
        "id": "95WVcP4unIP8"
      }
    },
    {
      "cell_type": "markdown",
      "source": [
        "## Challenge 1 - Hexadecimal, ASCII and base 64\n",
        "---\n",
        "\n",
        "**Topics:**\n",
        "* [Hexadecimal and numbering systems](https://learn.sparkfun.com/tutorials/hexadecimal/introduction)\n",
        "* [ASCII](https://www.ascii-code.com/articles/Beginners-Guide-to-ASCII)\n",
        "* [Base64](https://www.base64encoder.io/learn/)\n",
        "\n",
        "You can refer back to these topics as you work through the exercises below."
      ],
      "metadata": {
        "id": "vSv3HbB9ne8v"
      }
    },
    {
      "cell_type": "markdown",
      "source": [
        "### Exercise 1 - convert decimal number to a hexadecimal equivalent string\n",
        "---\n",
        "\n",
        "e.g.  \n",
        "Decimal 10 is Hexadecimal a   \n",
        "Decimal 45 is Hexadecimal 2d  \n",
        "Decimal 163 is Hexadecimal a3  \n",
        "Decimal 3482 is Hexadecimal d9a  \n",
        "\n",
        "Write a function that will return the hexadecimal number as a string (for printing)\n"
      ],
      "metadata": {
        "id": "F0fAtbFjw-7j"
      }
    },
    {
      "cell_type": "code",
      "execution_count": 1,
      "metadata": {
        "id": "TSur-LW7nE2K",
        "colab": {
          "base_uri": "https://localhost:8080/"
        },
        "outputId": "db99bf9f-1101-4d8a-d8d9-6a68eff75cc2"
      },
      "outputs": [
        {
          "output_type": "stream",
          "name": "stdout",
          "text": [
            "D9A\n"
          ]
        }
      ],
      "source": [
        "def hex(decimal):\n",
        "  hexadecimal = \"\"\n",
        "  letters = {10:'A', 11:'B', 12:'C', 13:'D', 14:'E', 15:'F'}\n",
        "  quontient = decimal//16\n",
        "  remainder = decimal%16\n",
        "  while quontient>0:\n",
        "    if letters.get(remainder):\n",
        "      hexadecimal+=letters[remainder]\n",
        "    else:\n",
        "      hexadecimal+=str(remainder)\n",
        "    remainder = quontient%16\n",
        "    quontient = quontient//16\n",
        "  if letters.get(remainder):\n",
        "    hexadecimal+=letters[remainder]\n",
        "  else:\n",
        "    hexadecimal+=str(remainder)\n",
        "  return hexadecimal[::-1]\n",
        "\n",
        "print(hex(3482))\n"
      ]
    },
    {
      "cell_type": "markdown",
      "source": [
        "### Exercise 2 - convert a string into its hexadecimal ASCII values to form a new string\n",
        "---\n",
        "\n",
        "e.g. \"Hello World\" converts to \"48656c6c6f20576f726c64\""
      ],
      "metadata": {
        "id": "vJuPaMrqxOEQ"
      }
    },
    {
      "cell_type": "code",
      "source": [
        "def string_to_ascii_hex(message):\n",
        "  decimal_to_hex = \"\"\n",
        "  for i in message:\n",
        "    decimal=ord(i)\n",
        "    hexadecimal = hex(decimal)\n",
        "    decimal_to_hex+=hexadecimal\n",
        "  return decimal_to_hex\n",
        "string_to_ascii_hex(\"Hello World\")"
      ],
      "metadata": {
        "id": "Siy9Vg0rNSKT",
        "outputId": "95a5d354-d4bf-4ff1-88ad-11aa213f7050",
        "colab": {
          "base_uri": "https://localhost:8080/",
          "height": 35
        }
      },
      "execution_count": 2,
      "outputs": [
        {
          "output_type": "execute_result",
          "data": {
            "text/plain": [
              "'48656C6C6F20576F726C64'"
            ],
            "application/vnd.google.colaboratory.intrinsic+json": {
              "type": "string"
            }
          },
          "metadata": {},
          "execution_count": 2
        }
      ]
    },
    {
      "cell_type": "markdown",
      "source": [
        "### Exercise 3 - convert a hexadecimal digit string to a four digit binary string\n",
        "---\n",
        "e.g.   \n",
        "Hexadecimal string \"4\" would convert to binary string \"0100\"   \n",
        "Hexadecimal string \"E\" would convert to binary string \"1110\"  \n",
        "Hexadecimal string \"0\" would convert to binary string \"0000\"   "
      ],
      "metadata": {
        "id": "JB1D1k1zdcii"
      }
    },
    {
      "cell_type": "code",
      "source": [
        "def hex_to_binary(a):\n",
        "  hex_integer = int(a, 16)\n",
        "  binary_string = bin(hex_integer)\n",
        "  binary_string = binary_string[2:]\n",
        "  if len(binary_string)<4:\n",
        "    if len(binary_string)==3:\n",
        "      binary_string = '0'+ binary_string\n",
        "    elif len(binary_string)==2:\n",
        "      binary_string = '00'+binary_string\n",
        "    else:\n",
        "      binary_string = '000'+binary_string\n",
        "  return binary_string\n",
        "hex_to_binary('0')\n"
      ],
      "metadata": {
        "id": "fFFHeVTH49so",
        "outputId": "b5bf3a40-fe7d-46aa-cc42-214f820716a4",
        "colab": {
          "base_uri": "https://localhost:8080/",
          "height": 35
        }
      },
      "execution_count": 3,
      "outputs": [
        {
          "output_type": "execute_result",
          "data": {
            "text/plain": [
              "'0000'"
            ],
            "application/vnd.google.colaboratory.intrinsic+json": {
              "type": "string"
            }
          },
          "metadata": {},
          "execution_count": 3
        }
      ]
    },
    {
      "cell_type": "markdown",
      "source": [
        "### Exercise 4 - encode an image (binary format) in Base64 format\n",
        "---\n",
        "Python provides a library `base64` for encoding binary data as text for secure transmission over networks and the internet.\n",
        "\n",
        "The process for preparing an image file for transmission is:\n",
        "\n",
        "*   import the base64 library\n",
        "*   uplodad and open the image file as bytes\n",
        "*   read and ecnode the file contents (binary) into a base64 string\n",
        "*   print the first 128 characters and the last 128 characters of the base64 string\n",
        "\n"
      ],
      "metadata": {
        "id": "zMcevZaeeJkF"
      }
    },
    {
      "cell_type": "code",
      "source": [
        "from base64 import b64encode, b64decode\n",
        "from google.colab import files\n",
        "files.upload()\n",
        "def encode_image(image):\n",
        "  with open(image, \"rb\") as f:\n",
        "    encoded_image_data = b64encode(f.read())\n",
        "    return encoded_image_data\n",
        "encode_image(\"lynx1.png\")\n",
        "print(f'\\nFirst 128 characters \\n\\n{encode_image(\"lynx1.png\")[:128]}\\n\\nLast 128 characters\\n\\n{encode_image(\"lynx1.png\")[-128:]}\\n\\n')\n",
        "\n"
      ],
      "metadata": {
        "id": "8ev5F_P-46_0",
        "colab": {
          "base_uri": "https://localhost:8080/",
          "height": 247
        },
        "outputId": "dac7d82d-06dd-463d-d45f-24b39c4f261f"
      },
      "execution_count": 4,
      "outputs": [
        {
          "output_type": "display_data",
          "data": {
            "text/plain": [
              "<IPython.core.display.HTML object>"
            ],
            "text/html": [
              "\n",
              "     <input type=\"file\" id=\"files-763e6122-e1ca-4472-9b8d-c492292b531c\" name=\"files[]\" multiple disabled\n",
              "        style=\"border:none\" />\n",
              "     <output id=\"result-763e6122-e1ca-4472-9b8d-c492292b531c\">\n",
              "      Upload widget is only available when the cell has been executed in the\n",
              "      current browser session. Please rerun this cell to enable.\n",
              "      </output>\n",
              "      <script>// Copyright 2017 Google LLC\n",
              "//\n",
              "// Licensed under the Apache License, Version 2.0 (the \"License\");\n",
              "// you may not use this file except in compliance with the License.\n",
              "// You may obtain a copy of the License at\n",
              "//\n",
              "//      http://www.apache.org/licenses/LICENSE-2.0\n",
              "//\n",
              "// Unless required by applicable law or agreed to in writing, software\n",
              "// distributed under the License is distributed on an \"AS IS\" BASIS,\n",
              "// WITHOUT WARRANTIES OR CONDITIONS OF ANY KIND, either express or implied.\n",
              "// See the License for the specific language governing permissions and\n",
              "// limitations under the License.\n",
              "\n",
              "/**\n",
              " * @fileoverview Helpers for google.colab Python module.\n",
              " */\n",
              "(function(scope) {\n",
              "function span(text, styleAttributes = {}) {\n",
              "  const element = document.createElement('span');\n",
              "  element.textContent = text;\n",
              "  for (const key of Object.keys(styleAttributes)) {\n",
              "    element.style[key] = styleAttributes[key];\n",
              "  }\n",
              "  return element;\n",
              "}\n",
              "\n",
              "// Max number of bytes which will be uploaded at a time.\n",
              "const MAX_PAYLOAD_SIZE = 100 * 1024;\n",
              "\n",
              "function _uploadFiles(inputId, outputId) {\n",
              "  const steps = uploadFilesStep(inputId, outputId);\n",
              "  const outputElement = document.getElementById(outputId);\n",
              "  // Cache steps on the outputElement to make it available for the next call\n",
              "  // to uploadFilesContinue from Python.\n",
              "  outputElement.steps = steps;\n",
              "\n",
              "  return _uploadFilesContinue(outputId);\n",
              "}\n",
              "\n",
              "// This is roughly an async generator (not supported in the browser yet),\n",
              "// where there are multiple asynchronous steps and the Python side is going\n",
              "// to poll for completion of each step.\n",
              "// This uses a Promise to block the python side on completion of each step,\n",
              "// then passes the result of the previous step as the input to the next step.\n",
              "function _uploadFilesContinue(outputId) {\n",
              "  const outputElement = document.getElementById(outputId);\n",
              "  const steps = outputElement.steps;\n",
              "\n",
              "  const next = steps.next(outputElement.lastPromiseValue);\n",
              "  return Promise.resolve(next.value.promise).then((value) => {\n",
              "    // Cache the last promise value to make it available to the next\n",
              "    // step of the generator.\n",
              "    outputElement.lastPromiseValue = value;\n",
              "    return next.value.response;\n",
              "  });\n",
              "}\n",
              "\n",
              "/**\n",
              " * Generator function which is called between each async step of the upload\n",
              " * process.\n",
              " * @param {string} inputId Element ID of the input file picker element.\n",
              " * @param {string} outputId Element ID of the output display.\n",
              " * @return {!Iterable<!Object>} Iterable of next steps.\n",
              " */\n",
              "function* uploadFilesStep(inputId, outputId) {\n",
              "  const inputElement = document.getElementById(inputId);\n",
              "  inputElement.disabled = false;\n",
              "\n",
              "  const outputElement = document.getElementById(outputId);\n",
              "  outputElement.innerHTML = '';\n",
              "\n",
              "  const pickedPromise = new Promise((resolve) => {\n",
              "    inputElement.addEventListener('change', (e) => {\n",
              "      resolve(e.target.files);\n",
              "    });\n",
              "  });\n",
              "\n",
              "  const cancel = document.createElement('button');\n",
              "  inputElement.parentElement.appendChild(cancel);\n",
              "  cancel.textContent = 'Cancel upload';\n",
              "  const cancelPromise = new Promise((resolve) => {\n",
              "    cancel.onclick = () => {\n",
              "      resolve(null);\n",
              "    };\n",
              "  });\n",
              "\n",
              "  // Wait for the user to pick the files.\n",
              "  const files = yield {\n",
              "    promise: Promise.race([pickedPromise, cancelPromise]),\n",
              "    response: {\n",
              "      action: 'starting',\n",
              "    }\n",
              "  };\n",
              "\n",
              "  cancel.remove();\n",
              "\n",
              "  // Disable the input element since further picks are not allowed.\n",
              "  inputElement.disabled = true;\n",
              "\n",
              "  if (!files) {\n",
              "    return {\n",
              "      response: {\n",
              "        action: 'complete',\n",
              "      }\n",
              "    };\n",
              "  }\n",
              "\n",
              "  for (const file of files) {\n",
              "    const li = document.createElement('li');\n",
              "    li.append(span(file.name, {fontWeight: 'bold'}));\n",
              "    li.append(span(\n",
              "        `(${file.type || 'n/a'}) - ${file.size} bytes, ` +\n",
              "        `last modified: ${\n",
              "            file.lastModifiedDate ? file.lastModifiedDate.toLocaleDateString() :\n",
              "                                    'n/a'} - `));\n",
              "    const percent = span('0% done');\n",
              "    li.appendChild(percent);\n",
              "\n",
              "    outputElement.appendChild(li);\n",
              "\n",
              "    const fileDataPromise = new Promise((resolve) => {\n",
              "      const reader = new FileReader();\n",
              "      reader.onload = (e) => {\n",
              "        resolve(e.target.result);\n",
              "      };\n",
              "      reader.readAsArrayBuffer(file);\n",
              "    });\n",
              "    // Wait for the data to be ready.\n",
              "    let fileData = yield {\n",
              "      promise: fileDataPromise,\n",
              "      response: {\n",
              "        action: 'continue',\n",
              "      }\n",
              "    };\n",
              "\n",
              "    // Use a chunked sending to avoid message size limits. See b/62115660.\n",
              "    let position = 0;\n",
              "    do {\n",
              "      const length = Math.min(fileData.byteLength - position, MAX_PAYLOAD_SIZE);\n",
              "      const chunk = new Uint8Array(fileData, position, length);\n",
              "      position += length;\n",
              "\n",
              "      const base64 = btoa(String.fromCharCode.apply(null, chunk));\n",
              "      yield {\n",
              "        response: {\n",
              "          action: 'append',\n",
              "          file: file.name,\n",
              "          data: base64,\n",
              "        },\n",
              "      };\n",
              "\n",
              "      let percentDone = fileData.byteLength === 0 ?\n",
              "          100 :\n",
              "          Math.round((position / fileData.byteLength) * 100);\n",
              "      percent.textContent = `${percentDone}% done`;\n",
              "\n",
              "    } while (position < fileData.byteLength);\n",
              "  }\n",
              "\n",
              "  // All done.\n",
              "  yield {\n",
              "    response: {\n",
              "      action: 'complete',\n",
              "    }\n",
              "  };\n",
              "}\n",
              "\n",
              "scope.google = scope.google || {};\n",
              "scope.google.colab = scope.google.colab || {};\n",
              "scope.google.colab._files = {\n",
              "  _uploadFiles,\n",
              "  _uploadFilesContinue,\n",
              "};\n",
              "})(self);\n",
              "</script> "
            ]
          },
          "metadata": {}
        },
        {
          "output_type": "stream",
          "name": "stdout",
          "text": [
            "Saving lynx1.png to lynx1.png\n",
            "\n",
            "First 128 characters \n",
            "\n",
            "b'iVBORw0KGgoAAAANSUhEUgAABogAAAjFCAYAAABUJj7EAAAoonpUWHRSYXcgcHJvZmlsZSB0eXBlIGV4aWYAAHjapZxpkhy7kp3/YxVaAmY4loPRTDvQ8vUdVCYvyb4y'\n",
            "\n",
            "Last 128 characters\n",
            "\n",
            "b'l8FR9rXt2p+eQ9/MIL6JdE2vZ++cJeRMTTPzLdyjmOfb4ajveA+YdgRl9HJCMBvdfz/DZaHAW2773hed5yb79k//9u+//3PPZv4Pyn+O/9KufqUAAAAASUVORK5CYII='\n",
            "\n",
            "\n"
          ]
        }
      ]
    },
    {
      "cell_type": "markdown",
      "source": [
        "### Exdercise 5 -- challenge -- encode a zip file into Base64 format\n",
        "---\n",
        "Create a small zip file, upload and open it, convert to base64 format.  \n",
        "Print the first 128 characters and the last 128 characters of the bas64 string.  \n",
        "Decode back to the original file.  \n",
        "Try to unzip to get the original contents.\n",
        "\n"
      ],
      "metadata": {
        "id": "iBBVTLY74_r_"
      }
    },
    {
      "cell_type": "code",
      "source": [
        "from zipfile import ZipFile as zf\n",
        "files.upload()\n",
        "def encode_zip_file(zip_file, image_file):\n",
        "  archive = zf(zip_file, 'r')\n",
        "  archive.extract(image_file)\n",
        "  archive.close()\n",
        "  with open(image_file, 'rb') as f:\n",
        "    encoded_image_data = b64encode(f.read())\n",
        "  with open(image_file, 'wb') as f:\n",
        "    f.write(encoded_image_data)\n",
        "    print(f'\\nFirst 128 characters \\n\\n{encoded_image_data[:128]}\\n\\nLast 128 characters\\n\\n{encoded_image_data[-128:]}\\n\\n')\n",
        "  archive = zf(zip_file, 'w')\n",
        "  archive.write(image_file)\n",
        "  archive.close()\n",
        "encode_zip_file('lynx1.png.zip', 'lynx1.png')\n",
        "files.download('lynx1.png.zip')\n",
        "def decode_zip_file(zip_file, image_file):\n",
        "  archive = zf(zip_file, 'r')\n",
        "  archive.extract(image_file)\n",
        "  archive.close()\n",
        "  with open(image_file, 'rb') as f:\n",
        "    decoded_image_data = b64decode(f.read())\n",
        "  with open(image_file, 'wb') as f:\n",
        "    f.write(decoded_image_data)\n",
        "    print(f'\\nFirst 128 characters \\n\\n{decoded_image_data[:128]}\\n\\nLast 128 characters\\n\\n{decoded_image_data[-128:]}\\n\\n')\n",
        "  archive = zf(zip_file, 'w')\n",
        "  archive.write(image_file)\n",
        "  archive.close()\n",
        "decode_zip_file('lynx1.png.zip', 'lynx1.png')\n",
        "\n",
        "\n"
      ],
      "metadata": {
        "id": "MJfUnAKz5VOx",
        "colab": {
          "base_uri": "https://localhost:8080/",
          "height": 441
        },
        "outputId": "b36a22ab-3eb4-496d-eaeb-23cbb736ddc9"
      },
      "execution_count": 8,
      "outputs": [
        {
          "output_type": "display_data",
          "data": {
            "text/plain": [
              "<IPython.core.display.HTML object>"
            ],
            "text/html": [
              "\n",
              "     <input type=\"file\" id=\"files-0a5e20dd-df44-40ad-befe-25a3c40b7780\" name=\"files[]\" multiple disabled\n",
              "        style=\"border:none\" />\n",
              "     <output id=\"result-0a5e20dd-df44-40ad-befe-25a3c40b7780\">\n",
              "      Upload widget is only available when the cell has been executed in the\n",
              "      current browser session. Please rerun this cell to enable.\n",
              "      </output>\n",
              "      <script>// Copyright 2017 Google LLC\n",
              "//\n",
              "// Licensed under the Apache License, Version 2.0 (the \"License\");\n",
              "// you may not use this file except in compliance with the License.\n",
              "// You may obtain a copy of the License at\n",
              "//\n",
              "//      http://www.apache.org/licenses/LICENSE-2.0\n",
              "//\n",
              "// Unless required by applicable law or agreed to in writing, software\n",
              "// distributed under the License is distributed on an \"AS IS\" BASIS,\n",
              "// WITHOUT WARRANTIES OR CONDITIONS OF ANY KIND, either express or implied.\n",
              "// See the License for the specific language governing permissions and\n",
              "// limitations under the License.\n",
              "\n",
              "/**\n",
              " * @fileoverview Helpers for google.colab Python module.\n",
              " */\n",
              "(function(scope) {\n",
              "function span(text, styleAttributes = {}) {\n",
              "  const element = document.createElement('span');\n",
              "  element.textContent = text;\n",
              "  for (const key of Object.keys(styleAttributes)) {\n",
              "    element.style[key] = styleAttributes[key];\n",
              "  }\n",
              "  return element;\n",
              "}\n",
              "\n",
              "// Max number of bytes which will be uploaded at a time.\n",
              "const MAX_PAYLOAD_SIZE = 100 * 1024;\n",
              "\n",
              "function _uploadFiles(inputId, outputId) {\n",
              "  const steps = uploadFilesStep(inputId, outputId);\n",
              "  const outputElement = document.getElementById(outputId);\n",
              "  // Cache steps on the outputElement to make it available for the next call\n",
              "  // to uploadFilesContinue from Python.\n",
              "  outputElement.steps = steps;\n",
              "\n",
              "  return _uploadFilesContinue(outputId);\n",
              "}\n",
              "\n",
              "// This is roughly an async generator (not supported in the browser yet),\n",
              "// where there are multiple asynchronous steps and the Python side is going\n",
              "// to poll for completion of each step.\n",
              "// This uses a Promise to block the python side on completion of each step,\n",
              "// then passes the result of the previous step as the input to the next step.\n",
              "function _uploadFilesContinue(outputId) {\n",
              "  const outputElement = document.getElementById(outputId);\n",
              "  const steps = outputElement.steps;\n",
              "\n",
              "  const next = steps.next(outputElement.lastPromiseValue);\n",
              "  return Promise.resolve(next.value.promise).then((value) => {\n",
              "    // Cache the last promise value to make it available to the next\n",
              "    // step of the generator.\n",
              "    outputElement.lastPromiseValue = value;\n",
              "    return next.value.response;\n",
              "  });\n",
              "}\n",
              "\n",
              "/**\n",
              " * Generator function which is called between each async step of the upload\n",
              " * process.\n",
              " * @param {string} inputId Element ID of the input file picker element.\n",
              " * @param {string} outputId Element ID of the output display.\n",
              " * @return {!Iterable<!Object>} Iterable of next steps.\n",
              " */\n",
              "function* uploadFilesStep(inputId, outputId) {\n",
              "  const inputElement = document.getElementById(inputId);\n",
              "  inputElement.disabled = false;\n",
              "\n",
              "  const outputElement = document.getElementById(outputId);\n",
              "  outputElement.innerHTML = '';\n",
              "\n",
              "  const pickedPromise = new Promise((resolve) => {\n",
              "    inputElement.addEventListener('change', (e) => {\n",
              "      resolve(e.target.files);\n",
              "    });\n",
              "  });\n",
              "\n",
              "  const cancel = document.createElement('button');\n",
              "  inputElement.parentElement.appendChild(cancel);\n",
              "  cancel.textContent = 'Cancel upload';\n",
              "  const cancelPromise = new Promise((resolve) => {\n",
              "    cancel.onclick = () => {\n",
              "      resolve(null);\n",
              "    };\n",
              "  });\n",
              "\n",
              "  // Wait for the user to pick the files.\n",
              "  const files = yield {\n",
              "    promise: Promise.race([pickedPromise, cancelPromise]),\n",
              "    response: {\n",
              "      action: 'starting',\n",
              "    }\n",
              "  };\n",
              "\n",
              "  cancel.remove();\n",
              "\n",
              "  // Disable the input element since further picks are not allowed.\n",
              "  inputElement.disabled = true;\n",
              "\n",
              "  if (!files) {\n",
              "    return {\n",
              "      response: {\n",
              "        action: 'complete',\n",
              "      }\n",
              "    };\n",
              "  }\n",
              "\n",
              "  for (const file of files) {\n",
              "    const li = document.createElement('li');\n",
              "    li.append(span(file.name, {fontWeight: 'bold'}));\n",
              "    li.append(span(\n",
              "        `(${file.type || 'n/a'}) - ${file.size} bytes, ` +\n",
              "        `last modified: ${\n",
              "            file.lastModifiedDate ? file.lastModifiedDate.toLocaleDateString() :\n",
              "                                    'n/a'} - `));\n",
              "    const percent = span('0% done');\n",
              "    li.appendChild(percent);\n",
              "\n",
              "    outputElement.appendChild(li);\n",
              "\n",
              "    const fileDataPromise = new Promise((resolve) => {\n",
              "      const reader = new FileReader();\n",
              "      reader.onload = (e) => {\n",
              "        resolve(e.target.result);\n",
              "      };\n",
              "      reader.readAsArrayBuffer(file);\n",
              "    });\n",
              "    // Wait for the data to be ready.\n",
              "    let fileData = yield {\n",
              "      promise: fileDataPromise,\n",
              "      response: {\n",
              "        action: 'continue',\n",
              "      }\n",
              "    };\n",
              "\n",
              "    // Use a chunked sending to avoid message size limits. See b/62115660.\n",
              "    let position = 0;\n",
              "    do {\n",
              "      const length = Math.min(fileData.byteLength - position, MAX_PAYLOAD_SIZE);\n",
              "      const chunk = new Uint8Array(fileData, position, length);\n",
              "      position += length;\n",
              "\n",
              "      const base64 = btoa(String.fromCharCode.apply(null, chunk));\n",
              "      yield {\n",
              "        response: {\n",
              "          action: 'append',\n",
              "          file: file.name,\n",
              "          data: base64,\n",
              "        },\n",
              "      };\n",
              "\n",
              "      let percentDone = fileData.byteLength === 0 ?\n",
              "          100 :\n",
              "          Math.round((position / fileData.byteLength) * 100);\n",
              "      percent.textContent = `${percentDone}% done`;\n",
              "\n",
              "    } while (position < fileData.byteLength);\n",
              "  }\n",
              "\n",
              "  // All done.\n",
              "  yield {\n",
              "    response: {\n",
              "      action: 'complete',\n",
              "    }\n",
              "  };\n",
              "}\n",
              "\n",
              "scope.google = scope.google || {};\n",
              "scope.google.colab = scope.google.colab || {};\n",
              "scope.google.colab._files = {\n",
              "  _uploadFiles,\n",
              "  _uploadFilesContinue,\n",
              "};\n",
              "})(self);\n",
              "</script> "
            ]
          },
          "metadata": {}
        },
        {
          "output_type": "stream",
          "name": "stdout",
          "text": [
            "Saving lynx1.png.zip to lynx1.png (3).zip\n",
            "\n",
            "First 128 characters \n",
            "\n",
            "b'iVBORw0KGgoAAAANSUhEUgAABogAAAjFCAYAAABUJj7EAAAoonpUWHRSYXcgcHJvZmlsZSB0eXBlIGV4aWYAAHjapZxpkhy7kp3/YxVaAmY4loPRTDvQ8vUdVCYvyb4y'\n",
            "\n",
            "Last 128 characters\n",
            "\n",
            "b'l8FR9rXt2p+eQ9/MIL6JdE2vZ++cJeRMTTPzLdyjmOfb4ajveA+YdgRl9HJCMBvdfz/DZaHAW2773hed5yb79k//9u+//3PPZv4Pyn+O/9KufqUAAAAASUVORK5CYII='\n",
            "\n",
            "\n"
          ]
        },
        {
          "output_type": "display_data",
          "data": {
            "text/plain": [
              "<IPython.core.display.Javascript object>"
            ],
            "application/javascript": [
              "\n",
              "    async function download(id, filename, size) {\n",
              "      if (!google.colab.kernel.accessAllowed) {\n",
              "        return;\n",
              "      }\n",
              "      const div = document.createElement('div');\n",
              "      const label = document.createElement('label');\n",
              "      label.textContent = `Downloading \"${filename}\": `;\n",
              "      div.appendChild(label);\n",
              "      const progress = document.createElement('progress');\n",
              "      progress.max = size;\n",
              "      div.appendChild(progress);\n",
              "      document.body.appendChild(div);\n",
              "\n",
              "      const buffers = [];\n",
              "      let downloaded = 0;\n",
              "\n",
              "      const channel = await google.colab.kernel.comms.open(id);\n",
              "      // Send a message to notify the kernel that we're ready.\n",
              "      channel.send({})\n",
              "\n",
              "      for await (const message of channel.messages) {\n",
              "        // Send a message to notify the kernel that we're ready.\n",
              "        channel.send({})\n",
              "        if (message.buffers) {\n",
              "          for (const buffer of message.buffers) {\n",
              "            buffers.push(buffer);\n",
              "            downloaded += buffer.byteLength;\n",
              "            progress.value = downloaded;\n",
              "          }\n",
              "        }\n",
              "      }\n",
              "      const blob = new Blob(buffers, {type: 'application/binary'});\n",
              "      const a = document.createElement('a');\n",
              "      a.href = window.URL.createObjectURL(blob);\n",
              "      a.download = filename;\n",
              "      div.appendChild(a);\n",
              "      a.click();\n",
              "      div.remove();\n",
              "    }\n",
              "  "
            ]
          },
          "metadata": {}
        },
        {
          "output_type": "display_data",
          "data": {
            "text/plain": [
              "<IPython.core.display.Javascript object>"
            ],
            "application/javascript": [
              "download(\"download_7dc33672-435b-49f4-b1bb-79629861aeb0\", \"lynx1.png.zip\", 4213572)"
            ]
          },
          "metadata": {}
        },
        {
          "output_type": "stream",
          "name": "stdout",
          "text": [
            "\n",
            "First 128 characters \n",
            "\n",
            "b'\\x89PNG\\r\\n\\x1a\\n\\x00\\x00\\x00\\rIHDR\\x00\\x00\\x06\\x88\\x00\\x00\\x08\\xc5\\x08\\x06\\x00\\x00\\x00T&>\\xc4\\x00\\x00(\\xa2zTXtRaw profile type exif\\x00\\x00x\\xda\\xa5\\x9ci\\x92\\x1c\\xbb\\x92\\x9d\\xffc\\x15Z\\x02f8\\x96\\x83\\xd1L;\\xd0\\xf2\\xf5\\x1dT&/\\xc9\\xbe2\\xd9\\xeb\\xe6X\\xcc\\xca\\x8c\\xc0\\xe0~\\x06\\x87\\x07\\xdd\\xf9?\\xff\\xfb\\xba\\xff\\xc5\\x8f\\x9e-\\xba\\\\\\x9a\\xd5^\\xab\\xe7G'\n",
            "\n",
            "Last 128 characters\n",
            "\n",
            "b'~\\x7f\\xa2n2?CxD\\x8aS>\\x12\\xfb\\xee\\xeb\\x90\\xc0\\xec\\x85\\x16\\xef]\\x0e\\x90&\\xcay\\xf6\\xb0l\\xae\\xa3\\x97\\xc1Q\\xf6\\xb5\\xed\\xda\\x9f\\x9eC\\xdf\\xcc \\xbe\\x89tM\\xafg\\xef\\x9c%\\xe4LM3\\xf3-\\xdc\\xa3\\x98\\xe7\\xdb\\xe1\\xa8\\xefx\\x0f\\x98v\\x04e\\xf4rB0\\x1b\\xdd\\x7f?\\xc3e\\xa1\\xc0[n\\xfb\\xde\\x17\\x9d\\xe7&\\xfb\\xf6O\\xff\\xf6\\xef\\xbf\\xffs\\xcff\\xfe\\x0f\\xca\\x7f\\x8e\\xff\\xd2\\xae~\\xa5\\x00\\x00\\x00\\x00IEND\\xaeB`\\x82'\n",
            "\n",
            "\n"
          ]
        }
      ]
    }
  ]
}