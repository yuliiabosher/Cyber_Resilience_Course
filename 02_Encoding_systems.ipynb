{
  "nbformat": 4,
  "nbformat_minor": 0,
  "metadata": {
    "colab": {
      "provenance": [],
      "include_colab_link": true
    },
    "kernelspec": {
      "name": "python3",
      "display_name": "Python 3"
    },
    "language_info": {
      "name": "python"
    }
  },
  "cells": [
    {
      "cell_type": "markdown",
      "metadata": {
        "id": "view-in-github",
        "colab_type": "text"
      },
      "source": [
        "<a href=\"https://colab.research.google.com/github/yuliiabosher/Cyber_Resilience_Course/blob/main/02_Encoding_systems.ipynb\" target=\"_parent\"><img src=\"https://colab.research.google.com/assets/colab-badge.svg\" alt=\"Open In Colab\"/></a>"
      ]
    },
    {
      "cell_type": "markdown",
      "source": [
        "# Encoding challenges inspired by https://cryptopals.com/\n",
        "---\n",
        "\n",
        "Have a go at the 5 challenges.  Each will need specific Python libraries and a basic understanding of the different encoding systems."
      ],
      "metadata": {
        "id": "95WVcP4unIP8"
      }
    },
    {
      "cell_type": "markdown",
      "source": [
        "## Challenge 1 - Hexadecimal, ASCII and base 64\n",
        "---\n",
        "\n",
        "**Topics:**\n",
        "* [Hexadecimal and numbering systems](https://learn.sparkfun.com/tutorials/hexadecimal/introduction)\n",
        "* [ASCII](https://www.ascii-code.com/articles/Beginners-Guide-to-ASCII)\n",
        "* [Base64](https://www.base64encoder.io/learn/)\n",
        "\n",
        "You can refer back to these topics as you work through the exercises below."
      ],
      "metadata": {
        "id": "vSv3HbB9ne8v"
      }
    },
    {
      "cell_type": "markdown",
      "source": [
        "### Exercise 1 - convert decimal number to a hexadecimal equivalent string\n",
        "---\n",
        "\n",
        "e.g.  \n",
        "Decimal 10 is Hexadecimal a   \n",
        "Decimal 45 is Hexadecimal 2d  \n",
        "Decimal 163 is Hexadecimal a3  \n",
        "Decimal 3482 is Hexadecimal d9a  \n",
        "\n",
        "Write a function that will return the hexadecimal number as a string (for printing)\n"
      ],
      "metadata": {
        "id": "F0fAtbFjw-7j"
      }
    },
    {
      "cell_type": "code",
      "execution_count": 30,
      "metadata": {
        "id": "TSur-LW7nE2K",
        "colab": {
          "base_uri": "https://localhost:8080/"
        },
        "outputId": "d760bbbd-359f-4f92-d0ff-89fc1e913339"
      },
      "outputs": [
        {
          "output_type": "stream",
          "name": "stdout",
          "text": [
            "D9A\n"
          ]
        }
      ],
      "source": [
        "def hex(decimal):\n",
        "  hexadecimal = \"\"\n",
        "  letters = {10:'A', 11:'B', 12:'C', 13:'D', 14:'E', 15:'F'}\n",
        "  quontient = decimal//16\n",
        "  remainder = decimal%16\n",
        "  while quontient>0:\n",
        "    if letters.get(remainder):\n",
        "      hexadecimal+=letters[remainder]\n",
        "    else:\n",
        "      hexadecimal+=str(remainder)\n",
        "    remainder = quontient%16\n",
        "    quontient = quontient//16\n",
        "  if letters.get(remainder):\n",
        "    hexadecimal+=letters[remainder]\n",
        "  else:\n",
        "    hexadecimal+=str(remainder)\n",
        "  return hexadecimal[::-1]\n",
        "\n",
        "print(hex(3482))\n"
      ]
    },
    {
      "cell_type": "markdown",
      "source": [
        "### Exercise 2 - convert a string into its hexadecimal ASCII values to form a new string\n",
        "---\n",
        "\n",
        "e.g. \"Hello World\" converts to \"48656c6c6f20576f726c64\""
      ],
      "metadata": {
        "id": "vJuPaMrqxOEQ"
      }
    },
    {
      "cell_type": "code",
      "source": [
        "def string_to_ascii_hex(message):\n",
        "  decimal_to_hex = \"\"\n",
        "  for i in message:\n",
        "    decimal=ord(i)\n",
        "    hexadecimal = hex(decimal)\n",
        "    decimal_to_hex+=hexadecimal\n",
        "  return decimal_to_hex\n",
        "string_to_ascii_hex(\"Hello World\")"
      ],
      "metadata": {
        "id": "Siy9Vg0rNSKT",
        "outputId": "16c052d2-8b26-4540-ebb8-e4cd1c167c69",
        "colab": {
          "base_uri": "https://localhost:8080/",
          "height": 35
        }
      },
      "execution_count": null,
      "outputs": [
        {
          "output_type": "execute_result",
          "data": {
            "text/plain": [
              "'48656C6C6F20576F726C64'"
            ],
            "application/vnd.google.colaboratory.intrinsic+json": {
              "type": "string"
            }
          },
          "metadata": {},
          "execution_count": 11
        }
      ]
    },
    {
      "cell_type": "markdown",
      "source": [
        "### Exercise 3 - convert a hexadecimal digit string to a four digit binary string\n",
        "---\n",
        "e.g.   \n",
        "Hexadecimal string \"4\" would convert to binary string \"0100\"   \n",
        "Hexadecimal string \"E\" would convert to binary string \"1110\"  \n",
        "Hexadecimal string \"0\" would convert to binary string \"0000\"   "
      ],
      "metadata": {
        "id": "JB1D1k1zdcii"
      }
    },
    {
      "cell_type": "code",
      "source": [
        "def hex_to_binary(a):\n",
        "  hex_integer = int(a, 16)\n",
        "  binary_string = bin(hex_integer)\n",
        "  binary_string = binary_string[2:]\n",
        "  if len(binary_string)<4:\n",
        "    if len(binary_string)==3:\n",
        "      binary_string = '0'+ binary_string\n",
        "    elif len(binary_string)==2:\n",
        "      binary_string = '00'+binary_string\n",
        "    else:\n",
        "      binary_string = '000'+binary_string\n",
        "  return binary_string\n",
        "hex_to_binary('0')\n"
      ],
      "metadata": {
        "id": "fFFHeVTH49so",
        "outputId": "47f89052-9d8d-4d08-8820-90034d172f7f",
        "colab": {
          "base_uri": "https://localhost:8080/",
          "height": 35
        }
      },
      "execution_count": null,
      "outputs": [
        {
          "output_type": "execute_result",
          "data": {
            "text/plain": [
              "'0000'"
            ],
            "application/vnd.google.colaboratory.intrinsic+json": {
              "type": "string"
            }
          },
          "metadata": {},
          "execution_count": 29
        }
      ]
    },
    {
      "cell_type": "markdown",
      "source": [
        "### Exercise 4 - encode an image (binary format) in Base64 format\n",
        "---\n",
        "Python provides a library `base64` for encoding binary data as text for secure transmission over networks and the internet.\n",
        "\n",
        "The process for preparing an image file for transmission is:\n",
        "\n",
        "*   import the base64 library\n",
        "*   uplodad and open the image file as bytes\n",
        "*   read and ecnode the file contents (binary) into a base64 string\n",
        "*   print the first 128 characters and the last 128 characters of the base64 string\n",
        "\n"
      ],
      "metadata": {
        "id": "zMcevZaeeJkF"
      }
    },
    {
      "cell_type": "code",
      "source": [
        "import base64\n",
        "from google.colab import files\n",
        "files.upload()\n",
        "def encode_image(image):\n",
        "  with open(image, \"rb\") as f:\n",
        "    encoded_image = base64.b64encode(f.read())\n",
        "    print(f'\\nFirst 128 characters \\n\\n{encoded_image[:128]}\\n\\nLast 128 characters\\n\\n{encoded_image[-128:]}\\n\\n')\n",
        "encode_image('lynx1.png')\n"
      ],
      "metadata": {
        "id": "8ev5F_P-46_0",
        "outputId": "7940016a-bcf3-4d29-bd2c-98bafe8b8d8b",
        "colab": {
          "base_uri": "https://localhost:8080/",
          "height": 247
        }
      },
      "execution_count": 3,
      "outputs": [
        {
          "output_type": "display_data",
          "data": {
            "text/plain": [
              "<IPython.core.display.HTML object>"
            ],
            "text/html": [
              "\n",
              "     <input type=\"file\" id=\"files-63343a75-ce61-416c-9b59-9cb961cc8586\" name=\"files[]\" multiple disabled\n",
              "        style=\"border:none\" />\n",
              "     <output id=\"result-63343a75-ce61-416c-9b59-9cb961cc8586\">\n",
              "      Upload widget is only available when the cell has been executed in the\n",
              "      current browser session. Please rerun this cell to enable.\n",
              "      </output>\n",
              "      <script>// Copyright 2017 Google LLC\n",
              "//\n",
              "// Licensed under the Apache License, Version 2.0 (the \"License\");\n",
              "// you may not use this file except in compliance with the License.\n",
              "// You may obtain a copy of the License at\n",
              "//\n",
              "//      http://www.apache.org/licenses/LICENSE-2.0\n",
              "//\n",
              "// Unless required by applicable law or agreed to in writing, software\n",
              "// distributed under the License is distributed on an \"AS IS\" BASIS,\n",
              "// WITHOUT WARRANTIES OR CONDITIONS OF ANY KIND, either express or implied.\n",
              "// See the License for the specific language governing permissions and\n",
              "// limitations under the License.\n",
              "\n",
              "/**\n",
              " * @fileoverview Helpers for google.colab Python module.\n",
              " */\n",
              "(function(scope) {\n",
              "function span(text, styleAttributes = {}) {\n",
              "  const element = document.createElement('span');\n",
              "  element.textContent = text;\n",
              "  for (const key of Object.keys(styleAttributes)) {\n",
              "    element.style[key] = styleAttributes[key];\n",
              "  }\n",
              "  return element;\n",
              "}\n",
              "\n",
              "// Max number of bytes which will be uploaded at a time.\n",
              "const MAX_PAYLOAD_SIZE = 100 * 1024;\n",
              "\n",
              "function _uploadFiles(inputId, outputId) {\n",
              "  const steps = uploadFilesStep(inputId, outputId);\n",
              "  const outputElement = document.getElementById(outputId);\n",
              "  // Cache steps on the outputElement to make it available for the next call\n",
              "  // to uploadFilesContinue from Python.\n",
              "  outputElement.steps = steps;\n",
              "\n",
              "  return _uploadFilesContinue(outputId);\n",
              "}\n",
              "\n",
              "// This is roughly an async generator (not supported in the browser yet),\n",
              "// where there are multiple asynchronous steps and the Python side is going\n",
              "// to poll for completion of each step.\n",
              "// This uses a Promise to block the python side on completion of each step,\n",
              "// then passes the result of the previous step as the input to the next step.\n",
              "function _uploadFilesContinue(outputId) {\n",
              "  const outputElement = document.getElementById(outputId);\n",
              "  const steps = outputElement.steps;\n",
              "\n",
              "  const next = steps.next(outputElement.lastPromiseValue);\n",
              "  return Promise.resolve(next.value.promise).then((value) => {\n",
              "    // Cache the last promise value to make it available to the next\n",
              "    // step of the generator.\n",
              "    outputElement.lastPromiseValue = value;\n",
              "    return next.value.response;\n",
              "  });\n",
              "}\n",
              "\n",
              "/**\n",
              " * Generator function which is called between each async step of the upload\n",
              " * process.\n",
              " * @param {string} inputId Element ID of the input file picker element.\n",
              " * @param {string} outputId Element ID of the output display.\n",
              " * @return {!Iterable<!Object>} Iterable of next steps.\n",
              " */\n",
              "function* uploadFilesStep(inputId, outputId) {\n",
              "  const inputElement = document.getElementById(inputId);\n",
              "  inputElement.disabled = false;\n",
              "\n",
              "  const outputElement = document.getElementById(outputId);\n",
              "  outputElement.innerHTML = '';\n",
              "\n",
              "  const pickedPromise = new Promise((resolve) => {\n",
              "    inputElement.addEventListener('change', (e) => {\n",
              "      resolve(e.target.files);\n",
              "    });\n",
              "  });\n",
              "\n",
              "  const cancel = document.createElement('button');\n",
              "  inputElement.parentElement.appendChild(cancel);\n",
              "  cancel.textContent = 'Cancel upload';\n",
              "  const cancelPromise = new Promise((resolve) => {\n",
              "    cancel.onclick = () => {\n",
              "      resolve(null);\n",
              "    };\n",
              "  });\n",
              "\n",
              "  // Wait for the user to pick the files.\n",
              "  const files = yield {\n",
              "    promise: Promise.race([pickedPromise, cancelPromise]),\n",
              "    response: {\n",
              "      action: 'starting',\n",
              "    }\n",
              "  };\n",
              "\n",
              "  cancel.remove();\n",
              "\n",
              "  // Disable the input element since further picks are not allowed.\n",
              "  inputElement.disabled = true;\n",
              "\n",
              "  if (!files) {\n",
              "    return {\n",
              "      response: {\n",
              "        action: 'complete',\n",
              "      }\n",
              "    };\n",
              "  }\n",
              "\n",
              "  for (const file of files) {\n",
              "    const li = document.createElement('li');\n",
              "    li.append(span(file.name, {fontWeight: 'bold'}));\n",
              "    li.append(span(\n",
              "        `(${file.type || 'n/a'}) - ${file.size} bytes, ` +\n",
              "        `last modified: ${\n",
              "            file.lastModifiedDate ? file.lastModifiedDate.toLocaleDateString() :\n",
              "                                    'n/a'} - `));\n",
              "    const percent = span('0% done');\n",
              "    li.appendChild(percent);\n",
              "\n",
              "    outputElement.appendChild(li);\n",
              "\n",
              "    const fileDataPromise = new Promise((resolve) => {\n",
              "      const reader = new FileReader();\n",
              "      reader.onload = (e) => {\n",
              "        resolve(e.target.result);\n",
              "      };\n",
              "      reader.readAsArrayBuffer(file);\n",
              "    });\n",
              "    // Wait for the data to be ready.\n",
              "    let fileData = yield {\n",
              "      promise: fileDataPromise,\n",
              "      response: {\n",
              "        action: 'continue',\n",
              "      }\n",
              "    };\n",
              "\n",
              "    // Use a chunked sending to avoid message size limits. See b/62115660.\n",
              "    let position = 0;\n",
              "    do {\n",
              "      const length = Math.min(fileData.byteLength - position, MAX_PAYLOAD_SIZE);\n",
              "      const chunk = new Uint8Array(fileData, position, length);\n",
              "      position += length;\n",
              "\n",
              "      const base64 = btoa(String.fromCharCode.apply(null, chunk));\n",
              "      yield {\n",
              "        response: {\n",
              "          action: 'append',\n",
              "          file: file.name,\n",
              "          data: base64,\n",
              "        },\n",
              "      };\n",
              "\n",
              "      let percentDone = fileData.byteLength === 0 ?\n",
              "          100 :\n",
              "          Math.round((position / fileData.byteLength) * 100);\n",
              "      percent.textContent = `${percentDone}% done`;\n",
              "\n",
              "    } while (position < fileData.byteLength);\n",
              "  }\n",
              "\n",
              "  // All done.\n",
              "  yield {\n",
              "    response: {\n",
              "      action: 'complete',\n",
              "    }\n",
              "  };\n",
              "}\n",
              "\n",
              "scope.google = scope.google || {};\n",
              "scope.google.colab = scope.google.colab || {};\n",
              "scope.google.colab._files = {\n",
              "  _uploadFiles,\n",
              "  _uploadFilesContinue,\n",
              "};\n",
              "})(self);\n",
              "</script> "
            ]
          },
          "metadata": {}
        },
        {
          "output_type": "stream",
          "name": "stdout",
          "text": [
            "Saving lynx1.png to lynx1 (6).png\n",
            "\n",
            "First 128 characters \n",
            "\n",
            "b'iVBORw0KGgoAAAANSUhEUgAABogAAAjFCAYAAABUJj7EAAAoonpUWHRSYXcgcHJvZmlsZSB0eXBlIGV4aWYAAHjapZxpkhy7kp3/YxVaAmY4loPRTDvQ8vUdVCYvyb4y'\n",
            "\n",
            "Last 128 characters\n",
            "\n",
            "b'l8FR9rXt2p+eQ9/MIL6JdE2vZ++cJeRMTTPzLdyjmOfb4ajveA+YdgRl9HJCMBvdfz/DZaHAW2773hed5yb79k//9u+//3PPZv4Pyn+O/9KufqUAAAAASUVORK5CYII='\n",
            "\n",
            "\n"
          ]
        }
      ]
    },
    {
      "cell_type": "markdown",
      "source": [
        "### Exdercise 5 -- challenge -- encode a zip file into Base64 format\n",
        "---\n",
        "Create a small zip file, upload and open it, convert to base64 format.  \n",
        "Print the first 128 characters and the last 128 characters of the bas64 string.  \n",
        "Decode back to the original file.  \n",
        "Try to unzip to get the original contents.\n",
        "\n"
      ],
      "metadata": {
        "id": "iBBVTLY74_r_"
      }
    },
    {
      "cell_type": "code",
      "source": [],
      "metadata": {
        "id": "MJfUnAKz5VOx"
      },
      "execution_count": null,
      "outputs": []
    }
  ]
}