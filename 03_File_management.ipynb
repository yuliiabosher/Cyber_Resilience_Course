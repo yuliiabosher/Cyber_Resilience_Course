{
  "cells": [
    {
      "cell_type": "markdown",
      "metadata": {
        "id": "view-in-github",
        "colab_type": "text"
      },
      "source": [
        "<a href=\"https://colab.research.google.com/github/yuliiabosher/Cyber_Resilience_Course/blob/main/03_File_management.ipynb\" target=\"_parent\"><img src=\"https://colab.research.google.com/assets/colab-badge.svg\" alt=\"Open In Colab\"/></a>"
      ]
    },
    {
      "cell_type": "markdown",
      "metadata": {
        "id": "RYkEMTM8Rirb"
      },
      "source": [
        "# Keep it clean, keep it safe\n",
        "---\n",
        "\n",
        "Effective digital file management might include:\n",
        "*  Avoid saving unnecessary documents.\n",
        "*  Follow a consistent method for naming your files and folders.\n",
        "*  Store related documents together, whatever their type.\n",
        "*  Separate ongoing work from completed work.\n",
        "*  Avoid overfilling folders.\n",
        "*  Organize documents by date.\n",
        "*  Keep back ups"
      ]
    },
    {
      "cell_type": "markdown",
      "metadata": {
        "id": "m5Y0v-lVXdy-"
      },
      "source": [
        "### Upload some files to work with\n",
        "---\n",
        "\n",
        "This notebook has its own filing system, which you can work with.  Any files used during a session are deleted when the notebook's runtime session stops (e.g. after a period of inactivity or when you close it).\n",
        "\n",
        "A set of files has been prepared for this exercise.  The zipped folder containing these can be downloaded from [here](https://drive.google.com/file/d/16YXn5XdbIA4rSoQhZQ4c20__z0C_lD3f/view?usp=sharing)  \n",
        "\n",
        "Watch this [video](https://vimeo.com/891330968/b7c8408947) to see how to upload the prepared set of files to the notebook."
      ]
    },
    {
      "cell_type": "markdown",
      "metadata": {
        "id": "arSH11Mqbpga"
      },
      "source": [
        "### Find help for file handling with python\n",
        "---\n",
        "\n",
        "You will need to be able to do the following:\n",
        "*  list the contents of a directory\n",
        "*  walk through directory contents (subdirectories)\n",
        "*  rename a file\n",
        "*  create a folder\n",
        "*  delete a file\n",
        "*  move a file\n",
        "*  change access settings for a file or folder\n",
        "\n",
        "This site has some guidance:  https://pynative.com/python/file-handling/\n",
        "\n",
        "The PATH to access files in the notebook file system is:\n",
        "\n",
        "/content/folder_name/file_name"
      ]
    },
    {
      "cell_type": "markdown",
      "metadata": {
        "id": "uWqUBJI8eNgD"
      },
      "source": [
        "### Exercise 1\n",
        "---\n",
        "\n",
        "Print a list of the files in the Acme File System directory"
      ]
    },
    {
      "cell_type": "code",
      "source": [
        "import os\n",
        "import shutil\n",
        "import glob\n",
        "acme_directory_path = '/content/Acme File System'"
      ],
      "metadata": {
        "id": "5arTRdEvJKtJ"
      },
      "execution_count": 1,
      "outputs": []
    },
    {
      "cell_type": "code",
      "source": [
        "def list_files_in_folder_and_subfolders(folder):\n",
        "  directory_contents = os.walk(folder)\n",
        "  file_name_list = []\n",
        "  for root, dirs, files in directory_contents:\n",
        "    for file in files:\n",
        "      file_name_list.append(file)\n",
        "  return file_name_list\n",
        "acme_files_list = list_files_in_folder_and_subfolders(acme_directory_path)\n",
        "for file in acme_files_list:\n",
        "  print(file)"
      ],
      "metadata": {
        "colab": {
          "base_uri": "https://localhost:8080/"
        },
        "id": "LF4Owo06vdj3",
        "outputId": "3306988f-4504-4c11-fe2f-cc297be03f9a"
      },
      "execution_count": 2,
      "outputs": [
        {
          "output_type": "stream",
          "name": "stdout",
          "text": [
            "Company Accounts - Copy.txt\n",
            "June 2023 report.txt\n",
            "June 2023 minutes - Copy.txt\n",
            "February 2023 minutes.txt\n",
            "June 2023 minutes.txt\n",
            "September 2022 report.txt\n",
            "Mar 2023 report.txt\n",
            "May 2023 report.txt\n",
            "September 2023 minutes.txt\n",
            "Mar 2023 minutes.txt\n",
            "Bank details.txt\n",
            "July 2022 report.txt\n",
            "May 2023 minutes.txt\n",
            "August 2023 minutes.txt\n",
            "November 2022 report.txt\n",
            "February 2023 report - Copy.txt\n",
            "Mar 2023 report - Copy.txt\n",
            "Customer payments.txt\n",
            "October 2022 report.txt\n",
            "Bobs Diary.txt\n",
            "Staff addresses.txt\n",
            "May 2023 minutes - Copy.txt\n",
            "July 2023 minutes.txt\n",
            "April 2023 minutes.txt\n",
            "February 2023 report.txt\n",
            "October 2023 minutes.txt\n",
            "Security Project.txt\n",
            "Temp staff.txt\n",
            "December  2023 minutes.txt\n",
            "Company Accounts.txt\n",
            "November 2022 report - Copy.txt\n",
            "January 2023 report.txt\n",
            "January 2023 minutes.txt\n",
            "August 2023 minutes - Copy.txt\n",
            "April 2023 report.txt\n",
            "December  2022 report.txt\n",
            "August 2022 report.txt\n",
            "November 2023 minutes.txt\n"
          ]
        }
      ]
    },
    {
      "cell_type": "markdown",
      "metadata": {
        "id": "sUhPT6OVe59J"
      },
      "source": [
        "### Exercise 2\n",
        "---\n",
        "Create TWO new folders:  \n",
        "*  Minutes\n",
        "*  Reports\n",
        "\n",
        "Move all files with names containing 'minutes' to the Minutes folder.  \n",
        "\n",
        "Move all files with names containing 'report' to the Reports folder."
      ]
    },
    {
      "cell_type": "markdown",
      "source": [
        "Created folders in a separate code cell so that this code does not have to re-run"
      ],
      "metadata": {
        "id": "Fnu4ryvzxsvX"
      }
    },
    {
      "cell_type": "code",
      "execution_count": 3,
      "metadata": {
        "id": "7ybpu_aOfZfY"
      },
      "outputs": [],
      "source": [
        "os.mkdir(r'/content/Acme File System/Minutes')\n",
        "os.mkdir(r'/content/Acme File System/Reports')\n"
      ]
    },
    {
      "cell_type": "code",
      "source": [
        "files_minutes_pattern = glob.glob(r'/content/Acme File System/*minutes*')\n",
        "def move_files_to_inside_folder(destination_folder_name, pathnames_matching_pattern):\n",
        "  for file_path in pathnames_matching_pattern:\n",
        "    if os.path.isfile(file_path):\n",
        "      destination = file_path.rsplit('/',1)[0] + r'/' + destination_folder_name + r'/' + file_path.rsplit('/',1)[1]\n",
        "      shutil.move(file_path, destination)\n",
        "move_files_to_inside_folder(\"Minutes\",files_minutes_pattern)\n",
        "files_report_pattern = glob.glob(r'/content/Acme File System/*report*')\n",
        "move_files_to_inside_folder(\"Reports\",files_report_pattern)"
      ],
      "metadata": {
        "id": "gNpMAMfagZU0"
      },
      "execution_count": 4,
      "outputs": []
    },
    {
      "cell_type": "markdown",
      "metadata": {
        "id": "661xS_VafZrS"
      },
      "source": [
        "### Exercise 3\n",
        "---\n",
        "In the Reports folder, create TWO new folders:\n",
        "*  2022 reports\n",
        "*  2023 reports\n",
        "\n",
        "Move all files with 2022 in the name to the 2022 folder.  \n",
        "Move all files with 2023 in the name to the 2023 folder."
      ]
    },
    {
      "cell_type": "markdown",
      "source": [
        "Create a separate code cell for creating new folders to avoid errors while re-running other code"
      ],
      "metadata": {
        "id": "U9JgCQTNHebr"
      }
    },
    {
      "cell_type": "code",
      "execution_count": 5,
      "metadata": {
        "id": "bbPeHrUlftRw"
      },
      "outputs": [],
      "source": [
        "os.mkdir(r'/content/Acme File System/Reports/2022 reports')\n",
        "os.mkdir(r'/content/Acme File System/Reports/2023 reports')"
      ]
    },
    {
      "cell_type": "code",
      "source": [
        "files_reports_2022_pattern = glob.glob(r'/content/Acme File System/Reports/*2022*')\n",
        "files_reports_2023_pattern = glob.glob(r'/content/Acme File System/Reports/*2023*')\n",
        "move_files_to_inside_folder(\"2022 reports\", files_reports_2022_pattern)\n",
        "move_files_to_inside_folder(\"2023 reports\", files_reports_2023_pattern)"
      ],
      "metadata": {
        "id": "skTb2cx0Hr-7"
      },
      "execution_count": 6,
      "outputs": []
    },
    {
      "cell_type": "markdown",
      "metadata": {
        "id": "6qkW3JsZftcA"
      },
      "source": [
        "### Exercise 4\n",
        "---\n",
        "List the directory structure for Acme File System using os.walk()\n",
        "\n",
        "Help here: https://www.geeksforgeeks.org/os-walk-python/"
      ]
    },
    {
      "cell_type": "code",
      "execution_count": 7,
      "metadata": {
        "id": "JhsZwSpIiH2b",
        "outputId": "2c82cfd9-e105-44b3-d027-547eb66681e0",
        "colab": {
          "base_uri": "https://localhost:8080/"
        }
      },
      "outputs": [
        {
          "output_type": "stream",
          "name": "stdout",
          "text": [
            "\n",
            "Level 1\n",
            "\n",
            "The root folder of level 1 is Acme File System \n",
            "\n",
            "The folders in Acme File System are:\n",
            "\n",
            "Reports\n",
            "Minutes\n",
            "\n",
            "The files in Acme File System are:\n",
            "\n",
            "Company Accounts - Copy.txt\n",
            "Bank details.txt\n",
            "Customer payments.txt\n",
            "Bobs Diary.txt\n",
            "Staff addresses.txt\n",
            "Security Project.txt\n",
            "Temp staff.txt\n",
            "Company Accounts.txt\n",
            "\n",
            "Level 2\n",
            "\n",
            "The root folder of level 2 is Reports \n",
            "\n",
            "The folders in Reports are:\n",
            "\n",
            "2023 reports\n",
            "2022 reports\n",
            "\n",
            "The files in Reports are:\n",
            "\n",
            "No files\n",
            "\n",
            "Level 3\n",
            "\n",
            "The root folder of level 3 is 2023 reports \n",
            "\n",
            "The folders in 2023 reports are:\n",
            "\n",
            "No folders\n",
            "\n",
            "The files in 2023 reports are:\n",
            "\n",
            "June 2023 report.txt\n",
            "Mar 2023 report.txt\n",
            "May 2023 report.txt\n",
            "February 2023 report - Copy.txt\n",
            "Mar 2023 report - Copy.txt\n",
            "February 2023 report.txt\n",
            "January 2023 report.txt\n",
            "April 2023 report.txt\n",
            "\n",
            "Level 4\n",
            "\n",
            "The root folder of level 4 is 2022 reports \n",
            "\n",
            "The folders in 2022 reports are:\n",
            "\n",
            "No folders\n",
            "\n",
            "The files in 2022 reports are:\n",
            "\n",
            "September 2022 report.txt\n",
            "July 2022 report.txt\n",
            "November 2022 report.txt\n",
            "October 2022 report.txt\n",
            "November 2022 report - Copy.txt\n",
            "December  2022 report.txt\n",
            "August 2022 report.txt\n",
            "\n",
            "Level 5\n",
            "\n",
            "The root folder of level 5 is Minutes \n",
            "\n",
            "The folders in Minutes are:\n",
            "\n",
            "No folders\n",
            "\n",
            "The files in Minutes are:\n",
            "\n",
            "June 2023 minutes - Copy.txt\n",
            "February 2023 minutes.txt\n",
            "June 2023 minutes.txt\n",
            "September 2023 minutes.txt\n",
            "Mar 2023 minutes.txt\n",
            "May 2023 minutes.txt\n",
            "August 2023 minutes.txt\n",
            "May 2023 minutes - Copy.txt\n",
            "July 2023 minutes.txt\n",
            "April 2023 minutes.txt\n",
            "October 2023 minutes.txt\n",
            "December  2023 minutes.txt\n",
            "January 2023 minutes.txt\n",
            "August 2023 minutes - Copy.txt\n",
            "November 2023 minutes.txt\n"
          ]
        }
      ],
      "source": [
        "def list_directory_structure(target_directory_path):\n",
        "  target_directory_contents = os.walk(r'' + target_directory_path)\n",
        "  i = 0\n",
        "  for root, dirs, files in target_directory_contents:\n",
        "    i+=1\n",
        "    print(f\"\\nLevel {i}\\n\\nThe root folder of level {i} is {root.rsplit('/',1)[1]} \\n\")\n",
        "    print(f\"The folders in {root.rsplit('/',1)[1]} are:\\n\")\n",
        "    if dirs==[]:\n",
        "      print('No folders')\n",
        "    for dir in dirs:\n",
        "          print(dir)\n",
        "    print(f\"\\nThe files in {root.rsplit('/',1)[1]} are:\\n\")\n",
        "    if files==[]:\n",
        "      print('No files')\n",
        "    for file in files:\n",
        "          print(file)\n",
        "list_directory_structure(acme_directory_path)"
      ]
    },
    {
      "cell_type": "markdown",
      "metadata": {
        "id": "w3Fk4y9miI_R"
      },
      "source": [
        "### Exercise 5\n",
        "---\n",
        "There are some accidental copies of files in the directory.  \n",
        "\n",
        "Walk through the directory, find all files with 'copy' in the name and delete them.\n",
        "\n",
        "List all the files and folders in the directory and its sub-directories."
      ]
    },
    {
      "cell_type": "code",
      "execution_count": 8,
      "metadata": {
        "id": "2MccPkztimSS",
        "colab": {
          "base_uri": "https://localhost:8080/"
        },
        "outputId": "8a95b401-3fc8-4368-bdda-1d1c0879add6"
      },
      "outputs": [
        {
          "output_type": "stream",
          "name": "stdout",
          "text": [
            "\n",
            "Level 1\n",
            "\n",
            "The root folder of level 1 is Acme File System \n",
            "\n",
            "The folders in Acme File System are:\n",
            "\n",
            "Reports\n",
            "Minutes\n",
            "\n",
            "The files in Acme File System are:\n",
            "\n",
            "Bank details.txt\n",
            "Customer payments.txt\n",
            "Bobs Diary.txt\n",
            "Staff addresses.txt\n",
            "Security Project.txt\n",
            "Temp staff.txt\n",
            "Company Accounts.txt\n",
            "\n",
            "Level 2\n",
            "\n",
            "The root folder of level 2 is Reports \n",
            "\n",
            "The folders in Reports are:\n",
            "\n",
            "2023 reports\n",
            "2022 reports\n",
            "\n",
            "The files in Reports are:\n",
            "\n",
            "No files\n",
            "\n",
            "Level 3\n",
            "\n",
            "The root folder of level 3 is 2023 reports \n",
            "\n",
            "The folders in 2023 reports are:\n",
            "\n",
            "No folders\n",
            "\n",
            "The files in 2023 reports are:\n",
            "\n",
            "June 2023 report.txt\n",
            "Mar 2023 report.txt\n",
            "May 2023 report.txt\n",
            "February 2023 report.txt\n",
            "January 2023 report.txt\n",
            "April 2023 report.txt\n",
            "\n",
            "Level 4\n",
            "\n",
            "The root folder of level 4 is 2022 reports \n",
            "\n",
            "The folders in 2022 reports are:\n",
            "\n",
            "No folders\n",
            "\n",
            "The files in 2022 reports are:\n",
            "\n",
            "September 2022 report.txt\n",
            "July 2022 report.txt\n",
            "November 2022 report.txt\n",
            "October 2022 report.txt\n",
            "December  2022 report.txt\n",
            "August 2022 report.txt\n",
            "\n",
            "Level 5\n",
            "\n",
            "The root folder of level 5 is Minutes \n",
            "\n",
            "The folders in Minutes are:\n",
            "\n",
            "No folders\n",
            "\n",
            "The files in Minutes are:\n",
            "\n",
            "February 2023 minutes.txt\n",
            "June 2023 minutes.txt\n",
            "September 2023 minutes.txt\n",
            "Mar 2023 minutes.txt\n",
            "May 2023 minutes.txt\n",
            "August 2023 minutes.txt\n",
            "July 2023 minutes.txt\n",
            "April 2023 minutes.txt\n",
            "October 2023 minutes.txt\n",
            "December  2023 minutes.txt\n",
            "January 2023 minutes.txt\n",
            "November 2023 minutes.txt\n"
          ]
        }
      ],
      "source": [
        "def delete_files_with_pattern_in_name(folder_path, pattern):\n",
        "  file_paths_to_delete = r'' + f'{folder_path}/**/*{pattern}*'\n",
        "  for file_path in glob.iglob(file_paths_to_delete,recursive=True):\n",
        "    os.remove(file_path)\n",
        "delete_files_with_pattern_in_name(acme_directory_path,'Copy')\n",
        "list_directory_structure(acme_directory_path)\n",
        "\n"
      ]
    },
    {
      "cell_type": "markdown",
      "metadata": {
        "id": "mjM-LkFZimoL"
      },
      "source": [
        "### Exercise 6\n",
        "---\n",
        "The files in the minutes and the reports directories are labelled by month.  Consequently, they are not stored in date order.  \n",
        "\n",
        "Rename all files with a month in the name to use the month number rather than the name (e.g. replace 'August' with '08', 'December' with '12, etc)\n",
        "\n",
        "List all the files and folders in the directory and its sub-directories."
      ]
    },
    {
      "cell_type": "code",
      "execution_count": 9,
      "metadata": {
        "id": "J-t0OgZljDPp",
        "outputId": "f9084ff2-2cf8-4812-b2f0-ae0ef1fc1859",
        "colab": {
          "base_uri": "https://localhost:8080/"
        }
      },
      "outputs": [
        {
          "output_type": "stream",
          "name": "stdout",
          "text": [
            "\n",
            "Level 1\n",
            "\n",
            "The root folder of level 1 is Acme File System \n",
            "\n",
            "The folders in Acme File System are:\n",
            "\n",
            "Reports\n",
            "Minutes\n",
            "\n",
            "The files in Acme File System are:\n",
            "\n",
            "Bank details.txt\n",
            "Customer payments.txt\n",
            "Bobs Diary.txt\n",
            "Staff addresses.txt\n",
            "Security Project.txt\n",
            "Temp staff.txt\n",
            "Company Accounts.txt\n",
            "\n",
            "Level 2\n",
            "\n",
            "The root folder of level 2 is Reports \n",
            "\n",
            "The folders in Reports are:\n",
            "\n",
            "2023 reports\n",
            "2022 reports\n",
            "\n",
            "The files in Reports are:\n",
            "\n",
            "No files\n",
            "\n",
            "Level 3\n",
            "\n",
            "The root folder of level 3 is 2023 reports \n",
            "\n",
            "The folders in 2023 reports are:\n",
            "\n",
            "No folders\n",
            "\n",
            "The files in 2023 reports are:\n",
            "\n",
            "05 2023 report.txt\n",
            "02 2023 report.txt\n",
            "Mar 2023 report.txt\n",
            "06 2023 report.txt\n",
            "04 2023 report.txt\n",
            "01 2023 report.txt\n",
            "\n",
            "Level 4\n",
            "\n",
            "The root folder of level 4 is 2022 reports \n",
            "\n",
            "The folders in 2022 reports are:\n",
            "\n",
            "No folders\n",
            "\n",
            "The files in 2022 reports are:\n",
            "\n",
            "10 2022 report.txt\n",
            "07 2022 report.txt\n",
            "12  2022 report.txt\n",
            "09 2022 report.txt\n",
            "08 2022 report.txt\n",
            "11 2022 report.txt\n",
            "\n",
            "Level 5\n",
            "\n",
            "The root folder of level 5 is Minutes \n",
            "\n",
            "The folders in Minutes are:\n",
            "\n",
            "No folders\n",
            "\n",
            "The files in Minutes are:\n",
            "\n",
            "04 2023 minutes.txt\n",
            "09 2023 minutes.txt\n",
            "Mar 2023 minutes.txt\n",
            "06 2023 minutes.txt\n",
            "10 2023 minutes.txt\n",
            "01 2023 minutes.txt\n",
            "05 2023 minutes.txt\n",
            "12  2023 minutes.txt\n",
            "11 2023 minutes.txt\n",
            "02 2023 minutes.txt\n",
            "08 2023 minutes.txt\n",
            "07 2023 minutes.txt\n"
          ]
        }
      ],
      "source": [
        "def rename_files_based_on_pattern(folder, pattern, substitute):\n",
        "  file_paths_to_replace = f'{folder}/**/*{pattern}*'\n",
        "  for path in glob.iglob(file_paths_to_replace,recursive=True):\n",
        "    if os.path.isfile(path):\n",
        "      file_current_directory = os.path.split(path)[0]\n",
        "      file_name = os.path.split(path)[1]\n",
        "      new_file_name = file_name.replace(pattern, substitute)\n",
        "      new_path = file_current_directory + '/' + new_file_name\n",
        "      os.rename(path, new_path)\n",
        "def replace_months_with_numbers_in_file_names(folder):\n",
        "  months_numbers = {\"January\":'01',\"February\":'02',\"March\":'03',\"April\":'04',\"May\":'05',\"June\":'06',\"July\":'07',\"August\":'08',\"September\":'09',\"October\":'10',\"November\":'11',\"December\":'12'}\n",
        "  for month, number in months_numbers.items():\n",
        "    rename_files_based_on_pattern(folder,month,number)\n",
        "replace_months_with_numbers_in_file_names(acme_directory_path)\n",
        "list_directory_structure(acme_directory_path)\n",
        "\n",
        "\n",
        "\n",
        "\n",
        "\n",
        "\n"
      ]
    },
    {
      "cell_type": "markdown",
      "metadata": {
        "id": "FnEIwC1mjJlg"
      },
      "source": [
        "### Exercise 7\n",
        "---\n",
        "Some operating systems do not process files with spaces in their names.  \n",
        "\n",
        "Rename all files to replace spaces with underscores ( _ )  \n",
        "\n",
        "List all the files and folders in the directory and its sub-directories."
      ]
    },
    {
      "cell_type": "code",
      "execution_count": 10,
      "metadata": {
        "id": "8z3HLv0JjdZt",
        "outputId": "0c2ca5c2-cb08-4033-8b16-48e222ebc9b8",
        "colab": {
          "base_uri": "https://localhost:8080/"
        }
      },
      "outputs": [
        {
          "output_type": "stream",
          "name": "stdout",
          "text": [
            "\n",
            "Level 1\n",
            "\n",
            "The root folder of level 1 is Acme File System \n",
            "\n",
            "The folders in Acme File System are:\n",
            "\n",
            "Reports\n",
            "Minutes\n",
            "\n",
            "The files in Acme File System are:\n",
            "\n",
            "Staff_addresses.txt\n",
            "Customer_payments.txt\n",
            "Bank_details.txt\n",
            "Company_Accounts.txt\n",
            "Security_Project.txt\n",
            "Bobs_Diary.txt\n",
            "Temp_staff.txt\n",
            "\n",
            "Level 2\n",
            "\n",
            "The root folder of level 2 is Reports \n",
            "\n",
            "The folders in Reports are:\n",
            "\n",
            "2023 reports\n",
            "2022 reports\n",
            "\n",
            "The files in Reports are:\n",
            "\n",
            "No files\n",
            "\n",
            "Level 3\n",
            "\n",
            "The root folder of level 3 is 2023 reports \n",
            "\n",
            "The folders in 2023 reports are:\n",
            "\n",
            "No folders\n",
            "\n",
            "The files in 2023 reports are:\n",
            "\n",
            "04_2023_report.txt\n",
            "01_2023_report.txt\n",
            "05_2023_report.txt\n",
            "06_2023_report.txt\n",
            "02_2023_report.txt\n",
            "Mar_2023_report.txt\n",
            "\n",
            "Level 4\n",
            "\n",
            "The root folder of level 4 is 2022 reports \n",
            "\n",
            "The folders in 2022 reports are:\n",
            "\n",
            "No folders\n",
            "\n",
            "The files in 2022 reports are:\n",
            "\n",
            "12__2022_report.txt\n",
            "10_2022_report.txt\n",
            "08_2022_report.txt\n",
            "11_2022_report.txt\n",
            "07_2022_report.txt\n",
            "09_2022_report.txt\n",
            "\n",
            "Level 5\n",
            "\n",
            "The root folder of level 5 is Minutes \n",
            "\n",
            "The folders in Minutes are:\n",
            "\n",
            "No folders\n",
            "\n",
            "The files in Minutes are:\n",
            "\n",
            "05_2023_minutes.txt\n",
            "01_2023_minutes.txt\n",
            "07_2023_minutes.txt\n",
            "Mar_2023_minutes.txt\n",
            "04_2023_minutes.txt\n",
            "06_2023_minutes.txt\n",
            "10_2023_minutes.txt\n",
            "08_2023_minutes.txt\n",
            "09_2023_minutes.txt\n",
            "11_2023_minutes.txt\n",
            "12__2023_minutes.txt\n",
            "02_2023_minutes.txt\n"
          ]
        }
      ],
      "source": [
        "rename_files_based_on_pattern(acme_directory_path,\" \",\"_\")\n",
        "list_directory_structure(acme_directory_path)"
      ]
    },
    {
      "cell_type": "markdown",
      "metadata": {
        "id": "_AEY2vKnjduc"
      },
      "source": [
        "### Exercise 8\n",
        "---\n",
        "Make a back up copy of the whole folder"
      ]
    },
    {
      "cell_type": "code",
      "execution_count": 10,
      "metadata": {
        "id": "9e_k072QkfPi"
      },
      "outputs": [],
      "source": []
    },
    {
      "cell_type": "markdown",
      "metadata": {
        "id": "t1jql1Hln75D"
      },
      "source": [
        "### Exercise 9\n",
        "---\n",
        "Zip the back up folder (use the shutil or zipfile library - help here: https://www.guru99.com/python-zip-file.html.\n",
        "\n",
        "Download the zipped file.  You can use:   \n",
        "```\n",
        "from google.colab import files\n",
        "files.download('example.txt')\n",
        "```\n",
        "\n"
      ]
    },
    {
      "cell_type": "code",
      "execution_count": 10,
      "metadata": {
        "id": "07TF6NbsoVKh"
      },
      "outputs": [],
      "source": []
    },
    {
      "cell_type": "markdown",
      "source": [
        "### Final challenge\n",
        "---\n",
        "\n",
        "Create a new Colab notebook. Write a clean up program that will:\n",
        "\n",
        "Allow the user to specify the name of a zipped folder to upload  \n",
        "Allow the zipped folder to be uploaded  \n",
        "Unzip the folder    \n",
        "Clean up the folder in a similar way to all the things done in the exercises  \n",
        "Back up  \n",
        "Zip and download  \n",
        "\n"
      ],
      "metadata": {
        "id": "qUP8HvMLq-Il"
      }
    }
  ],
  "metadata": {
    "colab": {
      "provenance": [],
      "include_colab_link": true
    },
    "kernelspec": {
      "display_name": "Python 3",
      "name": "python3"
    },
    "language_info": {
      "name": "python"
    }
  },
  "nbformat": 4,
  "nbformat_minor": 0
}