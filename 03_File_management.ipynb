{
  "cells": [
    {
      "cell_type": "markdown",
      "metadata": {
        "id": "view-in-github",
        "colab_type": "text"
      },
      "source": [
        "<a href=\"https://colab.research.google.com/github/yuliiabosher/Cyber_Resilience_Course/blob/main/03_File_management.ipynb\" target=\"_parent\"><img src=\"https://colab.research.google.com/assets/colab-badge.svg\" alt=\"Open In Colab\"/></a>"
      ]
    },
    {
      "cell_type": "markdown",
      "metadata": {
        "id": "RYkEMTM8Rirb"
      },
      "source": [
        "# Keep it clean, keep it safe\n",
        "---\n",
        "\n",
        "Effective digital file management might include:\n",
        "*  Avoid saving unnecessary documents.\n",
        "*  Follow a consistent method for naming your files and folders.\n",
        "*  Store related documents together, whatever their type.\n",
        "*  Separate ongoing work from completed work.\n",
        "*  Avoid overfilling folders.\n",
        "*  Organize documents by date.\n",
        "*  Keep back ups"
      ]
    },
    {
      "cell_type": "markdown",
      "metadata": {
        "id": "m5Y0v-lVXdy-"
      },
      "source": [
        "### Upload some files to work with\n",
        "---\n",
        "\n",
        "This notebook has its own filing system, which you can work with.  Any files used during a session are deleted when the notebook's runtime session stops (e.g. after a period of inactivity or when you close it).\n",
        "\n",
        "A set of files has been prepared for this exercise.  The zipped folder containing these can be downloaded from [here](https://drive.google.com/file/d/16YXn5XdbIA4rSoQhZQ4c20__z0C_lD3f/view?usp=sharing)  \n",
        "\n",
        "Watch this [video](https://vimeo.com/891330968/b7c8408947) to see how to upload the prepared set of files to the notebook."
      ]
    },
    {
      "cell_type": "markdown",
      "metadata": {
        "id": "arSH11Mqbpga"
      },
      "source": [
        "### Find help for file handling with python\n",
        "---\n",
        "\n",
        "You will need to be able to do the following:\n",
        "*  list the contents of a directory\n",
        "*  walk through directory contents (subdirectories)\n",
        "*  rename a file\n",
        "*  create a folder\n",
        "*  delete a file\n",
        "*  move a file\n",
        "*  change access settings for a file or folder\n",
        "\n",
        "This site has some guidance:  https://pynative.com/python/file-handling/\n",
        "\n",
        "The PATH to access files in the notebook file system is:\n",
        "\n",
        "/content/folder_name/file_name"
      ]
    },
    {
      "cell_type": "markdown",
      "metadata": {
        "id": "uWqUBJI8eNgD"
      },
      "source": [
        "### Exercise 1\n",
        "---\n",
        "\n",
        "Print a list of the files in the Acme File System directory"
      ]
    },
    {
      "cell_type": "markdown",
      "source": [
        "Method 1"
      ],
      "metadata": {
        "id": "ZKUuU4SOp-so"
      }
    },
    {
      "cell_type": "code",
      "source": [
        "import os\n",
        "directory_name = r'/content/Acme File System'\n",
        "file_list = os.listdir(directory_name)\n",
        "for file in file_list:\n",
        "  print(file)\n"
      ],
      "metadata": {
        "id": "FNAM6yWhqFuH",
        "colab": {
          "base_uri": "https://localhost:8080/"
        },
        "outputId": "412f56ed-9017-4e6b-fb89-b03cb08e6867"
      },
      "execution_count": 1,
      "outputs": [
        {
          "output_type": "stream",
          "name": "stdout",
          "text": [
            "Company Accounts - Copy.txt\n",
            "June 2023 report.txt\n",
            "June 2023 minutes - Copy.txt\n",
            "February 2023 minutes.txt\n",
            "June 2023 minutes.txt\n",
            "September 2022 report.txt\n",
            "Mar 2023 report.txt\n",
            "May 2023 report.txt\n",
            "September 2023 minutes.txt\n",
            "Mar 2023 minutes.txt\n",
            "Bank details.txt\n",
            "July 2022 report.txt\n",
            "May 2023 minutes.txt\n",
            "August 2023 minutes.txt\n",
            "November 2022 report.txt\n",
            "February 2023 report - Copy.txt\n",
            "Mar 2023 report - Copy.txt\n",
            "Customer payments.txt\n",
            "October 2022 report.txt\n",
            "Bobs Diary.txt\n",
            "Staff addresses.txt\n",
            "May 2023 minutes - Copy.txt\n",
            "July 2023 minutes.txt\n",
            "April 2023 minutes.txt\n",
            "February 2023 report.txt\n",
            "October 2023 minutes.txt\n",
            "Security Project.txt\n",
            "Temp staff.txt\n",
            "December  2023 minutes.txt\n",
            "Company Accounts.txt\n",
            "November 2022 report - Copy.txt\n",
            "January 2023 report.txt\n",
            "January 2023 minutes.txt\n",
            "August 2023 minutes - Copy.txt\n",
            "April 2023 report.txt\n",
            "December  2022 report.txt\n",
            "August 2022 report.txt\n",
            "November 2023 minutes.txt\n"
          ]
        }
      ]
    },
    {
      "cell_type": "markdown",
      "source": [
        "Method 2"
      ],
      "metadata": {
        "id": "UjwRGKloqDmT"
      }
    },
    {
      "cell_type": "code",
      "execution_count": 2,
      "metadata": {
        "id": "A5g5tz1sRbiP",
        "outputId": "63b50d18-9043-47d5-996f-cebad11363a6",
        "colab": {
          "base_uri": "https://localhost:8080/"
        }
      },
      "outputs": [
        {
          "output_type": "stream",
          "name": "stdout",
          "text": [
            "Company Accounts - Copy.txt\n",
            "June 2023 report.txt\n",
            "June 2023 minutes - Copy.txt\n",
            "February 2023 minutes.txt\n",
            "June 2023 minutes.txt\n",
            "September 2022 report.txt\n",
            "Mar 2023 report.txt\n",
            "May 2023 report.txt\n",
            "September 2023 minutes.txt\n",
            "Mar 2023 minutes.txt\n",
            "Bank details.txt\n",
            "July 2022 report.txt\n",
            "May 2023 minutes.txt\n",
            "August 2023 minutes.txt\n",
            "November 2022 report.txt\n",
            "February 2023 report - Copy.txt\n",
            "Mar 2023 report - Copy.txt\n",
            "Customer payments.txt\n",
            "October 2022 report.txt\n",
            "Bobs Diary.txt\n",
            "Staff addresses.txt\n",
            "May 2023 minutes - Copy.txt\n",
            "July 2023 minutes.txt\n",
            "April 2023 minutes.txt\n",
            "February 2023 report.txt\n",
            "October 2023 minutes.txt\n",
            "Security Project.txt\n",
            "Temp staff.txt\n",
            "December  2023 minutes.txt\n",
            "Company Accounts.txt\n",
            "November 2022 report - Copy.txt\n",
            "January 2023 report.txt\n",
            "January 2023 minutes.txt\n",
            "August 2023 minutes - Copy.txt\n",
            "April 2023 report.txt\n",
            "December  2022 report.txt\n",
            "August 2022 report.txt\n",
            "November 2023 minutes.txt\n"
          ]
        }
      ],
      "source": [
        "import glob\n",
        "path_name = r'/content/Acme File System/*'\n",
        "files = glob.glob(path_name, recursive=True)\n",
        "for file in files:\n",
        "  print(file.rsplit('/',1)[1])\n"
      ]
    },
    {
      "cell_type": "markdown",
      "source": [
        "Method 3"
      ],
      "metadata": {
        "id": "PRdpw416xv4l"
      }
    },
    {
      "cell_type": "code",
      "source": [
        "new_directory_name = r'/content/Acme File System'\n",
        "directory_contents = os.walk(new_directory_name)\n",
        "for root, dirs, files in directory_contents:\n",
        "  for file in files:\n",
        "    print(file)"
      ],
      "metadata": {
        "colab": {
          "base_uri": "https://localhost:8080/"
        },
        "id": "LF4Owo06vdj3",
        "outputId": "2c0abb75-3c79-4b67-96af-49e94ce58861"
      },
      "execution_count": 3,
      "outputs": [
        {
          "output_type": "stream",
          "name": "stdout",
          "text": [
            "Company Accounts - Copy.txt\n",
            "June 2023 report.txt\n",
            "June 2023 minutes - Copy.txt\n",
            "February 2023 minutes.txt\n",
            "June 2023 minutes.txt\n",
            "September 2022 report.txt\n",
            "Mar 2023 report.txt\n",
            "May 2023 report.txt\n",
            "September 2023 minutes.txt\n",
            "Mar 2023 minutes.txt\n",
            "Bank details.txt\n",
            "July 2022 report.txt\n",
            "May 2023 minutes.txt\n",
            "August 2023 minutes.txt\n",
            "November 2022 report.txt\n",
            "February 2023 report - Copy.txt\n",
            "Mar 2023 report - Copy.txt\n",
            "Customer payments.txt\n",
            "October 2022 report.txt\n",
            "Bobs Diary.txt\n",
            "Staff addresses.txt\n",
            "May 2023 minutes - Copy.txt\n",
            "July 2023 minutes.txt\n",
            "April 2023 minutes.txt\n",
            "February 2023 report.txt\n",
            "October 2023 minutes.txt\n",
            "Security Project.txt\n",
            "Temp staff.txt\n",
            "December  2023 minutes.txt\n",
            "Company Accounts.txt\n",
            "November 2022 report - Copy.txt\n",
            "January 2023 report.txt\n",
            "January 2023 minutes.txt\n",
            "August 2023 minutes - Copy.txt\n",
            "April 2023 report.txt\n",
            "December  2022 report.txt\n",
            "August 2022 report.txt\n",
            "November 2023 minutes.txt\n"
          ]
        }
      ]
    },
    {
      "cell_type": "markdown",
      "metadata": {
        "id": "sUhPT6OVe59J"
      },
      "source": [
        "### Exercise 2\n",
        "---\n",
        "Create TWO new folders:  \n",
        "*  Minutes\n",
        "*  Reports\n",
        "\n",
        "Move all files with names containing 'minutes' to the Minutes folder.  \n",
        "\n",
        "Move all files with names containing 'report' to the Reports folder."
      ]
    },
    {
      "cell_type": "markdown",
      "source": [
        "Create folders in a separate code cell so that this code does not have to re-run"
      ],
      "metadata": {
        "id": "Fnu4ryvzxsvX"
      }
    },
    {
      "cell_type": "code",
      "execution_count": 4,
      "metadata": {
        "id": "7ybpu_aOfZfY"
      },
      "outputs": [],
      "source": [
        "os.mkdir(r'/content/Acme File System/Minutes')\n",
        "os.mkdir(r'/content/Acme File System/Reports')"
      ]
    },
    {
      "cell_type": "code",
      "source": [
        "import shutil\n",
        "path_name_minutes = r'/content/Acme File System/*minutes*'\n",
        "files_minutes = glob.glob(path_name_minutes)\n",
        "for file_path in files_minutes:\n",
        "  destination = file_path.rsplit('/',1)[0] + r'/Minutes/' + file_path.rsplit('/',1)[1]\n",
        "  shutil.move(file_path, destination)\n",
        "path_name_reports = r'/content/Acme File System/*report*'\n",
        "files_reports = glob.glob(path_name_reports)\n",
        "for file_path in files_reports:\n",
        "  destination = file_path.rsplit('/',1)[0] + r'/Reports/' + file_path.rsplit('/',1)[1]\n",
        "  shutil.move(file_path, destination)\n",
        "\n"
      ],
      "metadata": {
        "id": "gNpMAMfagZU0"
      },
      "execution_count": 6,
      "outputs": []
    },
    {
      "cell_type": "markdown",
      "metadata": {
        "id": "661xS_VafZrS"
      },
      "source": [
        "### Exercise 3\n",
        "---\n",
        "In the Reports folder, create TWO new folders:\n",
        "*  2022 reports\n",
        "*  2023 reports\n",
        "\n",
        "Move all files with 2022 in the name to the 2022 folder.  \n",
        "Move all files with 2023 in the name to the 2023 folder."
      ]
    },
    {
      "cell_type": "code",
      "execution_count": null,
      "metadata": {
        "id": "bbPeHrUlftRw"
      },
      "outputs": [],
      "source": []
    },
    {
      "cell_type": "markdown",
      "metadata": {
        "id": "6qkW3JsZftcA"
      },
      "source": [
        "### Exercise 4\n",
        "---\n",
        "List the directory structure for Acme File System using os.walk()\n",
        "\n",
        "Help here: https://www.geeksforgeeks.org/os-walk-python/"
      ]
    },
    {
      "cell_type": "code",
      "execution_count": null,
      "metadata": {
        "id": "JhsZwSpIiH2b"
      },
      "outputs": [],
      "source": []
    },
    {
      "cell_type": "markdown",
      "metadata": {
        "id": "w3Fk4y9miI_R"
      },
      "source": [
        "### Exercise 5\n",
        "---\n",
        "There are some accidental copies of files in the directory.  \n",
        "\n",
        "Walk through the directory, find all files with 'copy' in the name and delete them.\n",
        "\n",
        "List all the files and folders in the directory and its sub-directories."
      ]
    },
    {
      "cell_type": "code",
      "execution_count": null,
      "metadata": {
        "id": "2MccPkztimSS"
      },
      "outputs": [],
      "source": []
    },
    {
      "cell_type": "markdown",
      "metadata": {
        "id": "mjM-LkFZimoL"
      },
      "source": [
        "### Exercise 6\n",
        "---\n",
        "The files in the minutes and the reports directories are labelled by month.  Consequently, they are not stored in date order.  \n",
        "\n",
        "Rename all files with a month in the name to use the month number rather than the name (e.g. replace 'August' with '08', 'December' with '12, etc)\n",
        "\n",
        "List all the files and folders in the directory and its sub-directories."
      ]
    },
    {
      "cell_type": "code",
      "execution_count": null,
      "metadata": {
        "id": "J-t0OgZljDPp"
      },
      "outputs": [],
      "source": []
    },
    {
      "cell_type": "markdown",
      "metadata": {
        "id": "FnEIwC1mjJlg"
      },
      "source": [
        "### Exercise 7\n",
        "---\n",
        "Some operating systems do not process files with spaces in their names.  \n",
        "\n",
        "Rename all files to replace spaces with underscores ( _ )  \n",
        "\n",
        "List all the files and folders in the directory and its sub-directories."
      ]
    },
    {
      "cell_type": "code",
      "execution_count": null,
      "metadata": {
        "id": "8z3HLv0JjdZt"
      },
      "outputs": [],
      "source": []
    },
    {
      "cell_type": "markdown",
      "metadata": {
        "id": "_AEY2vKnjduc"
      },
      "source": [
        "### Exercise 8\n",
        "---\n",
        "Make a back up copy of the whole folder"
      ]
    },
    {
      "cell_type": "code",
      "execution_count": null,
      "metadata": {
        "id": "9e_k072QkfPi"
      },
      "outputs": [],
      "source": []
    },
    {
      "cell_type": "markdown",
      "metadata": {
        "id": "t1jql1Hln75D"
      },
      "source": [
        "### Exercise 9\n",
        "---\n",
        "Zip the back up folder (use the shutil or zipfile library - help here: https://www.guru99.com/python-zip-file.html.\n",
        "\n",
        "Download the zipped file.  You can use:   \n",
        "```\n",
        "from google.colab import files\n",
        "files.download('example.txt')\n",
        "```\n",
        "\n"
      ]
    },
    {
      "cell_type": "code",
      "execution_count": null,
      "metadata": {
        "id": "07TF6NbsoVKh"
      },
      "outputs": [],
      "source": []
    },
    {
      "cell_type": "markdown",
      "source": [
        "### Final challenge\n",
        "---\n",
        "\n",
        "Create a new Colab notebook. Write a clean up program that will:\n",
        "\n",
        "Allow the user to specify the name of a zipped folder to upload  \n",
        "Allow the zipped folder to be uploaded  \n",
        "Unzip the folder    \n",
        "Clean up the folder in a similar way to all the things done in the exercises  \n",
        "Back up  \n",
        "Zip and download  \n",
        "\n"
      ],
      "metadata": {
        "id": "qUP8HvMLq-Il"
      }
    }
  ],
  "metadata": {
    "colab": {
      "provenance": [],
      "include_colab_link": true
    },
    "kernelspec": {
      "display_name": "Python 3",
      "name": "python3"
    },
    "language_info": {
      "name": "python"
    }
  },
  "nbformat": 4,
  "nbformat_minor": 0
}