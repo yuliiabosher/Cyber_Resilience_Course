{
  "nbformat": 4,
  "nbformat_minor": 0,
  "metadata": {
    "colab": {
      "provenance": [],
      "include_colab_link": true
    },
    "kernelspec": {
      "name": "python3",
      "display_name": "Python 3"
    },
    "language_info": {
      "name": "python"
    }
  },
  "cells": [
    {
      "cell_type": "markdown",
      "metadata": {
        "id": "view-in-github",
        "colab_type": "text"
      },
      "source": [
        "<a href=\"https://colab.research.google.com/github/yuliiabosher/Cyber_Resilience_Course/blob/main/04_Validating_and_locating_IP_Addresses.ipynb\" target=\"_parent\"><img src=\"https://colab.research.google.com/assets/colab-badge.svg\" alt=\"Open In Colab\"/></a>"
      ]
    },
    {
      "cell_type": "markdown",
      "source": [
        "# IP address validation and location checking\n",
        "---\n",
        "\n",
        "Checking the validity of an IP address will help to ensure that packets of data are going to a real address (not necessarily a safe address but a real one).\n",
        "\n",
        "Checking the location of the IP address will help to identify where packets might be coming from or going to.\n",
        "\n",
        "There are a number of Python libraries and services available to help with this.  Abstract API is one and will allow you to get an API key and make a small number of requests on a free account."
      ],
      "metadata": {
        "id": "iRv22j9XjTMO"
      }
    },
    {
      "cell_type": "markdown",
      "source": [
        "### Read the tutorial and have a go\n",
        "---\n",
        "\n",
        "Use this tutorial about checking IP addresses and using AbstractAPI to geolocate them https://www.abstractapi.com/guides/validate-ip-address-python to help you to complete the following exercises."
      ],
      "metadata": {
        "id": "2gwb2s9BkQv9"
      }
    },
    {
      "cell_type": "markdown",
      "source": [
        "### Exercise 1 - Check IP address is valid\n",
        "---\n",
        "\n",
        "Follow the information and write a function that will validate a given IP address.  \n",
        "\n",
        "Test 1:  Use the localhost address 127.0.0.1   \n",
        "Test 2:  Use 127.1000.0.1   \n",
        "Test 3: Use the IPv6 address in the tutorial \"2001:0db8:75a2:0000:0000:8a2e:0340:5625\"   \n",
        "Test 4: Use \"2001:0db8:75a2:00100:0000:8a2e:0340:5625\"\n",
        "Test 5:  Use the public facing IPv4 address of your device/network (you can get this https://whatismyipaddress.com/ )\n",
        "\n",
        "Your function WILL:  \n",
        "*  take the IP address string as a parameter\n",
        "*  deal with exceptions to prevent an error for a non-valid address\n",
        "*  your function will return True if the ip address is valid and False if there was an exception\n",
        "\n"
      ],
      "metadata": {
        "id": "MAIuLQmvXmoR"
      }
    },
    {
      "cell_type": "code",
      "source": [
        "import ipaddress\n",
        "def validate_ip_address(ip_string):\n",
        "   try:\n",
        "       ip_object = ipaddress.ip_address(ip_string)\n",
        "       return True\n",
        "   except ValueError:\n",
        "       return False\n",
        "test_1 = validate_ip_address(\"127.0.0.1\")\n",
        "print(test_1)\n",
        "test_2 = validate_ip_address(\"127.1000.0.1\")\n",
        "print(test_2)\n",
        "test_3 = validate_ip_address(\"2001:0db8:75a2:0000:0000:8a2e:0340:5625\")\n",
        "print(test_3)\n",
        "test_4 = validate_ip_address(\"2001:0db8:75a2:00100:0000:8a2e:0340:5625\")\n",
        "print(test_4)"
      ],
      "metadata": {
        "id": "O2RsErjfbbpE",
        "outputId": "05336f8c-46d8-4464-bbb4-16dde6a63162",
        "colab": {
          "base_uri": "https://localhost:8080/"
        }
      },
      "execution_count": 23,
      "outputs": [
        {
          "output_type": "stream",
          "name": "stdout",
          "text": [
            "True\n",
            "False\n",
            "True\n",
            "False\n"
          ]
        }
      ]
    },
    {
      "cell_type": "markdown",
      "source": [
        "### Exercise 2 - Check an IP address format using regular expressions\n",
        "---\n",
        "\n",
        "Regular expressions are used to check the format of a piece of data where there is a known format, such as an email address, a domain name, an IP address.\n",
        "\n",
        "Follow the tutorial to learn how to use regular expressions to check an IPv4 or an IPv6 address for its format.\n",
        "\n",
        "\n",
        "\n",
        "\n",
        "\n",
        "*   Write a function to check an IPv4 address and return True if valid or False if not.\n",
        "*   Write a function to check an IPv6 address and return True if valid or False is not.\n",
        "*  Combine the two functions into one that will be given an IP address and a standard (e.g. '127.0.0.1', 'IPv6') or (e.g.   '127.0.0.1', 6)\n",
        "\n",
        "\n",
        "\n"
      ],
      "metadata": {
        "id": "hQx--B5rzDql"
      }
    },
    {
      "cell_type": "markdown",
      "source": [
        " The function to check an IPv4 address and return True if valid or False if not."
      ],
      "metadata": {
        "id": "HRG_adJ1upxw"
      }
    },
    {
      "cell_type": "code",
      "source": [
        "import re\n",
        "def validate_ip_regex_ipv4(ip_address):\n",
        "   result = re.match(r\"[0-9]{1,3}\\.[0-9]{1,3}\\.[0-9]{1,3}\\.[0-9]{1,3}\", ip_address)\n",
        "   if not bool(result):\n",
        "       return False\n",
        "   bytes = ip_address.split(\".\")\n",
        "   for ip_byte in bytes:\n",
        "       if int(ip_byte) < 0 or int(ip_byte) > 255:\n",
        "           return False\n",
        "   return True\n",
        "test_1_ipv4 = validate_ip_regex_ipv4(\"127.0.0.1\")\n",
        "print(test_1_ipv4)\n",
        "test_2_ipv4 = validate_ip_regex_ipv4(\"127.1000.0.1\")\n",
        "print(test_2_ipv4)"
      ],
      "metadata": {
        "id": "UIBZc7pRO2oy",
        "colab": {
          "base_uri": "https://localhost:8080/"
        },
        "outputId": "3f159af4-93f6-4c24-d91d-e2298fe16521"
      },
      "execution_count": 25,
      "outputs": [
        {
          "output_type": "stream",
          "name": "stdout",
          "text": [
            "True\n",
            "False\n"
          ]
        }
      ]
    },
    {
      "cell_type": "markdown",
      "source": [
        "The function to check an IPv6 address and return True if valid or False if not."
      ],
      "metadata": {
        "id": "ztkerH5svktY"
      }
    },
    {
      "cell_type": "code",
      "source": [
        "def validate_ip_regex_ipv6(ip_address):\n",
        "   result = re.match(\"[a-zA-Z0-9]{4}:[a-zA-Z0-9]{4}:[a-zA-Z0-9]{4}:[a-zA-Z0-9]{4}:[a-zA-Z0-9]{4}:[a-zA-Z0-9]{4}:[a-zA-Z0-9]{4}:[a-zA-Z0-9]{4}\", ip_address)\n",
        "   if not bool(result):\n",
        "       return False\n",
        "   return True\n",
        "validate_ipv6_ip_regex = validate_ip_regex_ipv6(\"2001:0db8:75a2:00100:0000:8a2e:0340:5625\")\n",
        "print(validate_ipv6_ip_regex)"
      ],
      "metadata": {
        "id": "-YJDrQQHvnPa",
        "outputId": "e6fe618f-0b8c-4bfb-afd8-84cb744481a4",
        "colab": {
          "base_uri": "https://localhost:8080/"
        }
      },
      "execution_count": 16,
      "outputs": [
        {
          "output_type": "stream",
          "name": "stdout",
          "text": [
            "False\n"
          ]
        }
      ]
    },
    {
      "cell_type": "markdown",
      "source": [
        "The function to check an IPv4 or IPv6 address and return True if valid or False if not"
      ],
      "metadata": {
        "id": "2UVsLjoW0tFF"
      }
    },
    {
      "cell_type": "code",
      "source": [
        "def validate_ip_regex_ipv4_ipv6(ip_address):\n",
        "  result = re.match(r\"[0-9]{1,3}\\.[0-9]{1,3}\\.[0-9]{1,3}\\.[0-9]{1,3}\", ip_address)\n",
        "  if not bool(result):\n",
        "    result = re.match(\"[a-zA-Z0-9]{4}:[a-zA-Z0-9]{4}:[a-zA-Z0-9]{4}:[a-zA-Z0-9]{4}:[a-zA-Z0-9]{4}:[a-zA-Z0-9]{4}:[a-zA-Z0-9]{4}:[a-zA-Z0-9]{4}\", ip_address)\n",
        "    if not bool(result):\n",
        "       return False\n",
        "    return True\n",
        "  bytes = ip_address.split(\".\")\n",
        "  for ip_byte in bytes:\n",
        "    if int(ip_byte) < 0 or int(ip_byte) > 255:\n",
        "      return False\n",
        "  return True\n",
        "test_1_ipv4_ipv6 = validate_ip_regex_ipv4_ipv6('127.0.0.1')\n",
        "print(test_1_ipv4_ipv6)\n",
        "test_2_ipv4_ipv6 = validate_ip_regex_ipv4_ipv6('127.1000.0.1')\n",
        "print(test_2_ipv4_ipv6)\n",
        "test_3_ipv4_ipv6 = validate_ip_regex_ipv4_ipv6('2001:0db8:75a2:00100:0000:8a2e:0340:5625')\n",
        "print(test_3_ipv4_ipv6)\n",
        "test_4_ipv4_ipv6 = validate_ip_regex_ipv4_ipv6('2001:0db8:75a2:0000:0000:8a2e:0340:5625')\n",
        "print(test_4_ipv4_ipv6)\n"
      ],
      "metadata": {
        "id": "Z-stOVbUxxGs",
        "outputId": "fcd24d78-8146-4eff-e010-e5e133e66424",
        "colab": {
          "base_uri": "https://localhost:8080/"
        }
      },
      "execution_count": 26,
      "outputs": [
        {
          "output_type": "stream",
          "name": "stdout",
          "text": [
            "True\n",
            "False\n",
            "False\n",
            "True\n"
          ]
        }
      ]
    },
    {
      "cell_type": "markdown",
      "source": [
        "### Exercise 3 - Get and store an API key for IP geolocation\n",
        "---\n",
        "\n",
        "If you are happy to do so, **sign up for an API key from Abstract** https://www.abstractapi.com/.  This will allow you to request  a check on an IP address and to get the location of the network with that address.  \n",
        "\n",
        "Click on **Start for Free** to set up a free account.  \n",
        "\n",
        "Once you have created an account with Abstract you will have an **API key**, which you will be able to access as long as you are logged into the Abstract site.   \n",
        "\n",
        "\n",
        "Use the notebook's operating system and the `python-dotenv` library to set an environment variable called `API_KEY` and to store the key in that environment variable.  This will ensure that you do not upload the worksheet to your Github repository with the key on display.\n",
        "\n",
        "Refer to the [Caesar Cipher](https://github.com/futureCodersSE/python-cyber/blob/main/01_Cryptography_Caesar_cipher.ipynb) worksheet section **Keeping Secret Keys secret** for help with this."
      ],
      "metadata": {
        "id": "IAFnJZeSd647"
      }
    },
    {
      "cell_type": "code",
      "source": [],
      "metadata": {
        "id": "y1bPMLSDen1E"
      },
      "execution_count": null,
      "outputs": []
    },
    {
      "cell_type": "markdown",
      "source": [
        "### Exercise 4 - geolocate a network from its IP address\n",
        "---\n",
        "\n",
        "Follow the Abstract tutorial again to write a function that will geo-locate a network from its IP address.\n",
        "\n",
        "You will need to import the *requests* library and you will find it useful to import the *json* library and use *json.loads(response.content)* to turn the response into a dictionary object."
      ],
      "metadata": {
        "id": "Zj01LqvQtCZ6"
      }
    },
    {
      "cell_type": "code",
      "source": [],
      "metadata": {
        "id": "ExHs8ET5fKmy"
      },
      "execution_count": null,
      "outputs": []
    }
  ]
}