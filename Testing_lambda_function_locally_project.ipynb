{
  "nbformat": 4,
  "nbformat_minor": 0,
  "metadata": {
    "colab": {
      "provenance": [],
      "include_colab_link": true
    },
    "kernelspec": {
      "name": "python3",
      "display_name": "Python 3"
    },
    "language_info": {
      "name": "python"
    }
  },
  "cells": [
    {
      "cell_type": "markdown",
      "metadata": {
        "id": "view-in-github",
        "colab_type": "text"
      },
      "source": [
        "<a href=\"https://colab.research.google.com/github/yuliiabosher/Cyber_Resilience_Course/blob/main/Testing_lambda_function_locally_project.ipynb\" target=\"_parent\"><img src=\"https://colab.research.google.com/assets/colab-badge.svg\" alt=\"Open In Colab\"/></a>"
      ]
    },
    {
      "cell_type": "markdown",
      "source": [
        "# Testing the lambda function code locally"
      ],
      "metadata": {
        "id": "OLyJadlYUQ30"
      }
    },
    {
      "cell_type": "markdown",
      "source": [
        "#### Installing the boto3 module"
      ],
      "metadata": {
        "id": "Lp_pqsGbvmDb"
      }
    },
    {
      "cell_type": "code",
      "source": [
        "!pip install boto3"
      ],
      "metadata": {
        "id": "jHUliNAyWlej",
        "outputId": "fbae4b9d-6dae-490f-d167-3f4bff1e97f8",
        "colab": {
          "base_uri": "https://localhost:8080/"
        }
      },
      "execution_count": 1,
      "outputs": [
        {
          "output_type": "stream",
          "name": "stdout",
          "text": [
            "Collecting boto3\n",
            "  Downloading boto3-1.34.64-py3-none-any.whl (139 kB)\n",
            "\u001b[2K     \u001b[90m━━━━━━━━━━━━━━━━━━━━━━━━━━━━━━━━━━━━━━━━\u001b[0m \u001b[32m139.3/139.3 kB\u001b[0m \u001b[31m2.5 MB/s\u001b[0m eta \u001b[36m0:00:00\u001b[0m\n",
            "\u001b[?25hCollecting botocore<1.35.0,>=1.34.64 (from boto3)\n",
            "  Downloading botocore-1.34.64-py3-none-any.whl (12.0 MB)\n",
            "\u001b[2K     \u001b[90m━━━━━━━━━━━━━━━━━━━━━━━━━━━━━━━━━━━━━━━━\u001b[0m \u001b[32m12.0/12.0 MB\u001b[0m \u001b[31m17.2 MB/s\u001b[0m eta \u001b[36m0:00:00\u001b[0m\n",
            "\u001b[?25hCollecting jmespath<2.0.0,>=0.7.1 (from boto3)\n",
            "  Downloading jmespath-1.0.1-py3-none-any.whl (20 kB)\n",
            "Collecting s3transfer<0.11.0,>=0.10.0 (from boto3)\n",
            "  Downloading s3transfer-0.10.1-py3-none-any.whl (82 kB)\n",
            "\u001b[2K     \u001b[90m━━━━━━━━━━━━━━━━━━━━━━━━━━━━━━━━━━━━━━━━\u001b[0m \u001b[32m82.2/82.2 kB\u001b[0m \u001b[31m5.4 MB/s\u001b[0m eta \u001b[36m0:00:00\u001b[0m\n",
            "\u001b[?25hRequirement already satisfied: python-dateutil<3.0.0,>=2.1 in /usr/local/lib/python3.10/dist-packages (from botocore<1.35.0,>=1.34.64->boto3) (2.8.2)\n",
            "Requirement already satisfied: urllib3!=2.2.0,<3,>=1.25.4 in /usr/local/lib/python3.10/dist-packages (from botocore<1.35.0,>=1.34.64->boto3) (2.0.7)\n",
            "Requirement already satisfied: six>=1.5 in /usr/local/lib/python3.10/dist-packages (from python-dateutil<3.0.0,>=2.1->botocore<1.35.0,>=1.34.64->boto3) (1.16.0)\n",
            "Installing collected packages: jmespath, botocore, s3transfer, boto3\n",
            "Successfully installed boto3-1.34.64 botocore-1.34.64 jmespath-1.0.1 s3transfer-0.10.1\n"
          ]
        }
      ]
    },
    {
      "cell_type": "markdown",
      "source": [
        "#### Importing the required modules"
      ],
      "metadata": {
        "id": "4gM7EEsUzj-_"
      }
    },
    {
      "cell_type": "code",
      "source": [
        "import pandas as pd\n",
        "import io\n",
        "import os\n",
        "import json\n",
        "import csv\n",
        "import boto3\n",
        "from IPython.display import clear_output"
      ],
      "metadata": {
        "id": "Abl1RGEDzjKj"
      },
      "execution_count": 2,
      "outputs": []
    },
    {
      "cell_type": "markdown",
      "source": [
        "#### Saving an access key and a secret key in an environment variable\n",
        "---\n",
        "This is only required to test the Lambda code locally as in the production environment an AWS role was assigned to the Lambda function. The role that grants full access to AWS S3 allows Lambda access the bucket without the need for a secret and access keys"
      ],
      "metadata": {
        "id": "EZhg5WXdW8na"
      }
    },
    {
      "cell_type": "code",
      "execution_count": 3,
      "metadata": {
        "id": "0V-74wDUUCiC"
      },
      "outputs": [],
      "source": [
        "def set_environment_variable_values():\n",
        "  ACCESS_KEY = input(\"Please enter the AWS access key: \")\n",
        "  SECRET_ACCESS_KEY = input(\"Please enter the AWS secret access key: \")\n",
        "  BUCKET_NAME = input(\"Please enter the name of the bucket in S3: \")\n",
        "  os.environ['ACCESS_KEY'] = ACCESS_KEY\n",
        "  os.environ['SECRET_ACCESS_KEY'] = SECRET_ACCESS_KEY\n",
        "  os.environ['BUCKET_NAME'] = BUCKET_NAME\n",
        "  clear_output()\n",
        "  return None\n",
        "\n",
        "set_environment_variable_values()"
      ]
    },
    {
      "cell_type": "markdown",
      "source": [
        "#### Creating a connection to the S3 bucket\n",
        "---"
      ],
      "metadata": {
        "id": "EyLPbMMlTe63"
      }
    },
    {
      "cell_type": "code",
      "source": [
        "def get_S3_client():\n",
        "\tresource = boto3.client(\n",
        "     \"s3\",\n",
        "\t\taws_access_key_id = os.environ.get('ACCESS_KEY'),\n",
        "\t\taws_secret_access_key = os.environ.get('SECRET_ACCESS_KEY')\n",
        "\t)\n",
        "\treturn resource\n",
        "\n",
        "s3_client = get_S3_client()"
      ],
      "metadata": {
        "id": "xm0Hz9JEUwxE"
      },
      "execution_count": 4,
      "outputs": []
    },
    {
      "cell_type": "markdown",
      "source": [
        "#### Defining show_schools_data_in_bucket(client, filename) function\n",
        "---\n",
        "Some adjustments were made so that the function could be tested locally. Some original Lambda code lines are hashed out and some lines were added."
      ],
      "metadata": {
        "id": "5L3F6bV9iVJj"
      }
    },
    {
      "cell_type": "code",
      "source": [
        "def show_schools_data_in_bucket(client, filename):\n",
        "    try:\n",
        "        s3_client = client    # added\n",
        "        # s3_client = boto3.client('s3')\n",
        "        s3 = boto3.resource('s3')\n",
        "        bucket = s3.Bucket(os.environ.get(\"BUCKET_NAME\"))\n",
        "        obj = s3_client.get_object(Bucket=os.environ.get(\"BUCKET_NAME\"), Key=filename)\n",
        "        data = obj['Body'].read().decode('utf-8').splitlines()\n",
        "        records = csv.reader(data)\n",
        "        data_array =[]\n",
        "        for row in records:\n",
        "            data_array.append(row)\n",
        "        return \"The data has been found\", data_array\n",
        "    except Exception as e:\n",
        "      if str(e) == 'An error occurred (NoSuchKey) when calling the GetObject operation: The specified key does not exist.': # added\n",
        "    # except botocore.exceptions.ClientError as e:\n",
        "      #  if e.response[\"Error\"][\"Code\"] == \"NoSuchKey\":\n",
        "        return \"There is no such file\", []\n",
        "      else:\n",
        "        # return e.response[\"Error\"][\"Code\"], []\n",
        "        return str(e), []                                               # added\n",
        "    # except:\n",
        "      #  return \"There was an error\", []"
      ],
      "metadata": {
        "id": "GSioYClSadZf"
      },
      "execution_count": 7,
      "outputs": []
    },
    {
      "cell_type": "markdown",
      "source": [
        "#### Defining add_school_data_to_bucket(client, filename, filedata) function\n",
        "---\n",
        "Some adjustments were made so that the function could be tested locally. Some original Lambda code lines were commented out and new lines were added."
      ],
      "metadata": {
        "id": "iuSpC7Cl0_mG"
      }
    },
    {
      "cell_type": "code",
      "source": [
        "def add_school_data_to_bucket(client, filename, filedata):\n",
        "    try:\n",
        "        s3_client = client # added\n",
        "        #s3_client = boto3.client('s3')\n",
        "        s3 = boto3.resource('s3')\n",
        "        bucket = s3.Bucket(os.environ.get(\"BUCKET_NAME\"))\n",
        "        obj = s3_client.get_object(Bucket=os.environ.get(\"BUCKET_NAME\"), Key=filename)\n",
        "        data = obj['Body'].read().decode('utf-8').splitlines()\n",
        "        records = csv.reader(data)\n",
        "        names_array = []\n",
        "        data_array =[]                   # added\n",
        "        # with open('/tmp/schools_list.csv', 'w', newline='') as f:\n",
        "        for row in records:\n",
        "          names_array.append(row[0])\n",
        "          data_array.append(row)         # added\n",
        "          # writer = csv.writer(f)\n",
        "          # writer.writerow(row)\n",
        "        new_data_rows = []\n",
        "        # with open('/tmp/schools_list.csv', 'a', newline='') as f:\n",
        "        for i in filedata:\n",
        "          if i[0] not in names_array:\n",
        "            new_data_rows.append(i)\n",
        "          # writer = csv.writer(f)\n",
        "          # writer.writerow(i)\n",
        "        if len(new_data_rows) == 0:\n",
        "            return \"These schools are already in a file\", []\n",
        "        else:\n",
        "            # bucket.upload_file('/tmp/schools_list.csv', filename)\n",
        "            file_object =  io.StringIO()     # added\n",
        "            pd.DataFrame(data_array+new_data_rows).to_csv(file_object, index=False, header=False) # added\n",
        "            response = s3_client.put_object(Bucket=os.environ.get('BUCKET_NAME'), Body=file_object.getvalue(), Key=filename) # added\n",
        "            return \"New data been successfully added\", new_data_rows\n",
        "    except Exception as e:\n",
        "      if str(e) == 'An error occurred (NoSuchKey) when calling the GetObject operation: The specified key does not exist.':   # added\n",
        "    # except botocore.exceptions.ClientError as e:\n",
        "     #   if e.response[\"Error\"][\"Code\"] == \"NoSuchKey\":\n",
        "        # with open('/tmp/schools_list.csv', 'w', newline='') as f:\n",
        "          # writer = csv.writer(f)\n",
        "           # writer.writerow(headers)\n",
        "           # for row in filedata:\n",
        "            #    writer.writerow(row)\n",
        "        # bucket.upload_file('/tmp/schools_list.csv', filename)\n",
        "        file_object =  io.StringIO()    # added\n",
        "        pd.DataFrame(filedata).to_csv(file_object, index=False, header=False) # added\n",
        "        response = s3_client.put_object(Bucket=os.environ.get('BUCKET_NAME'), Body=file_object.getvalue(), Key=filename) # added\n",
        "        return \"New file been successfully created\", filedata\n",
        "      else:\n",
        "        return str(e), []      # added\n",
        "         # return e.response[\"Error\"][\"Code\"], []"
      ],
      "metadata": {
        "id": "rTKg4sIJgltK"
      },
      "execution_count": 70,
      "outputs": []
    },
    {
      "cell_type": "markdown",
      "source": [
        "#### Defining the lambda_handler(event, context) function\n",
        "---\n",
        "Some minor edits were made to the lambda_handler(event, context) function running in the production environment in order to make it possible to test it locally"
      ],
      "metadata": {
        "id": "CJFauBtp0oty"
      }
    },
    {
      "cell_type": "code",
      "source": [
        "def lambda_handler(event, context):\n",
        "    try:\n",
        "        filename = \"schools_list.csv\"\n",
        "        # client = boto3.client('s3')\n",
        "        client = s3_client                      # added\n",
        "        if event[\"httpMethod\"] == \"POST\":\n",
        "            if \"body\" in event.keys():\n",
        "                request = event[\"body\"]\n",
        "                if type(request) is not dict:\n",
        "                    request = json.loads(request)\n",
        "                if request is not None and \"data\" in request.keys():\n",
        "                    '''if there is no data return a message and an empty list '''\n",
        "                    data = request[\"data\"]\n",
        "                    if len(data) == 0:\n",
        "                        message, return_data = \"Please enter valid data\", []\n",
        "                        statuscode = 404\n",
        "                    else:\n",
        "                        message, return_data = add_school_data_to_bucket(client, filename, data)\n",
        "                        statuscode = 200\n",
        "                else:\n",
        "                    message, return_data = \"Error in the POST request occured\", []\n",
        "                    statuscode = 404\n",
        "        elif event[\"httpMethod\"] == \"GET\":\n",
        "            message, return_data = show_schools_data_in_bucket(client, filename)\n",
        "            message=\"Success\"\n",
        "            statuscode = 200\n",
        "        else:\n",
        "            message, return_data = \"Error occured\", []\n",
        "            statuscode = 404\n",
        "        return {'statusCode': statuscode,\n",
        "                'headers': {'Content-Type': 'application/json',\n",
        "                            'Access-Control-Allow-Headers': 'Content-Type,X-Api-Key',\n",
        "                            'Access-Control-Allow-Methods': 'POST',\n",
        "                            'Access-Control-Allow-Origin': '*'},\n",
        "                #'body': json.dumps({\"message\": message, \"data\": return_data})\n",
        "                'body': {\"message\": message, \"data\": return_data}    # added\n",
        "                }\n",
        "    except:\n",
        "        return {'statusCode': 404,\n",
        "                'headers': {'Content-Type': 'application/json',\n",
        "                            'Access-Control-Allow-Headers': 'Content-Type,X-Api-Key',\n",
        "                            'Access-Control-Allow-Methods': 'POST',\n",
        "                            'Access-Control-Allow-Origin': '*'},\n",
        "                # 'body': json.dumps({\"message\": \"There was an error\", \"data\": []})\n",
        "                'body': {\"message\": \"There was an error\", \"data\": []} # added\n",
        "                }"
      ],
      "metadata": {
        "id": "Oj6evqAAwFOj"
      },
      "execution_count": 71,
      "outputs": []
    },
    {
      "cell_type": "markdown",
      "source": [
        "#### Testing a new file creation\n",
        "---\n",
        "All the files were deleted from the bucket before the test. Asserting that the message 'New file been successfully created' is returned when trying to add data to a file that does not exist"
      ],
      "metadata": {
        "id": "5IJId17nDE1e"
      }
    },
    {
      "cell_type": "code",
      "source": [
        "event0 = {\n",
        "    \"httpMethod\": \"POST\",\n",
        "    \"body\": {\n",
        "    \"data\": [\n",
        "        [\n",
        "            \"Bannockburn Primary School & Nursery\",\n",
        "            51.4869172,\n",
        "            0.1015561\n",
        "        ],\n",
        "        [\n",
        "            \"St Margaret Clitherow Primary School\",\n",
        "            51.50103289999999,\n",
        "            0.1132992\n",
        "        ]\n",
        "    ]\n",
        "}\n",
        "}\n",
        "test0 = lambda_handler(event0, None)\n",
        "if test0['body']['message'] == 'New file been successfully created':\n",
        "  print('test0 passed')\n",
        "else:\n",
        "  print('test0 failed')"
      ],
      "metadata": {
        "colab": {
          "base_uri": "https://localhost:8080/"
        },
        "id": "GYdoQ7bqCrND",
        "outputId": "2d04427f-bd6a-40e8-dfb5-0b3cb150eb2d"
      },
      "execution_count": 75,
      "outputs": [
        {
          "output_type": "stream",
          "name": "stdout",
          "text": [
            "test0 passed\n"
          ]
        }
      ]
    },
    {
      "cell_type": "markdown",
      "source": [
        "#### Testing that the function does not add schools already in the file\n",
        "---\n",
        "Test1 should follow test0. Asserting that the message 'These schools are already in a file' is returned when trying to add schools already in the bucket file"
      ],
      "metadata": {
        "id": "H6DUx-tuJhRA"
      }
    },
    {
      "cell_type": "code",
      "source": [
        "event1 = {\n",
        "    \"httpMethod\": \"POST\",\n",
        "    \"body\": {\n",
        "    \"data\": [\n",
        "        [\n",
        "            \"Bannockburn Primary School & Nursery\",\n",
        "            51.4869172,\n",
        "            0.1015561\n",
        "        ],\n",
        "        [\n",
        "            \"St Margaret Clitherow Primary School\",\n",
        "            51.50103289999999,\n",
        "            0.1132992\n",
        "        ]\n",
        "    ]\n",
        "}\n",
        "}\n",
        "test1 = lambda_handler(event1, None)\n",
        "if test1['body']['message'] == 'These schools are already in a file':\n",
        "  print('test1 passed')\n",
        "else:\n",
        "  print('test1 failed')"
      ],
      "metadata": {
        "id": "hMbmalEDzva8",
        "colab": {
          "base_uri": "https://localhost:8080/"
        },
        "outputId": "965e01cd-8385-4cdd-dc4c-5048d5201761"
      },
      "execution_count": 76,
      "outputs": [
        {
          "output_type": "stream",
          "name": "stdout",
          "text": [
            "test1 passed\n"
          ]
        }
      ]
    },
    {
      "cell_type": "markdown",
      "source": [
        "#### Testing the usage of the httpMethod GET\n",
        "---\n",
        "Asserting that statusCode 200 is returned when httpMethod GET is used"
      ],
      "metadata": {
        "id": "wmT8NJCcaffM"
      }
    },
    {
      "cell_type": "code",
      "source": [
        "event2 = {\n",
        "    \"httpMethod\": \"GET\"\n",
        "}\n",
        "\n",
        "test2 = lambda_handler(event2, None)\n",
        "if test2['statusCode'] == 200:\n",
        "  print('test2 passed')\n",
        "else:\n",
        "  print('test2 failed')"
      ],
      "metadata": {
        "id": "r_b6gWguU0zJ",
        "outputId": "31d8f9b4-cab8-439f-f7e1-7e7847773cc8",
        "colab": {
          "base_uri": "https://localhost:8080/"
        }
      },
      "execution_count": 77,
      "outputs": [
        {
          "output_type": "stream",
          "name": "stdout",
          "text": [
            "test2 passed\n"
          ]
        }
      ]
    },
    {
      "cell_type": "markdown",
      "source": [
        "#### Testing if the Lambda function fails gracefully if the httpMethod is not POST or GET\n",
        "---\n",
        "Asserting that when httpMethod DELETE is used the 'Error occured' message is returned"
      ],
      "metadata": {
        "id": "7ZkYAcODMWM0"
      }
    },
    {
      "cell_type": "code",
      "source": [
        "event3 = {\"httpMethod\": \"DELETE\"}\n",
        "test3 = lambda_handler(event3, None)\n",
        "if test3['body']['message'] == 'Error occured':\n",
        "  print('test3 passed')\n",
        "else:\n",
        "  print('test3 failed')"
      ],
      "metadata": {
        "colab": {
          "base_uri": "https://localhost:8080/"
        },
        "id": "bV9oAUfXLQKZ",
        "outputId": "ca0819af-8d23-4784-99b9-430ee0093f64"
      },
      "execution_count": 78,
      "outputs": [
        {
          "output_type": "stream",
          "name": "stdout",
          "text": [
            "test3 passed\n"
          ]
        }
      ]
    },
    {
      "cell_type": "markdown",
      "source": [
        "#### Testing that the Lambda function fails gracefully with body as an empty string\n",
        "---\n",
        "Asserting that when the httpMethod POST is used and the \"body\" is an empty string, statusCode 404 is displayed"
      ],
      "metadata": {
        "id": "_nWAM2v0hiI0"
      }
    },
    {
      "cell_type": "code",
      "source": [
        "event4 = {\n",
        "    \"httpMethod\": \"POST\",\n",
        "    \"body\": \"\"\n",
        "}\n",
        "test4 = lambda_handler(event4, None)\n",
        "if test4['statusCode'] == 404:\n",
        "  print('test4 passed')\n",
        "else:\n",
        "  print('test4 failed')"
      ],
      "metadata": {
        "colab": {
          "base_uri": "https://localhost:8080/"
        },
        "id": "XP1SHsIuNNV5",
        "outputId": "8e4d8001-5a5b-484e-ac54-82acd304a0ee"
      },
      "execution_count": 79,
      "outputs": [
        {
          "output_type": "stream",
          "name": "stdout",
          "text": [
            "test4 passed\n"
          ]
        }
      ]
    },
    {
      "cell_type": "markdown",
      "source": [
        "#### Testing that the Lambda function fails gracefully with data as an empty list\n",
        "---\n",
        "Asserting that the statusCode 404 is returned when httpMethod POST is used and the data field in input is an empty list"
      ],
      "metadata": {
        "id": "F1u9HBV5kzUt"
      }
    },
    {
      "cell_type": "code",
      "source": [
        "event5 = {\n",
        "    \"httpMethod\": \"POST\",\n",
        "    \"body\": {\n",
        "    \"data\": []\n",
        "}\n",
        "}\n",
        "test5 = lambda_handler(event5, None)\n",
        "if test5['statusCode'] == 404:\n",
        "  print('test5 passed')\n",
        "else:\n",
        "  print('test5 failed')"
      ],
      "metadata": {
        "id": "BQ5Ms04GTz6h",
        "outputId": "650dd6e1-5bce-4117-a1ef-0f17f048abcf",
        "colab": {
          "base_uri": "https://localhost:8080/"
        }
      },
      "execution_count": 80,
      "outputs": [
        {
          "output_type": "stream",
          "name": "stdout",
          "text": [
            "test5 passed\n"
          ]
        }
      ]
    },
    {
      "cell_type": "markdown",
      "source": [
        "#### Testing that the Lambda function fails gracefully with data as an empty string\n",
        "---\n",
        "Asserting that when httpMethod POST is used the message 'Please enter valid data' is returned if data field in input is an empty string"
      ],
      "metadata": {
        "id": "FGRIclYll6Tx"
      }
    },
    {
      "cell_type": "code",
      "source": [
        "event6 = {\n",
        "    \"httpMethod\": \"POST\",\n",
        "    \"body\": {\n",
        "    \"data\": \"\"\n",
        "}\n",
        "}\n",
        "test6 = lambda_handler(event6, None)\n",
        "if test6['body']['message'] == 'Please enter valid data':\n",
        "  print('test6 passed')\n",
        "else:\n",
        "  print('test6 failed')"
      ],
      "metadata": {
        "id": "GxxH7sRBUTKY",
        "outputId": "ab5f4430-70a5-4b67-b8e1-99b4c1cd9786",
        "colab": {
          "base_uri": "https://localhost:8080/"
        }
      },
      "execution_count": 81,
      "outputs": [
        {
          "output_type": "stream",
          "name": "stdout",
          "text": [
            "test6 passed\n"
          ]
        }
      ]
    },
    {
      "cell_type": "markdown",
      "source": [
        "#### Testing that the Lambda function fails gracefully if the data field is a single digit integer\n",
        "---\n",
        "Asserting that the message 'There was an error' is returned if the httpMethod is POST and the data field is 1"
      ],
      "metadata": {
        "id": "HoQ23KOtma9D"
      }
    },
    {
      "cell_type": "code",
      "source": [
        "event7 = {\n",
        "    \"httpMethod\": \"POST\",\n",
        "    \"body\": {\n",
        "    \"data\": 1\n",
        "}\n",
        "}\n",
        "test7 = lambda_handler(event7, None)\n",
        "if test7['body']['message'] == 'There was an error':\n",
        "  print('test7 passed')\n",
        "else:\n",
        "  print('test7 failed')"
      ],
      "metadata": {
        "id": "AQkIigNxUmyd",
        "outputId": "d4a364ec-d7e8-498a-9602-93fcda442761",
        "colab": {
          "base_uri": "https://localhost:8080/"
        }
      },
      "execution_count": 82,
      "outputs": [
        {
          "output_type": "stream",
          "name": "stdout",
          "text": [
            "test7 passed\n"
          ]
        }
      ]
    },
    {
      "cell_type": "markdown",
      "source": [
        "#### Testing that the Lambda function fails gracefully if the there is no body\n",
        "---\n",
        "Asserting that an empty list is returned if the httpMethod is POST and there is no body in input"
      ],
      "metadata": {
        "id": "-TsW5TLjn39c"
      }
    },
    {
      "cell_type": "code",
      "source": [
        "event8 = {\n",
        "    \"httpMethod\": \"POST\"\n",
        "}\n",
        "test8 = lambda_handler(event8, None)\n",
        "if test8['body']['data'] == []:\n",
        "  print('test8 passed')\n",
        "else:\n",
        "  print('test8 failed')"
      ],
      "metadata": {
        "id": "NL-xufm8U4UH",
        "outputId": "6025d5e1-5415-4742-cf86-334bf24954fa",
        "colab": {
          "base_uri": "https://localhost:8080/"
        }
      },
      "execution_count": 83,
      "outputs": [
        {
          "output_type": "stream",
          "name": "stdout",
          "text": [
            "test8 passed\n"
          ]
        }
      ]
    },
    {
      "cell_type": "markdown",
      "source": [
        "#### Testing that the new data is added successfully if a school is not listed in the bucket file\n",
        "---\n",
        "Test9 should only be executed once in the intended order. Asserting that the list of lists is returned with the newly added data if the httpMethod POST is used and the data input field contains a school not in the bucket file"
      ],
      "metadata": {
        "id": "730e2MaUpBg2"
      }
    },
    {
      "cell_type": "code",
      "source": [
        "event9 = {\n",
        "    \"httpMethod\": \"POST\",\n",
        "    \"body\": {\"data\":[['Riverside Primary Academy',54.9564501,-1.6441569]]}\n",
        "}\n",
        "test9 = lambda_handler(event9, None)\n",
        "if test9['body']['data'] == [['Riverside Primary Academy', 54.9564501, -1.6441569]]:\n",
        "  print('test9 passed')\n",
        "else:\n",
        "  print('test9 failed')"
      ],
      "metadata": {
        "id": "KI4BvpKkWmmc",
        "outputId": "96b2cbb5-bab5-46f3-a4d5-169ab9ed1f3d",
        "colab": {
          "base_uri": "https://localhost:8080/"
        }
      },
      "execution_count": 84,
      "outputs": [
        {
          "output_type": "stream",
          "name": "stdout",
          "text": [
            "test9 passed\n"
          ]
        }
      ]
    },
    {
      "cell_type": "markdown",
      "source": [
        "#### Testing that all data has been added correctly\n",
        "---\n",
        "Assering that data variable returned is [['Bannockburn Primary School & Nursery', '51.4869172', '0.1015561'], ['St Margaret Clitherow Primary School', '51.50103289999999', '0.1132992'], ['Riverside Primary Academy', '54.9564501', '-1.6441569']] after running all the tests from test0 to test10"
      ],
      "metadata": {
        "id": "BIiiy2fOxBpL"
      }
    },
    {
      "cell_type": "code",
      "source": [
        "event10 = {\n",
        "    \"httpMethod\": \"GET\"\n",
        "}\n",
        "test10 = lambda_handler(event10, None)\n",
        "if test10['body']['data'] == [['Bannockburn Primary School & Nursery', '51.4869172', '0.1015561'], ['St Margaret Clitherow Primary School', '51.50103289999999', '0.1132992'], ['Riverside Primary Academy', '54.9564501', '-1.6441569']]:\n",
        "  print('test10 passed')\n",
        "else:\n",
        "  print('test10 failed')"
      ],
      "metadata": {
        "id": "bHyDCciPW7gW",
        "outputId": "1d466ef2-fa82-46c9-a8b4-391208aade0c",
        "colab": {
          "base_uri": "https://localhost:8080/"
        }
      },
      "execution_count": 86,
      "outputs": [
        {
          "output_type": "stream",
          "name": "stdout",
          "text": [
            "test10 passed\n"
          ]
        }
      ]
    }
  ]
}