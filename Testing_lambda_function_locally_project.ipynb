{
  "nbformat": 4,
  "nbformat_minor": 0,
  "metadata": {
    "colab": {
      "provenance": [],
      "include_colab_link": true
    },
    "kernelspec": {
      "name": "python3",
      "display_name": "Python 3"
    },
    "language_info": {
      "name": "python"
    }
  },
  "cells": [
    {
      "cell_type": "markdown",
      "metadata": {
        "id": "view-in-github",
        "colab_type": "text"
      },
      "source": [
        "<a href=\"https://colab.research.google.com/github/yuliiabosher/Cyber_Resilience_Course/blob/main/Testing_lambda_function_locally_project.ipynb\" target=\"_parent\"><img src=\"https://colab.research.google.com/assets/colab-badge.svg\" alt=\"Open In Colab\"/></a>"
      ]
    },
    {
      "cell_type": "markdown",
      "source": [
        "# Testing the lambda function code locally"
      ],
      "metadata": {
        "id": "OLyJadlYUQ30"
      }
    },
    {
      "cell_type": "markdown",
      "source": [
        "#### Installing the boto3 module"
      ],
      "metadata": {
        "id": "Lp_pqsGbvmDb"
      }
    },
    {
      "cell_type": "code",
      "source": [
        "!pip install boto3"
      ],
      "metadata": {
        "id": "jHUliNAyWlej",
        "outputId": "576bb3ae-3943-47d3-d37a-b2e96ad9857f",
        "colab": {
          "base_uri": "https://localhost:8080/"
        }
      },
      "execution_count": 8,
      "outputs": [
        {
          "output_type": "stream",
          "name": "stdout",
          "text": [
            "Requirement already satisfied: boto3 in /usr/local/lib/python3.10/dist-packages (1.34.64)\n",
            "Requirement already satisfied: botocore<1.35.0,>=1.34.64 in /usr/local/lib/python3.10/dist-packages (from boto3) (1.34.64)\n",
            "Requirement already satisfied: jmespath<2.0.0,>=0.7.1 in /usr/local/lib/python3.10/dist-packages (from boto3) (1.0.1)\n",
            "Requirement already satisfied: s3transfer<0.11.0,>=0.10.0 in /usr/local/lib/python3.10/dist-packages (from boto3) (0.10.1)\n",
            "Requirement already satisfied: python-dateutil<3.0.0,>=2.1 in /usr/local/lib/python3.10/dist-packages (from botocore<1.35.0,>=1.34.64->boto3) (2.8.2)\n",
            "Requirement already satisfied: urllib3!=2.2.0,<3,>=1.25.4 in /usr/local/lib/python3.10/dist-packages (from botocore<1.35.0,>=1.34.64->boto3) (2.0.7)\n",
            "Requirement already satisfied: six>=1.5 in /usr/local/lib/python3.10/dist-packages (from python-dateutil<3.0.0,>=2.1->botocore<1.35.0,>=1.34.64->boto3) (1.16.0)\n"
          ]
        }
      ]
    },
    {
      "cell_type": "markdown",
      "source": [
        "#### Importing the required modules"
      ],
      "metadata": {
        "id": "4gM7EEsUzj-_"
      }
    },
    {
      "cell_type": "code",
      "source": [
        "import pandas as pd\n",
        "import io\n",
        "import os\n",
        "import json\n",
        "import csv\n",
        "import boto3\n",
        "from IPython.display import clear_output"
      ],
      "metadata": {
        "id": "Abl1RGEDzjKj"
      },
      "execution_count": 9,
      "outputs": []
    },
    {
      "cell_type": "markdown",
      "source": [
        "#### Saving an access key and a secret key in an environment variable\n",
        "---"
      ],
      "metadata": {
        "id": "EZhg5WXdW8na"
      }
    },
    {
      "cell_type": "code",
      "execution_count": 10,
      "metadata": {
        "id": "0V-74wDUUCiC"
      },
      "outputs": [],
      "source": [
        "def set_environment_variable_values():\n",
        "  ACCESS_KEY = input(\"Please enter the AWS access key: \")\n",
        "  SECRET_ACCESS_KEY = input(\"Please enter the AWS secret access key: \")\n",
        "  BUCKET_NAME = input(\"Please enter the name of the bucket in S3: \")\n",
        "  os.environ['ACCESS_KEY'] = ACCESS_KEY\n",
        "  os.environ['SECRET_ACCESS_KEY'] = SECRET_ACCESS_KEY\n",
        "  os.environ['BUCKET_NAME'] = BUCKET_NAME\n",
        "  clear_output()\n",
        "  return None\n",
        "\n",
        "set_environment_variable_values()"
      ]
    },
    {
      "cell_type": "markdown",
      "source": [
        "#### Creating a connection to the S3 bucket\n",
        "---"
      ],
      "metadata": {
        "id": "EyLPbMMlTe63"
      }
    },
    {
      "cell_type": "code",
      "source": [
        "def get_S3_client():\n",
        "\tresource = boto3.client(\n",
        "     \"s3\",\n",
        "\t\taws_access_key_id = os.environ.get('ACCESS_KEY'),\n",
        "\t\taws_secret_access_key = os.environ.get('SECRET_ACCESS_KEY')\n",
        "\t)\n",
        "\treturn resource\n",
        "\n",
        "s3_client = get_S3_client()"
      ],
      "metadata": {
        "id": "xm0Hz9JEUwxE"
      },
      "execution_count": 23,
      "outputs": []
    },
    {
      "cell_type": "markdown",
      "source": [
        "#### Defining get_file(filename) function to test a GET request locally\n",
        "\n",
        "---"
      ],
      "metadata": {
        "id": "5L3F6bV9iVJj"
      }
    },
    {
      "cell_type": "code",
      "source": [
        "def get_file(filename):\n",
        "  # get the file from the bucket\n",
        "  file_object = s3_client.get_object(Bucket=os.environ.get('BUCKET_NAME'), Key=filename)\n",
        "  # convert the file object to a text-based csv file then read the file contents into a table using the pandas read_csv function\n",
        "  data_file = io.BytesIO(file_object['Body'].read())\n",
        "  data = pd.read_csv(data_file)\n",
        "  return data"
      ],
      "metadata": {
        "id": "COYMBXPIR6X0"
      },
      "execution_count": 24,
      "outputs": []
    },
    {
      "cell_type": "markdown",
      "source": [
        "#### Defining save_a_copy(filedata, filename) function to test a POST request locally\n",
        "\n",
        "---"
      ],
      "metadata": {
        "id": "iuSpC7Cl0_mG"
      }
    },
    {
      "cell_type": "code",
      "source": [
        "def save_a_copy(filedata, filename):\n",
        "  new_data = filedata.copy()\n",
        "  file_object =  io.StringIO()\n",
        "  pd.DataFrame(new_data).to_csv(file_object, index=False)\n",
        "  response = s3_client.put_object(Bucket=os.environ.get('BUCKET_NAME'), Body=file_object.getvalue(), Key=filename)\n",
        "  return response"
      ],
      "metadata": {
        "id": "J-A0-TW90-xw"
      },
      "execution_count": 25,
      "outputs": []
    },
    {
      "cell_type": "markdown",
      "source": [
        "#### Defining the lambda_handler(event, context) function from AWS Lambda with some minor edits\n",
        "---"
      ],
      "metadata": {
        "id": "CJFauBtp0oty"
      }
    },
    {
      "cell_type": "code",
      "source": [
        "def lambda_handler(event, context):\n",
        "    try:\n",
        "        filename = \"schools_list.csv\"\n",
        "        client = boto3.client('s3')\n",
        "        if event[\"httpMethod\"] == \"POST\":\n",
        "            if \"body\" in event.keys():\n",
        "                request = event[\"body\"]\n",
        "                if type(request) is not dict:\n",
        "                    request = json.loads(request)\n",
        "                if request is not None and \"data\" in request.keys():\n",
        "                    '''if there is no data return a message and an empty list '''\n",
        "                    data = request[\"data\"]\n",
        "                    if len(data) == 0:\n",
        "                        message, return_data = \"Please enter a valid data\", []\n",
        "                        statuscode = 404\n",
        "                    else:\n",
        "                        # message, return_data = add_school_data_to_bucket(client, filename, data)\n",
        "                        return_data = save_a_copy(data,'schools_list.csv')\n",
        "                        message=\"Success\"\n",
        "                        ''' the two lines above are different from the original Lambda function\n",
        "                        to allow for them to be tested locally\n",
        "                        the line that is hashed out is the original Lambda code '''\n",
        "                        statuscode = 200\n",
        "                else:\n",
        "                    message, return_data = \"Error in the POST request occured\", []\n",
        "                    statuscode = 404\n",
        "        elif event[\"httpMethod\"] == \"GET\":\n",
        "            # message, return_data = show_schools_data_in_bucket(client, filename)\n",
        "            return_data = get_file('schools_list.csv')\n",
        "            message=\"Success\"\n",
        "            ''' the two lines above are different from the original Lambda function\n",
        "            to allow for them to be tested locally\n",
        "            the line that is hashed out is the original Lambda code '''\n",
        "            statuscode = 200\n",
        "        else:\n",
        "            message, return_data = \"Error occured\", []\n",
        "            statuscode = 404\n",
        "        return {'statusCode': statuscode,\n",
        "                'headers': {'Content-Type': 'application/json',\n",
        "                            'Access-Control-Allow-Headers': 'Content-Type,X-Api-Key',\n",
        "                            'Access-Control-Allow-Methods': 'POST',\n",
        "                            'Access-Control-Allow-Origin': '*'},\n",
        "                #'body': json.dumps({\"message\": message, \"data\": return_data})\n",
        "                'body': {\"message\": message, \"data\": return_data}\n",
        "                }\n",
        "    except:\n",
        "        return {'statusCode': 404,\n",
        "                'headers': {'Content-Type': 'application/json',\n",
        "                            'Access-Control-Allow-Headers': 'Content-Type,X-Api-Key',\n",
        "                            'Access-Control-Allow-Methods': 'POST',\n",
        "                            'Access-Control-Allow-Origin': '*'},\n",
        "                # 'body': json.dumps({\"message\": \"There was an error\", \"data\": []})\n",
        "                'body': {\"message\": \"There was an error\", \"data\": []}\n",
        "                }\n",
        "''' the line above is different from the original Lambda function\n",
        "to allow for it to be tested locally\n",
        "the line that is hashed out if the original Lambda code '''"
      ],
      "metadata": {
        "colab": {
          "base_uri": "https://localhost:8080/",
          "height": 35
        },
        "id": "Oj6evqAAwFOj",
        "outputId": "8436a3ab-5249-47e8-c406-b659549113d7"
      },
      "execution_count": 33,
      "outputs": [
        {
          "output_type": "execute_result",
          "data": {
            "text/plain": [
              "' the line above is different from the original Lambda function \\nto allow for it to be tested locally\\nthe line that is hashed out if the original Lambda code '"
            ],
            "application/vnd.google.colaboratory.intrinsic+json": {
              "type": "string"
            }
          },
          "metadata": {},
          "execution_count": 33
        }
      ]
    },
    {
      "cell_type": "markdown",
      "source": [
        "#### Testing the lambda_handler(event, context) function using POST method\n",
        "---\n",
        "When POST method is used in the test, we check if the lambda_handler(event, context) function works locally using the save_a_copy(filedata, filename) function.\n",
        "\n",
        "Expected output:\n",
        "\n",
        "{'statusCode': 200,\n",
        " 'headers': {'Content-Type': 'application/json',\n",
        "  'Access-Control-Allow-Headers': 'Content-Type,X-Api-Key',\n",
        "  'Access-Control-Allow-Methods': 'POST',\n",
        "  'Access-Control-Allow-Origin': '*'},\n",
        " 'body': {'message': 'Success',\n",
        "  'data': {'ResponseMetadata': {'RequestId': '6R324YF334ANFT78',\n",
        "    'HostId': 'pO1vh3CJyVGJk4wbUzaa59JOdccPBZPm8hcrHsf8D1orIN6uE05LSikpzVHluKp291WZnT0UDFo=',\n",
        "    'HTTPStatusCode': 200,\n",
        "    'HTTPHeaders': {'x-amz-id-2': 'pO1vh3CJyVGJk4wbUzaa59JOdccPBZPm8hcrHsf8D1orIN6uE05LSikpzVHluKp291WZnT0UDFo=',\n",
        "     'x-amz-request-id': '6R324YF334ANFT78',\n",
        "     'date': 'Fri, 15 Mar 2024 20:53:45 GMT',\n",
        "     'x-amz-server-side-encryption': 'AES256',\n",
        "     'etag': '\"ddb9933f885c2a08fb1a37b457cb3b00\"',\n",
        "     'server': 'AmazonS3',\n",
        "     'content-length': '0'},\n",
        "    'RetryAttempts': 0},\n",
        "   'ETag': '\"ddb9933f885c2a08fb1a37b457cb3b00\"',\n",
        "   'ServerSideEncryption': 'AES256'}}}"
      ],
      "metadata": {
        "id": "5f2RcujlZ2Tn"
      }
    },
    {
      "cell_type": "code",
      "source": [
        "event1 = {\n",
        "    \"httpMethod\": \"POST\",\n",
        "    \"body\": {\n",
        "    \"data\": [\n",
        "        [\n",
        "            \"Bannockburn Primary School & Nursery\",\n",
        "            51.4869172,\n",
        "            0.1015561\n",
        "        ],\n",
        "        [\n",
        "            \"St Margaret Clitherow Primary School\",\n",
        "            51.50103289999999,\n",
        "            0.1132992\n",
        "        ]\n",
        "    ]\n",
        "}\n",
        "}\n",
        "\n",
        "lambda_handler(event1, None)"
      ],
      "metadata": {
        "id": "hMbmalEDzva8",
        "colab": {
          "base_uri": "https://localhost:8080/"
        },
        "outputId": "16d0d53a-d02d-4815-a18e-ed295cb95279"
      },
      "execution_count": 34,
      "outputs": [
        {
          "output_type": "execute_result",
          "data": {
            "text/plain": [
              "{'statusCode': 200,\n",
              " 'headers': {'Content-Type': 'application/json',\n",
              "  'Access-Control-Allow-Headers': 'Content-Type,X-Api-Key',\n",
              "  'Access-Control-Allow-Methods': 'POST',\n",
              "  'Access-Control-Allow-Origin': '*'},\n",
              " 'body': {'message': 'Success',\n",
              "  'data': {'ResponseMetadata': {'RequestId': '6R324YF334ANFT78',\n",
              "    'HostId': 'pO1vh3CJyVGJk4wbUzaa59JOdccPBZPm8hcrHsf8D1orIN6uE05LSikpzVHluKp291WZnT0UDFo=',\n",
              "    'HTTPStatusCode': 200,\n",
              "    'HTTPHeaders': {'x-amz-id-2': 'pO1vh3CJyVGJk4wbUzaa59JOdccPBZPm8hcrHsf8D1orIN6uE05LSikpzVHluKp291WZnT0UDFo=',\n",
              "     'x-amz-request-id': '6R324YF334ANFT78',\n",
              "     'date': 'Fri, 15 Mar 2024 20:53:45 GMT',\n",
              "     'x-amz-server-side-encryption': 'AES256',\n",
              "     'etag': '\"ddb9933f885c2a08fb1a37b457cb3b00\"',\n",
              "     'server': 'AmazonS3',\n",
              "     'content-length': '0'},\n",
              "    'RetryAttempts': 0},\n",
              "   'ETag': '\"ddb9933f885c2a08fb1a37b457cb3b00\"',\n",
              "   'ServerSideEncryption': 'AES256'}}}"
            ]
          },
          "metadata": {},
          "execution_count": 34
        }
      ]
    },
    {
      "cell_type": "markdown",
      "source": [
        "#### Testing the lambda_handler(event, context) function using GET method\n",
        "---\n",
        "When GET method is used in the test, we check if the lambda_handler(event,context) function works locally using the get_file(filename) function.\n",
        "\n",
        "Expected output:\n",
        "\n",
        "{'statusCode': 200,\n",
        " 'headers': {'Content-Type': 'application/json',\n",
        "  'Access-Control-Allow-Headers': 'Content-Type,X-Api-Key',\n",
        "  'Access-Control-Allow-Methods': 'POST',\n",
        "  'Access-Control-Allow-Origin': '*'},\n",
        " 'body': {'message': 'Success',\n",
        "  'data':                                       0          1         2\n",
        "  0  Bannockburn Primary School & Nursery  51.486917  0.101556\n",
        "  1  St Margaret Clitherow Primary School  51.501033  0.113299}}"
      ],
      "metadata": {
        "id": "wmT8NJCcaffM"
      }
    },
    {
      "cell_type": "code",
      "source": [
        "event2 = {\n",
        "    \"httpMethod\": \"GET\"\n",
        "}\n",
        "\n",
        "lambda_handler(event2, None)"
      ],
      "metadata": {
        "id": "r_b6gWguU0zJ",
        "outputId": "7cecba18-1a11-4e07-e541-df847f3e1067",
        "colab": {
          "base_uri": "https://localhost:8080/"
        }
      },
      "execution_count": 35,
      "outputs": [
        {
          "output_type": "execute_result",
          "data": {
            "text/plain": [
              "{'statusCode': 200,\n",
              " 'headers': {'Content-Type': 'application/json',\n",
              "  'Access-Control-Allow-Headers': 'Content-Type,X-Api-Key',\n",
              "  'Access-Control-Allow-Methods': 'POST',\n",
              "  'Access-Control-Allow-Origin': '*'},\n",
              " 'body': {'message': 'Success',\n",
              "  'data':                                       0          1         2\n",
              "  0  Bannockburn Primary School & Nursery  51.486917  0.101556\n",
              "  1  St Margaret Clitherow Primary School  51.501033  0.113299}}"
            ]
          },
          "metadata": {},
          "execution_count": 35
        }
      ]
    }
  ]
}