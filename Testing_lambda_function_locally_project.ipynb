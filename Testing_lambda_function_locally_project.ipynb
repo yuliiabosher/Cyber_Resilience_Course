{
  "nbformat": 4,
  "nbformat_minor": 0,
  "metadata": {
    "colab": {
      "provenance": [],
      "include_colab_link": true
    },
    "kernelspec": {
      "name": "python3",
      "display_name": "Python 3"
    },
    "language_info": {
      "name": "python"
    }
  },
  "cells": [
    {
      "cell_type": "markdown",
      "metadata": {
        "id": "view-in-github",
        "colab_type": "text"
      },
      "source": [
        "<a href=\"https://colab.research.google.com/github/yuliiabosher/Cyber_Resilience_Course/blob/main/Testing_lambda_function_locally_project.ipynb\" target=\"_parent\"><img src=\"https://colab.research.google.com/assets/colab-badge.svg\" alt=\"Open In Colab\"/></a>"
      ]
    },
    {
      "cell_type": "markdown",
      "source": [
        "# Testing the lambda function code locally"
      ],
      "metadata": {
        "id": "OLyJadlYUQ30"
      }
    },
    {
      "cell_type": "markdown",
      "source": [
        "#### Installing the boto3 module"
      ],
      "metadata": {
        "id": "Lp_pqsGbvmDb"
      }
    },
    {
      "cell_type": "code",
      "source": [
        "!pip install boto3"
      ],
      "metadata": {
        "id": "jHUliNAyWlej",
        "outputId": "c15e729a-ef74-469b-ca73-6d09b8751932",
        "colab": {
          "base_uri": "https://localhost:8080/"
        }
      },
      "execution_count": 1,
      "outputs": [
        {
          "output_type": "stream",
          "name": "stdout",
          "text": [
            "Collecting boto3\n",
            "  Downloading boto3-1.34.64-py3-none-any.whl (139 kB)\n",
            "\u001b[2K     \u001b[90m━━━━━━━━━━━━━━━━━━━━━━━━━━━━━━━━━━━━━━━━\u001b[0m \u001b[32m139.3/139.3 kB\u001b[0m \u001b[31m2.4 MB/s\u001b[0m eta \u001b[36m0:00:00\u001b[0m\n",
            "\u001b[?25hCollecting botocore<1.35.0,>=1.34.64 (from boto3)\n",
            "  Downloading botocore-1.34.64-py3-none-any.whl (12.0 MB)\n",
            "\u001b[2K     \u001b[90m━━━━━━━━━━━━━━━━━━━━━━━━━━━━━━━━━━━━━━━━\u001b[0m \u001b[32m12.0/12.0 MB\u001b[0m \u001b[31m15.7 MB/s\u001b[0m eta \u001b[36m0:00:00\u001b[0m\n",
            "\u001b[?25hCollecting jmespath<2.0.0,>=0.7.1 (from boto3)\n",
            "  Downloading jmespath-1.0.1-py3-none-any.whl (20 kB)\n",
            "Collecting s3transfer<0.11.0,>=0.10.0 (from boto3)\n",
            "  Downloading s3transfer-0.10.1-py3-none-any.whl (82 kB)\n",
            "\u001b[2K     \u001b[90m━━━━━━━━━━━━━━━━━━━━━━━━━━━━━━━━━━━━━━━━\u001b[0m \u001b[32m82.2/82.2 kB\u001b[0m \u001b[31m4.6 MB/s\u001b[0m eta \u001b[36m0:00:00\u001b[0m\n",
            "\u001b[?25hRequirement already satisfied: python-dateutil<3.0.0,>=2.1 in /usr/local/lib/python3.10/dist-packages (from botocore<1.35.0,>=1.34.64->boto3) (2.8.2)\n",
            "Requirement already satisfied: urllib3!=2.2.0,<3,>=1.25.4 in /usr/local/lib/python3.10/dist-packages (from botocore<1.35.0,>=1.34.64->boto3) (2.0.7)\n",
            "Requirement already satisfied: six>=1.5 in /usr/local/lib/python3.10/dist-packages (from python-dateutil<3.0.0,>=2.1->botocore<1.35.0,>=1.34.64->boto3) (1.16.0)\n",
            "Installing collected packages: jmespath, botocore, s3transfer, boto3\n",
            "Successfully installed boto3-1.34.64 botocore-1.34.64 jmespath-1.0.1 s3transfer-0.10.1\n"
          ]
        }
      ]
    },
    {
      "cell_type": "markdown",
      "source": [
        "#### Importing the required modules"
      ],
      "metadata": {
        "id": "4gM7EEsUzj-_"
      }
    },
    {
      "cell_type": "code",
      "source": [
        "import pandas as pd\n",
        "import io\n",
        "import os\n",
        "import json\n",
        "import csv\n",
        "import boto3\n",
        "from IPython.display import clear_output"
      ],
      "metadata": {
        "id": "Abl1RGEDzjKj"
      },
      "execution_count": 2,
      "outputs": []
    },
    {
      "cell_type": "markdown",
      "source": [
        "#### Saving an access key and a secret key in an environment variable\n",
        "---"
      ],
      "metadata": {
        "id": "EZhg5WXdW8na"
      }
    },
    {
      "cell_type": "code",
      "execution_count": 3,
      "metadata": {
        "id": "0V-74wDUUCiC"
      },
      "outputs": [],
      "source": [
        "def set_environment_variable_values():\n",
        "  ACCESS_KEY = input(\"Please enter the AWS access key: \")\n",
        "  SECRET_ACCESS_KEY = input(\"Please enter the AWS secret access key: \")\n",
        "  BUCKET_NAME = input(\"Please enter the name of the bucket in S3: \")\n",
        "  os.environ['ACCESS_KEY'] = ACCESS_KEY\n",
        "  os.environ['SECRET_ACCESS_KEY'] = SECRET_ACCESS_KEY\n",
        "  os.environ['BUCKET_NAME'] = BUCKET_NAME\n",
        "  clear_output()\n",
        "  return None\n",
        "\n",
        "set_environment_variable_values()"
      ]
    },
    {
      "cell_type": "markdown",
      "source": [
        "#### Creating a connection to the S3 bucket\n",
        "---"
      ],
      "metadata": {
        "id": "EyLPbMMlTe63"
      }
    },
    {
      "cell_type": "code",
      "source": [
        "def get_S3_client():\n",
        "\tresource = boto3.client(\n",
        "     \"s3\",\n",
        "\t\taws_access_key_id = os.environ.get('ACCESS_KEY'),\n",
        "\t\taws_secret_access_key = os.environ.get('SECRET_ACCESS_KEY')\n",
        "\t)\n",
        "\treturn resource\n",
        "\n",
        "s3_client = get_S3_client()"
      ],
      "metadata": {
        "id": "xm0Hz9JEUwxE"
      },
      "execution_count": 4,
      "outputs": []
    },
    {
      "cell_type": "markdown",
      "source": [
        "#### Defining show_schools_data_in_bucket(client, filename) function\n",
        "---\n",
        "Some adjustments were made so that the function could be tested locally. Some original Lambda code lines are hashed out and replacement lines above it were added. In one case, the original Lamda code lines were commented out and no replacement code lines were added."
      ],
      "metadata": {
        "id": "5L3F6bV9iVJj"
      }
    },
    {
      "cell_type": "code",
      "source": [
        "def show_schools_data_in_bucket(client, filename):\n",
        "    try:\n",
        "        s3_client = client\n",
        "        # s3_client = boto3.client('s3')\n",
        "        s3 = boto3.resource('s3')\n",
        "        bucket = s3.Bucket(os.environ.get(\"BUCKET_NAME\"))\n",
        "\n",
        "        obj = s3_client.get_object(Bucket=os.environ.get(\"BUCKET_NAME\"), Key=filename)\n",
        "        data = obj['Body'].read().decode('utf-8').splitlines()\n",
        "        records = csv.reader(data)\n",
        "        data_array =[]\n",
        "        for row in records:\n",
        "            data_array.append(row)\n",
        "        return \"The data has been found\", data_array\n",
        "    except Exception as e:\n",
        "      if str(e) == 'An error occurred (NoSuchKey) when calling the GetObject operation: The specified key does not exist.':\n",
        "    # except botocore.exceptions.ClientError as e:\n",
        "      #  if e.response[\"Error\"][\"Code\"] == \"NoSuchKey\":\n",
        "        return \"There is no such file\", []\n",
        "      else:\n",
        "        # return e.response[\"Error\"][\"Code\"], []\n",
        "        return str(e), []\n",
        "    # except:\n",
        "      #  return \"There was an error\", []"
      ],
      "metadata": {
        "id": "GSioYClSadZf"
      },
      "execution_count": 9,
      "outputs": []
    },
    {
      "cell_type": "markdown",
      "source": [
        "#### Defining add_school_data_to_bucket(client, filename, filedata) function to test a POST request locally\n",
        "---\n",
        "Some adjustments were made so that the function could be tested locally. Some original Lambda code lines were hashed out and replacement lines were added."
      ],
      "metadata": {
        "id": "iuSpC7Cl0_mG"
      }
    },
    {
      "cell_type": "code",
      "source": [
        "def add_school_data_to_bucket(client, filename, filedata):\n",
        "    try:\n",
        "        s3_client = client # added\n",
        "        #s3_client = boto3.client('s3')\n",
        "        s3 = boto3.resource('s3')\n",
        "        bucket = s3.Bucket(os.environ.get(\"BUCKET_NAME\"))\n",
        "        obj = s3_client.get_object(Bucket=os.environ.get(\"BUCKET_NAME\"), Key=filename)\n",
        "        data = obj['Body'].read().decode('utf-8').splitlines()\n",
        "        records = csv.reader(data)\n",
        "        names_array = []\n",
        "        # with open('/tmp/schools_list.csv', 'w', newline='') as f:\n",
        "        for row in records:\n",
        "          names_array.append(row[0])\n",
        "          # writer = csv.writer(f)\n",
        "          # writer.writerow(row)\n",
        "        new_data_rows = []\n",
        "        # with open('/tmp/schools_list.csv', 'a', newline='') as f:\n",
        "        for i in filedata:\n",
        "          if i[0] not in names_array:\n",
        "            new_data_rows.append(i)\n",
        "          # writer = csv.writer(f)\n",
        "          # writer.writerow(i)\n",
        "        if len(new_data_rows) == 0:\n",
        "            return \"These schools are already in a file\", []\n",
        "        else:\n",
        "            # bucket.upload_file('/tmp/schools_list.csv', filename)\n",
        "            data_array =[]                   # added\n",
        "            for row in records:              # added\n",
        "              data_array.append(row)         # added\n",
        "            data_array+=new_data_rows        # added\n",
        "            file_object =  io.StringIO()     # added\n",
        "            pd.DataFrame(data_array).to_csv(file_object, index=False) # added\n",
        "            response = s3_client.put_object(Bucket=os.environ.get('BUCKET_NAME'), Body=file_object.getvalue(), Key=filename) # added\n",
        "            return \"New data been successfully added\", new_data_rows\n",
        "    except Exception as e:\n",
        "      if str(e) == 'An error occurred (NoSuchKey) when calling the GetObject operation: The specified key does not exist.':   # added\n",
        "    # except botocore.exceptions.ClientError as e:\n",
        "     #   if e.response[\"Error\"][\"Code\"] == \"NoSuchKey\":\n",
        "        headers = [\"Name\", 'Latitude', 'Longitude']\n",
        "        with open('/tmp/schools_list.csv', 'w', newline='') as f:\n",
        "            writer = csv.writer(f)\n",
        "            writer.writerow(headers)\n",
        "            for row in filedata:\n",
        "                writer.writerow(row)\n",
        "        bucket.upload_file('/tmp/schools_list.csv', filename)\n",
        "        return \"New file been successfully created\", filedata\n",
        "      else:\n",
        "        return str(e), []\n",
        "         # return e.response[\"Error\"][\"Code\"], []"
      ],
      "metadata": {
        "id": "rTKg4sIJgltK"
      },
      "execution_count": 20,
      "outputs": []
    },
    {
      "cell_type": "markdown",
      "source": [
        "#### Defining the lambda_handler(event, context) function from AWS Lambda with some minor edits\n",
        "---"
      ],
      "metadata": {
        "id": "CJFauBtp0oty"
      }
    },
    {
      "cell_type": "code",
      "source": [
        "def lambda_handler(event, context):\n",
        "    try:\n",
        "        filename = \"schools_list.csv\"\n",
        "        # client = boto3.client('s3')\n",
        "        client = s3_client\n",
        "        if event[\"httpMethod\"] == \"POST\":\n",
        "            if \"body\" in event.keys():\n",
        "                request = event[\"body\"]\n",
        "                if type(request) is not dict:\n",
        "                    request = json.loads(request)\n",
        "                if request is not None and \"data\" in request.keys():\n",
        "                    '''if there is no data return a message and an empty list '''\n",
        "                    data = request[\"data\"]\n",
        "                    if len(data) == 0:\n",
        "                        message, return_data = \"Please enter a valid data\", []\n",
        "                        statuscode = 404\n",
        "                    else:\n",
        "                        message, return_data = add_school_data_to_bucket(client, filename, data)\n",
        "                        statuscode = 200\n",
        "                else:\n",
        "                    message, return_data = \"Error in the POST request occured\", []\n",
        "                    statuscode = 404\n",
        "        elif event[\"httpMethod\"] == \"GET\":\n",
        "            message, return_data = show_schools_data_in_bucket(client, filename)\n",
        "            message=\"Success\"\n",
        "            statuscode = 200\n",
        "        else:\n",
        "            message, return_data = \"Error occured\", []\n",
        "            statuscode = 404\n",
        "        return {'statusCode': statuscode,\n",
        "                'headers': {'Content-Type': 'application/json',\n",
        "                            'Access-Control-Allow-Headers': 'Content-Type,X-Api-Key',\n",
        "                            'Access-Control-Allow-Methods': 'POST',\n",
        "                            'Access-Control-Allow-Origin': '*'},\n",
        "                #'body': json.dumps({\"message\": message, \"data\": return_data})\n",
        "                'body': {\"message\": message, \"data\": return_data}\n",
        "                }\n",
        "    except:\n",
        "        return {'statusCode': 404,\n",
        "                'headers': {'Content-Type': 'application/json',\n",
        "                            'Access-Control-Allow-Headers': 'Content-Type,X-Api-Key',\n",
        "                            'Access-Control-Allow-Methods': 'POST',\n",
        "                            'Access-Control-Allow-Origin': '*'},\n",
        "                # 'body': json.dumps({\"message\": \"There was an error\", \"data\": []})\n",
        "                'body': {\"message\": \"There was an error\", \"data\": []}\n",
        "                }"
      ],
      "metadata": {
        "id": "Oj6evqAAwFOj"
      },
      "execution_count": 17,
      "outputs": []
    },
    {
      "cell_type": "markdown",
      "source": [
        "#### Testing the lambda_handler(event, context) function using POST method\n",
        "---\n",
        "When POST method is used in the test, we check if the lambda_handler(event, context) function works locally using the save_a_copy(filedata, filename) function.\n",
        "\n",
        "Expected output:\n",
        "'test1 passed'"
      ],
      "metadata": {
        "id": "5f2RcujlZ2Tn"
      }
    },
    {
      "cell_type": "code",
      "source": [
        "event1 = {\n",
        "    \"httpMethod\": \"POST\",\n",
        "    \"body\": {\n",
        "    \"data\": [\n",
        "        [\n",
        "            \"Bannockburn Primary School & Nursery\",\n",
        "            51.4869172,\n",
        "            0.1015561\n",
        "        ],\n",
        "        [\n",
        "            \"St Margaret Clitherow Primary School\",\n",
        "            51.50103289999999,\n",
        "            0.1132992\n",
        "        ]\n",
        "    ]\n",
        "}\n",
        "}\n",
        "test1 = lambda_handler(event1, None)\n",
        "if test1['statusCode'] == 200:\n",
        "  print('test1 passed')\n",
        "else:\n",
        "  print('test1 failed')\n",
        "print(test1)"
      ],
      "metadata": {
        "id": "hMbmalEDzva8",
        "colab": {
          "base_uri": "https://localhost:8080/"
        },
        "outputId": "0bf1b9f1-e8bb-4d54-9027-29e15b5ff592"
      },
      "execution_count": 21,
      "outputs": [
        {
          "output_type": "stream",
          "name": "stdout",
          "text": [
            "test1 passed\n",
            "{'statusCode': 200, 'headers': {'Content-Type': 'application/json', 'Access-Control-Allow-Headers': 'Content-Type,X-Api-Key', 'Access-Control-Allow-Methods': 'POST', 'Access-Control-Allow-Origin': '*'}, 'body': {'message': 'These schools are already in a file', 'data': []}}\n"
          ]
        }
      ]
    },
    {
      "cell_type": "markdown",
      "source": [
        "#### Testing the lambda_handler(event, context) function using GET method\n",
        "---\n",
        "When GET method is used in the test, check if the lambda_handler(event,context) function works locally using the get_file(filename) function.\n",
        "\n",
        "Expected output: 'test2 passed'"
      ],
      "metadata": {
        "id": "wmT8NJCcaffM"
      }
    },
    {
      "cell_type": "code",
      "source": [
        "event2 = {\n",
        "    \"httpMethod\": \"GET\"\n",
        "}\n",
        "\n",
        "test2 = lambda_handler(event2, None)\n",
        "if test2['statusCode'] == 200:\n",
        "  print('test2 passed')\n",
        "else:\n",
        "  print('test2 failed')\n",
        "print(test2)"
      ],
      "metadata": {
        "id": "r_b6gWguU0zJ",
        "outputId": "c649f95d-38b1-47ca-9928-e0d29d667410",
        "colab": {
          "base_uri": "https://localhost:8080/"
        }
      },
      "execution_count": 19,
      "outputs": [
        {
          "output_type": "stream",
          "name": "stdout",
          "text": [
            "test2 passed\n",
            "{'statusCode': 200, 'headers': {'Content-Type': 'application/json', 'Access-Control-Allow-Headers': 'Content-Type,X-Api-Key', 'Access-Control-Allow-Methods': 'POST', 'Access-Control-Allow-Origin': '*'}, 'body': {'message': 'Success', 'data': [['0', '1', '2'], ['Bannockburn Primary School & Nursery', '51.4869172', '0.1015561'], ['St Margaret Clitherow Primary School', '51.50103289999999', '0.1132992']]}}\n"
          ]
        }
      ]
    },
    {
      "cell_type": "markdown",
      "source": [],
      "metadata": {
        "id": "awumPUq9MOkC"
      }
    },
    {
      "cell_type": "markdown",
      "source": [
        "#### Testing if lambda_handler(event,context) function fails gracefully if the httpMethod is not POST or GET"
      ],
      "metadata": {
        "id": "7ZkYAcODMWM0"
      }
    },
    {
      "cell_type": "code",
      "source": [
        "event3 = {\"httpMethod\": \"DELETE\"}\n",
        "test3 = lambda_handler(event3, None)\n",
        "if test3['body']['message'] == 'Error occured':\n",
        "  print('test3 passed')\n",
        "else:\n",
        "  print('test3 failed')"
      ],
      "metadata": {
        "colab": {
          "base_uri": "https://localhost:8080/"
        },
        "id": "bV9oAUfXLQKZ",
        "outputId": "7cbc98e0-6aa2-4c17-9209-fc24805d182b"
      },
      "execution_count": null,
      "outputs": [
        {
          "output_type": "stream",
          "name": "stdout",
          "text": [
            "test3 passed\n"
          ]
        }
      ]
    },
    {
      "cell_type": "code",
      "source": [
        "event4 = {\n",
        "    \"httpMethod\": \"POST\",\n",
        "    \"body\": \"\"\n",
        "}\n",
        "test4 = lambda_handler(event4, None)\n",
        "if test4['statusCode'] == 404:\n",
        "  print('test4 passed')\n",
        "else:\n",
        "  print('test4 failed')"
      ],
      "metadata": {
        "colab": {
          "base_uri": "https://localhost:8080/"
        },
        "id": "XP1SHsIuNNV5",
        "outputId": "ec887f28-e459-4580-f1a8-77955a0c7091"
      },
      "execution_count": null,
      "outputs": [
        {
          "output_type": "stream",
          "name": "stdout",
          "text": [
            "test4 passed\n"
          ]
        }
      ]
    },
    {
      "cell_type": "code",
      "source": [
        "event5 = {\n",
        "    \"httpMethod\": \"POST\",\n",
        "    \"body\": {\n",
        "    \"data\": []\n",
        "}\n",
        "}\n",
        "test5 = lambda_handler(event5, None)\n",
        "if test5['statusCode'] == 404:\n",
        "  print('test5 passed')\n",
        "else:\n",
        "  print('test5 failed')"
      ],
      "metadata": {
        "id": "BQ5Ms04GTz6h",
        "outputId": "83e275fd-7409-4e2d-ff58-3ce1225096eb",
        "colab": {
          "base_uri": "https://localhost:8080/"
        }
      },
      "execution_count": null,
      "outputs": [
        {
          "output_type": "stream",
          "name": "stdout",
          "text": [
            "test5 passed\n"
          ]
        }
      ]
    },
    {
      "cell_type": "code",
      "source": [
        "event6 = {\n",
        "    \"httpMethod\": \"POST\",\n",
        "    \"body\": {\n",
        "    \"data\": \"\"\n",
        "}\n",
        "}\n",
        "test6 = lambda_handler(event6, None)\n",
        "if test6['statusCode'] == 404:\n",
        "  print('test6 passed')\n",
        "else:\n",
        "  print('test6 failed')"
      ],
      "metadata": {
        "id": "GxxH7sRBUTKY",
        "outputId": "f33a63a3-3985-4168-c19f-a189653f44a1",
        "colab": {
          "base_uri": "https://localhost:8080/"
        }
      },
      "execution_count": null,
      "outputs": [
        {
          "output_type": "stream",
          "name": "stdout",
          "text": [
            "test6 passed\n"
          ]
        }
      ]
    },
    {
      "cell_type": "code",
      "source": [
        "event7 = {\n",
        "    \"httpMethod\": \"POST\",\n",
        "    \"body\": {\n",
        "    \"data\": 1\n",
        "}\n",
        "}\n",
        "test7 = lambda_handler(event7, None)\n",
        "if test7['statusCode'] == 404:\n",
        "  print('test7 passed')\n",
        "else:\n",
        "  print('test7 failed')"
      ],
      "metadata": {
        "id": "AQkIigNxUmyd",
        "outputId": "91d52dbc-8ceb-4e1c-ed47-68182f7d6568",
        "colab": {
          "base_uri": "https://localhost:8080/"
        }
      },
      "execution_count": null,
      "outputs": [
        {
          "output_type": "stream",
          "name": "stdout",
          "text": [
            "test7 passed\n"
          ]
        }
      ]
    },
    {
      "cell_type": "code",
      "source": [
        "event8 = {\n",
        "    \"httpMethod\": \"POST\"\n",
        "}\n",
        "test8 = lambda_handler(event8, None)\n",
        "if test8['statusCode'] == 404:\n",
        "  print('test8 passed')\n",
        "else:\n",
        "  print('test8 failed')"
      ],
      "metadata": {
        "id": "NL-xufm8U4UH",
        "outputId": "aa65acb2-18bb-405f-95d2-113b6e6a5e0d",
        "colab": {
          "base_uri": "https://localhost:8080/"
        }
      },
      "execution_count": null,
      "outputs": [
        {
          "output_type": "stream",
          "name": "stdout",
          "text": [
            "test8 passed\n"
          ]
        }
      ]
    },
    {
      "cell_type": "code",
      "source": [
        "event9 = {\n",
        "    \"httpMethod\": \"GET\",\n",
        "    \"body\": 1\n",
        "}\n",
        "test9 = lambda_handler(event9, None)\n",
        "if test9['statusCode'] == 200:\n",
        "  print('test9 passed')\n",
        "else:\n",
        "  print('test9 failed')"
      ],
      "metadata": {
        "id": "KI4BvpKkWmmc",
        "outputId": "22b18197-3a78-44f5-81f6-e019eeb6375c",
        "colab": {
          "base_uri": "https://localhost:8080/"
        }
      },
      "execution_count": null,
      "outputs": [
        {
          "output_type": "stream",
          "name": "stdout",
          "text": [
            "test9 passed\n"
          ]
        }
      ]
    },
    {
      "cell_type": "code",
      "source": [
        "event10 = {\n",
        "    \"httpMethod\": \"GET\",\n",
        "    \"body\": {\"data\":[[1,2,3]]}\n",
        "}\n",
        "test10 = lambda_handler(event10, None)\n",
        "if test10['statusCode'] == 200:\n",
        "  print('test10 passed')\n",
        "else:\n",
        "  print('test10 failed')"
      ],
      "metadata": {
        "id": "bHyDCciPW7gW",
        "outputId": "8746eac1-73b1-4207-d62a-8e4d90eb54d5",
        "colab": {
          "base_uri": "https://localhost:8080/"
        }
      },
      "execution_count": null,
      "outputs": [
        {
          "output_type": "stream",
          "name": "stdout",
          "text": [
            "test10 passed\n"
          ]
        },
        {
          "output_type": "execute_result",
          "data": {
            "text/plain": [
              "{'statusCode': 200,\n",
              " 'headers': {'Content-Type': 'application/json',\n",
              "  'Access-Control-Allow-Headers': 'Content-Type,X-Api-Key',\n",
              "  'Access-Control-Allow-Methods': 'POST',\n",
              "  'Access-Control-Allow-Origin': '*'},\n",
              " 'body': {'message': 'Success',\n",
              "  'data':         0\n",
              "  0  school\n",
              "  1       1}}"
            ]
          },
          "metadata": {},
          "execution_count": 103
        }
      ]
    }
  ]
}