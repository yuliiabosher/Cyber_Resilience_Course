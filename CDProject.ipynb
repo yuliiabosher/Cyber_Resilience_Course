{
  "nbformat": 4,
  "nbformat_minor": 0,
  "metadata": {
    "colab": {
      "provenance": [],
      "include_colab_link": true
    },
    "kernelspec": {
      "name": "python3",
      "display_name": "Python 3"
    },
    "language_info": {
      "name": "python"
    }
  },
  "cells": [
    {
      "cell_type": "markdown",
      "metadata": {
        "id": "view-in-github",
        "colab_type": "text"
      },
      "source": [
        "<a href=\"https://colab.research.google.com/github/yuliiabosher/Cyber_Resilience_Course/blob/main/CDProject.ipynb\" target=\"_parent\"><img src=\"https://colab.research.google.com/assets/colab-badge.svg\" alt=\"Open In Colab\"/></a>"
      ]
    },
    {
      "cell_type": "code",
      "source": [
        "!pip install googlemaps"
      ],
      "metadata": {
        "colab": {
          "base_uri": "https://localhost:8080/"
        },
        "id": "q0_7IZlRtV0X",
        "outputId": "f0721a25-9e11-471d-aa1c-c864bd30ecce"
      },
      "execution_count": 32,
      "outputs": [
        {
          "output_type": "stream",
          "name": "stdout",
          "text": [
            "Requirement already satisfied: googlemaps in /usr/local/lib/python3.10/dist-packages (4.10.0)\n",
            "Requirement already satisfied: requests<3.0,>=2.20.0 in /usr/local/lib/python3.10/dist-packages (from googlemaps) (2.31.0)\n",
            "Requirement already satisfied: charset-normalizer<4,>=2 in /usr/local/lib/python3.10/dist-packages (from requests<3.0,>=2.20.0->googlemaps) (3.3.2)\n",
            "Requirement already satisfied: idna<4,>=2.5 in /usr/local/lib/python3.10/dist-packages (from requests<3.0,>=2.20.0->googlemaps) (3.6)\n",
            "Requirement already satisfied: urllib3<3,>=1.21.1 in /usr/local/lib/python3.10/dist-packages (from requests<3.0,>=2.20.0->googlemaps) (2.0.7)\n",
            "Requirement already satisfied: certifi>=2017.4.17 in /usr/local/lib/python3.10/dist-packages (from requests<3.0,>=2.20.0->googlemaps) (2024.2.2)\n"
          ]
        }
      ]
    },
    {
      "cell_type": "code",
      "source": [
        "import googlemaps\n",
        "import os\n",
        "import requests\n",
        "import json\n",
        "from google.colab import output"
      ],
      "metadata": {
        "id": "Tb5dI1agv663"
      },
      "execution_count": 33,
      "outputs": []
    },
    {
      "cell_type": "code",
      "execution_count": 34,
      "metadata": {
        "id": "cvIEaLPhRGLX"
      },
      "outputs": [],
      "source": [
        "google_key = input(\"Enter the Google maps API key: \")\n",
        "os.environ['GOOGLE_API_KEY'] = google_key\n",
        "output.clear()"
      ]
    },
    {
      "cell_type": "code",
      "source": [
        "gmaps = googlemaps.Client(os.environ.get('GOOGLE_API_KEY'))\n",
        "\n",
        "def get_schools(lat,lon,rad):\n",
        "  school_list=[]\n",
        "  try:\n",
        "    places_result = gmaps.places_nearby(location= f\"{lat},{lon}\", radius = rad, type = \"school\")\n",
        "    for place in places_result['results']:\n",
        "      school_name= place['name']\n",
        "      school_location_lat= place['geometry']['location']['lat']\n",
        "      school_location_lng= place['geometry']['location']['lng']\n",
        "      print(f\"{school_name}, {school_location_lat},{school_location_lng}\")\n",
        "      school_list.append([school_name, school_location_lat,school_location_lng])\n",
        "    return school_list\n",
        "  except Exception as e:\n",
        "    print(\"Error: \" + str(e))\n",
        "result = get_schools(54.966667, -1.600000,20000)"
      ],
      "metadata": {
        "colab": {
          "base_uri": "https://localhost:8080/"
        },
        "id": "9PhprQYOVatk",
        "outputId": "cd58c021-c50a-4dab-8597-2d1942a5cb25"
      },
      "execution_count": 40,
      "outputs": [
        {
          "output_type": "stream",
          "name": "stdout",
          "text": [
            "Harton Academy, 54.97601519999999,-1.4064828\n",
            "Jesmond Park Academy, 54.9939443,-1.588097\n",
            "make a wish, 54.9762162,-1.6383755\n",
            "Richard Coates C Of E Primary School, 55.0523247,-1.7459373\n",
            "Saint James Roman Catholic V.A. Primary School, 54.967381,-1.5089456\n",
            "Gateshead College, 54.96657199999999,-1.5981311\n",
            "Jesmond Pool & Gym, 54.99409919999999,-1.6061812\n",
            "Royal Grammar School Newcastle, 54.9831764,-1.6073674\n",
            "Excelsior Academy, 54.9748828,-1.6905524\n",
            "St Aidan's Catholic Academy, 54.89307749999999,-1.3883967\n",
            "Dame Allan's Schools, 54.98253940000001,-1.6524177\n",
            "Riverside Primary Academy, 54.9564501,-1.6441569\n",
            "Cramlington Learning Village, 55.07585989999999,-1.5933104\n",
            "John Spence Community High School, 55.02233369999999,-1.4514443\n",
            "Barnes Infant Academy, 54.89707540000001,-1.4094252\n",
            "Ebchester C of E Primary School, 54.89326860000001,-1.8392587\n",
            "St. Bede's Catholic School & Sixth Form College, 54.8283727,-1.7477169\n",
            "North Gosforth Academy, 55.05801739999999,-1.6193522\n",
            "Stephenson Memorial Primary School, 54.9963664,-1.496553\n",
            "JFS2000 Ltd, 54.9029082,-1.5537953\n"
          ]
        }
      ]
    },
    {
      "cell_type": "code",
      "source": [
        "aws_key = input(\"Enter the AWS API key: \")\n",
        "os.environ['AWS_API_KEY'] = aws_key\n",
        "output.clear()"
      ],
      "metadata": {
        "id": "nNBoK3vpu5IP"
      },
      "execution_count": 41,
      "outputs": []
    },
    {
      "cell_type": "code",
      "source": [
        "url = \"https://a595c6ya39.execute-api.eu-west-2.amazonaws.com/default/myPythonProjectFunc\"\n",
        "\n",
        "payload = json.dumps({\n",
        "  \"data\": result\n",
        "})\n",
        "headers = {\n",
        "  'Content-Type': 'application/json',\n",
        "  'x-api-key': os.environ.get('AWS_API_KEY')\n",
        "}\n",
        "\n",
        "response = requests.request(\"POST\", url, headers=headers, data=payload)\n",
        "\n",
        "print(response.text)"
      ],
      "metadata": {
        "id": "8tQNDdT6lg1B",
        "colab": {
          "base_uri": "https://localhost:8080/"
        },
        "outputId": "663cb84f-d0a3-46cb-e2a9-8571042c707b"
      },
      "execution_count": 42,
      "outputs": [
        {
          "output_type": "stream",
          "name": "stdout",
          "text": [
            "{\"message\": \"New data been successfully added\", \"data\": [[\"Harton Academy\", 54.97601519999999, -1.4064828], [\"Jesmond Park Academy\", 54.9939443, -1.588097], [\"make a wish\", 54.9762162, -1.6383755], [\"Richard Coates C Of E Primary School\", 55.0523247, -1.7459373], [\"Saint James Roman Catholic V.A. Primary School\", 54.967381, -1.5089456], [\"Gateshead College\", 54.96657199999999, -1.5981311], [\"Jesmond Pool & Gym\", 54.99409919999999, -1.6061812], [\"Royal Grammar School Newcastle\", 54.9831764, -1.6073674], [\"Excelsior Academy\", 54.9748828, -1.6905524], [\"St Aidan's Catholic Academy\", 54.89307749999999, -1.3883967], [\"Dame Allan's Schools\", 54.98253940000001, -1.6524177], [\"Riverside Primary Academy\", 54.9564501, -1.6441569], [\"Cramlington Learning Village\", 55.07585989999999, -1.5933104], [\"John Spence Community High School\", 55.02233369999999, -1.4514443], [\"Barnes Infant Academy\", 54.89707540000001, -1.4094252], [\"Ebchester C of E Primary School\", 54.89326860000001, -1.8392587], [\"St. Bede's Catholic School & Sixth Form College\", 54.8283727, -1.7477169], [\"North Gosforth Academy\", 55.05801739999999, -1.6193522], [\"Stephenson Memorial Primary School\", 54.9963664, -1.496553], [\"JFS2000 Ltd\", 54.9029082, -1.5537953]]}\n"
          ]
        }
      ]
    }
  ]
}