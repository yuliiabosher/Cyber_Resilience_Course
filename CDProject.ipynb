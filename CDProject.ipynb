{
  "nbformat": 4,
  "nbformat_minor": 0,
  "metadata": {
    "colab": {
      "provenance": [],
      "include_colab_link": true
    },
    "kernelspec": {
      "name": "python3",
      "display_name": "Python 3"
    },
    "language_info": {
      "name": "python"
    }
  },
  "cells": [
    {
      "cell_type": "markdown",
      "metadata": {
        "id": "view-in-github",
        "colab_type": "text"
      },
      "source": [
        "<a href=\"https://colab.research.google.com/github/yuliiabosher/Cyber_Resilience_Course/blob/main/CDProject.ipynb\" target=\"_parent\"><img src=\"https://colab.research.google.com/assets/colab-badge.svg\" alt=\"Open In Colab\"/></a>"
      ]
    },
    {
      "cell_type": "code",
      "source": [
        "#aditional functions for Googgle maps API\n"
      ],
      "metadata": {
        "id": "0TJphfI-VZae"
      },
      "execution_count": null,
      "outputs": []
    },
    {
      "cell_type": "code",
      "execution_count": null,
      "metadata": {
        "id": "cvIEaLPhRGLX"
      },
      "outputs": [],
      "source": [
        "import os\n",
        "from google.colab import output\n",
        "\n",
        "key = input(\"Enter the API key: \")\n",
        "os.environ['API_KEY'] = key\n",
        "output.clear()"
      ]
    },
    {
      "cell_type": "code",
      "source": [
        "!pip install googlemaps\n",
        "import googlemaps\n",
        "\n",
        "gmaps = googlemaps.Client(os.environ.get('API_KEY'))\n",
        "\n",
        "def get_schools(lat,lon,rad):\n",
        "  school_list=[]\n",
        "  try:\n",
        "    places_result  = gmaps.places_nearby(location= f\"{lat},{lon}\", radius = rad, type = \"school\")\n",
        "    for place in places_result['results']:\n",
        "      school_name= place['name']\n",
        "      school_location_lat= place['geometry']['location']['lat']\n",
        "      school_location_lng= place['geometry']['location']['lng']\n",
        "      print(f\"{school_name}, {school_location_lat},{school_location_lng}\")\n",
        "      school_list.append([school_name, school_location_lat,school_location_lng])\n",
        "    return school_list\n",
        "  except Exception as e:\n",
        "    print(\"Error: \" + str(e))\n",
        "result= get_schools(51.5072, 0.1276,5000)"
      ],
      "metadata": {
        "colab": {
          "base_uri": "https://localhost:8080/"
        },
        "id": "9PhprQYOVatk",
        "outputId": "f87cfc36-fc27-4b22-b6e4-baef910e5cf2"
      },
      "execution_count": null,
      "outputs": [
        {
          "output_type": "stream",
          "name": "stdout",
          "text": [
            "Requirement already satisfied: googlemaps in /usr/local/lib/python3.10/dist-packages (4.10.0)\n",
            "Requirement already satisfied: requests<3.0,>=2.20.0 in /usr/local/lib/python3.10/dist-packages (from googlemaps) (2.31.0)\n",
            "Requirement already satisfied: charset-normalizer<4,>=2 in /usr/local/lib/python3.10/dist-packages (from requests<3.0,>=2.20.0->googlemaps) (3.3.2)\n",
            "Requirement already satisfied: idna<4,>=2.5 in /usr/local/lib/python3.10/dist-packages (from requests<3.0,>=2.20.0->googlemaps) (3.6)\n",
            "Requirement already satisfied: urllib3<3,>=1.21.1 in /usr/local/lib/python3.10/dist-packages (from requests<3.0,>=2.20.0->googlemaps) (2.0.7)\n",
            "Requirement already satisfied: certifi>=2017.4.17 in /usr/local/lib/python3.10/dist-packages (from requests<3.0,>=2.20.0->googlemaps) (2024.2.2)\n",
            "Bannockburn Primary School & Nursery, 51.4869172,0.1015561\n",
            "St Margaret Clitherow Primary School, 51.50103289999999,0.1132992\n",
            "Parkway Primary School, 51.49280040000001,0.1341053\n",
            "St Michael's East Wickham C of E Primary School, 51.46934,0.119751\n",
            "Jo Richardson Community School, 51.53407139999999,0.1262779\n",
            "Woolwich Polytechnic School for Boys, 51.5037284,0.1081882\n",
            "Eastbury Community School, 51.5415693,0.09116149999999999\n",
            "King Henry School, 51.47343300000001,0.166117\n",
            "Sydney Russell School, 51.5486205,0.1331252\n",
            "Langdon Academy, 51.53266139999999,0.0684394\n",
            "The Garard Academy Bexley Primary Section, 51.49388949999999,0.1392432\n",
            "Chestnut Tree Day Nursery, 51.4835246,0.1472878\n",
            "St Paul's Academy, 51.49267829999999,0.1044459\n",
            "Happi Feet Nursery, 51.4845967,0.1547493\n",
            "BG Homework Club, 51.5099169,0.1171594\n",
            "A B C Pre School, 51.5319735,0.1467639\n",
            "Foxhouse, 51.48538139999999,0.1575613\n",
            "Pulse & Water Learning, 51.4936864,0.1102897\n",
            "Bishop John Robinson Primary School, 51.5082391,0.1184551\n",
            "Kumon Maths & English, 51.50782019999999,0.1086709\n"
          ]
        }
      ]
    },
    {
      "cell_type": "code",
      "source": [
        "#Function that will save the list as txt.file ans send it to the bucket (aws)"
      ],
      "metadata": {
        "id": "1QmDJshRVsjI"
      },
      "execution_count": null,
      "outputs": []
    },
    {
      "cell_type": "code",
      "source": [
        "#create txt file fnction\n",
        "import csv\n",
        "from os.path import exists\n",
        "def create_file(array):\n",
        "  try:\n",
        "    file_exists = exists(\"/content/school_list.csv\")\n",
        "    if file_exists:\n",
        "      school_name=[]\n",
        "      with open(\"school_list.csv\") as file:\n",
        "        reader=csv.reader(file)\n",
        "        for row in reader:\n",
        "          school_name.append(row[0])\n",
        "      with open(\"school_list.csv\",\"a\") as file:\n",
        "        writer=csv.writer(file)\n",
        "        for i in array:\n",
        "          if i[0] not in school_name:\n",
        "           writer.writerow(i)\n",
        "      return \"File edited successfully\"\n",
        "    else:\n",
        "      with open(\"school_list.csv\",\"w\") as file:\n",
        "        writer=csv.writer(file)\n",
        "        writer.writerow([\"School Name\", \"School Longitude\",\"School Lattitude\"])\n",
        "        for i in array:\n",
        "           writer.writerow(i)\n",
        "      return \"File created successfully\"\n",
        "  except Exception as e:\n",
        "    return \"Error: \" + str(e)\n",
        "create_file(result)"
      ],
      "metadata": {
        "colab": {
          "base_uri": "https://localhost:8080/",
          "height": 36
        },
        "id": "2WdGYoIYHo2E",
        "outputId": "bec982e6-c771-49f1-e33e-e69a3978a399"
      },
      "execution_count": null,
      "outputs": [
        {
          "output_type": "execute_result",
          "data": {
            "text/plain": [
              "'File edited successfully'"
            ],
            "application/vnd.google.colaboratory.intrinsic+json": {
              "type": "string"
            }
          },
          "metadata": {},
          "execution_count": 28
        }
      ]
    },
    {
      "cell_type": "code",
      "source": [
        "#function that will send the list to the bucket"
      ],
      "metadata": {
        "id": "widgRi_7WXxL"
      },
      "execution_count": null,
      "outputs": []
    },
    {
      "cell_type": "code",
      "source": [],
      "metadata": {
        "id": "8tQNDdT6lg1B"
      },
      "execution_count": null,
      "outputs": []
    }
  ]
}