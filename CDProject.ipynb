{
  "nbformat": 4,
  "nbformat_minor": 0,
  "metadata": {
    "colab": {
      "provenance": [],
      "include_colab_link": true
    },
    "kernelspec": {
      "name": "python3",
      "display_name": "Python 3"
    },
    "language_info": {
      "name": "python"
    }
  },
  "cells": [
    {
      "cell_type": "markdown",
      "metadata": {
        "id": "view-in-github",
        "colab_type": "text"
      },
      "source": [
        "<a href=\"https://colab.research.google.com/github/yuliiabosher/Cyber_Resilience_Course/blob/main/CDProject.ipynb\" target=\"_parent\"><img src=\"https://colab.research.google.com/assets/colab-badge.svg\" alt=\"Open In Colab\"/></a>"
      ]
    },
    {
      "cell_type": "code",
      "source": [
        "!pip install googlemaps"
      ],
      "metadata": {
        "id": "q0_7IZlRtV0X",
        "outputId": "d1cc7234-a016-471e-9cbf-d1df9327d8a9",
        "colab": {
          "base_uri": "https://localhost:8080/"
        }
      },
      "execution_count": 7,
      "outputs": [
        {
          "output_type": "stream",
          "name": "stdout",
          "text": [
            "Requirement already satisfied: googlemaps in /usr/local/lib/python3.10/dist-packages (4.10.0)\n",
            "Requirement already satisfied: requests<3.0,>=2.20.0 in /usr/local/lib/python3.10/dist-packages (from googlemaps) (2.31.0)\n",
            "Requirement already satisfied: charset-normalizer<4,>=2 in /usr/local/lib/python3.10/dist-packages (from requests<3.0,>=2.20.0->googlemaps) (3.3.2)\n",
            "Requirement already satisfied: idna<4,>=2.5 in /usr/local/lib/python3.10/dist-packages (from requests<3.0,>=2.20.0->googlemaps) (3.6)\n",
            "Requirement already satisfied: urllib3<3,>=1.21.1 in /usr/local/lib/python3.10/dist-packages (from requests<3.0,>=2.20.0->googlemaps) (2.0.7)\n",
            "Requirement already satisfied: certifi>=2017.4.17 in /usr/local/lib/python3.10/dist-packages (from requests<3.0,>=2.20.0->googlemaps) (2024.2.2)\n"
          ]
        }
      ]
    },
    {
      "cell_type": "code",
      "source": [
        "import googlemaps\n",
        "import os\n",
        "import requests\n",
        "import json\n",
        "from google.colab import output"
      ],
      "metadata": {
        "id": "Tb5dI1agv663"
      },
      "execution_count": 14,
      "outputs": []
    },
    {
      "cell_type": "code",
      "execution_count": 13,
      "metadata": {
        "id": "cvIEaLPhRGLX",
        "outputId": "aeca7fd0-2c54-45a6-bec8-9ab43d33fc64",
        "colab": {
          "base_uri": "https://localhost:8080/",
          "height": 356
        }
      },
      "outputs": [
        {
          "output_type": "error",
          "ename": "KeyboardInterrupt",
          "evalue": "Interrupted by user",
          "traceback": [
            "\u001b[0;31m---------------------------------------------------------------------------\u001b[0m",
            "\u001b[0;31mKeyboardInterrupt\u001b[0m                         Traceback (most recent call last)",
            "\u001b[0;32m<ipython-input-13-38eb9fda3f4e>\u001b[0m in \u001b[0;36m<cell line: 7>\u001b[0;34m()\u001b[0m\n\u001b[1;32m      5\u001b[0m \u001b[0;32mfrom\u001b[0m \u001b[0mgoogle\u001b[0m\u001b[0;34m.\u001b[0m\u001b[0mcolab\u001b[0m \u001b[0;32mimport\u001b[0m \u001b[0moutput\u001b[0m\u001b[0;34m\u001b[0m\u001b[0;34m\u001b[0m\u001b[0m\n\u001b[1;32m      6\u001b[0m \u001b[0;34m\u001b[0m\u001b[0m\n\u001b[0;32m----> 7\u001b[0;31m \u001b[0mgoogle_key\u001b[0m \u001b[0;34m=\u001b[0m \u001b[0minput\u001b[0m\u001b[0;34m(\u001b[0m\u001b[0;34m\"Enter the Google maps API key: \"\u001b[0m\u001b[0;34m)\u001b[0m\u001b[0;34m\u001b[0m\u001b[0;34m\u001b[0m\u001b[0m\n\u001b[0m\u001b[1;32m      8\u001b[0m \u001b[0mos\u001b[0m\u001b[0;34m.\u001b[0m\u001b[0menviron\u001b[0m\u001b[0;34m[\u001b[0m\u001b[0;34m'GOOGLE_API_KEY'\u001b[0m\u001b[0;34m]\u001b[0m \u001b[0;34m=\u001b[0m \u001b[0mgoogle_key\u001b[0m\u001b[0;34m\u001b[0m\u001b[0;34m\u001b[0m\u001b[0m\n\u001b[1;32m      9\u001b[0m \u001b[0moutput\u001b[0m\u001b[0;34m.\u001b[0m\u001b[0mclear\u001b[0m\u001b[0;34m(\u001b[0m\u001b[0;34m)\u001b[0m\u001b[0;34m\u001b[0m\u001b[0;34m\u001b[0m\u001b[0m\n",
            "\u001b[0;32m/usr/local/lib/python3.10/dist-packages/ipykernel/kernelbase.py\u001b[0m in \u001b[0;36mraw_input\u001b[0;34m(self, prompt)\u001b[0m\n\u001b[1;32m    849\u001b[0m                 \u001b[0;34m\"raw_input was called, but this frontend does not support input requests.\"\u001b[0m\u001b[0;34m\u001b[0m\u001b[0;34m\u001b[0m\u001b[0m\n\u001b[1;32m    850\u001b[0m             )\n\u001b[0;32m--> 851\u001b[0;31m         return self._input_request(str(prompt),\n\u001b[0m\u001b[1;32m    852\u001b[0m             \u001b[0mself\u001b[0m\u001b[0;34m.\u001b[0m\u001b[0m_parent_ident\u001b[0m\u001b[0;34m,\u001b[0m\u001b[0;34m\u001b[0m\u001b[0;34m\u001b[0m\u001b[0m\n\u001b[1;32m    853\u001b[0m             \u001b[0mself\u001b[0m\u001b[0;34m.\u001b[0m\u001b[0m_parent_header\u001b[0m\u001b[0;34m,\u001b[0m\u001b[0;34m\u001b[0m\u001b[0;34m\u001b[0m\u001b[0m\n",
            "\u001b[0;32m/usr/local/lib/python3.10/dist-packages/ipykernel/kernelbase.py\u001b[0m in \u001b[0;36m_input_request\u001b[0;34m(self, prompt, ident, parent, password)\u001b[0m\n\u001b[1;32m    893\u001b[0m             \u001b[0;32mexcept\u001b[0m \u001b[0mKeyboardInterrupt\u001b[0m\u001b[0;34m:\u001b[0m\u001b[0;34m\u001b[0m\u001b[0;34m\u001b[0m\u001b[0m\n\u001b[1;32m    894\u001b[0m                 \u001b[0;31m# re-raise KeyboardInterrupt, to truncate traceback\u001b[0m\u001b[0;34m\u001b[0m\u001b[0;34m\u001b[0m\u001b[0m\n\u001b[0;32m--> 895\u001b[0;31m                 \u001b[0;32mraise\u001b[0m \u001b[0mKeyboardInterrupt\u001b[0m\u001b[0;34m(\u001b[0m\u001b[0;34m\"Interrupted by user\"\u001b[0m\u001b[0;34m)\u001b[0m \u001b[0;32mfrom\u001b[0m \u001b[0;32mNone\u001b[0m\u001b[0;34m\u001b[0m\u001b[0;34m\u001b[0m\u001b[0m\n\u001b[0m\u001b[1;32m    896\u001b[0m             \u001b[0;32mexcept\u001b[0m \u001b[0mException\u001b[0m \u001b[0;32mas\u001b[0m \u001b[0me\u001b[0m\u001b[0;34m:\u001b[0m\u001b[0;34m\u001b[0m\u001b[0;34m\u001b[0m\u001b[0m\n\u001b[1;32m    897\u001b[0m                 \u001b[0mself\u001b[0m\u001b[0;34m.\u001b[0m\u001b[0mlog\u001b[0m\u001b[0;34m.\u001b[0m\u001b[0mwarning\u001b[0m\u001b[0;34m(\u001b[0m\u001b[0;34m\"Invalid Message:\"\u001b[0m\u001b[0;34m,\u001b[0m \u001b[0mexc_info\u001b[0m\u001b[0;34m=\u001b[0m\u001b[0;32mTrue\u001b[0m\u001b[0;34m)\u001b[0m\u001b[0;34m\u001b[0m\u001b[0;34m\u001b[0m\u001b[0m\n",
            "\u001b[0;31mKeyboardInterrupt\u001b[0m: Interrupted by user"
          ]
        }
      ],
      "source": [
        "google_key = input(\"Enter the Google maps API key: \")\n",
        "os.environ['GOOGLE_API_KEY'] = google_key\n",
        "output.clear()"
      ]
    },
    {
      "cell_type": "code",
      "source": [
        "gmaps = googlemaps.Client(os.environ.get('GOOGLE_API_KEY'))\n",
        "\n",
        "def get_schools(lat,lon,rad):\n",
        "  school_list=[]\n",
        "  try:\n",
        "    places_result = gmaps.places_nearby(location= f\"{lat},{lon}\", radius = rad, type = \"school\")\n",
        "    for place in places_result['results']:\n",
        "      school_name= place['name']\n",
        "      school_location_lat= place['geometry']['location']['lat']\n",
        "      school_location_lng= place['geometry']['location']['lng']\n",
        "      print(f\"{school_name}, {school_location_lat},{school_location_lng}\")\n",
        "      school_list.append([school_name, school_location_lat,school_location_lng])\n",
        "    return school_list\n",
        "  except Exception as e:\n",
        "    print(\"Error: \" + str(e))\n",
        "result = get_schools(51.5072, 0.1276,5000)"
      ],
      "metadata": {
        "colab": {
          "base_uri": "https://localhost:8080/"
        },
        "id": "9PhprQYOVatk",
        "outputId": "3353d6e9-51a6-4f38-8b0b-8a64bd203d29"
      },
      "execution_count": 9,
      "outputs": [
        {
          "output_type": "stream",
          "name": "stdout",
          "text": [
            "Bannockburn Primary School & Nursery, 51.4869172,0.1015561\n",
            "St Margaret Clitherow Primary School, 51.50103289999999,0.1132992\n",
            "Parkway Primary School, 51.49280040000001,0.1341053\n",
            "St Michael's East Wickham C of E Primary School, 51.46934,0.119751\n",
            "Jo Richardson Community School, 51.53407139999999,0.1262779\n",
            "Woolwich Polytechnic School for Boys, 51.5037284,0.1081882\n",
            "Eastbury Community School, 51.5415693,0.09116149999999999\n",
            "King Henry School, 51.47343300000001,0.166117\n",
            "Sydney Russell School, 51.5486205,0.1331252\n",
            "Langdon Academy, 51.53266139999999,0.0684394\n",
            "The Garard Academy Bexley Primary Section, 51.49388949999999,0.1392432\n",
            "Chestnut Tree Day Nursery, 51.4835246,0.1472878\n",
            "St Paul's Academy, 51.49267829999999,0.1044459\n",
            "Happi Feet Nursery, 51.4845967,0.1547493\n",
            "BG Homework Club, 51.5099169,0.1171594\n",
            "A B C Pre School, 51.5319735,0.1467639\n",
            "Foxhouse, 51.48538139999999,0.1575613\n",
            "Pulse & Water Learning, 51.4936864,0.1102897\n",
            "Bishop John Robinson Primary School, 51.5082391,0.1184551\n",
            "Kumon Maths & English, 51.50782019999999,0.1086709\n"
          ]
        }
      ]
    },
    {
      "cell_type": "code",
      "source": [
        "aws_key = input(\"Enter the AWS API key: \")\n",
        "os.environ['AWS_API_KEY'] = aws_key\n",
        "output.clear()"
      ],
      "metadata": {
        "id": "nNBoK3vpu5IP"
      },
      "execution_count": 11,
      "outputs": []
    },
    {
      "cell_type": "code",
      "source": [
        "url = \"https://a595c6ya39.execute-api.eu-west-2.amazonaws.com/default/myPythonProjectFunc\"\n",
        "\n",
        "payload = json.dumps({\n",
        "  \"data\": result\n",
        "})\n",
        "headers = {\n",
        "  'Content-Type': 'application/json',\n",
        "  'x-api-key': os.environ.get('AWS_API_KEY')\n",
        "}\n",
        "\n",
        "response = requests.request(\"POST\", url, headers=headers, data=payload)\n",
        "\n",
        "print(response.text)"
      ],
      "metadata": {
        "id": "8tQNDdT6lg1B",
        "outputId": "9dbcbb8e-21ee-4384-896c-14f4f29e50cd",
        "colab": {
          "base_uri": "https://localhost:8080/"
        }
      },
      "execution_count": 16,
      "outputs": [
        {
          "output_type": "stream",
          "name": "stdout",
          "text": [
            "{\"message\": \"New data been successfully added\", \"data\": [[\"Bannockburn Primary School & Nursery\", 51.4869172, 0.1015561], [\"St Margaret Clitherow Primary School\", 51.50103289999999, 0.1132992], [\"Parkway Primary School\", 51.49280040000001, 0.1341053], [\"St Michael's East Wickham C of E Primary School\", 51.46934, 0.119751], [\"Jo Richardson Community School\", 51.53407139999999, 0.1262779], [\"Woolwich Polytechnic School for Boys\", 51.5037284, 0.1081882], [\"Eastbury Community School\", 51.5415693, 0.09116149999999999], [\"King Henry School\", 51.47343300000001, 0.166117], [\"Sydney Russell School\", 51.5486205, 0.1331252], [\"Langdon Academy\", 51.53266139999999, 0.0684394], [\"The Garard Academy Bexley Primary Section\", 51.49388949999999, 0.1392432], [\"Chestnut Tree Day Nursery\", 51.4835246, 0.1472878], [\"St Paul's Academy\", 51.49267829999999, 0.1044459], [\"Happi Feet Nursery\", 51.4845967, 0.1547493], [\"BG Homework Club\", 51.5099169, 0.1171594], [\"A B C Pre School\", 51.5319735, 0.1467639], [\"Foxhouse\", 51.48538139999999, 0.1575613], [\"Pulse & Water Learning\", 51.4936864, 0.1102897], [\"Bishop John Robinson Primary School\", 51.5082391, 0.1184551], [\"Kumon Maths & English\", 51.50782019999999, 0.1086709]]}\n"
          ]
        }
      ]
    },
    {
      "cell_type": "code",
      "source": [],
      "metadata": {
        "id": "0CQXsZjhwWxK"
      },
      "execution_count": null,
      "outputs": []
    }
  ]
}