{
  "nbformat": 4,
  "nbformat_minor": 0,
  "metadata": {
    "colab": {
      "provenance": [],
      "include_colab_link": true
    },
    "kernelspec": {
      "name": "python3",
      "display_name": "Python 3"
    },
    "language_info": {
      "name": "python"
    }
  },
  "cells": [
    {
      "cell_type": "markdown",
      "metadata": {
        "id": "view-in-github",
        "colab_type": "text"
      },
      "source": [
        "<a href=\"https://colab.research.google.com/github/yuliiabosher/Cyber_Resilience_Course/blob/main/CDProject.ipynb\" target=\"_parent\"><img src=\"https://colab.research.google.com/assets/colab-badge.svg\" alt=\"Open In Colab\"/></a>"
      ]
    },
    {
      "cell_type": "markdown",
      "source": [
        "#### Installing the googlemaps library"
      ],
      "metadata": {
        "id": "Pk_Q3Tfd8Cmv"
      }
    },
    {
      "cell_type": "code",
      "source": [
        "!pip install googlemaps"
      ],
      "metadata": {
        "colab": {
          "base_uri": "https://localhost:8080/"
        },
        "id": "q0_7IZlRtV0X",
        "outputId": "12279355-79af-4157-95c9-2caabd8b0581"
      },
      "execution_count": null,
      "outputs": [
        {
          "output_type": "stream",
          "name": "stdout",
          "text": [
            "Collecting googlemaps\n",
            "  Downloading googlemaps-4.10.0.tar.gz (33 kB)\n",
            "  Preparing metadata (setup.py) ... \u001b[?25l\u001b[?25hdone\n",
            "Requirement already satisfied: requests<3.0,>=2.20.0 in /usr/local/lib/python3.10/dist-packages (from googlemaps) (2.31.0)\n",
            "Requirement already satisfied: charset-normalizer<4,>=2 in /usr/local/lib/python3.10/dist-packages (from requests<3.0,>=2.20.0->googlemaps) (3.3.2)\n",
            "Requirement already satisfied: idna<4,>=2.5 in /usr/local/lib/python3.10/dist-packages (from requests<3.0,>=2.20.0->googlemaps) (3.6)\n",
            "Requirement already satisfied: urllib3<3,>=1.21.1 in /usr/local/lib/python3.10/dist-packages (from requests<3.0,>=2.20.0->googlemaps) (2.0.7)\n",
            "Requirement already satisfied: certifi>=2017.4.17 in /usr/local/lib/python3.10/dist-packages (from requests<3.0,>=2.20.0->googlemaps) (2024.2.2)\n",
            "Building wheels for collected packages: googlemaps\n",
            "  Building wheel for googlemaps (setup.py) ... \u001b[?25l\u001b[?25hdone\n",
            "  Created wheel for googlemaps: filename=googlemaps-4.10.0-py3-none-any.whl size=40712 sha256=87b9bff3439c1d8807f0add34ef9a0b47b37ad8bd31d3358c7b560b78ded4601\n",
            "  Stored in directory: /root/.cache/pip/wheels/17/f8/79/999d5d37118fd35d7219ef57933eb9d09886c4c4503a800f84\n",
            "Successfully built googlemaps\n",
            "Installing collected packages: googlemaps\n",
            "Successfully installed googlemaps-4.10.0\n"
          ]
        }
      ]
    },
    {
      "cell_type": "markdown",
      "source": [
        "#### Importing the required modules"
      ],
      "metadata": {
        "id": "lWPpldaq8Hy-"
      }
    },
    {
      "cell_type": "code",
      "source": [
        "import googlemaps\n",
        "import os\n",
        "import requests\n",
        "import json\n",
        "from google.colab import output"
      ],
      "metadata": {
        "id": "Tb5dI1agv663"
      },
      "execution_count": null,
      "outputs": []
    },
    {
      "cell_type": "markdown",
      "source": [
        "#### Setting an environment variable for the Google API key"
      ],
      "metadata": {
        "id": "zf8rNv2S8UXC"
      }
    },
    {
      "cell_type": "code",
      "execution_count": null,
      "metadata": {
        "id": "cvIEaLPhRGLX"
      },
      "outputs": [],
      "source": [
        "google_key = input(\"Enter the Google maps API key: \")\n",
        "os.environ['GOOGLE_API_KEY'] = google_key\n",
        "output.clear()"
      ]
    },
    {
      "cell_type": "markdown",
      "source": [
        "#### Defining the get_schools(lat,lon,rad) function\n",
        "---\n",
        "The function returns a lists of lists. Each list contains a school name and its coordinates. The schools returned are all within the radius from the coordinates passed to the function"
      ],
      "metadata": {
        "id": "WMtRH7KR8cJc"
      }
    },
    {
      "cell_type": "code",
      "source": [
        "gmaps = googlemaps.Client(os.environ.get('GOOGLE_API_KEY'))\n",
        "\n",
        "def get_schools(lat,lon,rad):\n",
        "  school_list=[]\n",
        "  try:\n",
        "    places_result = gmaps.places_nearby(location= f\"{lat},{lon}\", radius = rad, type = \"school\")\n",
        "    for place in places_result['results']:\n",
        "      school_name= place['name']\n",
        "      school_location_lat= place['geometry']['location']['lat']\n",
        "      school_location_lng= place['geometry']['location']['lng']\n",
        "      school_list.append([school_name, school_location_lat,school_location_lng])\n",
        "    return school_list\n",
        "  except googlemaps.exceptions.ApiError as e:\n",
        "    if e.status==\"INVALID_REQUEST\":\n",
        "      print(\"coordinates are invalid\")\n",
        "  except Exception as e:\n",
        "    print(f\"Error: {e}\")"
      ],
      "metadata": {
        "id": "9PhprQYOVatk"
      },
      "execution_count": null,
      "outputs": []
    },
    {
      "cell_type": "markdown",
      "source": [
        "#### Setting an environment variable for the AWS API key"
      ],
      "metadata": {
        "id": "AjaQTcez9n68"
      }
    },
    {
      "cell_type": "code",
      "source": [
        "aws_key = input(\"Enter the AWS API key: \")\n",
        "os.environ['AWS_API_KEY'] = aws_key\n",
        "output.clear()"
      ],
      "metadata": {
        "id": "nNBoK3vpu5IP"
      },
      "execution_count": null,
      "outputs": []
    },
    {
      "cell_type": "markdown",
      "source": [
        "#### Defining an add_schools(lat,lng,rad) function\n",
        "---\n",
        "The function add_schools(lat,lng,rad) calls a Lambda function's API gateway using POST method. It returns a string that contains a message and a list of lists with newly added school names and coordinates"
      ],
      "metadata": {
        "id": "yPVnTuss9vQl"
      }
    },
    {
      "cell_type": "code",
      "source": [
        "def add_schools(lat,lng,rad):\n",
        "  url = \"https://a595c6ya39.execute-api.eu-west-2.amazonaws.com/default/myPythonProjectFunc\"\n",
        "\n",
        "  school_data = get_schools(lat,lng,rad)\n",
        "\n",
        "  payload = json.dumps({\n",
        "    \"data\": school_data\n",
        "  })\n",
        "  headers = {\n",
        "    'Content-Type': 'application/json',\n",
        "    'x-api-key': os.environ.get('AWS_API_KEY')\n",
        "  }\n",
        "\n",
        "  response = requests.request(\"POST\", url, headers=headers, data=payload)\n",
        "  return response.text"
      ],
      "metadata": {
        "id": "8tQNDdT6lg1B"
      },
      "execution_count": null,
      "outputs": []
    },
    {
      "cell_type": "markdown",
      "source": [
        "#### Defining a show_schools() function\n",
        "---\n",
        "The function show_schools() calls the Lambda function's API gateway using GET method. It returns a string that contains a message and a list of lists with school names and coordinates stored in the S3 bucket file"
      ],
      "metadata": {
        "id": "w8_dLYv5-cii"
      }
    },
    {
      "cell_type": "code",
      "source": [
        "def show_schools():\n",
        "  url = \"https://a595c6ya39.execute-api.eu-west-2.amazonaws.com/default/myPythonProjectFunc\"\n",
        "  payload = \"\"\n",
        "  headers = {\n",
        "    'x-api-key': os.environ.get('AWS_API_KEY')\n",
        "  }\n",
        "\n",
        "  response = requests.request(\"GET\", url, headers=headers, data=payload)\n",
        "  return response.text"
      ],
      "metadata": {
        "id": "Jv79TXXklNnY"
      },
      "execution_count": null,
      "outputs": []
    },
    {
      "cell_type": "markdown",
      "source": [
        "#### Defining a select_an_action() function\n",
        "---\n",
        "The user can interact with the application through the function select_an_action(). It offers the user two options. The first option is to add new schools to the file. If selected it prompts the user to input the coordinates of a location and a radius. It will then return a list of lists with newly added schools that were not in the file before. The second option is to retrieve the schools and their coordinates currently stored in an S3 bucket file. The data returned is the list of lists where each school name and its coordinates are stored in a separate list."
      ],
      "metadata": {
        "id": "_Ebcwv9E_Row"
      }
    },
    {
      "cell_type": "code",
      "source": [
        "def select_an_action():\n",
        "  try:\n",
        "      action = input('select an option \\n 1 for add new schools \\n 2 for show all schools ')\n",
        "      if action == \"1\":\n",
        "        latitude = float(input('enter a latitude as a decimal '))\n",
        "        longitude = float(input('enter a longutude as a decimal '))\n",
        "        radius = float(input('enter a radius as an integer '))\n",
        "        newly_added_schools = json.loads(add_schools(latitude,longitude,radius))\n",
        "        return newly_added_schools['data']\n",
        "      elif action == \"2\":\n",
        "        all_schools = json.loads(show_schools())\n",
        "        return all_schools['data']\n",
        "      else:\n",
        "        return 'you should have entered 1 or 2'\n",
        "  except Exception as e:\n",
        "    return f\"There was an error {e}\"\n",
        "prompt = select_an_action()\n",
        "print(prompt)"
      ],
      "metadata": {
        "id": "yTVBla_DvfY_",
        "outputId": "e093d6ed-0ec1-4d8c-8a6f-161314b454c0",
        "colab": {
          "base_uri": "https://localhost:8080/"
        }
      },
      "execution_count": 56,
      "outputs": [
        {
          "output_type": "stream",
          "name": "stdout",
          "text": [
            "select an option \n",
            " 1 for add new schools \n",
            " 2 for show all schools 1\n",
            "enter a latitude as a decimal 55.858700\n",
            "enter a longutude as a decimal -4.295905\n",
            "enter a radius as an integer 4000\n",
            "[[\"Hutchesons' Grammar School\", 55.83644289999999, -4.282187], [\"St Aloysius' College\", 55.8668397, -4.2633366], [\"St Saviour's Primary School (Govan)\", 55.86065359999999, -4.3063033], ['Kelvin School', 55.8668041, -4.2941658], ['Glasgow Club Bellahouston', 55.8459204, -4.3239934], ['Royal Conservatoire of Scotland', 55.8661893, -4.257588699999999], ['Kinning Park Nursery School', 55.85025349999999, -4.283776200000001], ['Adelaides Nursery', 55.8646524, -4.264747], ['Nuffield Health Glasgow Minerva Fitness & Wellbeing Gym', 55.8628797, -4.2854098], ['Nuffield Health Glasgow Central Fitness & Wellbeing Gym', 55.85920369999999, -4.2811215], ['Gisoel Glasgow', 55.86045559999999, -4.259549000000001], ['Kelvinside Academy', 55.8829681, -4.2950843], ['Bellahouston Academy', 55.8481055, -4.3005388], ['CC MUSIC', 55.8745869, -4.281554099999999], ['Hyndland Secondary School', 55.8770157, -4.3098341], ['Carlton Nursery', 55.8543984, -4.2571572], ['Notre Dame High School', 55.8782444, -4.299076899999999], ['Community Central Hall', 55.87633289999999, -4.2708803], ['Yoga Healing Glasgow', 55.8745146, -4.3067196], ['ISSOS - International Summer Schools', 55.86115909999999, -4.255552100000001]]\n"
          ]
        }
      ]
    }
  ]
}