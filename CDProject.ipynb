{
  "nbformat": 4,
  "nbformat_minor": 0,
  "metadata": {
    "colab": {
      "provenance": [],
      "include_colab_link": true
    },
    "kernelspec": {
      "name": "python3",
      "display_name": "Python 3"
    },
    "language_info": {
      "name": "python"
    }
  },
  "cells": [
    {
      "cell_type": "markdown",
      "metadata": {
        "id": "view-in-github",
        "colab_type": "text"
      },
      "source": [
        "<a href=\"https://colab.research.google.com/github/yuliiabosher/Cyber_Resilience_Course/blob/main/CDProject.ipynb\" target=\"_parent\"><img src=\"https://colab.research.google.com/assets/colab-badge.svg\" alt=\"Open In Colab\"/></a>"
      ]
    },
    {
      "cell_type": "code",
      "source": [
        "!pip install googlemaps"
      ],
      "metadata": {
        "colab": {
          "base_uri": "https://localhost:8080/"
        },
        "id": "q0_7IZlRtV0X",
        "outputId": "a0fe78a3-8c2b-4b2d-9aa9-22e749e80c61"
      },
      "execution_count": 10,
      "outputs": [
        {
          "output_type": "stream",
          "name": "stdout",
          "text": [
            "Requirement already satisfied: googlemaps in /usr/local/lib/python3.10/dist-packages (4.10.0)\n",
            "Requirement already satisfied: requests<3.0,>=2.20.0 in /usr/local/lib/python3.10/dist-packages (from googlemaps) (2.31.0)\n",
            "Requirement already satisfied: charset-normalizer<4,>=2 in /usr/local/lib/python3.10/dist-packages (from requests<3.0,>=2.20.0->googlemaps) (3.3.2)\n",
            "Requirement already satisfied: idna<4,>=2.5 in /usr/local/lib/python3.10/dist-packages (from requests<3.0,>=2.20.0->googlemaps) (3.6)\n",
            "Requirement already satisfied: urllib3<3,>=1.21.1 in /usr/local/lib/python3.10/dist-packages (from requests<3.0,>=2.20.0->googlemaps) (2.0.7)\n",
            "Requirement already satisfied: certifi>=2017.4.17 in /usr/local/lib/python3.10/dist-packages (from requests<3.0,>=2.20.0->googlemaps) (2024.2.2)\n"
          ]
        }
      ]
    },
    {
      "cell_type": "code",
      "source": [
        "import googlemaps\n",
        "import os\n",
        "import requests\n",
        "import json\n",
        "from google.colab import output\n",
        "import gmaps"
      ],
      "metadata": {
        "id": "Tb5dI1agv663"
      },
      "execution_count": 2,
      "outputs": []
    },
    {
      "cell_type": "code",
      "execution_count": 3,
      "metadata": {
        "id": "cvIEaLPhRGLX"
      },
      "outputs": [],
      "source": [
        "google_key = input(\"Enter the Google maps API key: \")\n",
        "os.environ['GOOGLE_API_KEY'] = google_key\n",
        "output.clear()"
      ]
    },
    {
      "cell_type": "code",
      "source": [
        "g_maps = googlemaps.Client(os.environ.get('GOOGLE_API_KEY'))\n",
        "\n",
        "def get_schools(lat,lon,rad):\n",
        "  school_list=[]\n",
        "  try:\n",
        "    places_result = g_maps.places_nearby(location= f\"{lat},{lon}\", radius = rad, type = \"school\")\n",
        "    for place in places_result['results']:\n",
        "      school_name= place['name']\n",
        "      school_location_lat= place['geometry']['location']['lat']\n",
        "      school_location_lng= place['geometry']['location']['lng']\n",
        "      print(f\"{school_name}, {school_location_lat},{school_location_lng}\")\n",
        "      school_list.append([school_name, school_location_lat,school_location_lng])\n",
        "    return school_list\n",
        "  except googlemaps.exceptions.ApiError as e:\n",
        "    if e.status==\"INVALID_REQUEST\":\n",
        "      print(\"coordinates are invalid\")\n",
        "  except Exception as e:\n",
        "    print(\"Error: \" + str(e))"
      ],
      "metadata": {
        "id": "9PhprQYOVatk"
      },
      "execution_count": 4,
      "outputs": []
    },
    {
      "cell_type": "code",
      "source": [
        "aws_key = input(\"Enter the AWS API key: \")\n",
        "os.environ['AWS_API_KEY'] = aws_key\n",
        "output.clear()"
      ],
      "metadata": {
        "id": "nNBoK3vpu5IP"
      },
      "execution_count": 6,
      "outputs": []
    },
    {
      "cell_type": "code",
      "source": [
        "def add_schools():\n",
        "  url = \"https://a595c6ya39.execute-api.eu-west-2.amazonaws.com/default/myPythonProjectFunc\"\n",
        "\n",
        "  payload = json.dumps({\n",
        "    \"data\": get_schools(54.9740,-1.6132,4000)\n",
        "  })\n",
        "  headers = {\n",
        "    'Content-Type': 'application/json',\n",
        "    'x-api-key': os.environ.get('AWS_API_KEY')\n",
        "  }\n",
        "\n",
        "  response = requests.request(\"POST\", url, headers=headers, data=payload)\n",
        "\n",
        "  print(response.text)\n",
        "add_schools()"
      ],
      "metadata": {
        "id": "8tQNDdT6lg1B",
        "colab": {
          "base_uri": "https://localhost:8080/"
        },
        "outputId": "c5ff218d-529a-4d0e-c450-f7d1a74a6c5c"
      },
      "execution_count": 8,
      "outputs": [
        {
          "output_type": "stream",
          "name": "stdout",
          "text": [
            "Jesmond Park Academy, 54.9939443,-1.588097\n",
            "make a wish, 54.9762162,-1.6383755\n",
            "Gateshead College, 54.96657199999999,-1.5981311\n",
            "Royal Grammar School Newcastle, 54.9831764,-1.6073674\n",
            "Jesmond Pool & Gym, 54.99409919999999,-1.6061812\n",
            "Dame Allan's Schools, 54.98253940000001,-1.6524177\n",
            "Riverside Primary Academy, 54.9564501,-1.6441569\n",
            "The Bridges Nursery School, 54.96217,-1.6077889\n",
            "Footsteps To Ashfield Day Nursery, 54.9690929,-1.6360595\n",
            "Kumon Maths & English, 54.9816496,-1.6007528\n",
            "Aquapursuits Marine training academy, Scuba Diving and RYA Training Centre, 54.9750562,-1.5961981\n",
            "Kumon Maths & English, 54.9745427,-1.6484453\n",
            "Childsplay Nursery, 54.982187,-1.618674\n",
            "Chris Chambers Guitar, 54.9893061,-1.5742133\n",
            "Newcastle High School for Girls Junior School, 54.9845261,-1.595181199999999\n",
            "Tik-Tok Nursery, 54.9596007,-1.5841509\n",
            "Ladybird's Childrens Nursery, 54.99831229999999,-1.6275439\n",
            "Keser Torah Boys School, 54.95503859999999,-1.6030201\n",
            "Newcastle Guitar School, 54.9810364,-1.5844317\n",
            "Corpus Christi Catholic Primary School, Gateshead, 54.94900329999999,-1.6110424\n",
            "{\"message\": \"New data been successfully added\", \"data\": [[\"Jesmond Park Academy\", 54.9939443, -1.588097], [\"make a wish\", 54.9762162, -1.6383755], [\"Gateshead College\", 54.96657199999999, -1.5981311], [\"Royal Grammar School Newcastle\", 54.9831764, -1.6073674], [\"Jesmond Pool & Gym\", 54.99409919999999, -1.6061812], [\"Dame Allan's Schools\", 54.98253940000001, -1.6524177], [\"Riverside Primary Academy\", 54.9564501, -1.6441569], [\"The Bridges Nursery School\", 54.96217, -1.6077889], [\"Footsteps To Ashfield Day Nursery\", 54.9690929, -1.6360595], [\"Kumon Maths & English\", 54.9816496, -1.6007528], [\"Aquapursuits Marine training academy, Scuba Diving and RYA Training Centre\", 54.9750562, -1.5961981], [\"Kumon Maths & English\", 54.9745427, -1.6484453], [\"Childsplay Nursery\", 54.982187, -1.618674], [\"Chris Chambers Guitar\", 54.9893061, -1.5742133], [\"Newcastle High School for Girls Junior School\", 54.9845261, -1.595181199999999], [\"Tik-Tok Nursery\", 54.9596007, -1.5841509], [\"Ladybird's Childrens Nursery\", 54.99831229999999, -1.6275439], [\"Keser Torah Boys School\", 54.95503859999999, -1.6030201], [\"Newcastle Guitar School\", 54.9810364, -1.5844317], [\"Corpus Christi Catholic Primary School, Gateshead\", 54.94900329999999, -1.6110424]]}\n"
          ]
        }
      ]
    },
    {
      "cell_type": "code",
      "source": [
        "def show_schools():\n",
        "  url = \"https://a595c6ya39.execute-api.eu-west-2.amazonaws.com/default/myPythonProjectFunc\"\n",
        "  payload = \"\"\n",
        "  headers = {\n",
        "    'x-api-key': os.environ.get('AWS_API_KEY')\n",
        "  }\n",
        "\n",
        "  response = requests.request(\"GET\", url, headers=headers, data=payload)\n",
        "\n",
        "  print(response.text)\n",
        "show_schools()"
      ],
      "metadata": {
        "id": "Jv79TXXklNnY",
        "outputId": "4740831a-9c20-48c4-c561-243cf4789809",
        "colab": {
          "base_uri": "https://localhost:8080/"
        }
      },
      "execution_count": 9,
      "outputs": [
        {
          "output_type": "stream",
          "name": "stdout",
          "text": [
            "{\"message\": \"The data has been found\", \"data\": [[\"0\", \"1\", \"2\"], [\"Bannockburn Primary School & Nursery\", \"51.4869172\", \"0.1015561\"], [\"St Margaret Clitherow Primary School\", \"51.50103289999999\", \"0.1132992\"], [\"Jesmond Park Academy\", \"54.9939443\", \"-1.588097\"], [\"make a wish\", \"54.9762162\", \"-1.6383755\"], [\"Gateshead College\", \"54.96657199999999\", \"-1.5981311\"], [\"Royal Grammar School Newcastle\", \"54.9831764\", \"-1.6073674\"], [\"Jesmond Pool & Gym\", \"54.99409919999999\", \"-1.6061812\"], [\"Dame Allan's Schools\", \"54.98253940000001\", \"-1.6524177\"], [\"Riverside Primary Academy\", \"54.9564501\", \"-1.6441569\"], [\"The Bridges Nursery School\", \"54.96217\", \"-1.6077889\"], [\"Footsteps To Ashfield Day Nursery\", \"54.9690929\", \"-1.6360595\"], [\"Kumon Maths & English\", \"54.9816496\", \"-1.6007528\"], [\"Aquapursuits Marine training academy, Scuba Diving and RYA Training Centre\", \"54.9750562\", \"-1.5961981\"], [\"Kumon Maths & English\", \"54.9745427\", \"-1.6484453\"], [\"Childsplay Nursery\", \"54.982187\", \"-1.618674\"], [\"Chris Chambers Guitar\", \"54.9893061\", \"-1.5742133\"], [\"Newcastle High School for Girls Junior School\", \"54.9845261\", \"-1.595181199999999\"], [\"Tik-Tok Nursery\", \"54.9596007\", \"-1.5841509\"], [\"Ladybird's Childrens Nursery\", \"54.99831229999999\", \"-1.6275439\"], [\"Keser Torah Boys School\", \"54.95503859999999\", \"-1.6030201\"], [\"Newcastle Guitar School\", \"54.9810364\", \"-1.5844317\"], [\"Corpus Christi Catholic Primary School, Gateshead\", \"54.94900329999999\", \"-1.6110424\"]]}\n"
          ]
        }
      ]
    }
  ]
}