{
  "nbformat": 4,
  "nbformat_minor": 0,
  "metadata": {
    "colab": {
      "provenance": []
    },
    "kernelspec": {
      "name": "python3",
      "display_name": "Python 3"
    },
    "language_info": {
      "name": "python"
    }
  },
  "cells": [
    {
      "cell_type": "markdown",
      "source": [
        "# Testing the lambda function code locally"
      ],
      "metadata": {
        "id": "OLyJadlYUQ30"
      }
    },
    {
      "cell_type": "code",
      "source": [
        "!pip install boto3"
      ],
      "metadata": {
        "id": "jHUliNAyWlej",
        "outputId": "501f09e4-3d56-43d5-8f11-867a69bec3c2",
        "colab": {
          "base_uri": "https://localhost:8080/"
        }
      },
      "execution_count": 1,
      "outputs": [
        {
          "output_type": "stream",
          "name": "stdout",
          "text": [
            "Collecting boto3\n",
            "  Downloading boto3-1.34.59-py3-none-any.whl (139 kB)\n",
            "\u001b[2K     \u001b[90m━━━━━━━━━━━━━━━━━━━━━━━━━━━━━━━━━━━━━━━━\u001b[0m \u001b[32m139.3/139.3 kB\u001b[0m \u001b[31m3.4 MB/s\u001b[0m eta \u001b[36m0:00:00\u001b[0m\n",
            "\u001b[?25hCollecting botocore<1.35.0,>=1.34.59 (from boto3)\n",
            "  Downloading botocore-1.34.59-py3-none-any.whl (12.0 MB)\n",
            "\u001b[2K     \u001b[90m━━━━━━━━━━━━━━━━━━━━━━━━━━━━━━━━━━━━━━━━\u001b[0m \u001b[32m12.0/12.0 MB\u001b[0m \u001b[31m34.5 MB/s\u001b[0m eta \u001b[36m0:00:00\u001b[0m\n",
            "\u001b[?25hCollecting jmespath<2.0.0,>=0.7.1 (from boto3)\n",
            "  Downloading jmespath-1.0.1-py3-none-any.whl (20 kB)\n",
            "Collecting s3transfer<0.11.0,>=0.10.0 (from boto3)\n",
            "  Downloading s3transfer-0.10.0-py3-none-any.whl (82 kB)\n",
            "\u001b[2K     \u001b[90m━━━━━━━━━━━━━━━━━━━━━━━━━━━━━━━━━━━━━━━━\u001b[0m \u001b[32m82.1/82.1 kB\u001b[0m \u001b[31m10.9 MB/s\u001b[0m eta \u001b[36m0:00:00\u001b[0m\n",
            "\u001b[?25hRequirement already satisfied: python-dateutil<3.0.0,>=2.1 in /usr/local/lib/python3.10/dist-packages (from botocore<1.35.0,>=1.34.59->boto3) (2.8.2)\n",
            "Requirement already satisfied: urllib3<2.1,>=1.25.4 in /usr/local/lib/python3.10/dist-packages (from botocore<1.35.0,>=1.34.59->boto3) (2.0.7)\n",
            "Requirement already satisfied: six>=1.5 in /usr/local/lib/python3.10/dist-packages (from python-dateutil<3.0.0,>=2.1->botocore<1.35.0,>=1.34.59->boto3) (1.16.0)\n",
            "Installing collected packages: jmespath, botocore, s3transfer, boto3\n",
            "Successfully installed boto3-1.34.59 botocore-1.34.59 jmespath-1.0.1 s3transfer-0.10.0\n"
          ]
        }
      ]
    },
    {
      "cell_type": "markdown",
      "source": [
        "### Saving an access key and secret key in an environment variable\n",
        "---"
      ],
      "metadata": {
        "id": "EZhg5WXdW8na"
      }
    },
    {
      "cell_type": "code",
      "execution_count": 3,
      "metadata": {
        "id": "0V-74wDUUCiC"
      },
      "outputs": [],
      "source": [
        "import os\n",
        "from IPython.display import clear_output\n",
        "\n",
        "def set_environment_variable_values():\n",
        "  ACCESS_KEY = input(\"Please enter the AWS access key: \")\n",
        "  SECRET_ACCESS_KEY = input(\"Please enter the AWS secret access key: \")\n",
        "  BUCKET_NAME = input(\"Please enter the name of the bucket in S3: \")\n",
        "  os.environ['ACCESS_KEY'] = ACCESS_KEY\n",
        "  os.environ['SECRET_ACCESS_KEY'] = SECRET_ACCESS_KEY\n",
        "  os.environ['BUCKET_NAME'] = BUCKET_NAME\n",
        "  clear_output()\n",
        "  return None\n",
        "\n",
        "set_environment_variable_values()\n"
      ]
    },
    {
      "cell_type": "markdown",
      "source": [
        "### Creating a connection to the S3 bucket\n",
        "---"
      ],
      "metadata": {
        "id": "EyLPbMMlTe63"
      }
    },
    {
      "cell_type": "code",
      "source": [
        "import boto3\n",
        "\n",
        "def get_S3_client():\n",
        "\tresource = boto3.client(\n",
        "     \"s3\",\n",
        "\t\taws_access_key_id = os.environ.get('ACCESS_KEY'),\n",
        "\t\taws_secret_access_key = os.environ.get('SECRET_ACCESS_KEY')\n",
        "\t)\n",
        "\treturn resource\n",
        "\n",
        "s3_client = get_S3_client()"
      ],
      "metadata": {
        "id": "xm0Hz9JEUwxE"
      },
      "execution_count": 6,
      "outputs": []
    },
    {
      "cell_type": "markdown",
      "source": [
        "### Defining the functions\n",
        "\n",
        "---\n",
        "Defining get_file(filename) and save_a_copy(filedata, filename) functions that will be used to test the lambda_handler(event, context) function. Defining the lambda_handler(event, context) function copied from AWS Lambda. Some code in lambda_handler is hashed out or replaced with get_file(filename) and save_a_copy(filedata, filename) function calls in order to be able to test it locally."
      ],
      "metadata": {
        "id": "5L3F6bV9iVJj"
      }
    },
    {
      "cell_type": "code",
      "source": [
        "import pandas as pd\n",
        "import io\n",
        "import os\n",
        "import json\n",
        "import csv\n",
        "#from functions import add_school_data_to_bucket, show_schools_data_in_bucket\n",
        "\n",
        "def get_file(filename):\n",
        "  # get the file from the bucket\n",
        "  file_object = s3_client.get_object(Bucket=os.environ.get('BUCKET_NAME'), Key=filename)\n",
        "  # convert the file object to a text-based csv file then read the file contents into a table using the pandas read_csv function\n",
        "  data_file = io.BytesIO(file_object['Body'].read())\n",
        "  data = pd.read_csv(data_file)\n",
        "  return data\n",
        "\n",
        "def save_a_copy(filedata, filename):\n",
        "  new_data = filedata.copy()\n",
        "  file_object =  io.StringIO()\n",
        "  pd.DataFrame(new_data).to_csv(file_object, index=False)\n",
        "  response = s3_client.put_object(Bucket=os.environ.get('BUCKET_NAME'), Body=file_object.getvalue(), Key=filename)\n",
        "  return response\n",
        "\n",
        "def lambda_handler(event, context):\n",
        "    global message, return_data, statuscode\n",
        "    filename = \"schools_list.csv\"\n",
        "    client = boto3.client('s3')\n",
        "    if event[\"httpMethod\"] == \"POST\":\n",
        "        if \"body\" in event.keys():\n",
        "            request = event[\"body\"]\n",
        "            if type(request) is not dict:\n",
        "                request = json.loads(request)\n",
        "            if request is not None and \"data\" in request.keys():\n",
        "                data = request[\"data\"]\n",
        "                if len(data) == 0:\n",
        "                    message, return_data = \"Please enter a valid data\", []\n",
        "                    statuscode = 404\n",
        "                else:\n",
        "                    # the line below is different from the original Lambda function\n",
        "                    return_data = save_a_copy(data,'schools_list.csv')\n",
        "                    #message, return_data = add_school_data_to_bucket(client, filename, data)\n",
        "                    message=\"Yay! Success\"\n",
        "                    statuscode = 200\n",
        "            else:\n",
        "                message, return_data = \"Error in the POST request occured\", []\n",
        "                statuscode = 404\n",
        "    elif event[\"httpMethod\"] == \"GET\":\n",
        "       # the line below is different from the original Lambda function\n",
        "       return_data = get_file('schools_list.csv')\n",
        "       message=\"Yay! Success\"\n",
        "       statuscode = 200\n",
        "       #message, return_data = show_schools_data_in_bucket(client, filename)\n",
        "    else:\n",
        "        message, return_data = \"Error occured\", []\n",
        "        statuscode = 404\n",
        "    return {'statusCode': statuscode,\n",
        "            'headers': {'Content-Type': 'application/json',\n",
        "                        'Access-Control-Allow-Headers': 'Content-Type,X-Api-Key',\n",
        "                        'Access-Control-Allow-Methods': 'POST',\n",
        "                        'Access-Control-Allow-Origin': '*'},\n",
        "            #'body': json.dumps({\"message\": message, \"data\": return_data})\n",
        "            'body': {\"message\": message, \"data\": return_data}\n",
        "            }"
      ],
      "metadata": {
        "id": "COYMBXPIR6X0"
      },
      "execution_count": 28,
      "outputs": []
    },
    {
      "cell_type": "markdown",
      "source": [
        "### Testing the lambda_handler(event, context) function using POST method\n",
        "---\n",
        "When POST method is used in the test, we check if the code works using the save_a_copy(filedata, filename) function."
      ],
      "metadata": {
        "id": "5f2RcujlZ2Tn"
      }
    },
    {
      "cell_type": "code",
      "source": [
        "event1 = {\n",
        "    \"httpMethod\": \"POST\",\n",
        "    \"body\": {\n",
        "    \"data\": [\n",
        "        [\n",
        "            \"Bannockburn Primary School & Nursery\",\n",
        "            51.4869172,\n",
        "            0.1015561\n",
        "        ],\n",
        "        [\n",
        "            \"St Margaret Clitherow Primary School\",\n",
        "            51.50103289999999,\n",
        "            0.1132992\n",
        "        ]\n",
        "    ]\n",
        "}\n",
        "}\n",
        "\n",
        "lambda_handler(event1, None)"
      ],
      "metadata": {
        "id": "hMbmalEDzva8",
        "colab": {
          "base_uri": "https://localhost:8080/"
        },
        "outputId": "84e1ca0a-2d8a-48eb-feaa-a409a8bb7e12"
      },
      "execution_count": 29,
      "outputs": [
        {
          "output_type": "execute_result",
          "data": {
            "text/plain": [
              "{'statusCode': 200,\n",
              " 'headers': {'Content-Type': 'application/json',\n",
              "  'Access-Control-Allow-Headers': 'Content-Type,X-Api-Key',\n",
              "  'Access-Control-Allow-Methods': 'POST',\n",
              "  'Access-Control-Allow-Origin': '*'},\n",
              " 'body': {'message': 'Yay! Success',\n",
              "  'data': {'ResponseMetadata': {'RequestId': '0G6Z7KABES8C3PHB',\n",
              "    'HostId': 'KI1bRUMwiTR+ESlh3ZytrpGfdlSeAnmd6l9w+YTQHPD6ZkFjlFhooUrum3vUwiW8D4Rbjem2ImGoZPmL5Tt6Pw==',\n",
              "    'HTTPStatusCode': 200,\n",
              "    'HTTPHeaders': {'x-amz-id-2': 'KI1bRUMwiTR+ESlh3ZytrpGfdlSeAnmd6l9w+YTQHPD6ZkFjlFhooUrum3vUwiW8D4Rbjem2ImGoZPmL5Tt6Pw==',\n",
              "     'x-amz-request-id': '0G6Z7KABES8C3PHB',\n",
              "     'date': 'Mon, 11 Mar 2024 16:47:32 GMT',\n",
              "     'x-amz-server-side-encryption': 'AES256',\n",
              "     'etag': '\"ddb9933f885c2a08fb1a37b457cb3b00\"',\n",
              "     'server': 'AmazonS3',\n",
              "     'content-length': '0'},\n",
              "    'RetryAttempts': 0},\n",
              "   'ETag': '\"ddb9933f885c2a08fb1a37b457cb3b00\"',\n",
              "   'ServerSideEncryption': 'AES256'}}}"
            ]
          },
          "metadata": {},
          "execution_count": 29
        }
      ]
    },
    {
      "cell_type": "markdown",
      "source": [
        "### Testing the lambda_handler(event, context) function using GET method\n",
        "---\n",
        "When GET method is used in the test, we check if the code works using the get_file(filename) function."
      ],
      "metadata": {
        "id": "wmT8NJCcaffM"
      }
    },
    {
      "cell_type": "code",
      "source": [
        "event2 = {\n",
        "    \"httpMethod\": \"GET\",\n",
        "}\n",
        "\n",
        "lambda_handler(event2, None)"
      ],
      "metadata": {
        "id": "r_b6gWguU0zJ",
        "outputId": "e28d9512-6f0b-443d-e31b-d25c5a5a046c",
        "colab": {
          "base_uri": "https://localhost:8080/"
        }
      },
      "execution_count": 30,
      "outputs": [
        {
          "output_type": "execute_result",
          "data": {
            "text/plain": [
              "{'statusCode': 200,\n",
              " 'headers': {'Content-Type': 'application/json',\n",
              "  'Access-Control-Allow-Headers': 'Content-Type,X-Api-Key',\n",
              "  'Access-Control-Allow-Methods': 'POST',\n",
              "  'Access-Control-Allow-Origin': '*'},\n",
              " 'body': {'message': 'Yay! Success',\n",
              "  'data':                                       0          1         2\n",
              "  0  Bannockburn Primary School & Nursery  51.486917  0.101556\n",
              "  1  St Margaret Clitherow Primary School  51.501033  0.113299}}"
            ]
          },
          "metadata": {},
          "execution_count": 30
        }
      ]
    }
  ]
}