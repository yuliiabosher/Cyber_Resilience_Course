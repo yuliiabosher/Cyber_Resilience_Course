{
  "nbformat": 4,
  "nbformat_minor": 0,
  "metadata": {
    "colab": {
      "provenance": [],
      "include_colab_link": true
    },
    "kernelspec": {
      "name": "python3",
      "display_name": "Python 3"
    },
    "language_info": {
      "name": "python"
    }
  },
  "cells": [
    {
      "cell_type": "markdown",
      "metadata": {
        "id": "view-in-github",
        "colab_type": "text"
      },
      "source": [
        "<a href=\"https://colab.research.google.com/github/yuliiabosher/Cyber_Resilience_Course/blob/main/Testing_the_Google_API_function.ipynb\" target=\"_parent\"><img src=\"https://colab.research.google.com/assets/colab-badge.svg\" alt=\"Open In Colab\"/></a>"
      ]
    },
    {
      "cell_type": "markdown",
      "source": [
        "#### Installing the googlemaps library"
      ],
      "metadata": {
        "id": "Pk_Q3Tfd8Cmv"
      }
    },
    {
      "cell_type": "code",
      "source": [
        "!pip install googlemaps"
      ],
      "metadata": {
        "colab": {
          "base_uri": "https://localhost:8080/"
        },
        "id": "q0_7IZlRtV0X",
        "outputId": "6e8df84b-82bc-422b-9808-45b0ee8ea361"
      },
      "execution_count": null,
      "outputs": [
        {
          "output_type": "stream",
          "name": "stdout",
          "text": [
            "Requirement already satisfied: googlemaps in /usr/local/lib/python3.10/dist-packages (4.10.0)\n",
            "Requirement already satisfied: requests<3.0,>=2.20.0 in /usr/local/lib/python3.10/dist-packages (from googlemaps) (2.31.0)\n",
            "Requirement already satisfied: charset-normalizer<4,>=2 in /usr/local/lib/python3.10/dist-packages (from requests<3.0,>=2.20.0->googlemaps) (3.3.2)\n",
            "Requirement already satisfied: idna<4,>=2.5 in /usr/local/lib/python3.10/dist-packages (from requests<3.0,>=2.20.0->googlemaps) (3.6)\n",
            "Requirement already satisfied: urllib3<3,>=1.21.1 in /usr/local/lib/python3.10/dist-packages (from requests<3.0,>=2.20.0->googlemaps) (2.0.7)\n",
            "Requirement already satisfied: certifi>=2017.4.17 in /usr/local/lib/python3.10/dist-packages (from requests<3.0,>=2.20.0->googlemaps) (2024.2.2)\n"
          ]
        }
      ]
    },
    {
      "cell_type": "markdown",
      "source": [
        "#### Importing the required modules"
      ],
      "metadata": {
        "id": "lWPpldaq8Hy-"
      }
    },
    {
      "cell_type": "code",
      "source": [
        "import googlemaps\n",
        "import os\n",
        "import requests\n",
        "import json\n",
        "from google.colab import output"
      ],
      "metadata": {
        "id": "Tb5dI1agv663"
      },
      "execution_count": null,
      "outputs": []
    },
    {
      "cell_type": "markdown",
      "source": [
        "#### Setting an environment variable for the Google API key"
      ],
      "metadata": {
        "id": "zf8rNv2S8UXC"
      }
    },
    {
      "cell_type": "code",
      "execution_count": null,
      "metadata": {
        "id": "cvIEaLPhRGLX"
      },
      "outputs": [],
      "source": [
        "google_key = input(\"Enter the Google maps API key: \")\n",
        "os.environ['GOOGLE_API_KEY'] = google_key\n",
        "output.clear()"
      ]
    },
    {
      "cell_type": "markdown",
      "source": [
        "#### Defining the get_schools(lat,lon,rad) function\n",
        "---\n",
        "The function returns a lists of lists. Each list contains a school name and its coordinates. The schools returned are all within the radius from the coordinates passed to the function"
      ],
      "metadata": {
        "id": "WMtRH7KR8cJc"
      }
    },
    {
      "cell_type": "code",
      "source": [
        "def get_schools(lat,lon,rad):\n",
        "  try:\n",
        "    gmaps = googlemaps.Client(os.environ.get('GOOGLE_API_KEY'))\n",
        "    school_list=[]\n",
        "    places_result = gmaps.places_nearby(location= f\"{lat},{lon}\", radius = rad, type = \"school\")\n",
        "    for place in places_result['results']:\n",
        "      school_name= place['name']\n",
        "      school_location_lat= place['geometry']['location']['lat']\n",
        "      school_location_lng= place['geometry']['location']['lng']\n",
        "      school_list.append([school_name, school_location_lat,school_location_lng])\n",
        "    return school_list\n",
        "  except googlemaps.exceptions.ApiError as e:\n",
        "    if e.status==\"INVALID_REQUEST\":\n",
        "      return \"coordinates are invalid\"\n",
        "  except Exception as e:\n",
        "    print(f\"Error: {e}\")"
      ],
      "metadata": {
        "id": "9PhprQYOVatk"
      },
      "execution_count": null,
      "outputs": []
    },
    {
      "cell_type": "markdown",
      "source": [
        "#### Testing invalid latitude input"
      ],
      "metadata": {
        "id": "HVdvgRJ1DgcX"
      }
    },
    {
      "cell_type": "code",
      "source": [
        "test1 = get_schools('p',5,4000)\n",
        "if test1 == 'coordinates are invalid':\n",
        "  print('test1 passed')\n",
        "else:\n",
        "  print('test1 failed')"
      ],
      "metadata": {
        "id": "4VH6qjE5DfWr",
        "outputId": "2c8882c9-9d30-462f-ad47-93d8ad1f131d",
        "colab": {
          "base_uri": "https://localhost:8080/"
        }
      },
      "execution_count": null,
      "outputs": [
        {
          "output_type": "stream",
          "name": "stdout",
          "text": [
            "test1 passed\n"
          ]
        }
      ]
    },
    {
      "cell_type": "markdown",
      "source": [
        "#### Testing coordinates with no schools\n",
        "---\n"
      ],
      "metadata": {
        "id": "7O1M0ypNEqiw"
      }
    },
    {
      "cell_type": "code",
      "source": [
        "test2 = get_schools(5,5,4000)\n",
        "if test2 == []:\n",
        "  print('test2 passed')\n",
        "else:\n",
        "  print('test failed')"
      ],
      "metadata": {
        "id": "DgrXiypuFIHe",
        "outputId": "811fe3d0-bfed-469c-ffd9-002a03b7866f",
        "colab": {
          "base_uri": "https://localhost:8080/"
        }
      },
      "execution_count": null,
      "outputs": [
        {
          "output_type": "stream",
          "name": "stdout",
          "text": [
            "test2 passed\n"
          ]
        }
      ]
    },
    {
      "cell_type": "markdown",
      "source": [
        "#### Testing invalid radius\n",
        "---\n"
      ],
      "metadata": {
        "id": "J2tHMGPcFRkB"
      }
    },
    {
      "cell_type": "code",
      "source": [
        "test3 = get_schools(5,5,'h')\n",
        "if test3 == 'coordinates are invalid':\n",
        "  print('test3 passed')\n",
        "else:\n",
        "  print('test3 failed')"
      ],
      "metadata": {
        "id": "IcsyNklrFWgp",
        "outputId": "6f30af2e-3628-4ba5-deeb-6677a4478f7a",
        "colab": {
          "base_uri": "https://localhost:8080/"
        }
      },
      "execution_count": null,
      "outputs": [
        {
          "output_type": "stream",
          "name": "stdout",
          "text": [
            "test3 passed\n"
          ]
        }
      ]
    },
    {
      "cell_type": "markdown",
      "source": [
        "#### Testing valid coordinates"
      ],
      "metadata": {
        "id": "Fp5QAeJyFoTJ"
      }
    },
    {
      "cell_type": "code",
      "source": [
        "test4 = get_schools(54.9740,-1.6132,4000)\n",
        "if test4 == [['Jesmond Park Academy', 54.9939443, -1.588097], ['make a wish', 54.9762162, -1.6383755], ['Gateshead College', 54.96657199999999, -1.5981311], ['Royal Grammar School Newcastle', 54.9831764, -1.6073674], ['Jesmond Pool & Gym', 54.99409919999999, -1.6061812], [\"Dame Allan's Schools\", 54.98253940000001, -1.6524177], ['Riverside Primary Academy', 54.9564501, -1.6441569], ['The Bridges Nursery School', 54.96217, -1.6077889], ['Footsteps To Ashfield Day Nursery', 54.9690929, -1.6360595], ['Kumon Maths & English', 54.9816496, -1.6007528], ['Aquapursuits Marine training academy, Scuba Diving and RYA Training Centre', 54.9750562, -1.5961981], ['Kumon Maths & English', 54.9745427, -1.6484453], ['Childsplay Nursery', 54.982187, -1.618674], ['Chris Chambers Guitar', 54.9893061, -1.5742133], ['Newcastle High School for Girls Junior School', 54.9845261, -1.595181199999999], ['Tik-Tok Nursery', 54.9596007, -1.5841509], [\"Ladybird's Childrens Nursery\", 54.99831229999999, -1.6275439], ['Keser Torah Boys School', 54.95503859999999, -1.6030201], ['Newcastle Guitar School', 54.9810364, -1.5844317], ['Corpus Christi Catholic Primary School, Gateshead', 54.94900329999999, -1.6110424]]:\n",
        "  print('test4 passed')\n",
        "else:\n",
        "  print('test4 failed')"
      ],
      "metadata": {
        "id": "YwhqGtkAFrDR",
        "outputId": "5676442b-7ff8-4494-c9c4-822f4d7ae281",
        "colab": {
          "base_uri": "https://localhost:8080/"
        }
      },
      "execution_count": null,
      "outputs": [
        {
          "output_type": "stream",
          "name": "stdout",
          "text": [
            "test4 passed\n"
          ]
        }
      ]
    }
  ]
}