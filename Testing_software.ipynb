{
  "nbformat": 4,
  "nbformat_minor": 0,
  "metadata": {
    "colab": {
      "provenance": [],
      "include_colab_link": true
    },
    "kernelspec": {
      "name": "python3",
      "display_name": "Python 3"
    },
    "language_info": {
      "name": "python"
    }
  },
  "cells": [
    {
      "cell_type": "markdown",
      "metadata": {
        "id": "view-in-github",
        "colab_type": "text"
      },
      "source": [
        "<a href=\"https://colab.research.google.com/github/IrynaGg/Python-and-cyber/blob/main/Copy_of_Testing_software.ipynb\" target=\"_parent\"><img src=\"https://colab.research.google.com/assets/colab-badge.svg\" alt=\"Open In Colab\"/></a>"
      ]
    },
    {
      "cell_type": "markdown",
      "source": [
        "# Software testing\n",
        "---\n",
        "\n",
        "When we introduce new software into a wider system we need to ensure that it won't also introduce problems such as unauthorised access, data inaccuracy, or data corruption.\n",
        "\n",
        "Any software that is made available to users is vulnerable to misuse.  The software must be written to reduce the risk and the impact of misuse.\n",
        "\n",
        "Software, and data, can be protected in a range of way:\n",
        "*  passwords\n",
        "*  user access levels\n",
        "*  access control lists\n",
        "*  access keys or tokens\n",
        "\n",
        "Before software reaches end users, it should be fully tested for functionality (does it do what it needs to do) and security (can it be compromised)"
      ],
      "metadata": {
        "id": "__zep5Ixf7rd"
      }
    },
    {
      "cell_type": "markdown",
      "source": [
        "## Exercise 1 - Understand the example scenario\n",
        "\n",
        "A small app is written to store a balance in a savings account for a user.  The user must log in (to demonstrate that they are authorised to use the app) then can do one of three things:\n",
        "*  view a user's balance\n",
        "*  view all records\n",
        "*  add funds for a user\n",
        "*  remove funds for a user (funds must not go below 0)\n",
        "*  add a new user with a balance of 0\n",
        "*  remove a user\n",
        "*  exit the app\n",
        "\n",
        "Examine each of the code cells, and their explanatory text below.  Add extra print instructions if it helps, to get an idea of what a query looks like, what data is returned from the database, etc.\n",
        "\n",
        "**You are going to test this code and so need to have an idea of what it does.  It has errors and your testing should find these errors.**"
      ],
      "metadata": {
        "id": "1niM4l5whaX1"
      }
    },
    {
      "cell_type": "markdown",
      "source": [
        "### Create a database (using sqlite3) in this colab's file system\n",
        "---\n",
        "(database connection will be created and named **db_conn**)\n",
        "\n",
        "Run the code in the cell below, then open the files panel on the left of the screen, and click on the refresh button.  You will be able to see that the database has been created.  [Video demonstration](https://vimeo.com/900384283/c15acc62a7?share=copy)\n",
        "\n",
        "The code:\n",
        "*  creates a connection to a database with name savings.sqlite\n",
        "*  creates a cursor that can perform SQL queries to  data\n"
      ],
      "metadata": {
        "id": "r9Mbjc1PiyGE"
      }
    },
    {
      "cell_type": "code",
      "execution_count": 80,
      "metadata": {
        "id": "Fax2eiDDdQeZ",
        "colab": {
          "base_uri": "https://localhost:8080/"
        },
        "outputId": "b856593c-d7e5-4dfb-9ff5-3b96285a80f2"
      },
      "outputs": [
        {
          "output_type": "stream",
          "name": "stdout",
          "text": [
            "Database connected and savings table created if it didn't exist\n"
          ]
        }
      ],
      "source": [
        "import sqlite3\n",
        "\n",
        "def create_database(db_name):\n",
        "  conn = sqlite3.connect(db_name)\n",
        "  cur = conn.cursor()\n",
        "  query = \"CREATE TABLE IF NOT EXISTS savings(user_id INTEGER PRIMARY KEY, balance REAL)\"\n",
        "  cur.execute(query)\n",
        "  conn.commit()\n",
        "  print(\"Database connected and savings table created if it didn't exist\")\n",
        "  return conn\n",
        "\n",
        "db_conn = create_database(\"/content/savings.sqlite\")"
      ]
    },
    {
      "cell_type": "markdown",
      "source": [
        "## View the database to check it looks correct\n",
        "---\n",
        "\n",
        "Get the data from the database table and return the data and the column headings\n"
      ],
      "metadata": {
        "id": "CLf4Y0sZlkLV"
      }
    },
    {
      "cell_type": "code",
      "source": [
        "from tabulate import tabulate\n",
        "\n",
        "def get_data(conn):\n",
        "  cur = conn.cursor()\n",
        "  query = \"SELECT * FROM savings\"\n",
        "  cur.execute(query)\n",
        "  data = cur.fetchall()\n",
        "  columns = tuple(map(lambda x: x[0], cur.description))\n",
        "  return data, columns\n",
        "\n",
        "table_data, columns = get_data(db_conn)\n",
        "print(tabulate(table_data, headers = columns))"
      ],
      "metadata": {
        "id": "IQc0UINElom7",
        "colab": {
          "base_uri": "https://localhost:8080/"
        },
        "outputId": "bbd447c6-430a-409e-f6ba-583bc9802a76"
      },
      "execution_count": 81,
      "outputs": [
        {
          "output_type": "stream",
          "name": "stdout",
          "text": [
            "user_id    balance\n",
            "---------  ---------\n"
          ]
        }
      ]
    },
    {
      "cell_type": "markdown",
      "source": [
        "### Add a balance for a user with id 1\n",
        "---\n",
        "The function below will add a new record to the database with a given user ID and a starting balance of 0.\n",
        "\n",
        "Run it to add the record"
      ],
      "metadata": {
        "id": "xyJAyURPisRd"
      }
    },
    {
      "cell_type": "code",
      "source": [
        "def add_new_user(user_id, conn):\n",
        "  cur = conn.cursor()\n",
        "  query = f\"INSERT INTO savings(user_id,balance) VALUES({str(user_id)},0)\"\n",
        "  cur.execute(query)\n",
        "  db_conn.commit()\n",
        "  print(f\"User {str(user_id)} record added\")\n",
        "\n",
        "initialise = add_new_user(1, db_conn)"
      ],
      "metadata": {
        "id": "8eFb9q0kkGBG",
        "colab": {
          "base_uri": "https://localhost:8080/"
        },
        "outputId": "e8fc44c9-bfcb-45cb-a05b-ebee6d6fe191"
      },
      "execution_count": 82,
      "outputs": [
        {
          "output_type": "stream",
          "name": "stdout",
          "text": [
            "User 1 record added\n"
          ]
        }
      ]
    },
    {
      "cell_type": "markdown",
      "source": [
        "### Check that the balance was saved by getting the data, then print the whole database table\n",
        "---\n",
        "These functions can be used every time you need to get all the data from the database and want to display it."
      ],
      "metadata": {
        "id": "HoksY8eRntnb"
      }
    },
    {
      "cell_type": "code",
      "source": [
        "def get_data(conn):\n",
        "  cur = conn.cursor()\n",
        "  query = \"SELECT * FROM savings\"\n",
        "  cur.execute(query)\n",
        "  data = cur.fetchall()\n",
        "  columns = tuple(map(lambda x: x[0], cur.description))\n",
        "  return data, columns\n",
        "\n",
        "table_data, columns = get_data(db_conn)\n",
        "print(tabulate(table_data, headers=columns))"
      ],
      "metadata": {
        "id": "yK4-2AL1n_6T",
        "colab": {
          "base_uri": "https://localhost:8080/"
        },
        "outputId": "91f07180-94cd-4264-8978-d2e3900527a8"
      },
      "execution_count": 83,
      "outputs": [
        {
          "output_type": "stream",
          "name": "stdout",
          "text": [
            "  user_id    balance\n",
            "---------  ---------\n",
            "        1          0\n"
          ]
        }
      ]
    },
    {
      "cell_type": "markdown",
      "source": [
        "## Check that a user exists before trying to do anything with their data\n",
        "---\n",
        "\n",
        "This function will check that a user with a given id exists in the database.  This helps to reduce errors that would occur if code tried to update or remove a record that doesn't exist.\n",
        "\n",
        "The function can be used before every update or remove operation."
      ],
      "metadata": {
        "id": "b645UDuJiH5C"
      }
    },
    {
      "cell_type": "code",
      "source": [
        "def does_exist(user_id, conn):\n",
        "  cur = conn.cursor()\n",
        "  query = f\"SELECT * FROM savings WHERE user_id = {str(user_id)}\"\n",
        "  cur.execute(query)\n",
        "  data = cur.fetchone()\n",
        "  return data is not None\n",
        "\n",
        "print(does_exist(1, db_conn))"
      ],
      "metadata": {
        "id": "_BlHN8M8idtR",
        "colab": {
          "base_uri": "https://localhost:8080/"
        },
        "outputId": "05a667b1-e684-47f4-eea5-79dd10bb7e38"
      },
      "execution_count": 84,
      "outputs": [
        {
          "output_type": "stream",
          "name": "stdout",
          "text": [
            "True\n"
          ]
        }
      ]
    },
    {
      "cell_type": "markdown",
      "source": [
        "## Display a user's balance\n",
        "---\n",
        "Given a user id, display the balance for that user"
      ],
      "metadata": {
        "id": "_6WtR6vUsPn5"
      }
    },
    {
      "cell_type": "code",
      "source": [
        "def get_user_data(user_id, conn):\n",
        "  if does_exist(user_id, conn):\n",
        "    cur = conn.cursor()\n",
        "    query = f\"SELECT balance FROM savings WHERE user_id={str(user_id)}\"\n",
        "    cur.execute(query)\n",
        "    data = cur.fetchone()\n",
        "    return data[0]\n",
        "  else:\n",
        "    return \"User does not exist\"\n",
        "\n",
        "balance = get_user_data(1, db_conn)\n",
        "print(balance)"
      ],
      "metadata": {
        "id": "1A1xbXMOssN4",
        "colab": {
          "base_uri": "https://localhost:8080/"
        },
        "outputId": "8682f013-c194-4a61-99d6-c011fdd58f01"
      },
      "execution_count": 85,
      "outputs": [
        {
          "output_type": "stream",
          "name": "stdout",
          "text": [
            "0.0\n"
          ]
        }
      ]
    },
    {
      "cell_type": "markdown",
      "source": [
        "### Add funds\n",
        "---\n",
        "\n",
        "Run the code below to add 15 to the balance for user with user_id 1"
      ],
      "metadata": {
        "id": "6Kk_1X57Sqv-"
      }
    },
    {
      "cell_type": "code",
      "source": [
        "def add_funds(user_id, amount, conn):\n",
        "  if does_exist(user_id, conn):\n",
        "    cur = db_conn.cursor()\n",
        "    query = f\"UPDATE savings SET balance=balance+{str(amount)} WHERE user_id={str(user_id)}\"\n",
        "    cur.execute(query)\n",
        "    data = cur.fetchall()\n",
        "    return f\"Record for user: {str(user_id)} updated - {str(amount)} added\"\n",
        "  else:\n",
        "    return \"User does not exist\"\n",
        "\n",
        "updated_row = add_funds(1, 15, db_conn)\n",
        "table_data, columns = get_data(db_conn)\n",
        "print(tabulate(table_data, headers = columns))"
      ],
      "metadata": {
        "id": "lugy_SfJUAON",
        "colab": {
          "base_uri": "https://localhost:8080/"
        },
        "outputId": "5bc6f3ab-6d02-4371-f7d0-f957dd22439e"
      },
      "execution_count": 86,
      "outputs": [
        {
          "output_type": "stream",
          "name": "stdout",
          "text": [
            "  user_id    balance\n",
            "---------  ---------\n",
            "        1         15\n"
          ]
        }
      ]
    },
    {
      "cell_type": "markdown",
      "source": [
        "### Remove funds\n",
        "---\n",
        "\n",
        "(user_id, amount):\n"
      ],
      "metadata": {
        "id": "IP25lSLDWC61"
      }
    },
    {
      "cell_type": "code",
      "source": [
        "def remove_funds(user_id, amount, conn):\n",
        "  if does_exist(user_id, conn):\n",
        "    cur = conn.cursor()\n",
        "    query = f\"UPDATE savings SET balance=balance - {str(amount)} WHERE user_id={str(user_id)}\"\n",
        "    cur.execute(query)\n",
        "    data = cur.fetchall()\n",
        "    print(f\"Record for user: {str(user_id)} updated - {str(amount)} removed\")\n",
        "  else:\n",
        "    return \"User does not exist\"\n",
        "\n",
        "updated_row = remove_funds(1, 15, db_conn)\n",
        "table_data, columns = get_data(db_conn)\n",
        "print(tabulate(table_data, headers = columns))"
      ],
      "metadata": {
        "id": "W3Xkl6zBWK_i",
        "colab": {
          "base_uri": "https://localhost:8080/"
        },
        "outputId": "e55d86e7-5967-45b2-8149-c946f5375868"
      },
      "execution_count": 87,
      "outputs": [
        {
          "output_type": "stream",
          "name": "stdout",
          "text": [
            "Record for user: 1 updated - 15 removed\n",
            "  user_id    balance\n",
            "---------  ---------\n",
            "        1          0\n"
          ]
        }
      ]
    },
    {
      "cell_type": "markdown",
      "source": [
        "##  Exercise 2 - Have a go\n",
        "---\n",
        "Write a function (call it ```add_user_set()``` that will call the add_new_user(user_id) function to add users with ids from 2 to 10.  \n",
        "\n",
        "**Hint**:  *use a for loop to count from 2 to 10 and add a new user with the count as its id each time*"
      ],
      "metadata": {
        "id": "bdEK3LxNbFtV"
      }
    },
    {
      "cell_type": "code",
      "source": [
        "def add_user_set():\n",
        "    for i in range(2, 11):\n",
        "        add_new_user(i,db_conn)\n",
        "add_user_set()\n",
        "table_data,columns = get_data(db_conn)\n",
        "print(tabulate(table_data,headers=columns))\n"
      ],
      "metadata": {
        "id": "6ezcyt0Lgx5C",
        "colab": {
          "base_uri": "https://localhost:8080/"
        },
        "outputId": "cbb2f058-f47d-45ff-96ef-851e65b2096d"
      },
      "execution_count": 88,
      "outputs": [
        {
          "output_type": "stream",
          "name": "stdout",
          "text": [
            "User 2 record added\n",
            "User 3 record added\n",
            "User 4 record added\n",
            "User 5 record added\n",
            "User 6 record added\n",
            "User 7 record added\n",
            "User 8 record added\n",
            "User 9 record added\n",
            "User 10 record added\n",
            "  user_id    balance\n",
            "---------  ---------\n",
            "        1          0\n",
            "        2          0\n",
            "        3          0\n",
            "        4          0\n",
            "        5          0\n",
            "        6          0\n",
            "        7          0\n",
            "        8          0\n",
            "        9          0\n",
            "       10          0\n"
          ]
        }
      ]
    },
    {
      "cell_type": "markdown",
      "source": [
        "## Exercise 3 - write a function to remove a user\n",
        "---\n",
        "\n",
        "Write a final function, called remove_user(user_id) that will remove an existing user.  Remember to check that the user exists before removing.  \n",
        "\n",
        "The SQL query for removing a specified `user_id` is:  \n",
        "`\"DELETE FROM savings WHERE user_id=\" + str(user_id)`\n",
        "\n"
      ],
      "metadata": {
        "id": "KWSb9Iowhqny"
      }
    },
    {
      "cell_type": "code",
      "source": [
        "def remove_user(user_id,conn):\n",
        "  if does_exist(user_id,conn):\n",
        "    cur=conn.cursor()\n",
        "    query=f\"DELETE FROM savings WHERE user_id={str(user_id)}\"\n",
        "    cur.execute(query)\n",
        "    db_conn.commit()\n",
        "    print(f\"User {str(user_id)} record removed\")\n",
        "  else:\n",
        "    return \"User does not exist\"\n",
        "remove_user(5,db_conn)\n",
        "# if added remove_user(5,db_conn) again it will return just the last function"
      ],
      "metadata": {
        "id": "-yYf7cGDjxNj",
        "colab": {
          "base_uri": "https://localhost:8080/"
        },
        "outputId": "cfbd999b-ab9e-4c94-d3cd-6bd4ecb37046"
      },
      "execution_count": 89,
      "outputs": [
        {
          "output_type": "stream",
          "name": "stdout",
          "text": [
            "User 5 record removed\n"
          ]
        }
      ]
    },
    {
      "cell_type": "markdown",
      "source": [
        "## Exit the app, closing the database connection\n",
        "---\n",
        "All apps that access databases should close the connection on exiting.  This is generally done when a set of processing has been completed and uses the instruction:  \n",
        "\n",
        "```db_conn.close()```\n",
        "\n",
        "where db_conn is the name of the connection to the database."
      ],
      "metadata": {
        "id": "JLX1g6rpW6eG"
      }
    },
    {
      "cell_type": "code",
      "source": [
        "# close and nullify the database connection\n",
        "def exit_app(conn):\n",
        "  conn.close()\n",
        "  conn = None\n",
        "  print(\"Exiting app...\")\n",
        "  return conn\n",
        "\n",
        "db_conn = exit_app(db_conn)"
      ],
      "metadata": {
        "id": "5joZIfuKlReZ",
        "colab": {
          "base_uri": "https://localhost:8080/"
        },
        "outputId": "614b55c0-efc4-4b91-8e01-651d46861637"
      },
      "execution_count": 90,
      "outputs": [
        {
          "output_type": "stream",
          "name": "stdout",
          "text": [
            "Exiting app...\n"
          ]
        }
      ]
    },
    {
      "cell_type": "markdown",
      "source": [
        "# Exercise 4 - Create a test plan to test the functionality of the example app\n",
        "---\n",
        "\n",
        "## 1.  Functionality testing\n",
        "\n",
        "Now that you have a basic (at least) understanding of the code for this database app, and you have a database created (savings.sqlite) with 9 records already added, devise a testing plan to cover the functionality.\n",
        "\n",
        "The objective of the testing plan is to make the app fail so that you can identify all the areas that need to be improved to make it robust.\n",
        "\n",
        "The code in the next cell is the entire app (excluding the creation of the database which has already been done).\n",
        "\n",
        "Run the code to make the functions active."
      ],
      "metadata": {
        "id": "uldqRjOQJ5hG"
      }
    },
    {
      "cell_type": "code",
      "source": [
        "import sqlite3\n",
        "from tabulate import tabulate\n",
        "\n",
        "# gets a copy of the data from the savings table\n",
        "# ---------------------------------------------------------------------------------------------------------------------------------------------------\n",
        "def get_data(conn):\n",
        "  cur = conn.cursor()\n",
        "  query = \"SELECT * FROM savings\"\n",
        "  cur.execute(query)\n",
        "  data = cur.fetchall()\n",
        "  columns = tuple(map(lambda x: x[0], cur.description))\n",
        "  return data, columns\n",
        "\n",
        "# prints the balance for.   The table will have a number of rows corresponding to the number of users plus a header row.\n",
        "# it will be possible to get a list of users from this table\n",
        "# ---------------------------------------------------------------------------------------------------------------------------------------------------\n",
        "def get_user_data(user_id, conn):\n",
        "  if does_exist(user_id): #add \"conn\"??????? (user_id,conn)\n",
        "    cur = conn.cursor()\n",
        "    query = f\"SELECT balance FROM savings WHERE user_id={str(user_id)}\"\n",
        "    cur.execute(query)\n",
        "    data = cur.fetchone()\n",
        "    return data[0]\n",
        "  else:\n",
        "    return \"User does not exist\"\n",
        "\n",
        "# check that a user with a given id does or doesn't exist in the savings table\n",
        "# returns True or False\n",
        "# ---------------------------------------------------------------------------------------------------------------------------------------------------\n",
        "def does_exist(user_id, conn):\n",
        "  cur = conn.cursor()\n",
        "  query = f\"SELECT * FROM savings WHERE user_id = {str(user_id)}\"\n",
        "  cur.execute(query)\n",
        "  data = cur.fetchone()\n",
        "  return data is not None\n",
        "\n",
        "# adds a user with the given id to the savings table\n",
        "# returns a message to confirm that this has happened\n",
        "# ---------------------------------------------------------------------------------------------------------------------------------------------------\n",
        "def add_new_user(user_id, conn):\n",
        "  cur = conn.cursor()\n",
        "  query = f\"INSERT INTO savings(user_id,balance) VALUES({str(user_id)},0)\"\n",
        "  cur.execute(query)\n",
        "  conn.commit()\n",
        "  print(f\"User {str(user_id)} record added\")\n",
        "  return True\n",
        "\n",
        "# removes a user with the given id from the savings table after checking that the user does exist\n",
        "# returns a message to confirm that this has happened or that the user doesn't exist\n",
        "# ----------------------------------------------------------------------------------------------------------------------------------\n",
        "def remove_user(user_id, conn):\n",
        "  if does_exist(user_id, conn):\n",
        "    cur = conn.cursor()\n",
        "    query = f\"DELETE FROM savings WHERE user_id={str(user_id)}\"\n",
        "    cur.execute(query)\n",
        "    print(f\"User {str(user_id)} deleted\")\n",
        "    return True\n",
        "  else:\n",
        "    print(\"User does not exist\")\n",
        "    return False\n",
        "\n",
        "# updates the balance for the given user by adding the given amount onto the balance\n",
        "# returns a message to confirm that this has happened or that the user doesn't exist\n",
        "# ----------------------------------------------------------------------------------------------------------------------------------\n",
        "def add_funds(user_id, amount, conn):\n",
        "  if does_exist(user_id, conn):\n",
        "    cur = conn.cursor()\n",
        "    query = f\"UPDATE savings SET balance=balance+{str(amount)} WHERE user_id={str(user_id)}\"\n",
        "    cur.execute(query)\n",
        "    data = cur.fetchall()\n",
        "    print(f\"Record for user: {str(user_id)} updated - {str(amount)} added\")\n",
        "    return True\n",
        "  else:\n",
        "    print(\"User does not exist\")\n",
        "    return False\n",
        "\n",
        "# updates the balance for the given user by subtracting the given amount from the balance\n",
        "# returns a message to confirm that this has happened or that the user doesn't exist\n",
        "# ----------------------------------------------------------------------------------------------------------------------------------\n",
        "def remove_funds(user_id, amount, conn):\n",
        "  if does_exist(user_id, conn):\n",
        "    cur = conn.cursor()\n",
        "    query = f\"UPDATE savings SET balance=balance - {str(amount)} WHERE user_id={str(user_id)}\"\n",
        "    cur.execute(query)\n",
        "    data = cur.fetchall()\n",
        "    print(f\"Record for user: {str(user_id)} updated - {str(amount)} removed\")\n",
        "    return True\n",
        "  else:\n",
        "    print(\"User does not exist\")\n",
        "    return False\n",
        "\n",
        "# nullifies the connection so that is can't accidentally be used again\n",
        "# ----------------------------------------------------------------------------------------------------------------------------------\n",
        "def exit_app(conn):\n",
        "  conn.close()\n",
        "  conn = None\n",
        "  print(\"Exiting app...\")\n",
        "  return conn"
      ],
      "metadata": {
        "id": "cj3q2y0xmj16"
      },
      "execution_count": 104,
      "outputs": []
    },
    {
      "cell_type": "markdown",
      "source": [
        "The required functionality is:  \n",
        "* view the balance for a given user\n",
        "* view all records in the savings table\n",
        "* add funds for a user\n",
        "* remove funds for a user (funds must not go below 0)\n",
        "* add a new user with a balance of 0\n",
        "* remove a user\n",
        "* exit the app\n",
        "\n"
      ],
      "metadata": {
        "id": "7T6rf5mVpAIP"
      }
    },
    {
      "cell_type": "markdown",
      "source": [
        "### Prepare a new database ready for testing\n",
        "---\n",
        "\n",
        "**FIRST** - delete the file savings.sqlite from this colab's file system (open the file panel, delete the file by clicking on the three dots next to the file name, then select *Delete file*)\n",
        "\n",
        "\n",
        "**THEN** run the code below to recreate the database and table ready for testing."
      ],
      "metadata": {
        "id": "FUS2YhID3ko1"
      }
    },
    {
      "cell_type": "code",
      "source": [
        "#  APP CODE\n",
        "# create the database, add 10 users with starting balances from the list, display the table and exit the app - this code will set up the databse ready for testing.\n",
        "\n",
        "\n",
        "def setup_database(db_conn):\n",
        "  starting_balances = [44,5,42,32,25,5,26,39,45,29]\n",
        "  for id in range(1, 11):\n",
        "      add_new_user(id, db_conn)\n",
        "      add_funds(id, starting_balances[id-1], db_conn)\n",
        "  print(\"test data added\")\n",
        "\n",
        "!!rm /content/savings.sqlite\n",
        "db_conn = create_database(\"/content/savings.sqlite\")\n",
        "setup_database(db_conn)\n",
        "data, columns = get_data(db_conn)\n",
        "print(tabulate(data, headers = columns))\n",
        "exit_app(db_conn)"
      ],
      "metadata": {
        "id": "knHvyO_n3SWR",
        "colab": {
          "base_uri": "https://localhost:8080/"
        },
        "outputId": "6677a57e-80c1-4f92-d2ea-0e074a72a45a"
      },
      "execution_count": 92,
      "outputs": [
        {
          "output_type": "stream",
          "name": "stdout",
          "text": [
            "Database connected and savings table created if it didn't exist\n",
            "User 1 record added\n",
            "Record for user: 1 updated - 44 added\n",
            "User 2 record added\n",
            "Record for user: 2 updated - 5 added\n",
            "User 3 record added\n",
            "Record for user: 3 updated - 42 added\n",
            "User 4 record added\n",
            "Record for user: 4 updated - 32 added\n",
            "User 5 record added\n",
            "Record for user: 5 updated - 25 added\n",
            "User 6 record added\n",
            "Record for user: 6 updated - 5 added\n",
            "User 7 record added\n",
            "Record for user: 7 updated - 26 added\n",
            "User 8 record added\n",
            "Record for user: 8 updated - 39 added\n",
            "User 9 record added\n",
            "Record for user: 9 updated - 45 added\n",
            "User 10 record added\n",
            "Record for user: 10 updated - 29 added\n",
            "test data added\n",
            "  user_id    balance\n",
            "---------  ---------\n",
            "        1         44\n",
            "        2          5\n",
            "        3         42\n",
            "        4         32\n",
            "        5         25\n",
            "        6          5\n",
            "        7         26\n",
            "        8         39\n",
            "        9         45\n",
            "       10         29\n",
            "Exiting app...\n"
          ]
        }
      ]
    },
    {
      "cell_type": "markdown",
      "source": [
        "## 2.  Your task\n",
        "---\n",
        "Open a copy of this testing document and fill in a full set of test cases.\n",
        "\n",
        "[Testing document](https://docs.google.com/document/d/1zSWvL5Ufx7O0IgSXcEzFqsouXGiNQ3JWelOeGRSHEIM/edit?usp=sharing)\n",
        "\n",
        "Edit in Google drive and share your document (Anyone with the link can view) and add the link in the text box below."
      ],
      "metadata": {
        "id": "FKaLldXWwsh6"
      }
    },
    {
      "cell_type": "markdown",
      "source": [
        "**Double-click on this cell to enable editing**\n",
        "\n",
        "Add the link to your testing plan inside the round brackets [**here**]()"
      ],
      "metadata": {
        "id": "9OVR7THIycWG"
      }
    },
    {
      "cell_type": "markdown",
      "source": [
        "### Test the app following your plan\n",
        "---\n",
        "Use the code cell below to add and run code to run all test cases.  Add a screenshot of any test output that doesn't match the expected output in your testing table.\n",
        "\n",
        "Run the code in the code cell above to make sure that all the functions are available to use.\n",
        "\n",
        "A starter test has been added for you.   Run the code in the cell.  If you don't get the expected outcome, add and remove users as needed until you get this outcome."
      ],
      "metadata": {
        "id": "3and9kUxyuO2"
      }
    },
    {
      "cell_type": "code",
      "source": [
        "#View the balance for an valid user\n",
        "\n",
        "def get_user_data(user_id, conn):\n",
        "  if does_exist(user_id,conn): #added conn attribute\n",
        "    cur = conn.cursor()\n",
        "    query = f\"SELECT balance FROM savings WHERE user_id=str{(user_id)}\"\n",
        "    cur.execute(query)\n",
        "    data = cur.fetchone()\n",
        "    return data[0]\n",
        "  else:\n",
        "    return \"User does not exist\"\n",
        "get_user_data(1, db_conn)"
      ],
      "metadata": {
        "colab": {
          "base_uri": "https://localhost:8080/"
        },
        "id": "bkI5JfnxmTwv",
        "outputId": "6cf11917-18cd-4e91-9e68-6be4520f9032"
      },
      "execution_count": 110,
      "outputs": [
        {
          "output_type": "execute_result",
          "data": {
            "text/plain": [
              "44.0"
            ]
          },
          "metadata": {},
          "execution_count": 110
        }
      ]
    },
    {
      "cell_type": "code",
      "source": [
        "# test - view all records in the database - the first line will delete the current database file so that a new one can be\n",
        "db_conn = sqlite3.connect(\"/content/savings.sqlite\")\n",
        "data, columns = get_data(db_conn)\n",
        "print(tabulate(data, headers = columns))"
      ],
      "metadata": {
        "id": "os_7zscU1Jw-",
        "colab": {
          "base_uri": "https://localhost:8080/"
        },
        "outputId": "15becc16-12c8-4f94-b399-cc581fb34332"
      },
      "execution_count": 102,
      "outputs": [
        {
          "output_type": "stream",
          "name": "stdout",
          "text": [
            "  user_id    balance\n",
            "---------  ---------\n",
            "        1         44\n",
            "        2          5\n",
            "        3         42\n",
            "        4         32\n",
            "        5         25\n",
            "        6          5\n",
            "        7         26\n",
            "        8         39\n",
            "        9         45\n",
            "       10          0\n"
          ]
        }
      ]
    },
    {
      "cell_type": "code",
      "source": [
        "#test 3 View the balance for a non-valid user\n",
        "\n",
        "get_user_data(15, db_conn)"
      ],
      "metadata": {
        "colab": {
          "base_uri": "https://localhost:8080/",
          "height": 35
        },
        "id": "iM5WMXo9pNHF",
        "outputId": "51d96716-9056-4de7-ea5e-01666b36a1fe"
      },
      "execution_count": 107,
      "outputs": [
        {
          "output_type": "execute_result",
          "data": {
            "text/plain": [
              "'User does not exist'"
            ],
            "application/vnd.google.colaboratory.intrinsic+json": {
              "type": "string"
            }
          },
          "metadata": {},
          "execution_count": 107
        }
      ]
    },
    {
      "cell_type": "code",
      "source": [
        "#test4 View the balance with an incorrect data type\n",
        "\n",
        "get_user_data(\"1\", db_conn)"
      ],
      "metadata": {
        "colab": {
          "base_uri": "https://localhost:8080/"
        },
        "id": "blGH75KdpXex",
        "outputId": "b8f8a445-5338-457d-c17e-8cb5ef3428c4"
      },
      "execution_count": 113,
      "outputs": [
        {
          "output_type": "execute_result",
          "data": {
            "text/plain": [
              "44.0"
            ]
          },
          "metadata": {},
          "execution_count": 113
        }
      ]
    },
    {
      "cell_type": "code",
      "source": [
        "add_new_user(1, db_conn)"
      ],
      "metadata": {
        "colab": {
          "base_uri": "https://localhost:8080/",
          "height": 297
        },
        "id": "NcRgfr6VrXsr",
        "outputId": "a2fb3a88-9a9a-44df-8033-e5e2efd61868"
      },
      "execution_count": 115,
      "outputs": [
        {
          "output_type": "error",
          "ename": "IntegrityError",
          "evalue": "UNIQUE constraint failed: savings.user_id",
          "traceback": [
            "\u001b[0;31m---------------------------------------------------------------------------\u001b[0m",
            "\u001b[0;31mIntegrityError\u001b[0m                            Traceback (most recent call last)",
            "\u001b[0;32m<ipython-input-115-4553308de66f>\u001b[0m in \u001b[0;36m<cell line: 1>\u001b[0;34m()\u001b[0m\n\u001b[0;32m----> 1\u001b[0;31m \u001b[0madd_new_user\u001b[0m\u001b[0;34m(\u001b[0m\u001b[0;36m1\u001b[0m\u001b[0;34m,\u001b[0m \u001b[0mdb_conn\u001b[0m\u001b[0;34m)\u001b[0m\u001b[0;34m\u001b[0m\u001b[0;34m\u001b[0m\u001b[0m\n\u001b[0m",
            "\u001b[0;32m<ipython-input-104-39c463d9adae>\u001b[0m in \u001b[0;36madd_new_user\u001b[0;34m(user_id, conn)\u001b[0m\n\u001b[1;32m     41\u001b[0m   \u001b[0mcur\u001b[0m \u001b[0;34m=\u001b[0m \u001b[0mconn\u001b[0m\u001b[0;34m.\u001b[0m\u001b[0mcursor\u001b[0m\u001b[0;34m(\u001b[0m\u001b[0;34m)\u001b[0m\u001b[0;34m\u001b[0m\u001b[0;34m\u001b[0m\u001b[0m\n\u001b[1;32m     42\u001b[0m   \u001b[0mquery\u001b[0m \u001b[0;34m=\u001b[0m \u001b[0;34mf\"INSERT INTO savings(user_id,balance) VALUES({str(user_id)},0)\"\u001b[0m\u001b[0;34m\u001b[0m\u001b[0;34m\u001b[0m\u001b[0m\n\u001b[0;32m---> 43\u001b[0;31m   \u001b[0mcur\u001b[0m\u001b[0;34m.\u001b[0m\u001b[0mexecute\u001b[0m\u001b[0;34m(\u001b[0m\u001b[0mquery\u001b[0m\u001b[0;34m)\u001b[0m\u001b[0;34m\u001b[0m\u001b[0;34m\u001b[0m\u001b[0m\n\u001b[0m\u001b[1;32m     44\u001b[0m   \u001b[0mconn\u001b[0m\u001b[0;34m.\u001b[0m\u001b[0mcommit\u001b[0m\u001b[0;34m(\u001b[0m\u001b[0;34m)\u001b[0m\u001b[0;34m\u001b[0m\u001b[0;34m\u001b[0m\u001b[0m\n\u001b[1;32m     45\u001b[0m   \u001b[0mprint\u001b[0m\u001b[0;34m(\u001b[0m\u001b[0;34mf\"User {str(user_id)} record added\"\u001b[0m\u001b[0;34m)\u001b[0m\u001b[0;34m\u001b[0m\u001b[0;34m\u001b[0m\u001b[0m\n",
            "\u001b[0;31mIntegrityError\u001b[0m: UNIQUE constraint failed: savings.user_id"
          ]
        }
      ]
    },
    {
      "cell_type": "code",
      "source": [
        "remove_funds(1, 100, db_conn)"
      ],
      "metadata": {
        "colab": {
          "base_uri": "https://localhost:8080/"
        },
        "id": "FJLbnnLGsiQP",
        "outputId": "4ffa4ddc-4833-4ce6-dbe9-d46fcdfa752b"
      },
      "execution_count": 118,
      "outputs": [
        {
          "output_type": "stream",
          "name": "stdout",
          "text": [
            "Record for user: 1 updated - 100 removed\n"
          ]
        },
        {
          "output_type": "execute_result",
          "data": {
            "text/plain": [
              "True"
            ]
          },
          "metadata": {},
          "execution_count": 118
        }
      ]
    },
    {
      "cell_type": "code",
      "source": [
        "get_user_data(1, db_conn)"
      ],
      "metadata": {
        "colab": {
          "base_uri": "https://localhost:8080/"
        },
        "id": "yeeNA-7Zs_il",
        "outputId": "3f25fae0-4d0b-4aed-c45a-83a0f4622953"
      },
      "execution_count": 119,
      "outputs": [
        {
          "output_type": "execute_result",
          "data": {
            "text/plain": [
              "-56.0"
            ]
          },
          "metadata": {},
          "execution_count": 119
        }
      ]
    },
    {
      "cell_type": "code",
      "source": [
        "remove_user(2, db_conn)"
      ],
      "metadata": {
        "colab": {
          "base_uri": "https://localhost:8080/"
        },
        "id": "UAfLVbVit6MB",
        "outputId": "38d02891-f6e6-4ebb-e359-7f249d895357"
      },
      "execution_count": 120,
      "outputs": [
        {
          "output_type": "stream",
          "name": "stdout",
          "text": [
            "User 2 deleted\n"
          ]
        },
        {
          "output_type": "execute_result",
          "data": {
            "text/plain": [
              "True"
            ]
          },
          "metadata": {},
          "execution_count": 120
        }
      ]
    },
    {
      "cell_type": "code",
      "source": [
        "add_funds(10, 100, db_conn)"
      ],
      "metadata": {
        "colab": {
          "base_uri": "https://localhost:8080/"
        },
        "id": "wHxd18aduwWg",
        "outputId": "88dab193-51a8-48dd-f6cb-8fb9c15d5aaa"
      },
      "execution_count": 124,
      "outputs": [
        {
          "output_type": "stream",
          "name": "stdout",
          "text": [
            "Record for user: 10 updated - 100 added\n"
          ]
        },
        {
          "output_type": "execute_result",
          "data": {
            "text/plain": [
              "True"
            ]
          },
          "metadata": {},
          "execution_count": 124
        }
      ]
    },
    {
      "cell_type": "code",
      "source": [
        "add_new_user(14,db_conn)\n",
        "get_user_data(14, db_conn)"
      ],
      "metadata": {
        "colab": {
          "base_uri": "https://localhost:8080/"
        },
        "id": "qW_XHO5mv7eo",
        "outputId": "f8b7f759-c430-417e-8ee0-4d10073132d2"
      },
      "execution_count": 131,
      "outputs": [
        {
          "output_type": "stream",
          "name": "stdout",
          "text": [
            "User 13 record added\n"
          ]
        },
        {
          "output_type": "execute_result",
          "data": {
            "text/plain": [
              "-56.0"
            ]
          },
          "metadata": {},
          "execution_count": 131
        }
      ]
    },
    {
      "cell_type": "code",
      "source": [
        "remove_funds(13, 50, db_conn)"
      ],
      "metadata": {
        "colab": {
          "base_uri": "https://localhost:8080/"
        },
        "id": "6wppM1FZxfzl",
        "outputId": "8576136b-6572-4d74-e59c-891dba66df42"
      },
      "execution_count": 132,
      "outputs": [
        {
          "output_type": "stream",
          "name": "stdout",
          "text": [
            "Record for user: 13 updated - 50 removed\n"
          ]
        },
        {
          "output_type": "execute_result",
          "data": {
            "text/plain": [
              "True"
            ]
          },
          "metadata": {},
          "execution_count": 132
        }
      ]
    },
    {
      "cell_type": "code",
      "source": [
        "get_user_data(13, db_conn)"
      ],
      "metadata": {
        "colab": {
          "base_uri": "https://localhost:8080/"
        },
        "id": "4ef88V1kxrXd",
        "outputId": "329426af-153b-4b00-be57-4cf9fa4d358a"
      },
      "execution_count": 133,
      "outputs": [
        {
          "output_type": "execute_result",
          "data": {
            "text/plain": [
              "-56.0"
            ]
          },
          "metadata": {},
          "execution_count": 133
        }
      ]
    },
    {
      "cell_type": "code",
      "source": [
        "data, columns = get_data(db_conn)\n",
        "print(tabulate(data, headers = columns))"
      ],
      "metadata": {
        "colab": {
          "base_uri": "https://localhost:8080/"
        },
        "id": "ZCKuq5jmyh4q",
        "outputId": "78750ab4-3427-445a-ec88-5bdb84b9ec5c"
      },
      "execution_count": 134,
      "outputs": [
        {
          "output_type": "stream",
          "name": "stdout",
          "text": [
            "  user_id    balance\n",
            "---------  ---------\n",
            "        1        -56\n",
            "        3         42\n",
            "        4         32\n",
            "        5         25\n",
            "        6          5\n",
            "        7         26\n",
            "        8         39\n",
            "        9         45\n",
            "       10        100\n",
            "       11          0\n",
            "       12          0\n",
            "       13        -50\n"
          ]
        }
      ]
    },
    {
      "cell_type": "code",
      "source": [
        "remove_funds(10, 50, db_conn)\n",
        "data, columns = get_data(db_conn)\n",
        "print(tabulate(data, headers = columns))"
      ],
      "metadata": {
        "colab": {
          "base_uri": "https://localhost:8080/"
        },
        "id": "k59o-8v4zPv0",
        "outputId": "18a2ed24-ce61-4639-bace-6141af5e7789"
      },
      "execution_count": 137,
      "outputs": [
        {
          "output_type": "stream",
          "name": "stdout",
          "text": [
            "Record for user: 10 updated - 50 removed\n",
            "  user_id    balance\n",
            "---------  ---------\n",
            "        1        -56\n",
            "        3         42\n",
            "        4         32\n",
            "        5         25\n",
            "        6          5\n",
            "        7         26\n",
            "        8         39\n",
            "        9         45\n",
            "       10        100\n",
            "       11          0\n",
            "       12          0\n",
            "       13          0\n"
          ]
        }
      ]
    }
  ]
}