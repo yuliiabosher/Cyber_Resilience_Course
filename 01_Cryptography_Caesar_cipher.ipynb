{
  "nbformat": 4,
  "nbformat_minor": 0,
  "metadata": {
    "colab": {
      "provenance": [],
      "include_colab_link": true
    },
    "kernelspec": {
      "name": "python3",
      "display_name": "Python 3"
    },
    "language_info": {
      "name": "python"
    }
  },
  "cells": [
    {
      "cell_type": "markdown",
      "metadata": {
        "id": "view-in-github",
        "colab_type": "text"
      },
      "source": [
        "<a href=\"https://colab.research.google.com/github/yuliiabosher/Cyber_Resilience_Course/blob/main/01_Cryptography_Caesar_cipher.ipynb\" target=\"_parent\"><img src=\"https://colab.research.google.com/assets/colab-badge.svg\" alt=\"Open In Colab\"/></a>"
      ]
    },
    {
      "cell_type": "markdown",
      "source": [
        "# Cryptography with Python\n",
        "---\n",
        "\n",
        "## Getting started\n",
        "### Encrypting and decrypting data\n",
        "\n",
        "Useful for safe storage of passwords, encrypting smaller amounts of data before transfer\n",
        "\n",
        "Use **keys** and can be **symmetric** or **asymmetric**\n",
        "\n",
        "Let's start by looking at one of the simpler symmetric methods - the Caesar Cipher."
      ],
      "metadata": {
        "id": "T7jeG0_-XcOH"
      }
    },
    {
      "cell_type": "markdown",
      "source": [
        "### Symmetric cryptography\n",
        "---\n",
        "When the technique is symmetric the same key is used to encrypt and decrypt the data.\n",
        "\n",
        "The simplest example is the caesar cipher.\n",
        "\n",
        "#### Caesar cipher methodology\n",
        "\n",
        "A set of data is encrypted by taking each byte and adding a numerical value (the key) to produce an encrypted version of that byte data.  To return to the original data (decrypt) the same numerical value (key) is subtracted.\n",
        "\n",
        "**What would you expect the output of the following code to be?**"
      ],
      "metadata": {
        "id": "TcIS8uJRYpGU"
      }
    },
    {
      "cell_type": "code",
      "execution_count": 1,
      "metadata": {
        "id": "fEzpaikuXX7o",
        "colab": {
          "base_uri": "https://localhost:8080/"
        },
        "outputId": "dbc3e650-1e4a-47d5-ca89-5f7e1e618e1f"
      },
      "outputs": [
        {
          "output_type": "stream",
          "name": "stdout",
          "text": [
            "[6, 7, 8, 9, 10]\n"
          ]
        }
      ],
      "source": [
        "# Caesar cipher code example - encrypt the data\n",
        "###############################################\n",
        "\n",
        "def encrypt(data_block):\n",
        "  key = 5\n",
        "  encrypted_block = []\n",
        "  for byte in data_block:\n",
        "    encrypted_block.append(byte + key)\n",
        "  return encrypted_block\n",
        "\n",
        "\n",
        "data = [1,2,3,4,5]\n",
        "encrypted_data = encrypt(data)\n",
        "print(encrypted_data)"
      ]
    },
    {
      "cell_type": "markdown",
      "source": [
        "#### Run the code above to get the output and check that it is what you expected.\n",
        "\n",
        "The caesar cipher methodology is:\n",
        "*  determine the key\n",
        "*  read the first byte of data from the input data array\n",
        "*  **add** the key to it\n",
        "*  add the result to the output data array  \n",
        "\n",
        "Repeat with the next byte until end of array reached\n",
        "\n",
        "**What would you expect the output of the following code to be?**"
      ],
      "metadata": {
        "id": "flUNGgpymYby"
      }
    },
    {
      "cell_type": "code",
      "source": [
        "# Caesar cipher code example - decrypt the data\n",
        "###############################################\n",
        "\n",
        "def decrypt(encrypted_block):\n",
        "  key = 5\n",
        "  data_block = []\n",
        "  for byte in encrypted_block:\n",
        "    data_block.append(byte - key)\n",
        "  return data_block\n",
        "\n",
        "\n",
        "processed_data = decrypt(encrypted_data)\n",
        "print(processed_data)"
      ],
      "metadata": {
        "id": "0rKp6KR_aob1",
        "colab": {
          "base_uri": "https://localhost:8080/"
        },
        "outputId": "61af5ab9-a28c-4593-f408-3f54f8b228fe"
      },
      "execution_count": 2,
      "outputs": [
        {
          "output_type": "stream",
          "name": "stdout",
          "text": [
            "[1, 2, 3, 4, 5]\n"
          ]
        }
      ]
    },
    {
      "cell_type": "markdown",
      "source": [
        "#### Run the code above to get the output and check that it is what you expected.\n",
        "\n",
        "The caesar cipher methodology for decrypting is:\n",
        "*  determine the key\n",
        "*  read the first byte of data from the input data array\n",
        "*  **subtract** the key from it\n",
        "*  add the result to the output data array  \n",
        "\n",
        "Repeat with the next byte until end of array reached"
      ],
      "metadata": {
        "id": "UpGn4GP1npkR"
      }
    },
    {
      "cell_type": "markdown",
      "source": [
        "## Exercise 1 - encrypt some text using the ASCII values for each letter\n",
        "---\n",
        "Use a caesar cipher technique to encrypt this short message:\n",
        "\n",
        "\"Keep this a secret\"\n",
        "\n",
        "Use a key of 10 and write an encrypt and a decrypt function.\n",
        "\n",
        "**Remember**:  you are encrypting a string and not a list, start with an empty string rather than an empty list and convert each letter to its ASCII code ready for conversion\n",
        "\n",
        "Write the encrypt function ```def encrypt(message)```\n",
        "\n",
        "Run it with message = \"Keep this a secret\"\n",
        "\n",
        "Expected encrypted version: Uooz*~rs}*k*}om|o~"
      ],
      "metadata": {
        "id": "8fE08tsiXcHS"
      }
    },
    {
      "cell_type": "code",
      "source": [
        "# Caesar cipher code example - encrypt the data\n",
        "###############################################\n",
        "def encrypt(message):\n",
        "  key = 10\n",
        "  data_block = \"\"\n",
        "  for i in message:\n",
        "    encrypted_i = chr(ord(i)+key)\n",
        "    data_block+=encrypted_i\n",
        "\n",
        "  return data_block\n",
        "\n",
        "print(encrypt(\"Keep it a secret\"))\n",
        "\n",
        "\n",
        "\n",
        "\n",
        "\n",
        "\n",
        "\n"
      ],
      "metadata": {
        "id": "IVmYFZcYcCXX",
        "colab": {
          "base_uri": "https://localhost:8080/"
        },
        "outputId": "2c4f80dd-a441-4ecc-ce43-758d3b419734"
      },
      "execution_count": 10,
      "outputs": [
        {
          "output_type": "stream",
          "name": "stdout",
          "text": [
            "Uooz*s~*k*}om|o~\n"
          ]
        }
      ]
    },
    {
      "cell_type": "markdown",
      "source": [
        "Now write the code to decrypt, expecting to get the original message back"
      ],
      "metadata": {
        "id": "6l8xy4dueMYm"
      }
    },
    {
      "cell_type": "code",
      "source": [
        "# Caesar cipher code example - decrypt the data\n",
        "###############################################\n",
        "def decrypt(message):\n",
        "  key=10\n",
        "  data_block=\"\"\n",
        "  for i in message:\n",
        "    decrypted_i = chr(ord(i)-10)\n",
        "    data_block+=decrypted_i\n",
        "  return data_block\n",
        "\n",
        "print(decrypt(\"Uooz*s~*k*}om|o~\"))\n"
      ],
      "metadata": {
        "id": "Z_PXbFGLeR-b",
        "colab": {
          "base_uri": "https://localhost:8080/"
        },
        "outputId": "463913d6-74ed-455b-e5e7-33e1c2bf9708"
      },
      "execution_count": 11,
      "outputs": [
        {
          "output_type": "stream",
          "name": "stdout",
          "text": [
            "Keep it a secret\n"
          ]
        }
      ]
    },
    {
      "cell_type": "markdown",
      "source": [
        "### Challenge - what is the key needed to decrypt this message?\n",
        "\n",
        "Znk&loxyz&x{rk&ul&ixvzumxgvn&ir{h&oy@&tk|kx&ot|ktz&g&ixvzumxgvn&yyzks&u{xykrl4&Znk&ykiutj&x{rk&ul&ixvzumxgvn&ir{h&oy@&tk|kx&osvrksktz&g&ixvzumxgvn&yyzks&u{xykrl@&sgt&xkgr3}uxrj&nurky&gxk&lu{tj&ot&znk&osvrksktzgzout&vngyk&ul&g&ixvzuyyzks&gy&}krr&gy&ot&znk&jkyomt4\n",
        "\n"
      ],
      "metadata": {
        "id": "aOyfSUfWe4xR"
      }
    },
    {
      "cell_type": "code",
      "source": [
        "def decrypt(message):\n",
        "  for key in range(26):\n",
        "    data_block=\"\"\n",
        "    for i in message:\n",
        "      decrypted_i = chr(ord(i)-key)\n",
        "      data_block+=decrypted_i\n",
        "    print(data_block)\n",
        "\n",
        "print(decrypt(\"Znk&loxyz&x{rk&ul&ixvzumxgvn&ir{h&oy@&tk|kx&ot|ktz&g&ixvzumxgvn&yyzks&u{xykrl4&Znk&ykiutj&x{rk&ul&ixvzumxgvn&ir{h&oy@&tk|kx&osvrksktz&g&ixvzumxgvn&yyzks&u{xykrl@&sgt&xkgr3}uxrj&nurky&gxk&lu{tj&ot&znk&osvrksktzgzout&vngyk&ul&g&ixvzuyyzks&gy&}krr&gy&ot&znk&jkyomt4\"))"
      ],
      "metadata": {
        "id": "LaGMXVrCfhX0",
        "colab": {
          "base_uri": "https://localhost:8080/"
        },
        "outputId": "8970ec01-8708-4ba4-e8c3-a6ddedf95335"
      },
      "execution_count": 13,
      "outputs": [
        {
          "output_type": "stream",
          "name": "stdout",
          "text": [
            "Znk&loxyz&x{rk&ul&ixvzumxgvn&ir{h&oy@&tk|kx&ot|ktz&g&ixvzumxgvn&yyzks&u{xykrl4&Znk&ykiutj&x{rk&ul&ixvzumxgvn&ir{h&oy@&tk|kx&osvrksktz&g&ixvzumxgvn&yyzks&u{xykrl@&sgt&xkgr3}uxrj&nurky&gxk&lu{tj&ot&znk&osvrksktzgzout&vngyk&ul&g&ixvzuyyzks&gy&}krr&gy&ot&znk&jkyomt4\n",
            "Ymj%knwxy%wzqj%tk%hw~uytlwfum~%hqzg%nx?%sj{jw%ns{jsy%f%hw~uytlwfum~%x~xyjr%~tzwxjqk3%Ymj%xjhtsi%wzqj%tk%hw~uytlwfum~%hqzg%nx?%sj{jw%nruqjrjsy%f%hw~uytlwfum~%x~xyjr%~tzwxjqk?%rfs~%wjfq2|twqi%mtqjx%fwj%ktzsi%ns%ymj%nruqjrjsyfynts%umfxj%tk%f%hw~uytx~xyjr%fx%|jqq%fx%ns%ymj%ijxnls3\n",
            "Xli$jmvwx$vypi$sj$gv}txskvetl}$gpyf$mw>$riziv$mrzirx$e$gv}txskvetl}$w}wxiq$}syvwipj2$Xli$wigsrh$vypi$sj$gv}txskvetl}$gpyf$mw>$riziv$mqtpiqirx$e$gv}txskvetl}$w}wxiq$}syvwipj>$qer}$viep1{svph$lspiw$evi$jsyrh$mr$xli$mqtpiqirxexmsr$tlewi$sj$e$gv}txsw}wxiq$ew${ipp$ew$mr$xli$hiwmkr2\n",
            "Wkh#iluvw#uxoh#ri#fu|swrjudsk|#foxe#lv=#qhyhu#lqyhqw#d#fu|swrjudsk|#v|vwhp#|rxuvhoi1#Wkh#vhfrqg#uxoh#ri#fu|swrjudsk|#foxe#lv=#qhyhu#lpsohphqw#d#fu|swrjudsk|#v|vwhp#|rxuvhoi=#pdq|#uhdo0zruog#krohv#duh#irxqg#lq#wkh#lpsohphqwdwlrq#skdvh#ri#d#fu|swrv|vwhp#dv#zhoo#dv#lq#wkh#ghvljq1\n",
            "Vjg\"hktuv\"twng\"qh\"et{rvqitcrj{\"enwd\"ku<\"pgxgt\"kpxgpv\"c\"et{rvqitcrj{\"u{uvgo\"{qwtugnh0\"Vjg\"ugeqpf\"twng\"qh\"et{rvqitcrj{\"enwd\"ku<\"pgxgt\"korngogpv\"c\"et{rvqitcrj{\"u{uvgo\"{qwtugnh<\"ocp{\"tgcn/yqtnf\"jqngu\"ctg\"hqwpf\"kp\"vjg\"korngogpvcvkqp\"rjcug\"qh\"c\"et{rvqu{uvgo\"cu\"ygnn\"cu\"kp\"vjg\"fgukip0\n",
            "Uif!gjstu!svmf!pg!dszquphsbqiz!dmvc!jt;!ofwfs!jowfou!b!dszquphsbqiz!tztufn!zpvstfmg/!Uif!tfdpoe!svmf!pg!dszquphsbqiz!dmvc!jt;!ofwfs!jnqmfnfou!b!dszquphsbqiz!tztufn!zpvstfmg;!nboz!sfbm.xpsme!ipmft!bsf!gpvoe!jo!uif!jnqmfnfoubujpo!qibtf!pg!b!dszquptztufn!bt!xfmm!bt!jo!uif!eftjho/\n",
            "The first rule of cryptography club is: never invent a cryptography system yourself. The second rule of cryptography club is: never implement a cryptography system yourself: many real-world holes are found in the implementation phase of a cryptosystem as well as in the design.\n",
            "Sgd\u001fehqrs\u001fqtkd\u001fne\u001fbqxosnfq`ogx\u001fbkta\u001fhr9\u001fmdudq\u001fhmudms\u001f`\u001fbqxosnfq`ogx\u001frxrsdl\u001fxntqrdke-\u001fSgd\u001frdbnmc\u001fqtkd\u001fne\u001fbqxosnfq`ogx\u001fbkta\u001fhr9\u001fmdudq\u001fhlokdldms\u001f`\u001fbqxosnfq`ogx\u001frxrsdl\u001fxntqrdke9\u001fl`mx\u001fqd`k,vnqkc\u001fgnkdr\u001f`qd\u001fentmc\u001fhm\u001fsgd\u001fhlokdldms`shnm\u001fog`rd\u001fne\u001f`\u001fbqxosnrxrsdl\u001f`r\u001fvdkk\u001f`r\u001fhm\u001fsgd\u001fcdrhfm-\n",
            "Rfc\u001edgpqr\u001epsjc\u001emd\u001eapwnrmep_nfw\u001eajs`\u001egq8\u001elctcp\u001egltclr\u001e_\u001eapwnrmep_nfw\u001eqwqrck\u001ewmspqcjd,\u001eRfc\u001eqcamlb\u001epsjc\u001emd\u001eapwnrmep_nfw\u001eajs`\u001egq8\u001elctcp\u001egknjckclr\u001e_\u001eapwnrmep_nfw\u001eqwqrck\u001ewmspqcjd8\u001ek_lw\u001epc_j+umpjb\u001efmjcq\u001e_pc\u001edmslb\u001egl\u001erfc\u001egknjckclr_rgml\u001enf_qc\u001emd\u001e_\u001eapwnrmqwqrck\u001e_q\u001eucjj\u001e_q\u001egl\u001erfc\u001ebcqgel,\n",
            "Qeb\u001dcfopq\u001dorib\u001dlc\u001d`ovmqldo^mev\u001d`ir_\u001dfp7\u001dkbsbo\u001dfksbkq\u001d^\u001d`ovmqldo^mev\u001dpvpqbj\u001dvlropbic+\u001dQeb\u001dpb`lka\u001dorib\u001dlc\u001d`ovmqldo^mev\u001d`ir_\u001dfp7\u001dkbsbo\u001dfjmibjbkq\u001d^\u001d`ovmqldo^mev\u001dpvpqbj\u001dvlropbic7\u001dj^kv\u001dob^i*tloia\u001delibp\u001d^ob\u001dclrka\u001dfk\u001dqeb\u001dfjmibjbkq^qflk\u001dme^pb\u001dlc\u001d^\u001d`ovmqlpvpqbj\u001d^p\u001dtbii\u001d^p\u001dfk\u001dqeb\u001dabpfdk+\n",
            "Pda\u001cbenop\u001cnqha\u001ckb\u001c_nulpkcn]ldu\u001c_hq^\u001ceo6\u001cjaran\u001cejrajp\u001c]\u001c_nulpkcn]ldu\u001couopai\u001cukqnoahb*\u001cPda\u001coa_kj`\u001cnqha\u001ckb\u001c_nulpkcn]ldu\u001c_hq^\u001ceo6\u001cjaran\u001ceilhaiajp\u001c]\u001c_nulpkcn]ldu\u001couopai\u001cukqnoahb6\u001ci]ju\u001cna]h)sknh`\u001cdkhao\u001c]na\u001cbkqj`\u001cej\u001cpda\u001ceilhaiajp]pekj\u001cld]oa\u001ckb\u001c]\u001c_nulpkouopai\u001c]o\u001csahh\u001c]o\u001cej\u001cpda\u001c`aoecj*\n",
            "Oc`\u001badmno\u001bmpg`\u001bja\u001b^mtkojbm\\kct\u001b^gp]\u001bdn5\u001bi`q`m\u001bdiq`io\u001b\\\u001b^mtkojbm\\kct\u001bntno`h\u001btjpmn`ga)\u001bOc`\u001bn`^ji_\u001bmpg`\u001bja\u001b^mtkojbm\\kct\u001b^gp]\u001bdn5\u001bi`q`m\u001bdhkg`h`io\u001b\\\u001b^mtkojbm\\kct\u001bntno`h\u001btjpmn`ga5\u001bh\\it\u001bm`\\g(rjmg_\u001bcjg`n\u001b\\m`\u001bajpi_\u001bdi\u001boc`\u001bdhkg`h`io\\odji\u001bkc\\n`\u001bja\u001b\\\u001b^mtkojntno`h\u001b\\n\u001br`gg\u001b\\n\u001bdi\u001boc`\u001b_`ndbi)\n",
            "Nb_\u001a`clmn\u001alof_\u001ai`\u001a]lsjnial[jbs\u001a]fo\\\u001acm4\u001ah_p_l\u001achp_hn\u001a[\u001a]lsjnial[jbs\u001amsmn_g\u001asiolm_f`(\u001aNb_\u001am_]ih^\u001alof_\u001ai`\u001a]lsjnial[jbs\u001a]fo\\\u001acm4\u001ah_p_l\u001acgjf_g_hn\u001a[\u001a]lsjnial[jbs\u001amsmn_g\u001asiolm_f`4\u001ag[hs\u001al_[f'qilf^\u001abif_m\u001a[l_\u001a`ioh^\u001ach\u001anb_\u001acgjf_g_hn[ncih\u001ajb[m_\u001ai`\u001a[\u001a]lsjnimsmn_g\u001a[m\u001aq_ff\u001a[m\u001ach\u001anb_\u001a^_mcah(\n",
            "Ma^\u0019_bklm\u0019kne^\u0019h_\u0019\\krimh`kZiar\u0019\\en[\u0019bl3\u0019g^o^k\u0019bgo^gm\u0019Z\u0019\\krimh`kZiar\u0019lrlm^f\u0019rhnkl^e_'\u0019Ma^\u0019l^\\hg]\u0019kne^\u0019h_\u0019\\krimh`kZiar\u0019\\en[\u0019bl3\u0019g^o^k\u0019bfie^f^gm\u0019Z\u0019\\krimh`kZiar\u0019lrlm^f\u0019rhnkl^e_3\u0019fZgr\u0019k^Ze&phke]\u0019ahe^l\u0019Zk^\u0019_hng]\u0019bg\u0019ma^\u0019bfie^f^gmZmbhg\u0019iaZl^\u0019h_\u0019Z\u0019\\krimhlrlm^f\u0019Zl\u0019p^ee\u0019Zl\u0019bg\u0019ma^\u0019]^lb`g'\n",
            "L`]\u0018^ajkl\u0018jmd]\u0018g^\u0018[jqhlg_jYh`q\u0018[dmZ\u0018ak2\u0018f]n]j\u0018afn]fl\u0018Y\u0018[jqhlg_jYh`q\u0018kqkl]e\u0018qgmjk]d^&\u0018L`]\u0018k][gf\\\u0018jmd]\u0018g^\u0018[jqhlg_jYh`q\u0018[dmZ\u0018ak2\u0018f]n]j\u0018aehd]e]fl\u0018Y\u0018[jqhlg_jYh`q\u0018kqkl]e\u0018qgmjk]d^2\u0018eYfq\u0018j]Yd%ogjd\\\u0018`gd]k\u0018Yj]\u0018^gmf\\\u0018af\u0018l`]\u0018aehd]e]flYlagf\u0018h`Yk]\u0018g^\u0018Y\u0018[jqhlgkqkl]e\u0018Yk\u0018o]dd\u0018Yk\u0018af\u0018l`]\u0018\\]ka_f&\n",
            "K_\\\u0017]`ijk\u0017ilc\\\u0017f]\u0017Zipgkf^iXg_p\u0017ZclY\u0017`j1\u0017e\\m\\i\u0017`em\\ek\u0017X\u0017Zipgkf^iXg_p\u0017jpjk\\d\u0017pflij\\c]%\u0017K_\\\u0017j\\Zfe[\u0017ilc\\\u0017f]\u0017Zipgkf^iXg_p\u0017ZclY\u0017`j1\u0017e\\m\\i\u0017`dgc\\d\\ek\u0017X\u0017Zipgkf^iXg_p\u0017jpjk\\d\u0017pflij\\c]1\u0017dXep\u0017i\\Xc$nfic[\u0017_fc\\j\u0017Xi\\\u0017]fle[\u0017`e\u0017k_\\\u0017`dgc\\d\\ekXk`fe\u0017g_Xj\\\u0017f]\u0017X\u0017Zipgkfjpjk\\d\u0017Xj\u0017n\\cc\u0017Xj\u0017`e\u0017k_\\\u0017[\\j`^e%\n",
            "J^[\u0016\\_hij\u0016hkb[\u0016e\\\u0016Yhofje]hWf^o\u0016YbkX\u0016_i0\u0016d[l[h\u0016_dl[dj\u0016W\u0016Yhofje]hWf^o\u0016ioij[c\u0016oekhi[b\\$\u0016J^[\u0016i[YedZ\u0016hkb[\u0016e\\\u0016Yhofje]hWf^o\u0016YbkX\u0016_i0\u0016d[l[h\u0016_cfb[c[dj\u0016W\u0016Yhofje]hWf^o\u0016ioij[c\u0016oekhi[b\\0\u0016cWdo\u0016h[Wb#mehbZ\u0016^eb[i\u0016Wh[\u0016\\ekdZ\u0016_d\u0016j^[\u0016_cfb[c[djWj_ed\u0016f^Wi[\u0016e\\\u0016W\u0016Yhofjeioij[c\u0016Wi\u0016m[bb\u0016Wi\u0016_d\u0016j^[\u0016Z[i_]d$\n",
            "I]Z\u0015[^ghi\u0015gjaZ\u0015d[\u0015Xgneid\\gVe]n\u0015XajW\u0015^h/\u0015cZkZg\u0015^ckZci\u0015V\u0015Xgneid\\gVe]n\u0015hnhiZb\u0015ndjghZa[#\u0015I]Z\u0015hZXdcY\u0015gjaZ\u0015d[\u0015Xgneid\\gVe]n\u0015XajW\u0015^h/\u0015cZkZg\u0015^beaZbZci\u0015V\u0015Xgneid\\gVe]n\u0015hnhiZb\u0015ndjghZa[/\u0015bVcn\u0015gZVa\"ldgaY\u0015]daZh\u0015VgZ\u0015[djcY\u0015^c\u0015i]Z\u0015^beaZbZciVi^dc\u0015e]VhZ\u0015d[\u0015V\u0015XgneidhnhiZb\u0015Vh\u0015lZaa\u0015Vh\u0015^c\u0015i]Z\u0015YZh^\\c#\n",
            "H\\Y\u0014Z]fgh\u0014fi`Y\u0014cZ\u0014Wfmdhc[fUd\\m\u0014W`iV\u0014]g.\u0014bYjYf\u0014]bjYbh\u0014U\u0014Wfmdhc[fUd\\m\u0014gmghYa\u0014mcifgY`Z\"\u0014H\\Y\u0014gYWcbX\u0014fi`Y\u0014cZ\u0014Wfmdhc[fUd\\m\u0014W`iV\u0014]g.\u0014bYjYf\u0014]ad`YaYbh\u0014U\u0014Wfmdhc[fUd\\m\u0014gmghYa\u0014mcifgY`Z.\u0014aUbm\u0014fYU`!kcf`X\u0014\\c`Yg\u0014UfY\u0014ZcibX\u0014]b\u0014h\\Y\u0014]ad`YaYbhUh]cb\u0014d\\UgY\u0014cZ\u0014U\u0014WfmdhcgmghYa\u0014Ug\u0014kY``\u0014Ug\u0014]b\u0014h\\Y\u0014XYg][b\"\n",
            "G[X\u0013Y\\efg\u0013eh_X\u0013bY\u0013VelcgbZeTc[l\u0013V_hU\u0013\\f-\u0013aXiXe\u0013\\aiXag\u0013T\u0013VelcgbZeTc[l\u0013flfgX`\u0013lbhefX_Y!\u0013G[X\u0013fXVbaW\u0013eh_X\u0013bY\u0013VelcgbZeTc[l\u0013V_hU\u0013\\f-\u0013aXiXe\u0013\\`c_X`Xag\u0013T\u0013VelcgbZeTc[l\u0013flfgX`\u0013lbhefX_Y-\u0013`Tal\u0013eXT_ jbe_W\u0013[b_Xf\u0013TeX\u0013YbhaW\u0013\\a\u0013g[X\u0013\\`c_X`XagTg\\ba\u0013c[TfX\u0013bY\u0013T\u0013VelcgbflfgX`\u0013Tf\u0013jX__\u0013Tf\u0013\\a\u0013g[X\u0013WXf\\Za!\n",
            "FZW\u0012X[def\u0012dg^W\u0012aX\u0012UdkbfaYdSbZk\u0012U^gT\u0012[e,\u0012`WhWd\u0012[`hW`f\u0012S\u0012UdkbfaYdSbZk\u0012ekefW_\u0012kagdeW^X \u0012FZW\u0012eWUa`V\u0012dg^W\u0012aX\u0012UdkbfaYdSbZk\u0012U^gT\u0012[e,\u0012`WhWd\u0012[_b^W_W`f\u0012S\u0012UdkbfaYdSbZk\u0012ekefW_\u0012kagdeW^X,\u0012_S`k\u0012dWS^\u001fiad^V\u0012Za^We\u0012SdW\u0012Xag`V\u0012[`\u0012fZW\u0012[_b^W_W`fSf[a`\u0012bZSeW\u0012aX\u0012S\u0012UdkbfaekefW_\u0012Se\u0012iW^^\u0012Se\u0012[`\u0012fZW\u0012VWe[Y` \n",
            "EYV\u0011WZcde\u0011cf]V\u0011`W\u0011Tcjae`XcRaYj\u0011T]fS\u0011Zd+\u0011_VgVc\u0011Z_gV_e\u0011R\u0011Tcjae`XcRaYj\u0011djdeV^\u0011j`fcdV]W\u001f\u0011EYV\u0011dVT`_U\u0011cf]V\u0011`W\u0011Tcjae`XcRaYj\u0011T]fS\u0011Zd+\u0011_VgVc\u0011Z^a]V^V_e\u0011R\u0011Tcjae`XcRaYj\u0011djdeV^\u0011j`fcdV]W+\u0011^R_j\u0011cVR]\u001eh`c]U\u0011Y`]Vd\u0011RcV\u0011W`f_U\u0011Z_\u0011eYV\u0011Z^a]V^V_eReZ`_\u0011aYRdV\u0011`W\u0011R\u0011Tcjae`djdeV^\u0011Rd\u0011hV]]\u0011Rd\u0011Z_\u0011eYV\u0011UVdZX_\u001f\n",
            "DXU\u0010VYbcd\u0010be\\U\u0010_V\u0010Sbi`d_WbQ`Xi\u0010S\\eR\u0010Yc*\u0010^UfUb\u0010Y^fU^d\u0010Q\u0010Sbi`d_WbQ`Xi\u0010cicdU]\u0010i_ebcU\\V\u001e\u0010DXU\u0010cUS_^T\u0010be\\U\u0010_V\u0010Sbi`d_WbQ`Xi\u0010S\\eR\u0010Yc*\u0010^UfUb\u0010Y]`\\U]U^d\u0010Q\u0010Sbi`d_WbQ`Xi\u0010cicdU]\u0010i_ebcU\\V*\u0010]Q^i\u0010bUQ\\\u001dg_b\\T\u0010X_\\Uc\u0010QbU\u0010V_e^T\u0010Y^\u0010dXU\u0010Y]`\\U]U^dQdY_^\u0010`XQcU\u0010_V\u0010Q\u0010Sbi`d_cicdU]\u0010Qc\u0010gU\\\\\u0010Qc\u0010Y^\u0010dXU\u0010TUcYW^\u001e\n",
            "CWT\u000fUXabc\u000fad[T\u000f^U\u000fRah_c^VaP_Wh\u000fR[dQ\u000fXb)\u000f]TeTa\u000fX]eT]c\u000fP\u000fRah_c^VaP_Wh\u000fbhbcT\\\u000fh^dabT[U\u001d\u000fCWT\u000fbTR^]S\u000fad[T\u000f^U\u000fRah_c^VaP_Wh\u000fR[dQ\u000fXb)\u000f]TeTa\u000fX\\_[T\\T]c\u000fP\u000fRah_c^VaP_Wh\u000fbhbcT\\\u000fh^dabT[U)\u000f\\P]h\u000faTP[\u001cf^a[S\u000fW^[Tb\u000fPaT\u000fU^d]S\u000fX]\u000fcWT\u000fX\\_[T\\T]cPcX^]\u000f_WPbT\u000f^U\u000fP\u000fRah_c^bhbcT\\\u000fPb\u000ffT[[\u000fPb\u000fX]\u000fcWT\u000fSTbXV]\u001d\n",
            "BVS\u000eTW`ab\u000e`cZS\u000e]T\u000eQ`g^b]U`O^Vg\u000eQZcP\u000eWa(\u000e\\SdS`\u000eW\\dS\\b\u000eO\u000eQ`g^b]U`O^Vg\u000eagabS[\u000eg]c`aSZT\u001c\u000eBVS\u000eaSQ]\\R\u000e`cZS\u000e]T\u000eQ`g^b]U`O^Vg\u000eQZcP\u000eWa(\u000e\\SdS`\u000eW[^ZS[S\\b\u000eO\u000eQ`g^b]U`O^Vg\u000eagabS[\u000eg]c`aSZT(\u000e[O\\g\u000e`SOZ\u001be]`ZR\u000eV]ZSa\u000eO`S\u000eT]c\\R\u000eW\\\u000ebVS\u000eW[^ZS[S\\bObW]\\\u000e^VOaS\u000e]T\u000eO\u000eQ`g^b]agabS[\u000eOa\u000eeSZZ\u000eOa\u000eW\\\u000ebVS\u000eRSaWU\\\u001c\n",
            "AUR\rSV_`a\r_bYR\r\\S\rP_f]a\\T_N]Uf\rPYbO\rV`'\r[RcR_\rV[cR[a\rN\rP_f]a\\T_N]Uf\r`f`aRZ\rf\\b_`RYS\u001b\rAUR\r`RP\\[Q\r_bYR\r\\S\rP_f]a\\T_N]Uf\rPYbO\rV`'\r[RcR_\rVZ]YRZR[a\rN\rP_f]a\\T_N]Uf\r`f`aRZ\rf\\b_`RYS'\rZN[f\r_RNY\u001ad\\_YQ\rU\\YR`\rN_R\rS\\b[Q\rV[\raUR\rVZ]YRZR[aNaV\\[\r]UN`R\r\\S\rN\rP_f]a\\`f`aRZ\rN`\rdRYY\rN`\rV[\raUR\rQR`VT[\u001b\n",
            "None\n"
          ]
        }
      ]
    },
    {
      "cell_type": "markdown",
      "source": [
        "The decrypted message is as follows:\n",
        "\n",
        "The first rule of cryptography club is: never invent a cryptography system yourself. The second rule of cryptography club is: never implement a cryptography system yourself: many real-world holes are found in the implementation phase of a cryptosystem as well as in the design."
      ],
      "metadata": {
        "id": "SSlRScdNi2E0"
      }
    },
    {
      "cell_type": "markdown",
      "source": [
        "### Keeping secret keys secret\n",
        "---\n",
        "Python is an interpreted language and the code exists in its text form while it is running.  It can be relatively easily stopped and viewed during execution.  This means that setting the key in the code is not really secure.\n",
        "\n",
        "Most development environments provide the facility to store 'environment variables'.  These are kept separate from the code and so can be kept private.\n",
        "\n",
        "####Setting an environment variable in a colab notebook\n",
        "\n",
        "The main thing is to not store the key in the notebook (as these can be shared).  You can avoid this by making sure that all who will run the code in the notebook know the key and can copy it in just for when they are working in the notebook.  The notebook will delete all data on closing the session and so the notebook can be shared without sharing the key.\n",
        "\n",
        "Here is a way to store data in the notebook environment when it is opened so that it is then available for the session.\n",
        "\n",
        "First:  install a library into the notebook to manage the environment:"
      ],
      "metadata": {
        "id": "1IihkMlrlq0d"
      }
    },
    {
      "cell_type": "code",
      "source": [],
      "metadata": {
        "id": "UqapTDtVoR-P",
        "colab": {
          "base_uri": "https://localhost:8080/"
        },
        "outputId": "36152306-f316-4472-cd04-1a786b119c30"
      },
      "execution_count": null,
      "outputs": [
        {
          "output_type": "stream",
          "name": "stdout",
          "text": [
            "Collecting python-dotenv\n",
            "  Downloading python_dotenv-1.0.0-py3-none-any.whl (19 kB)\n",
            "Installing collected packages: python-dotenv\n",
            "Successfully installed python-dotenv-1.0.0\n"
          ]
        }
      ]
    },
    {
      "cell_type": "markdown",
      "source": [
        "Then:  use some code to get the user to input the key, and store it in the notebook's environment.  Immediately clear the output so that the key is not visible.  If the notebook is shared, each user will need to input the key on starting the notebook."
      ],
      "metadata": {
        "id": "W7hmdOekotk-"
      }
    },
    {
      "cell_type": "code",
      "source": [
        "!pip install python-dotenv\n",
        "import dotenv\n",
        "import os\n",
        "from google.colab import output\n",
        "\n",
        "key = input(\"Enter the secret key: \")\n",
        "os.environ['SECRET_KEY'] = key\n",
        "output.clear()"
      ],
      "metadata": {
        "id": "6jrZMGF5pdwD",
        "colab": {
          "base_uri": "https://localhost:8080/",
          "height": 461
        },
        "outputId": "640af8cd-4654-4fd0-b91c-48524c5a2f67"
      },
      "execution_count": 14,
      "outputs": [
        {
          "output_type": "stream",
          "name": "stdout",
          "text": [
            "Collecting python-dotenv\n",
            "  Downloading python_dotenv-1.0.0-py3-none-any.whl (19 kB)\n",
            "Installing collected packages: python-dotenv\n",
            "Successfully installed python-dotenv-1.0.0\n"
          ]
        },
        {
          "output_type": "error",
          "ename": "KeyboardInterrupt",
          "evalue": "ignored",
          "traceback": [
            "\u001b[0;31m---------------------------------------------------------------------------\u001b[0m",
            "\u001b[0;31mKeyboardInterrupt\u001b[0m                         Traceback (most recent call last)",
            "\u001b[0;32m<ipython-input-14-1fb68fd7b89b>\u001b[0m in \u001b[0;36m<cell line: 6>\u001b[0;34m()\u001b[0m\n\u001b[1;32m      4\u001b[0m \u001b[0;32mfrom\u001b[0m \u001b[0mgoogle\u001b[0m\u001b[0;34m.\u001b[0m\u001b[0mcolab\u001b[0m \u001b[0;32mimport\u001b[0m \u001b[0moutput\u001b[0m\u001b[0;34m\u001b[0m\u001b[0;34m\u001b[0m\u001b[0m\n\u001b[1;32m      5\u001b[0m \u001b[0;34m\u001b[0m\u001b[0m\n\u001b[0;32m----> 6\u001b[0;31m \u001b[0mkey\u001b[0m \u001b[0;34m=\u001b[0m \u001b[0minput\u001b[0m\u001b[0;34m(\u001b[0m\u001b[0;34m\"Enter the secret key: \"\u001b[0m\u001b[0;34m)\u001b[0m\u001b[0;34m\u001b[0m\u001b[0;34m\u001b[0m\u001b[0m\n\u001b[0m\u001b[1;32m      7\u001b[0m \u001b[0mos\u001b[0m\u001b[0;34m.\u001b[0m\u001b[0menviron\u001b[0m\u001b[0;34m[\u001b[0m\u001b[0;34m'SECRET_KEY'\u001b[0m\u001b[0;34m]\u001b[0m \u001b[0;34m=\u001b[0m \u001b[0mkey\u001b[0m\u001b[0;34m\u001b[0m\u001b[0;34m\u001b[0m\u001b[0m\n\u001b[1;32m      8\u001b[0m \u001b[0moutput\u001b[0m\u001b[0;34m.\u001b[0m\u001b[0mclear\u001b[0m\u001b[0;34m(\u001b[0m\u001b[0;34m)\u001b[0m\u001b[0;34m\u001b[0m\u001b[0;34m\u001b[0m\u001b[0m\n",
            "\u001b[0;32m/usr/local/lib/python3.10/dist-packages/ipykernel/kernelbase.py\u001b[0m in \u001b[0;36mraw_input\u001b[0;34m(self, prompt)\u001b[0m\n\u001b[1;32m    849\u001b[0m                 \u001b[0;34m\"raw_input was called, but this frontend does not support input requests.\"\u001b[0m\u001b[0;34m\u001b[0m\u001b[0;34m\u001b[0m\u001b[0m\n\u001b[1;32m    850\u001b[0m             )\n\u001b[0;32m--> 851\u001b[0;31m         return self._input_request(str(prompt),\n\u001b[0m\u001b[1;32m    852\u001b[0m             \u001b[0mself\u001b[0m\u001b[0;34m.\u001b[0m\u001b[0m_parent_ident\u001b[0m\u001b[0;34m,\u001b[0m\u001b[0;34m\u001b[0m\u001b[0;34m\u001b[0m\u001b[0m\n\u001b[1;32m    853\u001b[0m             \u001b[0mself\u001b[0m\u001b[0;34m.\u001b[0m\u001b[0m_parent_header\u001b[0m\u001b[0;34m,\u001b[0m\u001b[0;34m\u001b[0m\u001b[0;34m\u001b[0m\u001b[0m\n",
            "\u001b[0;32m/usr/local/lib/python3.10/dist-packages/ipykernel/kernelbase.py\u001b[0m in \u001b[0;36m_input_request\u001b[0;34m(self, prompt, ident, parent, password)\u001b[0m\n\u001b[1;32m    893\u001b[0m             \u001b[0;32mexcept\u001b[0m \u001b[0mKeyboardInterrupt\u001b[0m\u001b[0;34m:\u001b[0m\u001b[0;34m\u001b[0m\u001b[0;34m\u001b[0m\u001b[0m\n\u001b[1;32m    894\u001b[0m                 \u001b[0;31m# re-raise KeyboardInterrupt, to truncate traceback\u001b[0m\u001b[0;34m\u001b[0m\u001b[0;34m\u001b[0m\u001b[0m\n\u001b[0;32m--> 895\u001b[0;31m                 \u001b[0;32mraise\u001b[0m \u001b[0mKeyboardInterrupt\u001b[0m\u001b[0;34m(\u001b[0m\u001b[0;34m\"Interrupted by user\"\u001b[0m\u001b[0;34m)\u001b[0m \u001b[0;32mfrom\u001b[0m \u001b[0;32mNone\u001b[0m\u001b[0;34m\u001b[0m\u001b[0;34m\u001b[0m\u001b[0m\n\u001b[0m\u001b[1;32m    896\u001b[0m             \u001b[0;32mexcept\u001b[0m \u001b[0mException\u001b[0m \u001b[0;32mas\u001b[0m \u001b[0me\u001b[0m\u001b[0;34m:\u001b[0m\u001b[0;34m\u001b[0m\u001b[0;34m\u001b[0m\u001b[0m\n\u001b[1;32m    897\u001b[0m                 \u001b[0mself\u001b[0m\u001b[0;34m.\u001b[0m\u001b[0mlog\u001b[0m\u001b[0;34m.\u001b[0m\u001b[0mwarning\u001b[0m\u001b[0;34m(\u001b[0m\u001b[0;34m\"Invalid Message:\"\u001b[0m\u001b[0;34m,\u001b[0m \u001b[0mexc_info\u001b[0m\u001b[0;34m=\u001b[0m\u001b[0;32mTrue\u001b[0m\u001b[0;34m)\u001b[0m\u001b[0;34m\u001b[0m\u001b[0;34m\u001b[0m\u001b[0m\n",
            "\u001b[0;31mKeyboardInterrupt\u001b[0m: Interrupted by user"
          ]
        }
      ]
    },
    {
      "cell_type": "markdown",
      "source": [
        "## Mini-project\n",
        "---\n",
        "\n",
        "Create a caesar cipher algorithm that will encrypt only alphabet letters.  The algorithm will shift capital letters left or right by the key and will loop round so that an 'X' with a shift key of 5 will be encoded to 'C' and a 'D' with a shift key of -8 will be decoded to 'U'.  The same strategy will be used with the lower case letters.\n",
        "\n",
        "To solve this problem:\n",
        "*  set a key in the environment (practice with a key of 1)\n",
        "*  call the function with some text (practice with 'aBc')\n",
        "*  define 2 lists - one of all the uppercase letters and one of all the lowercase letters\n",
        "*  use the key to shift the letters to the right and store in a new string called encoded (remembering to loop round if you get to the end of the alphabet).  Check each letter and use the appropriate list to encode (ie uppercase or lowercase)\n",
        "*  if a letter is not in either uppercase or lowercase list, do not change it\n",
        "*  test that encoded has the expected value of 'bCd'\n",
        "\n",
        "Test the program with each of the following texts:\n",
        "\n",
        "'Xyz'  \n",
        "'Zara'  \n",
        "'lazy'\n",
        "'Hello!'\n",
        "\n",
        "Write a second function caesar_decrypt(encoded, shift) to decrypt given text.\n",
        "Use the encoded text from the original inputs to check that you can get back to the originals.\n",
        "\n",
        "Use your functions to encode, print, decode and print again, the following text:  \n",
        "\n",
        "'The secret key is still secret, hidden in this notebook!'\n",
        "\n",
        "Can you modify the functions to also encode these punctuation characters ',' '.' '!' '?'   again, loop round to ensure that punctuation is only encoded as punctuation\n"
      ],
      "metadata": {
        "id": "w51VyqZkBsKd"
      }
    },
    {
      "cell_type": "code",
      "source": [
        "!pip install python-dotenv\n",
        "import dotenv\n",
        "import os\n",
        "from google.colab import output\n",
        "import string\n",
        "def caesar_encrypt(message):\n",
        "  lower = string.ascii_lowercase\n",
        "  upper = string.ascii_uppercase\n",
        "  punctuation = [',', '.', '!', '?']\n",
        "  key = input(\"write an integer key \")\n",
        "  os.environ['SECRET_KEY'] = key\n",
        "  output.clear()\n",
        "  key = int(key)\n",
        "  encoded =\"\"\n",
        "  for i in message:\n",
        "    if i in lower:\n",
        "      shifted_index = lower.index(i) + key\n",
        "      while shifted_index>=26:\n",
        "        shifted_index-=26\n",
        "      while shifted_index<0:\n",
        "        shifted_index+=26\n",
        "      encoded+=lower[shifted_index]\n",
        "    elif i in upper:\n",
        "      shifted_index = upper.index(i) + key\n",
        "      while shifted_index>=26:\n",
        "        shifted_index-=26\n",
        "      while shifted_index<0:\n",
        "        shifted_index+=26\n",
        "      encoded+=upper[shifted_index]\n",
        "    elif i in punctuation:\n",
        "      shifted_index = punctuation.index(i) + key\n",
        "      while shifted_index>=4:\n",
        "        shifted_index-=4\n",
        "      while shifted_index<0:\n",
        "        shifted_index+=4\n",
        "      encoded+=punctuation[shifted_index]\n",
        "    else:\n",
        "      encoded+=i\n",
        "  return encoded\n",
        "\n",
        "secret = caesar_encrypt('The secret key is still secret, hidden in this notebook!')\n",
        "print(secret)\n",
        "\n",
        "\n",
        "def caesar_decrypt(message):\n",
        "  lower = string.ascii_lowercase\n",
        "  upper = string.ascii_uppercase\n",
        "  punctuation = [',', '.', '!', '?']\n",
        "  key = input(\"write an integer key \")\n",
        "  os.environ['SECRET_KEY'] = key\n",
        "  output.clear()\n",
        "  key = int(key)\n",
        "  decoded =\"\"\n",
        "  for i in message:\n",
        "    if i in lower:\n",
        "      shifted_index = lower.index(i) - key\n",
        "      while shifted_index>=26:\n",
        "        shifted_index-=26\n",
        "      while shifted_index<0:\n",
        "        shifted_index+=26\n",
        "      decoded+=lower[shifted_index]\n",
        "    elif i in upper:\n",
        "      shifted_index = upper.index(i) - key\n",
        "      while shifted_index>=26:\n",
        "        shifted_index-=26\n",
        "      while shifted_index<0:\n",
        "        shifted_index+=26\n",
        "      decoded+=upper[shifted_index]\n",
        "    elif i in punctuation:\n",
        "      shifted_index = punctuation.index(i) - key\n",
        "      while shifted_index>=4:\n",
        "        shifted_index-=4\n",
        "      while shifted_index<0:\n",
        "        shifted_index+=4\n",
        "      decoded+=punctuation[shifted_index]\n",
        "    else:\n",
        "      decoded+=i\n",
        "  return decoded\n",
        "\n",
        "print(caesar_decrypt(secret))\n",
        "\n",
        "\n",
        "\n"
      ],
      "metadata": {
        "id": "qPB8_A2WCQw-",
        "colab": {
          "base_uri": "https://localhost:8080/"
        },
        "outputId": "bfffe410-0843-4404-fa76-40eb1ed91892"
      },
      "execution_count": 34,
      "outputs": [
        {
          "output_type": "stream",
          "name": "stdout",
          "text": [
            "The secret key is still secret, hidden in this notebook!\n"
          ]
        }
      ]
    }
  ]
}