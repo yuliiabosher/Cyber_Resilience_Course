{
  "nbformat": 4,
  "nbformat_minor": 0,
  "metadata": {
    "colab": {
      "provenance": [],
      "authorship_tag": "ABX9TyPpvP6daV0rDb/EWKIsvfAL",
      "include_colab_link": true
    },
    "kernelspec": {
      "name": "python3",
      "display_name": "Python 3"
    },
    "language_info": {
      "name": "python"
    }
  },
  "cells": [
    {
      "cell_type": "markdown",
      "metadata": {
        "id": "view-in-github",
        "colab_type": "text"
      },
      "source": [
        "<a href=\"https://colab.research.google.com/github/yuliiabosher/Cyber_Resilience_Course/blob/main/File%20Handling%20Final%20Challenge.ipynb\" target=\"_parent\"><img src=\"https://colab.research.google.com/assets/colab-badge.svg\" alt=\"Open In Colab\"/></a>"
      ]
    },
    {
      "cell_type": "markdown",
      "source": [
        "Import the required libraries"
      ],
      "metadata": {
        "id": "4sJwZdPWo4wF"
      }
    },
    {
      "cell_type": "code",
      "source": [
        "import os\n",
        "import shutil\n",
        "import glob\n",
        "from google.colab import files"
      ],
      "metadata": {
        "id": "HkecsArrjQ1P"
      },
      "execution_count": 1,
      "outputs": []
    },
    {
      "cell_type": "markdown",
      "source": [
        "Prompt the user to input the zip folder name with the extention"
      ],
      "metadata": {
        "id": "dTEz424bo9of"
      }
    },
    {
      "cell_type": "code",
      "execution_count": null,
      "metadata": {
        "colab": {
          "base_uri": "https://localhost:8080/"
        },
        "id": "XWuth_xzilwk",
        "outputId": "fb1f4724-46c4-4c58-8404-ed6044d39dd4"
      },
      "outputs": [
        {
          "name": "stdout",
          "output_type": "stream",
          "text": [
            "please sepcify the zip folder name, including the extention Acme.zip\n"
          ]
        }
      ],
      "source": [
        "folder_name = input('please sepcify the zip folder name, including the extention ')"
      ]
    },
    {
      "cell_type": "markdown",
      "source": [
        "Ask the user to upload the zip folder and provide the inteface for that"
      ],
      "metadata": {
        "id": "6Ygp8GT4pOIb"
      }
    },
    {
      "cell_type": "code",
      "source": [
        "print('Now upload the zip folder')\n",
        "upload_file = files.upload()"
      ],
      "metadata": {
        "id": "f9uomhkwjhaq"
      },
      "execution_count": null,
      "outputs": []
    },
    {
      "cell_type": "markdown",
      "source": [
        "Extract the folder"
      ],
      "metadata": {
        "id": "PQQdbrTYptMi"
      }
    },
    {
      "cell_type": "code",
      "source": [
        "directory_to_extract_to = '/content/'\n",
        "unzip_file = shutil.unpack_archive(folder_name, directory_to_extract_to, \"zip\")\n",
        "directory_to_clean_up = directory_to_extract_to + folder_name[:-4]"
      ],
      "metadata": {
        "id": "CtOa3fwVlwye"
      },
      "execution_count": null,
      "outputs": []
    },
    {
      "cell_type": "markdown",
      "source": [
        "List all the files in the extracted folder"
      ],
      "metadata": {
        "id": "xyMgGu43p3KQ"
      }
    },
    {
      "cell_type": "code",
      "source": [
        "def list_files_in_folder_and_subfolders(folder):\n",
        "  directory_contents = os.walk(folder)\n",
        "  file_name_list = []\n",
        "  for root, dirs, files in directory_contents:\n",
        "    for file in files:\n",
        "      file_name_list.append(file)\n",
        "  return file_name_list\n",
        "files_list = list_files_in_folder_and_subfolders(directory_to_clean_up)\n",
        "for file in files_list:\n",
        "  print(file)\n",
        "\n"
      ],
      "metadata": {
        "id": "9vEruUEWn3o2"
      },
      "execution_count": null,
      "outputs": []
    },
    {
      "cell_type": "markdown",
      "source": [
        "Create two new subfolders titled 'Minutes' and 'Reports' in the extracted folder"
      ],
      "metadata": {
        "id": "pyXAETC0qAx7"
      }
    },
    {
      "cell_type": "code",
      "source": [
        "create_minutes_subfolder_in_main_folder = os.mkdir(os.path.join('/content/', folder_name[:-4], '/Minutes'))\n",
        "create_reports_subfolder_in_main_folder = os.mkdir(os.path.join('/content/', folder_name[:-4], '/Reports'))"
      ],
      "metadata": {
        "id": "ZFWB6cFqodKD"
      },
      "execution_count": null,
      "outputs": []
    },
    {
      "cell_type": "markdown",
      "source": [
        "Move the files into subfolders titled 'Minutes' or 'Reports' if the name of the file contains the word 'minutes' or 'reports' respectively"
      ],
      "metadata": {
        "id": "O1nrkeeZqsdZ"
      }
    },
    {
      "cell_type": "code",
      "source": [
        "files_minutes_pattern = glob.glob(os.path.join('/content', folder_name[:-4], '*minutes*'))\n",
        "def move_files_to_inside_folder(destination_folder_name, pathnames_matching_pattern):\n",
        "  for file_path in pathnames_matching_pattern:\n",
        "    if os.path.isfile(file_path):\n",
        "      destination = os.path.join(file_path.rsplit('/',1)[0], destination_folder_name, file_path.rsplit('/',1)[1])\n",
        "      shutil.move(file_path, destination)\n",
        "move_files_with_minutes_in_name_to_minutes_subfolder = move_files_to_inside_folder(\"Minutes\",files_minutes_pattern)\n",
        "files_report_pattern = glob.glob(os.path.join('/content', folder_name[:-4], '*report*'))\n",
        "move_files_with_reports_in_name_to_reports_subfolder = move_files_to_inside_folder(\"Reports\",files_report_pattern)\n",
        "\n"
      ],
      "metadata": {
        "id": "00RvD5TcqKjy"
      },
      "execution_count": null,
      "outputs": []
    },
    {
      "cell_type": "markdown",
      "source": [
        "Create subfolders titled '2022 reports' and '2023 reports' in the 'Reports' folder"
      ],
      "metadata": {
        "id": "DyTlw2ADsZH8"
      }
    },
    {
      "cell_type": "code",
      "source": [
        "create_2022_reports_subfolder_in_reports_folder = os.mkdir(os.path.join('/content', folder_name[:-4], 'Reports/2022 reports'))\n",
        "create_2023_reports_subfolder_in_reports_folder = os.mkdir(os.path.join('/content/', folder_name[:-4], 'Reports/2023 reports'))"
      ],
      "metadata": {
        "id": "9jz59TD9sEf7"
      },
      "execution_count": null,
      "outputs": []
    },
    {
      "cell_type": "markdown",
      "source": [
        "Move files that contain the '2022' or '2023' into the subfolders '2022 reports' and '2023 reports' respectively"
      ],
      "metadata": {
        "id": "tqvfsjn6s7RY"
      }
    },
    {
      "cell_type": "code",
      "source": [
        "files_reports_2022_pattern = glob.glob(os.path.join('/content/', folder_name[:-4], '/Reports/*2022*'))\n",
        "files_reports_2023_pattern = glob.glob(os.path.join('/content/', folder_name[:-4], '/Reports/*2023*'))\n",
        "move_files_with_2022_in_name_to_2022_reports_subfolder = move_files_to_inside_folder(\"2022 reports\", files_reports_2022_pattern)\n",
        "move_files_with_2022_in_name_to_2023_reports_subfolder = move_files_to_inside_folder(\"2023 reports\", files_reports_2023_pattern)\n"
      ],
      "metadata": {
        "id": "d6xar8PUsm16"
      },
      "execution_count": null,
      "outputs": []
    },
    {
      "cell_type": "markdown",
      "source": [
        "List the directory structure"
      ],
      "metadata": {
        "id": "1hv3n3y_tu6n"
      }
    },
    {
      "cell_type": "code",
      "source": [
        "def list_directory_structure(target_directory_path):\n",
        "  target_directory_contents = os.walk(r'' + target_directory_path)\n",
        "  i = 0\n",
        "  for root, dirs, files in target_directory_contents:\n",
        "    i+=1\n",
        "    print(f\"\\nLevel {i}\\n\\nThe root folder of level {i} is {root.rsplit('/',1)[1]} \\n\")\n",
        "    print(f\"The folders in {root.rsplit('/',1)[1]} are:\\n\")\n",
        "    if dirs==[]:\n",
        "      print('No folders')\n",
        "    for dir in dirs:\n",
        "          print(dir)\n",
        "    print(f\"\\nThe files in {root.rsplit('/',1)[1]} are:\\n\")\n",
        "    if files==[]:\n",
        "      print('No files')\n",
        "    for file in files:\n",
        "          print(file)\n",
        "show_directory_tree_after_moving_files = list_directory_structure(directory_to_clean_up)"
      ],
      "metadata": {
        "id": "OEdMstkCtgbD"
      },
      "execution_count": null,
      "outputs": []
    },
    {
      "cell_type": "markdown",
      "source": [
        "Delete all the files that contain the word 'Copy' in their name and list all the files in the directory"
      ],
      "metadata": {
        "id": "7RHhnYs2uGbC"
      }
    },
    {
      "cell_type": "code",
      "source": [
        "def delete_files_with_pattern_in_name(folder_path, pattern):\n",
        "  file_paths_to_delete = f'{folder_path}/**/*{pattern}*'\n",
        "  for file_path in glob.iglob(file_paths_to_delete,recursive=True):\n",
        "    os.remove(file_path)\n",
        "delete_file_copies = delete_files_with_pattern_in_name(directory_to_clean_up,'Copy')\n",
        "show_directory_tree_after_deleting_files = list_directory_structure(directory_to_clean_up)"
      ],
      "metadata": {
        "id": "VAruLbI_t2eE"
      },
      "execution_count": null,
      "outputs": []
    },
    {
      "cell_type": "markdown",
      "source": [
        "Check if the files in the directory contain names of months in it and replace those with number equivalents. Then list all the files in the directory"
      ],
      "metadata": {
        "id": "bod_n1douoxU"
      }
    },
    {
      "cell_type": "code",
      "source": [
        "def rename_files_based_on_pattern(folder, pattern, substitute):\n",
        "  file_paths_to_replace = f'{folder}/**/*{pattern}*'\n",
        "  for path in glob.iglob(file_paths_to_replace,recursive=True):\n",
        "    if os.path.isfile(path):\n",
        "      file_current_directory = os.path.split(path)[0]\n",
        "      file_name = os.path.split(path)[1]\n",
        "      new_file_name = file_name.replace(pattern, substitute)\n",
        "      new_path = os.path.join(file_current_directory, new_file_name)\n",
        "      os.rename(path, new_path)\n",
        "def replace_months_with_numbers_in_file_names(folder):\n",
        "  months_numbers = {\"January\":'01',\"February\":'02',\"March\":'03',\"April\":'04',\"May\":'05',\"June\":'06',\"July\":'07',\"August\":'08',\"September\":'09',\"October\":'10',\"November\":'11',\"December\":'12'}\n",
        "  for month, number in months_numbers.items():\n",
        "    rename_files_based_on_pattern(folder,month,number)\n",
        "replace_months_with_numbers = replace_months_with_numbers_in_file_names(directory_to_clean_up)\n",
        "show_directory_tree_after_replacing_months = list_directory_structure(directory_to_clean_up)\n"
      ],
      "metadata": {
        "id": "ZxR-1ZdquOwF"
      },
      "execution_count": null,
      "outputs": []
    },
    {
      "cell_type": "markdown",
      "source": [
        "Replace spaces in file names of the directory with underscores and list all the files of the directory"
      ],
      "metadata": {
        "id": "41vYUvZevVPD"
      }
    },
    {
      "cell_type": "code",
      "source": [
        "rename_files_by_replacing_blanks_with_underscores = rename_files_based_on_pattern(directory_to_clean_up,\" \",\"_\")\n",
        "show_directory_tree_after_replacing_blanks_with_underscores = list_directory_structure(directory_to_clean_up)"
      ],
      "metadata": {
        "id": "Q92rg_XrvGc8"
      },
      "execution_count": null,
      "outputs": []
    },
    {
      "cell_type": "markdown",
      "source": [
        "Back up the directory"
      ],
      "metadata": {
        "id": "EEzSR-KPyIsf"
      }
    },
    {
      "cell_type": "code",
      "source": [
        "extracted_directory_path = directory_to_extract_to + folder_name[:-4]\n",
        "destination_directory_path = directory_to_extract_to + '/' + folder_name[:-4] + '/Backup'\n",
        "create_backup_folder = shutil.copytree(extracted_directory_path, destination_directory_path, ignore_dangling_symlinks=False, dirs_exist_ok=True)"
      ],
      "metadata": {
        "id": "GT0KrkFRvfr4"
      },
      "execution_count": null,
      "outputs": []
    },
    {
      "cell_type": "markdown",
      "source": [
        "Zip the backup folder and download it"
      ],
      "metadata": {
        "id": "71bJ05S2zmWr"
      }
    },
    {
      "cell_type": "code",
      "source": [
        "create_archive_of_backup_folder = shutil.make_archive(folder_name[:-4] + ' Backup',\"zip\", destination_directory_path)\n",
        "download_archive_of_backup_folder = files.download(folder_name[:-4] + ' Backup' + '.zip')"
      ],
      "metadata": {
        "id": "Zia49R8_yO1V"
      },
      "execution_count": null,
      "outputs": []
    }
  ]
}