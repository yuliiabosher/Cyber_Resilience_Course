{
  "nbformat": 4,
  "nbformat_minor": 0,
  "metadata": {
    "colab": {
      "provenance": [],
      "authorship_tag": "ABX9TyPLDJSHMPSLAKKTHqPLPIwn",
      "include_colab_link": true
    },
    "kernelspec": {
      "name": "python3",
      "display_name": "Python 3"
    },
    "language_info": {
      "name": "python"
    }
  },
  "cells": [
    {
      "cell_type": "markdown",
      "metadata": {
        "id": "view-in-github",
        "colab_type": "text"
      },
      "source": [
        "<a href=\"https://colab.research.google.com/github/yuliiabosher/Cyber_Resilience_Course/blob/main/File%20Handling%20Final%20Challenge.ipynb\" target=\"_parent\"><img src=\"https://colab.research.google.com/assets/colab-badge.svg\" alt=\"Open In Colab\"/></a>"
      ]
    },
    {
      "cell_type": "markdown",
      "source": [
        "Import the required libraries"
      ],
      "metadata": {
        "id": "4sJwZdPWo4wF"
      }
    },
    {
      "cell_type": "code",
      "source": [
        "import os\n",
        "import shutil\n",
        "import glob\n",
        "from google.colab import files"
      ],
      "metadata": {
        "id": "HkecsArrjQ1P"
      },
      "execution_count": 2,
      "outputs": []
    },
    {
      "cell_type": "markdown",
      "source": [
        "Prompt the user to input the zip folder name with the extention"
      ],
      "metadata": {
        "id": "dTEz424bo9of"
      }
    },
    {
      "cell_type": "code",
      "execution_count": 1,
      "metadata": {
        "colab": {
          "base_uri": "https://localhost:8080/"
        },
        "id": "XWuth_xzilwk",
        "outputId": "11cc0c8f-5676-45da-cfc6-b5bac6a17981"
      },
      "outputs": [
        {
          "name": "stdout",
          "output_type": "stream",
          "text": [
            "please sepcify the name of the folder to upload Acme.zip\n"
          ]
        }
      ],
      "source": [
        "folder_name = input('please sepcify the zip folder name, including the extention ')"
      ]
    },
    {
      "cell_type": "markdown",
      "source": [
        "Ask the user to upload the zip folder and provide the inteface for that"
      ],
      "metadata": {
        "id": "6Ygp8GT4pOIb"
      }
    },
    {
      "cell_type": "code",
      "source": [
        "print('Now upload the zip folder')\n",
        "files.upload()"
      ],
      "metadata": {
        "colab": {
          "base_uri": "https://localhost:8080/",
          "height": 1000
        },
        "id": "f9uomhkwjhaq",
        "outputId": "d20f87f4-15d8-4a8d-a60d-80b18e82ebee"
      },
      "execution_count": 3,
      "outputs": [
        {
          "output_type": "display_data",
          "data": {
            "text/plain": [
              "<IPython.core.display.HTML object>"
            ],
            "text/html": [
              "\n",
              "     <input type=\"file\" id=\"files-1102ff2f-d94f-4e07-896e-a9c0ae5f38c7\" name=\"files[]\" multiple disabled\n",
              "        style=\"border:none\" />\n",
              "     <output id=\"result-1102ff2f-d94f-4e07-896e-a9c0ae5f38c7\">\n",
              "      Upload widget is only available when the cell has been executed in the\n",
              "      current browser session. Please rerun this cell to enable.\n",
              "      </output>\n",
              "      <script>// Copyright 2017 Google LLC\n",
              "//\n",
              "// Licensed under the Apache License, Version 2.0 (the \"License\");\n",
              "// you may not use this file except in compliance with the License.\n",
              "// You may obtain a copy of the License at\n",
              "//\n",
              "//      http://www.apache.org/licenses/LICENSE-2.0\n",
              "//\n",
              "// Unless required by applicable law or agreed to in writing, software\n",
              "// distributed under the License is distributed on an \"AS IS\" BASIS,\n",
              "// WITHOUT WARRANTIES OR CONDITIONS OF ANY KIND, either express or implied.\n",
              "// See the License for the specific language governing permissions and\n",
              "// limitations under the License.\n",
              "\n",
              "/**\n",
              " * @fileoverview Helpers for google.colab Python module.\n",
              " */\n",
              "(function(scope) {\n",
              "function span(text, styleAttributes = {}) {\n",
              "  const element = document.createElement('span');\n",
              "  element.textContent = text;\n",
              "  for (const key of Object.keys(styleAttributes)) {\n",
              "    element.style[key] = styleAttributes[key];\n",
              "  }\n",
              "  return element;\n",
              "}\n",
              "\n",
              "// Max number of bytes which will be uploaded at a time.\n",
              "const MAX_PAYLOAD_SIZE = 100 * 1024;\n",
              "\n",
              "function _uploadFiles(inputId, outputId) {\n",
              "  const steps = uploadFilesStep(inputId, outputId);\n",
              "  const outputElement = document.getElementById(outputId);\n",
              "  // Cache steps on the outputElement to make it available for the next call\n",
              "  // to uploadFilesContinue from Python.\n",
              "  outputElement.steps = steps;\n",
              "\n",
              "  return _uploadFilesContinue(outputId);\n",
              "}\n",
              "\n",
              "// This is roughly an async generator (not supported in the browser yet),\n",
              "// where there are multiple asynchronous steps and the Python side is going\n",
              "// to poll for completion of each step.\n",
              "// This uses a Promise to block the python side on completion of each step,\n",
              "// then passes the result of the previous step as the input to the next step.\n",
              "function _uploadFilesContinue(outputId) {\n",
              "  const outputElement = document.getElementById(outputId);\n",
              "  const steps = outputElement.steps;\n",
              "\n",
              "  const next = steps.next(outputElement.lastPromiseValue);\n",
              "  return Promise.resolve(next.value.promise).then((value) => {\n",
              "    // Cache the last promise value to make it available to the next\n",
              "    // step of the generator.\n",
              "    outputElement.lastPromiseValue = value;\n",
              "    return next.value.response;\n",
              "  });\n",
              "}\n",
              "\n",
              "/**\n",
              " * Generator function which is called between each async step of the upload\n",
              " * process.\n",
              " * @param {string} inputId Element ID of the input file picker element.\n",
              " * @param {string} outputId Element ID of the output display.\n",
              " * @return {!Iterable<!Object>} Iterable of next steps.\n",
              " */\n",
              "function* uploadFilesStep(inputId, outputId) {\n",
              "  const inputElement = document.getElementById(inputId);\n",
              "  inputElement.disabled = false;\n",
              "\n",
              "  const outputElement = document.getElementById(outputId);\n",
              "  outputElement.innerHTML = '';\n",
              "\n",
              "  const pickedPromise = new Promise((resolve) => {\n",
              "    inputElement.addEventListener('change', (e) => {\n",
              "      resolve(e.target.files);\n",
              "    });\n",
              "  });\n",
              "\n",
              "  const cancel = document.createElement('button');\n",
              "  inputElement.parentElement.appendChild(cancel);\n",
              "  cancel.textContent = 'Cancel upload';\n",
              "  const cancelPromise = new Promise((resolve) => {\n",
              "    cancel.onclick = () => {\n",
              "      resolve(null);\n",
              "    };\n",
              "  });\n",
              "\n",
              "  // Wait for the user to pick the files.\n",
              "  const files = yield {\n",
              "    promise: Promise.race([pickedPromise, cancelPromise]),\n",
              "    response: {\n",
              "      action: 'starting',\n",
              "    }\n",
              "  };\n",
              "\n",
              "  cancel.remove();\n",
              "\n",
              "  // Disable the input element since further picks are not allowed.\n",
              "  inputElement.disabled = true;\n",
              "\n",
              "  if (!files) {\n",
              "    return {\n",
              "      response: {\n",
              "        action: 'complete',\n",
              "      }\n",
              "    };\n",
              "  }\n",
              "\n",
              "  for (const file of files) {\n",
              "    const li = document.createElement('li');\n",
              "    li.append(span(file.name, {fontWeight: 'bold'}));\n",
              "    li.append(span(\n",
              "        `(${file.type || 'n/a'}) - ${file.size} bytes, ` +\n",
              "        `last modified: ${\n",
              "            file.lastModifiedDate ? file.lastModifiedDate.toLocaleDateString() :\n",
              "                                    'n/a'} - `));\n",
              "    const percent = span('0% done');\n",
              "    li.appendChild(percent);\n",
              "\n",
              "    outputElement.appendChild(li);\n",
              "\n",
              "    const fileDataPromise = new Promise((resolve) => {\n",
              "      const reader = new FileReader();\n",
              "      reader.onload = (e) => {\n",
              "        resolve(e.target.result);\n",
              "      };\n",
              "      reader.readAsArrayBuffer(file);\n",
              "    });\n",
              "    // Wait for the data to be ready.\n",
              "    let fileData = yield {\n",
              "      promise: fileDataPromise,\n",
              "      response: {\n",
              "        action: 'continue',\n",
              "      }\n",
              "    };\n",
              "\n",
              "    // Use a chunked sending to avoid message size limits. See b/62115660.\n",
              "    let position = 0;\n",
              "    do {\n",
              "      const length = Math.min(fileData.byteLength - position, MAX_PAYLOAD_SIZE);\n",
              "      const chunk = new Uint8Array(fileData, position, length);\n",
              "      position += length;\n",
              "\n",
              "      const base64 = btoa(String.fromCharCode.apply(null, chunk));\n",
              "      yield {\n",
              "        response: {\n",
              "          action: 'append',\n",
              "          file: file.name,\n",
              "          data: base64,\n",
              "        },\n",
              "      };\n",
              "\n",
              "      let percentDone = fileData.byteLength === 0 ?\n",
              "          100 :\n",
              "          Math.round((position / fileData.byteLength) * 100);\n",
              "      percent.textContent = `${percentDone}% done`;\n",
              "\n",
              "    } while (position < fileData.byteLength);\n",
              "  }\n",
              "\n",
              "  // All done.\n",
              "  yield {\n",
              "    response: {\n",
              "      action: 'complete',\n",
              "    }\n",
              "  };\n",
              "}\n",
              "\n",
              "scope.google = scope.google || {};\n",
              "scope.google.colab = scope.google.colab || {};\n",
              "scope.google.colab._files = {\n",
              "  _uploadFiles,\n",
              "  _uploadFilesContinue,\n",
              "};\n",
              "})(self);\n",
              "</script> "
            ]
          },
          "metadata": {}
        },
        {
          "output_type": "stream",
          "name": "stdout",
          "text": [
            "Saving Acme.zip to Acme.zip\n"
          ]
        },
        {
          "output_type": "execute_result",
          "data": {
            "text/plain": [
              "{'Acme.zip': b\"PK\\x03\\x04\\x14\\x03\\x00\\x00\\x00\\x00o\\x9a\\x85W\\x00\\x00\\x00\\x00\\x00\\x00\\x00\\x00\\x00\\x00\\x00\\x00\\x05\\x00\\x00\\x00Acme/PK\\x03\\x04\\n\\x03\\x00\\x00\\x00\\x00x*\\x85W\\x1b\\xd9\\xce\\x99\\r\\x00\\x00\\x00\\r\\x00\\x00\\x00\\x1b\\x00\\x00\\x00Acme/April 2023 minutes.txtFile contentsPK\\x03\\x04\\n\\x03\\x00\\x00\\x00\\x00x*\\x85W\\x1b\\xd9\\xce\\x99\\r\\x00\\x00\\x00\\r\\x00\\x00\\x00\\x1a\\x00\\x00\\x00Acme/April 2023 report.txtFile contentsPK\\x03\\x04\\n\\x03\\x00\\x00\\x00\\x00x*\\x85W\\x1b\\xd9\\xce\\x99\\r\\x00\\x00\\x00\\r\\x00\\x00\\x00\\x1b\\x00\\x00\\x00Acme/August 2022 report.txtFile contentsPK\\x03\\x04\\n\\x03\\x00\\x00\\x00\\x00x*\\x85W\\x1b\\xd9\\xce\\x99\\r\\x00\\x00\\x00\\r\\x00\\x00\\x00#\\x00\\x00\\x00Acme/August 2023 minutes - Copy.txtFile contentsPK\\x03\\x04\\n\\x03\\x00\\x00\\x00\\x00x*\\x85W\\x1b\\xd9\\xce\\x99\\r\\x00\\x00\\x00\\r\\x00\\x00\\x00\\x1c\\x00\\x00\\x00Acme/August 2023 minutes.txtFile contentsPK\\x03\\x04\\n\\x03\\x00\\x00\\x00\\x00x*\\x85W\\x1b\\xd9\\xce\\x99\\r\\x00\\x00\\x00\\r\\x00\\x00\\x00\\x15\\x00\\x00\\x00Acme/Bank details.txtFile contentsPK\\x03\\x04\\n\\x03\\x00\\x00\\x00\\x00x*\\x85W\\x1b\\xd9\\xce\\x99\\r\\x00\\x00\\x00\\r\\x00\\x00\\x00\\x13\\x00\\x00\\x00Acme/Bobs Diary.txtFile contentsPK\\x03\\x04\\n\\x03\\x00\\x00\\x00\\x00x*\\x85W\\x1b\\xd9\\xce\\x99\\r\\x00\\x00\\x00\\r\\x00\\x00\\x00 \\x00\\x00\\x00Acme/Company Accounts - Copy.txtFile contentsPK\\x03\\x04\\n\\x03\\x00\\x00\\x00\\x00x*\\x85W\\x1b\\xd9\\xce\\x99\\r\\x00\\x00\\x00\\r\\x00\\x00\\x00\\x19\\x00\\x00\\x00Acme/Company Accounts.txtFile contentsPK\\x03\\x04\\n\\x03\\x00\\x00\\x00\\x00x*\\x85W\\x1b\\xd9\\xce\\x99\\r\\x00\\x00\\x00\\r\\x00\\x00\\x00\\x1a\\x00\\x00\\x00Acme/Customer payments.txtFile contentsPK\\x03\\x04\\n\\x03\\x00\\x00\\x00\\x00x*\\x85W\\x1b\\xd9\\xce\\x99\\r\\x00\\x00\\x00\\r\\x00\\x00\\x00\\x1e\\x00\\x00\\x00Acme/December  2022 report.txtFile contentsPK\\x03\\x04\\n\\x03\\x00\\x00\\x00\\x00x*\\x85W\\x1b\\xd9\\xce\\x99\\r\\x00\\x00\\x00\\r\\x00\\x00\\x00\\x1f\\x00\\x00\\x00Acme/December  2023 minutes.txtFile contentsPK\\x03\\x04\\n\\x03\\x00\\x00\\x00\\x00x*\\x85W\\x1b\\xd9\\xce\\x99\\r\\x00\\x00\\x00\\r\\x00\\x00\\x00\\x1e\\x00\\x00\\x00Acme/February 2023 minutes.txtFile contentsPK\\x03\\x04\\n\\x03\\x00\\x00\\x00\\x00x*\\x85W\\x1b\\xd9\\xce\\x99\\r\\x00\\x00\\x00\\r\\x00\\x00\\x00$\\x00\\x00\\x00Acme/February 2023 report - Copy.txtFile contentsPK\\x03\\x04\\n\\x03\\x00\\x00\\x00\\x00y*\\x85W\\x1b\\xd9\\xce\\x99\\r\\x00\\x00\\x00\\r\\x00\\x00\\x00\\x1d\\x00\\x00\\x00Acme/February 2023 report.txtFile contentsPK\\x03\\x04\\n\\x03\\x00\\x00\\x00\\x00y*\\x85W\\x1b\\xd9\\xce\\x99\\r\\x00\\x00\\x00\\r\\x00\\x00\\x00\\x1d\\x00\\x00\\x00Acme/January 2023 minutes.txtFile contentsPK\\x03\\x04\\n\\x03\\x00\\x00\\x00\\x00y*\\x85W\\x1b\\xd9\\xce\\x99\\r\\x00\\x00\\x00\\r\\x00\\x00\\x00\\x1c\\x00\\x00\\x00Acme/January 2023 report.txtFile contentsPK\\x03\\x04\\n\\x03\\x00\\x00\\x00\\x00y*\\x85W\\x1b\\xd9\\xce\\x99\\r\\x00\\x00\\x00\\r\\x00\\x00\\x00\\x19\\x00\\x00\\x00Acme/July 2022 report.txtFile contentsPK\\x03\\x04\\n\\x03\\x00\\x00\\x00\\x00y*\\x85W\\x1b\\xd9\\xce\\x99\\r\\x00\\x00\\x00\\r\\x00\\x00\\x00\\x1a\\x00\\x00\\x00Acme/July 2023 minutes.txtFile contentsPK\\x03\\x04\\n\\x03\\x00\\x00\\x00\\x00y*\\x85W\\x1b\\xd9\\xce\\x99\\r\\x00\\x00\\x00\\r\\x00\\x00\\x00!\\x00\\x00\\x00Acme/June 2023 minutes - Copy.txtFile contentsPK\\x03\\x04\\n\\x03\\x00\\x00\\x00\\x00y*\\x85W\\x1b\\xd9\\xce\\x99\\r\\x00\\x00\\x00\\r\\x00\\x00\\x00\\x1a\\x00\\x00\\x00Acme/June 2023 minutes.txtFile contentsPK\\x03\\x04\\n\\x03\\x00\\x00\\x00\\x00y*\\x85W\\x1b\\xd9\\xce\\x99\\r\\x00\\x00\\x00\\r\\x00\\x00\\x00\\x19\\x00\\x00\\x00Acme/June 2023 report.txtFile contentsPK\\x03\\x04\\n\\x03\\x00\\x00\\x00\\x00y*\\x85W\\x1b\\xd9\\xce\\x99\\r\\x00\\x00\\x00\\r\\x00\\x00\\x00\\x19\\x00\\x00\\x00Acme/Mar 2023 minutes.txtFile contentsPK\\x03\\x04\\n\\x03\\x00\\x00\\x00\\x00y*\\x85W\\x1b\\xd9\\xce\\x99\\r\\x00\\x00\\x00\\r\\x00\\x00\\x00\\x1f\\x00\\x00\\x00Acme/Mar 2023 report - Copy.txtFile contentsPK\\x03\\x04\\n\\x03\\x00\\x00\\x00\\x00y*\\x85W\\x1b\\xd9\\xce\\x99\\r\\x00\\x00\\x00\\r\\x00\\x00\\x00\\x18\\x00\\x00\\x00Acme/Mar 2023 report.txtFile contentsPK\\x03\\x04\\n\\x03\\x00\\x00\\x00\\x00y*\\x85W\\x1b\\xd9\\xce\\x99\\r\\x00\\x00\\x00\\r\\x00\\x00\\x00 \\x00\\x00\\x00Acme/May 2023 minutes - Copy.txtFile contentsPK\\x03\\x04\\n\\x03\\x00\\x00\\x00\\x00y*\\x85W\\x1b\\xd9\\xce\\x99\\r\\x00\\x00\\x00\\r\\x00\\x00\\x00\\x19\\x00\\x00\\x00Acme/May 2023 minutes.txtFile contentsPK\\x03\\x04\\n\\x03\\x00\\x00\\x00\\x00y*\\x85W\\x1b\\xd9\\xce\\x99\\r\\x00\\x00\\x00\\r\\x00\\x00\\x00\\x18\\x00\\x00\\x00Acme/May 2023 report.txtFile contentsPK\\x03\\x04\\n\\x03\\x00\\x00\\x00\\x00y*\\x85W\\x1b\\xd9\\xce\\x99\\r\\x00\\x00\\x00\\r\\x00\\x00\\x00$\\x00\\x00\\x00Acme/November 2022 report - Copy.txtFile contentsPK\\x03\\x04\\n\\x03\\x00\\x00\\x00\\x00y*\\x85W\\x1b\\xd9\\xce\\x99\\r\\x00\\x00\\x00\\r\\x00\\x00\\x00\\x1d\\x00\\x00\\x00Acme/November 2022 report.txtFile contentsPK\\x03\\x04\\n\\x03\\x00\\x00\\x00\\x00y*\\x85W\\x1b\\xd9\\xce\\x99\\r\\x00\\x00\\x00\\r\\x00\\x00\\x00\\x1e\\x00\\x00\\x00Acme/November 2023 minutes.txtFile contentsPK\\x03\\x04\\n\\x03\\x00\\x00\\x00\\x00y*\\x85W\\x1b\\xd9\\xce\\x99\\r\\x00\\x00\\x00\\r\\x00\\x00\\x00\\x1c\\x00\\x00\\x00Acme/October 2022 report.txtFile contentsPK\\x03\\x04\\n\\x03\\x00\\x00\\x00\\x00y*\\x85W\\x1b\\xd9\\xce\\x99\\r\\x00\\x00\\x00\\r\\x00\\x00\\x00\\x1d\\x00\\x00\\x00Acme/October 2023 minutes.txtFile contentsPK\\x03\\x04\\n\\x03\\x00\\x00\\x00\\x00y*\\x85W\\x1b\\xd9\\xce\\x99\\r\\x00\\x00\\x00\\r\\x00\\x00\\x00\\x19\\x00\\x00\\x00Acme/Security Project.txtFile contentsPK\\x03\\x04\\n\\x03\\x00\\x00\\x00\\x00y*\\x85W\\x1b\\xd9\\xce\\x99\\r\\x00\\x00\\x00\\r\\x00\\x00\\x00\\x1e\\x00\\x00\\x00Acme/September 2022 report.txtFile contentsPK\\x03\\x04\\n\\x03\\x00\\x00\\x00\\x00y*\\x85W\\x1b\\xd9\\xce\\x99\\r\\x00\\x00\\x00\\r\\x00\\x00\\x00\\x1f\\x00\\x00\\x00Acme/September 2023 minutes.txtFile contentsPK\\x03\\x04\\n\\x03\\x00\\x00\\x00\\x00y*\\x85W\\x1b\\xd9\\xce\\x99\\r\\x00\\x00\\x00\\r\\x00\\x00\\x00\\x18\\x00\\x00\\x00Acme/Staff addresses.txtFile contentsPK\\x03\\x04\\n\\x03\\x00\\x00\\x00\\x00y*\\x85W\\x1b\\xd9\\xce\\x99\\r\\x00\\x00\\x00\\r\\x00\\x00\\x00\\x13\\x00\\x00\\x00Acme/Temp staff.txtFile contentsPK\\x01\\x02?\\x03\\x14\\x03\\x00\\x00\\x00\\x00o\\x9a\\x85W\\x00\\x00\\x00\\x00\\x00\\x00\\x00\\x00\\x00\\x00\\x00\\x00\\x05\\x00$\\x00\\x00\\x00\\x00\\x00\\x00\\x00\\x10\\x80\\xc0A\\x00\\x00\\x00\\x00Acme/\\n\\x00 \\x00\\x00\\x00\\x00\\x00\\x01\\x00\\x18\\x00\\x80v\\xbd\\xf7\\xaf'\\xda\\x01\\x00e~@&*\\xda\\x01\\x80\\xce\\xe5?&*\\xda\\x01PK\\x01\\x02?\\x03\\n\\x03\\x00\\x00\\x00\\x00x*\\x85W\\x1b\\xd9\\xce\\x99\\r\\x00\\x00\\x00\\r\\x00\\x00\\x00\\x1b\\x00$\\x00\\x00\\x00\\x00\\x00\\x00\\x00 \\x80\\xa4\\x81#\\x00\\x00\\x00Acme/April 2023 minutes.txt\\n\\x00 \\x00\\x00\\x00\\x00\\x00\\x01\\x00\\x18\\x00\\x00\\xf2R\\xaa:'\\xda\\x01\\x80T\\x13\\xba *\\xda\\x01\\x80v\\xbd\\xf7\\xaf'\\xda\\x01PK\\x01\\x02?\\x03\\n\\x03\\x00\\x00\\x00\\x00x*\\x85W\\x1b\\xd9\\xce\\x99\\r\\x00\\x00\\x00\\r\\x00\\x00\\x00\\x1a\\x00$\\x00\\x00\\x00\\x00\\x00\\x00\\x00 \\x80\\xa4\\x81i\\x00\\x00\\x00Acme/April 2023 report.txt\\n\\x00 \\x00\\x00\\x00\\x00\\x00\\x01\\x00\\x18\\x00\\x00\\xf2R\\xaa:'\\xda\\x01\\x80\\xaeu\\xbc *\\xda\\x01\\x80v\\xbd\\xf7\\xaf'\\xda\\x01PK\\x01\\x02?\\x03\\n\\x03\\x00\\x00\\x00\\x00x*\\x85W\\x1b\\xd9\\xce\\x99\\r\\x00\\x00\\x00\\r\\x00\\x00\\x00\\x1b\\x00$\\x00\\x00\\x00\\x00\\x00\\x00\\x00 \\x80\\xa4\\x81\\xae\\x00\\x00\\x00Acme/August 2022 report.txt\\n\\x00 \\x00\\x00\\x00\\x00\\x00\\x01\\x00\\x18\\x00\\x00\\xf2R\\xaa:'\\xda\\x01\\x00\\xeb\\xab\\xba *\\xda\\x01\\x80v\\xbd\\xf7\\xaf'\\xda\\x01PK\\x01\\x02?\\x03\\n\\x03\\x00\\x00\\x00\\x00x*\\x85W\\x1b\\xd9\\xce\\x99\\r\\x00\\x00\\x00\\r\\x00\\x00\\x00#\\x00$\\x00\\x00\\x00\\x00\\x00\\x00\\x00 \\x80\\xa4\\x81\\xf4\\x00\\x00\\x00Acme/August 2023 minutes - Copy.txt\\n\\x00 \\x00\\x00\\x00\\x00\\x00\\x01\\x00\\x18\\x00\\x00\\xf2R\\xaa:'\\xda\\x01\\x80\\xaeu\\xbc *\\xda\\x01\\x80v\\xbd\\xf7\\xaf'\\xda\\x01PK\\x01\\x02?\\x03\\n\\x03\\x00\\x00\\x00\\x00x*\\x85W\\x1b\\xd9\\xce\\x99\\r\\x00\\x00\\x00\\r\\x00\\x00\\x00\\x1c\\x00$\\x00\\x00\\x00\\x00\\x00\\x00\\x00 \\x80\\xa4\\x81B\\x01\\x00\\x00Acme/August 2023 minutes.txt\\n\\x00 \\x00\\x00\\x00\\x00\\x00\\x01\\x00\\x18\\x00\\x00\\xf2R\\xaa:'\\xda\\x01\\x80\\xaeu\\xbc *\\xda\\x01\\x80v\\xbd\\xf7\\xaf'\\xda\\x01PK\\x01\\x02?\\x03\\n\\x03\\x00\\x00\\x00\\x00x*\\x85W\\x1b\\xd9\\xce\\x99\\r\\x00\\x00\\x00\\r\\x00\\x00\\x00\\x15\\x00$\\x00\\x00\\x00\\x00\\x00\\x00\\x00 \\x80\\xa4\\x81\\x89\\x01\\x00\\x00Acme/Bank details.txt\\n\\x00 \\x00\\x00\\x00\\x00\\x00\\x01\\x00\\x18\\x00\\x00\\xf2R\\xaa:'\\xda\\x01\\x80\\xaeu\\xbc *\\xda\\x01\\x80v\\xbd\\xf7\\xaf'\\xda\\x01PK\\x01\\x02?\\x03\\n\\x03\\x00\\x00\\x00\\x00x*\\x85W\\x1b\\xd9\\xce\\x99\\r\\x00\\x00\\x00\\r\\x00\\x00\\x00\\x13\\x00$\\x00\\x00\\x00\\x00\\x00\\x00\\x00 \\x80\\xa4\\x81\\xc9\\x01\\x00\\x00Acme/Bobs Diary.txt\\n\\x00 \\x00\\x00\\x00\\x00\\x00\\x01\\x00\\x18\\x00\\x00\\xf2R\\xaa:'\\xda\\x01\\x80\\xaeu\\xbc *\\xda\\x01\\x80v\\xbd\\xf7\\xaf'\\xda\\x01PK\\x01\\x02?\\x03\\n\\x03\\x00\\x00\\x00\\x00x*\\x85W\\x1b\\xd9\\xce\\x99\\r\\x00\\x00\\x00\\r\\x00\\x00\\x00 \\x00$\\x00\\x00\\x00\\x00\\x00\\x00\\x00 \\x80\\xa4\\x81\\x07\\x02\\x00\\x00Acme/Company Accounts - Copy.txt\\n\\x00 \\x00\\x00\\x00\\x00\\x00\\x01\\x00\\x18\\x00\\x00\\xf2R\\xaa:'\\xda\\x01\\x80\\xaeu\\xbc *\\xda\\x01\\x80v\\xbd\\xf7\\xaf'\\xda\\x01PK\\x01\\x02?\\x03\\n\\x03\\x00\\x00\\x00\\x00x*\\x85W\\x1b\\xd9\\xce\\x99\\r\\x00\\x00\\x00\\r\\x00\\x00\\x00\\x19\\x00$\\x00\\x00\\x00\\x00\\x00\\x00\\x00 \\x80\\xa4\\x81R\\x02\\x00\\x00Acme/Company Accounts.txt\\n\\x00 \\x00\\x00\\x00\\x00\\x00\\x01\\x00\\x18\\x00\\x00\\xf2R\\xaa:'\\xda\\x01\\x80\\xaeu\\xbc *\\xda\\x01\\x80v\\xbd\\xf7\\xaf'\\xda\\x01PK\\x01\\x02?\\x03\\n\\x03\\x00\\x00\\x00\\x00x*\\x85W\\x1b\\xd9\\xce\\x99\\r\\x00\\x00\\x00\\r\\x00\\x00\\x00\\x1a\\x00$\\x00\\x00\\x00\\x00\\x00\\x00\\x00 \\x80\\xa4\\x81\\x96\\x02\\x00\\x00Acme/Customer payments.txt\\n\\x00 \\x00\\x00\\x00\\x00\\x00\\x01\\x00\\x18\\x00\\x00\\xf2R\\xaa:'\\xda\\x01\\x80\\xaeu\\xbc *\\xda\\x01\\x80v\\xbd\\xf7\\xaf'\\xda\\x01PK\\x01\\x02?\\x03\\n\\x03\\x00\\x00\\x00\\x00x*\\x85W\\x1b\\xd9\\xce\\x99\\r\\x00\\x00\\x00\\r\\x00\\x00\\x00\\x1e\\x00$\\x00\\x00\\x00\\x00\\x00\\x00\\x00 \\x80\\xa4\\x81\\xdb\\x02\\x00\\x00Acme/December  2022 report.txt\\n\\x00 \\x00\\x00\\x00\\x00\\x00\\x01\\x00\\x18\\x00\\x00\\xf2R\\xaa:'\\xda\\x01\\x80\\xaeu\\xbc *\\xda\\x01\\x80v\\xbd\\xf7\\xaf'\\xda\\x01PK\\x01\\x02?\\x03\\n\\x03\\x00\\x00\\x00\\x00x*\\x85W\\x1b\\xd9\\xce\\x99\\r\\x00\\x00\\x00\\r\\x00\\x00\\x00\\x1f\\x00$\\x00\\x00\\x00\\x00\\x00\\x00\\x00 \\x80\\xa4\\x81$\\x03\\x00\\x00Acme/December  2023 minutes.txt\\n\\x00 \\x00\\x00\\x00\\x00\\x00\\x01\\x00\\x18\\x00\\x00\\xf2R\\xaa:'\\xda\\x01\\x80\\xaeu\\xbc *\\xda\\x01\\x80v\\xbd\\xf7\\xaf'\\xda\\x01PK\\x01\\x02?\\x03\\n\\x03\\x00\\x00\\x00\\x00x*\\x85W\\x1b\\xd9\\xce\\x99\\r\\x00\\x00\\x00\\r\\x00\\x00\\x00\\x1e\\x00$\\x00\\x00\\x00\\x00\\x00\\x00\\x00 \\x80\\xa4\\x81n\\x03\\x00\\x00Acme/February 2023 minutes.txt\\n\\x00 \\x00\\x00\\x00\\x00\\x00\\x01\\x00\\x18\\x00\\x00\\xf2R\\xaa:'\\xda\\x01\\x80\\xaeu\\xbc *\\xda\\x01\\x80v\\xbd\\xf7\\xaf'\\xda\\x01PK\\x01\\x02?\\x03\\n\\x03\\x00\\x00\\x00\\x00x*\\x85W\\x1b\\xd9\\xce\\x99\\r\\x00\\x00\\x00\\r\\x00\\x00\\x00$\\x00$\\x00\\x00\\x00\\x00\\x00\\x00\\x00 \\x80\\xa4\\x81\\xb7\\x03\\x00\\x00Acme/February 2023 report - Copy.txt\\n\\x00 \\x00\\x00\\x00\\x00\\x00\\x01\\x00\\x18\\x00\\x00\\xf2R\\xaa:'\\xda\\x01\\x80\\xaeu\\xbc *\\xda\\x01\\x80v\\xbd\\xf7\\xaf'\\xda\\x01PK\\x01\\x02?\\x03\\n\\x03\\x00\\x00\\x00\\x00y*\\x85W\\x1b\\xd9\\xce\\x99\\r\\x00\\x00\\x00\\r\\x00\\x00\\x00\\x1d\\x00$\\x00\\x00\\x00\\x00\\x00\\x00\\x00 \\x80\\xa4\\x81\\x06\\x04\\x00\\x00Acme/February 2023 report.txt\\n\\x00 \\x00\\x00\\x00\\x00\\x00\\x01\\x00\\x18\\x00\\x00\\x1f\\x84\\xab:'\\xda\\x01\\x80\\xaeu\\xbc *\\xda\\x01\\x80v\\xbd\\xf7\\xaf'\\xda\\x01PK\\x01\\x02?\\x03\\n\\x03\\x00\\x00\\x00\\x00y*\\x85W\\x1b\\xd9\\xce\\x99\\r\\x00\\x00\\x00\\r\\x00\\x00\\x00\\x1d\\x00$\\x00\\x00\\x00\\x00\\x00\\x00\\x00 \\x80\\xa4\\x81N\\x04\\x00\\x00Acme/January 2023 minutes.txt\\n\\x00 \\x00\\x00\\x00\\x00\\x00\\x01\\x00\\x18\\x00\\x00\\x1f\\x84\\xab:'\\xda\\x01\\x80\\xaeu\\xbc *\\xda\\x01\\x80v\\xbd\\xf7\\xaf'\\xda\\x01PK\\x01\\x02?\\x03\\n\\x03\\x00\\x00\\x00\\x00y*\\x85W\\x1b\\xd9\\xce\\x99\\r\\x00\\x00\\x00\\r\\x00\\x00\\x00\\x1c\\x00$\\x00\\x00\\x00\\x00\\x00\\x00\\x00 \\x80\\xa4\\x81\\x96\\x04\\x00\\x00Acme/January 2023 report.txt\\n\\x00 \\x00\\x00\\x00\\x00\\x00\\x01\\x00\\x18\\x00\\x00\\x1f\\x84\\xab:'\\xda\\x01\\x80\\xaeu\\xbc *\\xda\\x01\\x80v\\xbd\\xf7\\xaf'\\xda\\x01PK\\x01\\x02?\\x03\\n\\x03\\x00\\x00\\x00\\x00y*\\x85W\\x1b\\xd9\\xce\\x99\\r\\x00\\x00\\x00\\r\\x00\\x00\\x00\\x19\\x00$\\x00\\x00\\x00\\x00\\x00\\x00\\x00 \\x80\\xa4\\x81\\xdd\\x04\\x00\\x00Acme/July 2022 report.txt\\n\\x00 \\x00\\x00\\x00\\x00\\x00\\x01\\x00\\x18\\x00\\x00\\x1f\\x84\\xab:'\\xda\\x01\\x80\\xaeu\\xbc *\\xda\\x01\\x80v\\xbd\\xf7\\xaf'\\xda\\x01PK\\x01\\x02?\\x03\\n\\x03\\x00\\x00\\x00\\x00y*\\x85W\\x1b\\xd9\\xce\\x99\\r\\x00\\x00\\x00\\r\\x00\\x00\\x00\\x1a\\x00$\\x00\\x00\\x00\\x00\\x00\\x00\\x00 \\x80\\xa4\\x81!\\x05\\x00\\x00Acme/July 2023 minutes.txt\\n\\x00 \\x00\\x00\\x00\\x00\\x00\\x01\\x00\\x18\\x00\\x00\\x1f\\x84\\xab:'\\xda\\x01\\x80\\xaeu\\xbc *\\xda\\x01\\x80v\\xbd\\xf7\\xaf'\\xda\\x01PK\\x01\\x02?\\x03\\n\\x03\\x00\\x00\\x00\\x00y*\\x85W\\x1b\\xd9\\xce\\x99\\r\\x00\\x00\\x00\\r\\x00\\x00\\x00!\\x00$\\x00\\x00\\x00\\x00\\x00\\x00\\x00 \\x80\\xa4\\x81f\\x05\\x00\\x00Acme/June 2023 minutes - Copy.txt\\n\\x00 \\x00\\x00\\x00\\x00\\x00\\x01\\x00\\x18\\x00\\x00\\x1f\\x84\\xab:'\\xda\\x01\\x80\\xaeu\\xbc *\\xda\\x01\\x80v\\xbd\\xf7\\xaf'\\xda\\x01PK\\x01\\x02?\\x03\\n\\x03\\x00\\x00\\x00\\x00y*\\x85W\\x1b\\xd9\\xce\\x99\\r\\x00\\x00\\x00\\r\\x00\\x00\\x00\\x1a\\x00$\\x00\\x00\\x00\\x00\\x00\\x00\\x00 \\x80\\xa4\\x81\\xb2\\x05\\x00\\x00Acme/June 2023 minutes.txt\\n\\x00 \\x00\\x00\\x00\\x00\\x00\\x01\\x00\\x18\\x00\\x00\\x1f\\x84\\xab:'\\xda\\x01\\x80\\xaeu\\xbc *\\xda\\x01\\x80v\\xbd\\xf7\\xaf'\\xda\\x01PK\\x01\\x02?\\x03\\n\\x03\\x00\\x00\\x00\\x00y*\\x85W\\x1b\\xd9\\xce\\x99\\r\\x00\\x00\\x00\\r\\x00\\x00\\x00\\x19\\x00$\\x00\\x00\\x00\\x00\\x00\\x00\\x00 \\x80\\xa4\\x81\\xf7\\x05\\x00\\x00Acme/June 2023 report.txt\\n\\x00 \\x00\\x00\\x00\\x00\\x00\\x01\\x00\\x18\\x00\\x00\\x1f\\x84\\xab:'\\xda\\x01\\x80\\xaeu\\xbc *\\xda\\x01\\x80v\\xbd\\xf7\\xaf'\\xda\\x01PK\\x01\\x02?\\x03\\n\\x03\\x00\\x00\\x00\\x00y*\\x85W\\x1b\\xd9\\xce\\x99\\r\\x00\\x00\\x00\\r\\x00\\x00\\x00\\x19\\x00$\\x00\\x00\\x00\\x00\\x00\\x00\\x00 \\x80\\xa4\\x81;\\x06\\x00\\x00Acme/Mar 2023 minutes.txt\\n\\x00 \\x00\\x00\\x00\\x00\\x00\\x01\\x00\\x18\\x00\\x00\\x1f\\x84\\xab:'\\xda\\x01\\x80\\xaeu\\xbc *\\xda\\x01\\x80v\\xbd\\xf7\\xaf'\\xda\\x01PK\\x01\\x02?\\x03\\n\\x03\\x00\\x00\\x00\\x00y*\\x85W\\x1b\\xd9\\xce\\x99\\r\\x00\\x00\\x00\\r\\x00\\x00\\x00\\x1f\\x00$\\x00\\x00\\x00\\x00\\x00\\x00\\x00 \\x80\\xa4\\x81\\x7f\\x06\\x00\\x00Acme/Mar 2023 report - Copy.txt\\n\\x00 \\x00\\x00\\x00\\x00\\x00\\x01\\x00\\x18\\x00\\x00\\x1f\\x84\\xab:'\\xda\\x01\\x80\\xaeu\\xbc *\\xda\\x01\\x80v\\xbd\\xf7\\xaf'\\xda\\x01PK\\x01\\x02?\\x03\\n\\x03\\x00\\x00\\x00\\x00y*\\x85W\\x1b\\xd9\\xce\\x99\\r\\x00\\x00\\x00\\r\\x00\\x00\\x00\\x18\\x00$\\x00\\x00\\x00\\x00\\x00\\x00\\x00 \\x80\\xa4\\x81\\xc9\\x06\\x00\\x00Acme/Mar 2023 report.txt\\n\\x00 \\x00\\x00\\x00\\x00\\x00\\x01\\x00\\x18\\x00\\x00\\x1f\\x84\\xab:'\\xda\\x01\\x80\\xaeu\\xbc *\\xda\\x01\\x80v\\xbd\\xf7\\xaf'\\xda\\x01PK\\x01\\x02?\\x03\\n\\x03\\x00\\x00\\x00\\x00y*\\x85W\\x1b\\xd9\\xce\\x99\\r\\x00\\x00\\x00\\r\\x00\\x00\\x00 \\x00$\\x00\\x00\\x00\\x00\\x00\\x00\\x00 \\x80\\xa4\\x81\\x0c\\x07\\x00\\x00Acme/May 2023 minutes - Copy.txt\\n\\x00 \\x00\\x00\\x00\\x00\\x00\\x01\\x00\\x18\\x00\\x00\\x1f\\x84\\xab:'\\xda\\x01\\x80\\xaeu\\xbc *\\xda\\x01\\x80v\\xbd\\xf7\\xaf'\\xda\\x01PK\\x01\\x02?\\x03\\n\\x03\\x00\\x00\\x00\\x00y*\\x85W\\x1b\\xd9\\xce\\x99\\r\\x00\\x00\\x00\\r\\x00\\x00\\x00\\x19\\x00$\\x00\\x00\\x00\\x00\\x00\\x00\\x00 \\x80\\xa4\\x81W\\x07\\x00\\x00Acme/May 2023 minutes.txt\\n\\x00 \\x00\\x00\\x00\\x00\\x00\\x01\\x00\\x18\\x00\\x00\\x1f\\x84\\xab:'\\xda\\x01\\x80\\xaeu\\xbc *\\xda\\x01\\x80v\\xbd\\xf7\\xaf'\\xda\\x01PK\\x01\\x02?\\x03\\n\\x03\\x00\\x00\\x00\\x00y*\\x85W\\x1b\\xd9\\xce\\x99\\r\\x00\\x00\\x00\\r\\x00\\x00\\x00\\x18\\x00$\\x00\\x00\\x00\\x00\\x00\\x00\\x00 \\x80\\xa4\\x81\\x9b\\x07\\x00\\x00Acme/May 2023 report.txt\\n\\x00 \\x00\\x00\\x00\\x00\\x00\\x01\\x00\\x18\\x00\\x00\\x1f\\x84\\xab:'\\xda\\x01\\x80\\xaeu\\xbc *\\xda\\x01\\x80v\\xbd\\xf7\\xaf'\\xda\\x01PK\\x01\\x02?\\x03\\n\\x03\\x00\\x00\\x00\\x00y*\\x85W\\x1b\\xd9\\xce\\x99\\r\\x00\\x00\\x00\\r\\x00\\x00\\x00$\\x00$\\x00\\x00\\x00\\x00\\x00\\x00\\x00 \\x80\\xa4\\x81\\xde\\x07\\x00\\x00Acme/November 2022 report - Copy.txt\\n\\x00 \\x00\\x00\\x00\\x00\\x00\\x01\\x00\\x18\\x00\\x00\\x1f\\x84\\xab:'\\xda\\x01\\x80\\xaeu\\xbc *\\xda\\x01\\x80v\\xbd\\xf7\\xaf'\\xda\\x01PK\\x01\\x02?\\x03\\n\\x03\\x00\\x00\\x00\\x00y*\\x85W\\x1b\\xd9\\xce\\x99\\r\\x00\\x00\\x00\\r\\x00\\x00\\x00\\x1d\\x00$\\x00\\x00\\x00\\x00\\x00\\x00\\x00 \\x80\\xa4\\x81-\\x08\\x00\\x00Acme/November 2022 report.txt\\n\\x00 \\x00\\x00\\x00\\x00\\x00\\x01\\x00\\x18\\x00\\x00\\x1f\\x84\\xab:'\\xda\\x01\\x80\\xaeu\\xbc *\\xda\\x01\\x80v\\xbd\\xf7\\xaf'\\xda\\x01PK\\x01\\x02?\\x03\\n\\x03\\x00\\x00\\x00\\x00y*\\x85W\\x1b\\xd9\\xce\\x99\\r\\x00\\x00\\x00\\r\\x00\\x00\\x00\\x1e\\x00$\\x00\\x00\\x00\\x00\\x00\\x00\\x00 \\x80\\xa4\\x81u\\x08\\x00\\x00Acme/November 2023 minutes.txt\\n\\x00 \\x00\\x00\\x00\\x00\\x00\\x01\\x00\\x18\\x00\\x00\\x1f\\x84\\xab:'\\xda\\x01\\x80\\xaeu\\xbc *\\xda\\x01\\x80v\\xbd\\xf7\\xaf'\\xda\\x01PK\\x01\\x02?\\x03\\n\\x03\\x00\\x00\\x00\\x00y*\\x85W\\x1b\\xd9\\xce\\x99\\r\\x00\\x00\\x00\\r\\x00\\x00\\x00\\x1c\\x00$\\x00\\x00\\x00\\x00\\x00\\x00\\x00 \\x80\\xa4\\x81\\xbe\\x08\\x00\\x00Acme/October 2022 report.txt\\n\\x00 \\x00\\x00\\x00\\x00\\x00\\x01\\x00\\x18\\x00\\x00\\x1f\\x84\\xab:'\\xda\\x01\\x80\\xaeu\\xbc *\\xda\\x01\\x80v\\xbd\\xf7\\xaf'\\xda\\x01PK\\x01\\x02?\\x03\\n\\x03\\x00\\x00\\x00\\x00y*\\x85W\\x1b\\xd9\\xce\\x99\\r\\x00\\x00\\x00\\r\\x00\\x00\\x00\\x1d\\x00$\\x00\\x00\\x00\\x00\\x00\\x00\\x00 \\x80\\xa4\\x81\\x05\\t\\x00\\x00Acme/October 2023 minutes.txt\\n\\x00 \\x00\\x00\\x00\\x00\\x00\\x01\\x00\\x18\\x00\\x00\\x1f\\x84\\xab:'\\xda\\x01\\x80\\xaeu\\xbc *\\xda\\x01\\x80v\\xbd\\xf7\\xaf'\\xda\\x01PK\\x01\\x02?\\x03\\n\\x03\\x00\\x00\\x00\\x00y*\\x85W\\x1b\\xd9\\xce\\x99\\r\\x00\\x00\\x00\\r\\x00\\x00\\x00\\x19\\x00$\\x00\\x00\\x00\\x00\\x00\\x00\\x00 \\x80\\xa4\\x81M\\t\\x00\\x00Acme/Security Project.txt\\n\\x00 \\x00\\x00\\x00\\x00\\x00\\x01\\x00\\x18\\x00\\x00\\x1f\\x84\\xab:'\\xda\\x01\\x80\\xaeu\\xbc *\\xda\\x01\\x80v\\xbd\\xf7\\xaf'\\xda\\x01PK\\x01\\x02?\\x03\\n\\x03\\x00\\x00\\x00\\x00y*\\x85W\\x1b\\xd9\\xce\\x99\\r\\x00\\x00\\x00\\r\\x00\\x00\\x00\\x1e\\x00$\\x00\\x00\\x00\\x00\\x00\\x00\\x00 \\x80\\xa4\\x81\\x91\\t\\x00\\x00Acme/September 2022 report.txt\\n\\x00 \\x00\\x00\\x00\\x00\\x00\\x01\\x00\\x18\\x00\\x00\\x1f\\x84\\xab:'\\xda\\x01\\x80\\xaeu\\xbc *\\xda\\x01\\x80v\\xbd\\xf7\\xaf'\\xda\\x01PK\\x01\\x02?\\x03\\n\\x03\\x00\\x00\\x00\\x00y*\\x85W\\x1b\\xd9\\xce\\x99\\r\\x00\\x00\\x00\\r\\x00\\x00\\x00\\x1f\\x00$\\x00\\x00\\x00\\x00\\x00\\x00\\x00 \\x80\\xa4\\x81\\xda\\t\\x00\\x00Acme/September 2023 minutes.txt\\n\\x00 \\x00\\x00\\x00\\x00\\x00\\x01\\x00\\x18\\x00\\x00\\x1f\\x84\\xab:'\\xda\\x01\\x80\\xaeu\\xbc *\\xda\\x01\\x80v\\xbd\\xf7\\xaf'\\xda\\x01PK\\x01\\x02?\\x03\\n\\x03\\x00\\x00\\x00\\x00y*\\x85W\\x1b\\xd9\\xce\\x99\\r\\x00\\x00\\x00\\r\\x00\\x00\\x00\\x18\\x00$\\x00\\x00\\x00\\x00\\x00\\x00\\x00 \\x80\\xa4\\x81$\\n\\x00\\x00Acme/Staff addresses.txt\\n\\x00 \\x00\\x00\\x00\\x00\\x00\\x01\\x00\\x18\\x00\\x00\\x1f\\x84\\xab:'\\xda\\x01\\x80\\xaeu\\xbc *\\xda\\x01\\x80v\\xbd\\xf7\\xaf'\\xda\\x01PK\\x01\\x02?\\x03\\n\\x03\\x00\\x00\\x00\\x00y*\\x85W\\x1b\\xd9\\xce\\x99\\r\\x00\\x00\\x00\\r\\x00\\x00\\x00\\x13\\x00$\\x00\\x00\\x00\\x00\\x00\\x00\\x00 \\x80\\xa4\\x81g\\n\\x00\\x00Acme/Temp staff.txt\\n\\x00 \\x00\\x00\\x00\\x00\\x00\\x01\\x00\\x18\\x00\\x00\\x1f\\x84\\xab:'\\xda\\x01\\x80\\xaeu\\xbc *\\xda\\x01\\x80v\\xbd\\xf7\\xaf'\\xda\\x01PK\\x05\\x06\\x00\\x00\\x00\\x00'\\x00'\\x00\\xa3\\x10\\x00\\x00\\xa5\\n\\x00\\x00\\x00\\x00\"}"
            ]
          },
          "metadata": {},
          "execution_count": 3
        }
      ]
    },
    {
      "cell_type": "markdown",
      "source": [
        "Extract the folder"
      ],
      "metadata": {
        "id": "PQQdbrTYptMi"
      }
    },
    {
      "cell_type": "code",
      "source": [
        "directory_to_extract_to = '/content/'\n",
        "shutil.unpack_archive(folder_name, directory_to_extract_to, \"zip\")\n",
        "directory_to_clean_up = directory_to_extract_to + folder_name[:-4]"
      ],
      "metadata": {
        "id": "CtOa3fwVlwye"
      },
      "execution_count": 5,
      "outputs": []
    },
    {
      "cell_type": "markdown",
      "source": [
        "List all the files in the extracted folder"
      ],
      "metadata": {
        "id": "xyMgGu43p3KQ"
      }
    },
    {
      "cell_type": "code",
      "source": [
        "def list_files_in_folder_and_subfolders(folder):\n",
        "  directory_contents = os.walk(folder)\n",
        "  file_name_list = []\n",
        "  for root, dirs, files in directory_contents:\n",
        "    for file in files:\n",
        "      file_name_list.append(file)\n",
        "  return file_name_list\n",
        "acme_files_list = list_files_in_folder_and_subfolders(directory_to_clean_up)\n",
        "for file in acme_files_list:\n",
        "  print(file)\n",
        "\n"
      ],
      "metadata": {
        "colab": {
          "base_uri": "https://localhost:8080/"
        },
        "id": "9vEruUEWn3o2",
        "outputId": "dd4613ed-c8d2-4d84-ff32-e621119e1bda"
      },
      "execution_count": 6,
      "outputs": [
        {
          "output_type": "stream",
          "name": "stdout",
          "text": [
            "Company Accounts - Copy.txt\n",
            "June 2023 report.txt\n",
            "June 2023 minutes - Copy.txt\n",
            "February 2023 minutes.txt\n",
            "June 2023 minutes.txt\n",
            "September 2022 report.txt\n",
            "Mar 2023 report.txt\n",
            "May 2023 report.txt\n",
            "September 2023 minutes.txt\n",
            "Mar 2023 minutes.txt\n",
            "Bank details.txt\n",
            "July 2022 report.txt\n",
            "May 2023 minutes.txt\n",
            "August 2023 minutes.txt\n",
            "November 2022 report.txt\n",
            "February 2023 report - Copy.txt\n",
            "Mar 2023 report - Copy.txt\n",
            "Customer payments.txt\n",
            "October 2022 report.txt\n",
            "Bobs Diary.txt\n",
            "Staff addresses.txt\n",
            "May 2023 minutes - Copy.txt\n",
            "July 2023 minutes.txt\n",
            "April 2023 minutes.txt\n",
            "February 2023 report.txt\n",
            "October 2023 minutes.txt\n",
            "Security Project.txt\n",
            "Temp staff.txt\n",
            "December  2023 minutes.txt\n",
            "Company Accounts.txt\n",
            "November 2022 report - Copy.txt\n",
            "January 2023 report.txt\n",
            "January 2023 minutes.txt\n",
            "August 2023 minutes - Copy.txt\n",
            "April 2023 report.txt\n",
            "December  2022 report.txt\n",
            "August 2022 report.txt\n",
            "November 2023 minutes.txt\n"
          ]
        }
      ]
    },
    {
      "cell_type": "markdown",
      "source": [
        "Create two new subfolders titled Minutes and Reports in the extracted folder"
      ],
      "metadata": {
        "id": "pyXAETC0qAx7"
      }
    },
    {
      "cell_type": "code",
      "source": [
        "os.mkdir(r'/content/' + folder_name[:-4] + '/Minutes')\n",
        "os.mkdir(r'/content/' + folder_name[:-4] + '/Reports')"
      ],
      "metadata": {
        "id": "ZFWB6cFqodKD"
      },
      "execution_count": 7,
      "outputs": []
    },
    {
      "cell_type": "markdown",
      "source": [
        "Move the files into subfolders titled Minutes or Reports if the name of the file contains the word minutes or reports respectively"
      ],
      "metadata": {
        "id": "O1nrkeeZqsdZ"
      }
    },
    {
      "cell_type": "code",
      "source": [
        "files_minutes_pattern = glob.glob(r'/content/' + folder_name[:-4] + '/*minutes*')\n",
        "def move_files_to_inside_folder(destination_folder_name, pathnames_matching_pattern):\n",
        "  for file_path in pathnames_matching_pattern:\n",
        "    if os.path.isfile(file_path):\n",
        "      destination = file_path.rsplit('/',1)[0] + r'/' + destination_folder_name + r'/' + file_path.rsplit('/',1)[1]\n",
        "      shutil.move(file_path, destination)\n",
        "move_files_to_inside_folder(\"Minutes\",files_minutes_pattern)\n",
        "files_report_pattern = glob.glob(r'/content/' + folder_name[:-4] + '/*report*')\n",
        "move_files_to_inside_folder(\"Reports\",files_report_pattern)\n",
        "\n"
      ],
      "metadata": {
        "id": "00RvD5TcqKjy"
      },
      "execution_count": 8,
      "outputs": []
    }
  ]
}