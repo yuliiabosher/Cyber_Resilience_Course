{
  "nbformat": 4,
  "nbformat_minor": 0,
  "metadata": {
    "colab": {
      "provenance": [],
      "authorship_tag": "ABX9TyNDwTA6fqlVTYw3wetTCcwr",
      "include_colab_link": true
    },
    "kernelspec": {
      "name": "python3",
      "display_name": "Python 3"
    },
    "language_info": {
      "name": "python"
    }
  },
  "cells": [
    {
      "cell_type": "markdown",
      "metadata": {
        "id": "view-in-github",
        "colab_type": "text"
      },
      "source": [
        "<a href=\"https://colab.research.google.com/github/yuliiabosher/Cyber_Resilience_Course/blob/main/File%20Handling%20Final%20Challenge.ipynb\" target=\"_parent\"><img src=\"https://colab.research.google.com/assets/colab-badge.svg\" alt=\"Open In Colab\"/></a>"
      ]
    },
    {
      "cell_type": "markdown",
      "source": [
        "Import the required libraries"
      ],
      "metadata": {
        "id": "4sJwZdPWo4wF"
      }
    },
    {
      "cell_type": "code",
      "source": [
        "import os\n",
        "import shutil\n",
        "import glob\n",
        "from google.colab import files"
      ],
      "metadata": {
        "id": "HkecsArrjQ1P"
      },
      "execution_count": null,
      "outputs": []
    },
    {
      "cell_type": "markdown",
      "source": [
        "Prompt the user to input the zip folder name with the extention"
      ],
      "metadata": {
        "id": "dTEz424bo9of"
      }
    },
    {
      "cell_type": "code",
      "execution_count": null,
      "metadata": {
        "colab": {
          "base_uri": "https://localhost:8080/"
        },
        "id": "XWuth_xzilwk",
        "outputId": "ebbac80d-f9ec-4e2d-a2c4-26065e81a40f"
      },
      "outputs": [
        {
          "name": "stdout",
          "output_type": "stream",
          "text": [
            "please sepcify the zip folder name, including the extention Acme.zip\n"
          ]
        }
      ],
      "source": [
        "folder_name = input('please sepcify the zip folder name, including the extention ')"
      ]
    },
    {
      "cell_type": "markdown",
      "source": [
        "Ask the user to upload the zip folder and provide the inteface for that"
      ],
      "metadata": {
        "id": "6Ygp8GT4pOIb"
      }
    },
    {
      "cell_type": "code",
      "source": [
        "print('Now upload the zip folder')\n",
        "files.upload()"
      ],
      "metadata": {
        "colab": {
          "base_uri": "https://localhost:8080/",
          "height": 1000
        },
        "id": "f9uomhkwjhaq",
        "outputId": "15212ffb-e71e-42ef-df86-cbf0aab8c46e"
      },
      "execution_count": null,
      "outputs": [
        {
          "output_type": "stream",
          "name": "stdout",
          "text": [
            "Now upload the zip folder\n"
          ]
        },
        {
          "output_type": "display_data",
          "data": {
            "text/plain": [
              "<IPython.core.display.HTML object>"
            ],
            "text/html": [
              "\n",
              "     <input type=\"file\" id=\"files-bfa7d531-fd58-4a40-b089-93de36b8b05f\" name=\"files[]\" multiple disabled\n",
              "        style=\"border:none\" />\n",
              "     <output id=\"result-bfa7d531-fd58-4a40-b089-93de36b8b05f\">\n",
              "      Upload widget is only available when the cell has been executed in the\n",
              "      current browser session. Please rerun this cell to enable.\n",
              "      </output>\n",
              "      <script>// Copyright 2017 Google LLC\n",
              "//\n",
              "// Licensed under the Apache License, Version 2.0 (the \"License\");\n",
              "// you may not use this file except in compliance with the License.\n",
              "// You may obtain a copy of the License at\n",
              "//\n",
              "//      http://www.apache.org/licenses/LICENSE-2.0\n",
              "//\n",
              "// Unless required by applicable law or agreed to in writing, software\n",
              "// distributed under the License is distributed on an \"AS IS\" BASIS,\n",
              "// WITHOUT WARRANTIES OR CONDITIONS OF ANY KIND, either express or implied.\n",
              "// See the License for the specific language governing permissions and\n",
              "// limitations under the License.\n",
              "\n",
              "/**\n",
              " * @fileoverview Helpers for google.colab Python module.\n",
              " */\n",
              "(function(scope) {\n",
              "function span(text, styleAttributes = {}) {\n",
              "  const element = document.createElement('span');\n",
              "  element.textContent = text;\n",
              "  for (const key of Object.keys(styleAttributes)) {\n",
              "    element.style[key] = styleAttributes[key];\n",
              "  }\n",
              "  return element;\n",
              "}\n",
              "\n",
              "// Max number of bytes which will be uploaded at a time.\n",
              "const MAX_PAYLOAD_SIZE = 100 * 1024;\n",
              "\n",
              "function _uploadFiles(inputId, outputId) {\n",
              "  const steps = uploadFilesStep(inputId, outputId);\n",
              "  const outputElement = document.getElementById(outputId);\n",
              "  // Cache steps on the outputElement to make it available for the next call\n",
              "  // to uploadFilesContinue from Python.\n",
              "  outputElement.steps = steps;\n",
              "\n",
              "  return _uploadFilesContinue(outputId);\n",
              "}\n",
              "\n",
              "// This is roughly an async generator (not supported in the browser yet),\n",
              "// where there are multiple asynchronous steps and the Python side is going\n",
              "// to poll for completion of each step.\n",
              "// This uses a Promise to block the python side on completion of each step,\n",
              "// then passes the result of the previous step as the input to the next step.\n",
              "function _uploadFilesContinue(outputId) {\n",
              "  const outputElement = document.getElementById(outputId);\n",
              "  const steps = outputElement.steps;\n",
              "\n",
              "  const next = steps.next(outputElement.lastPromiseValue);\n",
              "  return Promise.resolve(next.value.promise).then((value) => {\n",
              "    // Cache the last promise value to make it available to the next\n",
              "    // step of the generator.\n",
              "    outputElement.lastPromiseValue = value;\n",
              "    return next.value.response;\n",
              "  });\n",
              "}\n",
              "\n",
              "/**\n",
              " * Generator function which is called between each async step of the upload\n",
              " * process.\n",
              " * @param {string} inputId Element ID of the input file picker element.\n",
              " * @param {string} outputId Element ID of the output display.\n",
              " * @return {!Iterable<!Object>} Iterable of next steps.\n",
              " */\n",
              "function* uploadFilesStep(inputId, outputId) {\n",
              "  const inputElement = document.getElementById(inputId);\n",
              "  inputElement.disabled = false;\n",
              "\n",
              "  const outputElement = document.getElementById(outputId);\n",
              "  outputElement.innerHTML = '';\n",
              "\n",
              "  const pickedPromise = new Promise((resolve) => {\n",
              "    inputElement.addEventListener('change', (e) => {\n",
              "      resolve(e.target.files);\n",
              "    });\n",
              "  });\n",
              "\n",
              "  const cancel = document.createElement('button');\n",
              "  inputElement.parentElement.appendChild(cancel);\n",
              "  cancel.textContent = 'Cancel upload';\n",
              "  const cancelPromise = new Promise((resolve) => {\n",
              "    cancel.onclick = () => {\n",
              "      resolve(null);\n",
              "    };\n",
              "  });\n",
              "\n",
              "  // Wait for the user to pick the files.\n",
              "  const files = yield {\n",
              "    promise: Promise.race([pickedPromise, cancelPromise]),\n",
              "    response: {\n",
              "      action: 'starting',\n",
              "    }\n",
              "  };\n",
              "\n",
              "  cancel.remove();\n",
              "\n",
              "  // Disable the input element since further picks are not allowed.\n",
              "  inputElement.disabled = true;\n",
              "\n",
              "  if (!files) {\n",
              "    return {\n",
              "      response: {\n",
              "        action: 'complete',\n",
              "      }\n",
              "    };\n",
              "  }\n",
              "\n",
              "  for (const file of files) {\n",
              "    const li = document.createElement('li');\n",
              "    li.append(span(file.name, {fontWeight: 'bold'}));\n",
              "    li.append(span(\n",
              "        `(${file.type || 'n/a'}) - ${file.size} bytes, ` +\n",
              "        `last modified: ${\n",
              "            file.lastModifiedDate ? file.lastModifiedDate.toLocaleDateString() :\n",
              "                                    'n/a'} - `));\n",
              "    const percent = span('0% done');\n",
              "    li.appendChild(percent);\n",
              "\n",
              "    outputElement.appendChild(li);\n",
              "\n",
              "    const fileDataPromise = new Promise((resolve) => {\n",
              "      const reader = new FileReader();\n",
              "      reader.onload = (e) => {\n",
              "        resolve(e.target.result);\n",
              "      };\n",
              "      reader.readAsArrayBuffer(file);\n",
              "    });\n",
              "    // Wait for the data to be ready.\n",
              "    let fileData = yield {\n",
              "      promise: fileDataPromise,\n",
              "      response: {\n",
              "        action: 'continue',\n",
              "      }\n",
              "    };\n",
              "\n",
              "    // Use a chunked sending to avoid message size limits. See b/62115660.\n",
              "    let position = 0;\n",
              "    do {\n",
              "      const length = Math.min(fileData.byteLength - position, MAX_PAYLOAD_SIZE);\n",
              "      const chunk = new Uint8Array(fileData, position, length);\n",
              "      position += length;\n",
              "\n",
              "      const base64 = btoa(String.fromCharCode.apply(null, chunk));\n",
              "      yield {\n",
              "        response: {\n",
              "          action: 'append',\n",
              "          file: file.name,\n",
              "          data: base64,\n",
              "        },\n",
              "      };\n",
              "\n",
              "      let percentDone = fileData.byteLength === 0 ?\n",
              "          100 :\n",
              "          Math.round((position / fileData.byteLength) * 100);\n",
              "      percent.textContent = `${percentDone}% done`;\n",
              "\n",
              "    } while (position < fileData.byteLength);\n",
              "  }\n",
              "\n",
              "  // All done.\n",
              "  yield {\n",
              "    response: {\n",
              "      action: 'complete',\n",
              "    }\n",
              "  };\n",
              "}\n",
              "\n",
              "scope.google = scope.google || {};\n",
              "scope.google.colab = scope.google.colab || {};\n",
              "scope.google.colab._files = {\n",
              "  _uploadFiles,\n",
              "  _uploadFilesContinue,\n",
              "};\n",
              "})(self);\n",
              "</script> "
            ]
          },
          "metadata": {}
        },
        {
          "output_type": "stream",
          "name": "stdout",
          "text": [
            "Saving Acme.zip to Acme.zip\n"
          ]
        },
        {
          "output_type": "execute_result",
          "data": {
            "text/plain": [
              "{'Acme.zip': b\"PK\\x03\\x04\\x14\\x03\\x00\\x00\\x00\\x00o\\x9a\\x85W\\x00\\x00\\x00\\x00\\x00\\x00\\x00\\x00\\x00\\x00\\x00\\x00\\x05\\x00\\x00\\x00Acme/PK\\x03\\x04\\n\\x03\\x00\\x00\\x00\\x00x*\\x85W\\x1b\\xd9\\xce\\x99\\r\\x00\\x00\\x00\\r\\x00\\x00\\x00\\x1b\\x00\\x00\\x00Acme/April 2023 minutes.txtFile contentsPK\\x03\\x04\\n\\x03\\x00\\x00\\x00\\x00x*\\x85W\\x1b\\xd9\\xce\\x99\\r\\x00\\x00\\x00\\r\\x00\\x00\\x00\\x1a\\x00\\x00\\x00Acme/April 2023 report.txtFile contentsPK\\x03\\x04\\n\\x03\\x00\\x00\\x00\\x00x*\\x85W\\x1b\\xd9\\xce\\x99\\r\\x00\\x00\\x00\\r\\x00\\x00\\x00\\x1b\\x00\\x00\\x00Acme/August 2022 report.txtFile contentsPK\\x03\\x04\\n\\x03\\x00\\x00\\x00\\x00x*\\x85W\\x1b\\xd9\\xce\\x99\\r\\x00\\x00\\x00\\r\\x00\\x00\\x00#\\x00\\x00\\x00Acme/August 2023 minutes - Copy.txtFile contentsPK\\x03\\x04\\n\\x03\\x00\\x00\\x00\\x00x*\\x85W\\x1b\\xd9\\xce\\x99\\r\\x00\\x00\\x00\\r\\x00\\x00\\x00\\x1c\\x00\\x00\\x00Acme/August 2023 minutes.txtFile contentsPK\\x03\\x04\\n\\x03\\x00\\x00\\x00\\x00x*\\x85W\\x1b\\xd9\\xce\\x99\\r\\x00\\x00\\x00\\r\\x00\\x00\\x00\\x15\\x00\\x00\\x00Acme/Bank details.txtFile contentsPK\\x03\\x04\\n\\x03\\x00\\x00\\x00\\x00x*\\x85W\\x1b\\xd9\\xce\\x99\\r\\x00\\x00\\x00\\r\\x00\\x00\\x00\\x13\\x00\\x00\\x00Acme/Bobs Diary.txtFile contentsPK\\x03\\x04\\n\\x03\\x00\\x00\\x00\\x00x*\\x85W\\x1b\\xd9\\xce\\x99\\r\\x00\\x00\\x00\\r\\x00\\x00\\x00 \\x00\\x00\\x00Acme/Company Accounts - Copy.txtFile contentsPK\\x03\\x04\\n\\x03\\x00\\x00\\x00\\x00x*\\x85W\\x1b\\xd9\\xce\\x99\\r\\x00\\x00\\x00\\r\\x00\\x00\\x00\\x19\\x00\\x00\\x00Acme/Company Accounts.txtFile contentsPK\\x03\\x04\\n\\x03\\x00\\x00\\x00\\x00x*\\x85W\\x1b\\xd9\\xce\\x99\\r\\x00\\x00\\x00\\r\\x00\\x00\\x00\\x1a\\x00\\x00\\x00Acme/Customer payments.txtFile contentsPK\\x03\\x04\\n\\x03\\x00\\x00\\x00\\x00x*\\x85W\\x1b\\xd9\\xce\\x99\\r\\x00\\x00\\x00\\r\\x00\\x00\\x00\\x1e\\x00\\x00\\x00Acme/December  2022 report.txtFile contentsPK\\x03\\x04\\n\\x03\\x00\\x00\\x00\\x00x*\\x85W\\x1b\\xd9\\xce\\x99\\r\\x00\\x00\\x00\\r\\x00\\x00\\x00\\x1f\\x00\\x00\\x00Acme/December  2023 minutes.txtFile contentsPK\\x03\\x04\\n\\x03\\x00\\x00\\x00\\x00x*\\x85W\\x1b\\xd9\\xce\\x99\\r\\x00\\x00\\x00\\r\\x00\\x00\\x00\\x1e\\x00\\x00\\x00Acme/February 2023 minutes.txtFile contentsPK\\x03\\x04\\n\\x03\\x00\\x00\\x00\\x00x*\\x85W\\x1b\\xd9\\xce\\x99\\r\\x00\\x00\\x00\\r\\x00\\x00\\x00$\\x00\\x00\\x00Acme/February 2023 report - Copy.txtFile contentsPK\\x03\\x04\\n\\x03\\x00\\x00\\x00\\x00y*\\x85W\\x1b\\xd9\\xce\\x99\\r\\x00\\x00\\x00\\r\\x00\\x00\\x00\\x1d\\x00\\x00\\x00Acme/February 2023 report.txtFile contentsPK\\x03\\x04\\n\\x03\\x00\\x00\\x00\\x00y*\\x85W\\x1b\\xd9\\xce\\x99\\r\\x00\\x00\\x00\\r\\x00\\x00\\x00\\x1d\\x00\\x00\\x00Acme/January 2023 minutes.txtFile contentsPK\\x03\\x04\\n\\x03\\x00\\x00\\x00\\x00y*\\x85W\\x1b\\xd9\\xce\\x99\\r\\x00\\x00\\x00\\r\\x00\\x00\\x00\\x1c\\x00\\x00\\x00Acme/January 2023 report.txtFile contentsPK\\x03\\x04\\n\\x03\\x00\\x00\\x00\\x00y*\\x85W\\x1b\\xd9\\xce\\x99\\r\\x00\\x00\\x00\\r\\x00\\x00\\x00\\x19\\x00\\x00\\x00Acme/July 2022 report.txtFile contentsPK\\x03\\x04\\n\\x03\\x00\\x00\\x00\\x00y*\\x85W\\x1b\\xd9\\xce\\x99\\r\\x00\\x00\\x00\\r\\x00\\x00\\x00\\x1a\\x00\\x00\\x00Acme/July 2023 minutes.txtFile contentsPK\\x03\\x04\\n\\x03\\x00\\x00\\x00\\x00y*\\x85W\\x1b\\xd9\\xce\\x99\\r\\x00\\x00\\x00\\r\\x00\\x00\\x00!\\x00\\x00\\x00Acme/June 2023 minutes - Copy.txtFile contentsPK\\x03\\x04\\n\\x03\\x00\\x00\\x00\\x00y*\\x85W\\x1b\\xd9\\xce\\x99\\r\\x00\\x00\\x00\\r\\x00\\x00\\x00\\x1a\\x00\\x00\\x00Acme/June 2023 minutes.txtFile contentsPK\\x03\\x04\\n\\x03\\x00\\x00\\x00\\x00y*\\x85W\\x1b\\xd9\\xce\\x99\\r\\x00\\x00\\x00\\r\\x00\\x00\\x00\\x19\\x00\\x00\\x00Acme/June 2023 report.txtFile contentsPK\\x03\\x04\\n\\x03\\x00\\x00\\x00\\x00y*\\x85W\\x1b\\xd9\\xce\\x99\\r\\x00\\x00\\x00\\r\\x00\\x00\\x00\\x19\\x00\\x00\\x00Acme/Mar 2023 minutes.txtFile contentsPK\\x03\\x04\\n\\x03\\x00\\x00\\x00\\x00y*\\x85W\\x1b\\xd9\\xce\\x99\\r\\x00\\x00\\x00\\r\\x00\\x00\\x00\\x1f\\x00\\x00\\x00Acme/Mar 2023 report - Copy.txtFile contentsPK\\x03\\x04\\n\\x03\\x00\\x00\\x00\\x00y*\\x85W\\x1b\\xd9\\xce\\x99\\r\\x00\\x00\\x00\\r\\x00\\x00\\x00\\x18\\x00\\x00\\x00Acme/Mar 2023 report.txtFile contentsPK\\x03\\x04\\n\\x03\\x00\\x00\\x00\\x00y*\\x85W\\x1b\\xd9\\xce\\x99\\r\\x00\\x00\\x00\\r\\x00\\x00\\x00 \\x00\\x00\\x00Acme/May 2023 minutes - Copy.txtFile contentsPK\\x03\\x04\\n\\x03\\x00\\x00\\x00\\x00y*\\x85W\\x1b\\xd9\\xce\\x99\\r\\x00\\x00\\x00\\r\\x00\\x00\\x00\\x19\\x00\\x00\\x00Acme/May 2023 minutes.txtFile contentsPK\\x03\\x04\\n\\x03\\x00\\x00\\x00\\x00y*\\x85W\\x1b\\xd9\\xce\\x99\\r\\x00\\x00\\x00\\r\\x00\\x00\\x00\\x18\\x00\\x00\\x00Acme/May 2023 report.txtFile contentsPK\\x03\\x04\\n\\x03\\x00\\x00\\x00\\x00y*\\x85W\\x1b\\xd9\\xce\\x99\\r\\x00\\x00\\x00\\r\\x00\\x00\\x00$\\x00\\x00\\x00Acme/November 2022 report - Copy.txtFile contentsPK\\x03\\x04\\n\\x03\\x00\\x00\\x00\\x00y*\\x85W\\x1b\\xd9\\xce\\x99\\r\\x00\\x00\\x00\\r\\x00\\x00\\x00\\x1d\\x00\\x00\\x00Acme/November 2022 report.txtFile contentsPK\\x03\\x04\\n\\x03\\x00\\x00\\x00\\x00y*\\x85W\\x1b\\xd9\\xce\\x99\\r\\x00\\x00\\x00\\r\\x00\\x00\\x00\\x1e\\x00\\x00\\x00Acme/November 2023 minutes.txtFile contentsPK\\x03\\x04\\n\\x03\\x00\\x00\\x00\\x00y*\\x85W\\x1b\\xd9\\xce\\x99\\r\\x00\\x00\\x00\\r\\x00\\x00\\x00\\x1c\\x00\\x00\\x00Acme/October 2022 report.txtFile contentsPK\\x03\\x04\\n\\x03\\x00\\x00\\x00\\x00y*\\x85W\\x1b\\xd9\\xce\\x99\\r\\x00\\x00\\x00\\r\\x00\\x00\\x00\\x1d\\x00\\x00\\x00Acme/October 2023 minutes.txtFile contentsPK\\x03\\x04\\n\\x03\\x00\\x00\\x00\\x00y*\\x85W\\x1b\\xd9\\xce\\x99\\r\\x00\\x00\\x00\\r\\x00\\x00\\x00\\x19\\x00\\x00\\x00Acme/Security Project.txtFile contentsPK\\x03\\x04\\n\\x03\\x00\\x00\\x00\\x00y*\\x85W\\x1b\\xd9\\xce\\x99\\r\\x00\\x00\\x00\\r\\x00\\x00\\x00\\x1e\\x00\\x00\\x00Acme/September 2022 report.txtFile contentsPK\\x03\\x04\\n\\x03\\x00\\x00\\x00\\x00y*\\x85W\\x1b\\xd9\\xce\\x99\\r\\x00\\x00\\x00\\r\\x00\\x00\\x00\\x1f\\x00\\x00\\x00Acme/September 2023 minutes.txtFile contentsPK\\x03\\x04\\n\\x03\\x00\\x00\\x00\\x00y*\\x85W\\x1b\\xd9\\xce\\x99\\r\\x00\\x00\\x00\\r\\x00\\x00\\x00\\x18\\x00\\x00\\x00Acme/Staff addresses.txtFile contentsPK\\x03\\x04\\n\\x03\\x00\\x00\\x00\\x00y*\\x85W\\x1b\\xd9\\xce\\x99\\r\\x00\\x00\\x00\\r\\x00\\x00\\x00\\x13\\x00\\x00\\x00Acme/Temp staff.txtFile contentsPK\\x01\\x02?\\x03\\x14\\x03\\x00\\x00\\x00\\x00o\\x9a\\x85W\\x00\\x00\\x00\\x00\\x00\\x00\\x00\\x00\\x00\\x00\\x00\\x00\\x05\\x00$\\x00\\x00\\x00\\x00\\x00\\x00\\x00\\x10\\x80\\xc0A\\x00\\x00\\x00\\x00Acme/\\n\\x00 \\x00\\x00\\x00\\x00\\x00\\x01\\x00\\x18\\x00\\x80v\\xbd\\xf7\\xaf'\\xda\\x01\\x00e~@&*\\xda\\x01\\x80\\xce\\xe5?&*\\xda\\x01PK\\x01\\x02?\\x03\\n\\x03\\x00\\x00\\x00\\x00x*\\x85W\\x1b\\xd9\\xce\\x99\\r\\x00\\x00\\x00\\r\\x00\\x00\\x00\\x1b\\x00$\\x00\\x00\\x00\\x00\\x00\\x00\\x00 \\x80\\xa4\\x81#\\x00\\x00\\x00Acme/April 2023 minutes.txt\\n\\x00 \\x00\\x00\\x00\\x00\\x00\\x01\\x00\\x18\\x00\\x00\\xf2R\\xaa:'\\xda\\x01\\x80T\\x13\\xba *\\xda\\x01\\x80v\\xbd\\xf7\\xaf'\\xda\\x01PK\\x01\\x02?\\x03\\n\\x03\\x00\\x00\\x00\\x00x*\\x85W\\x1b\\xd9\\xce\\x99\\r\\x00\\x00\\x00\\r\\x00\\x00\\x00\\x1a\\x00$\\x00\\x00\\x00\\x00\\x00\\x00\\x00 \\x80\\xa4\\x81i\\x00\\x00\\x00Acme/April 2023 report.txt\\n\\x00 \\x00\\x00\\x00\\x00\\x00\\x01\\x00\\x18\\x00\\x00\\xf2R\\xaa:'\\xda\\x01\\x80\\xaeu\\xbc *\\xda\\x01\\x80v\\xbd\\xf7\\xaf'\\xda\\x01PK\\x01\\x02?\\x03\\n\\x03\\x00\\x00\\x00\\x00x*\\x85W\\x1b\\xd9\\xce\\x99\\r\\x00\\x00\\x00\\r\\x00\\x00\\x00\\x1b\\x00$\\x00\\x00\\x00\\x00\\x00\\x00\\x00 \\x80\\xa4\\x81\\xae\\x00\\x00\\x00Acme/August 2022 report.txt\\n\\x00 \\x00\\x00\\x00\\x00\\x00\\x01\\x00\\x18\\x00\\x00\\xf2R\\xaa:'\\xda\\x01\\x00\\xeb\\xab\\xba *\\xda\\x01\\x80v\\xbd\\xf7\\xaf'\\xda\\x01PK\\x01\\x02?\\x03\\n\\x03\\x00\\x00\\x00\\x00x*\\x85W\\x1b\\xd9\\xce\\x99\\r\\x00\\x00\\x00\\r\\x00\\x00\\x00#\\x00$\\x00\\x00\\x00\\x00\\x00\\x00\\x00 \\x80\\xa4\\x81\\xf4\\x00\\x00\\x00Acme/August 2023 minutes - Copy.txt\\n\\x00 \\x00\\x00\\x00\\x00\\x00\\x01\\x00\\x18\\x00\\x00\\xf2R\\xaa:'\\xda\\x01\\x80\\xaeu\\xbc *\\xda\\x01\\x80v\\xbd\\xf7\\xaf'\\xda\\x01PK\\x01\\x02?\\x03\\n\\x03\\x00\\x00\\x00\\x00x*\\x85W\\x1b\\xd9\\xce\\x99\\r\\x00\\x00\\x00\\r\\x00\\x00\\x00\\x1c\\x00$\\x00\\x00\\x00\\x00\\x00\\x00\\x00 \\x80\\xa4\\x81B\\x01\\x00\\x00Acme/August 2023 minutes.txt\\n\\x00 \\x00\\x00\\x00\\x00\\x00\\x01\\x00\\x18\\x00\\x00\\xf2R\\xaa:'\\xda\\x01\\x80\\xaeu\\xbc *\\xda\\x01\\x80v\\xbd\\xf7\\xaf'\\xda\\x01PK\\x01\\x02?\\x03\\n\\x03\\x00\\x00\\x00\\x00x*\\x85W\\x1b\\xd9\\xce\\x99\\r\\x00\\x00\\x00\\r\\x00\\x00\\x00\\x15\\x00$\\x00\\x00\\x00\\x00\\x00\\x00\\x00 \\x80\\xa4\\x81\\x89\\x01\\x00\\x00Acme/Bank details.txt\\n\\x00 \\x00\\x00\\x00\\x00\\x00\\x01\\x00\\x18\\x00\\x00\\xf2R\\xaa:'\\xda\\x01\\x80\\xaeu\\xbc *\\xda\\x01\\x80v\\xbd\\xf7\\xaf'\\xda\\x01PK\\x01\\x02?\\x03\\n\\x03\\x00\\x00\\x00\\x00x*\\x85W\\x1b\\xd9\\xce\\x99\\r\\x00\\x00\\x00\\r\\x00\\x00\\x00\\x13\\x00$\\x00\\x00\\x00\\x00\\x00\\x00\\x00 \\x80\\xa4\\x81\\xc9\\x01\\x00\\x00Acme/Bobs Diary.txt\\n\\x00 \\x00\\x00\\x00\\x00\\x00\\x01\\x00\\x18\\x00\\x00\\xf2R\\xaa:'\\xda\\x01\\x80\\xaeu\\xbc *\\xda\\x01\\x80v\\xbd\\xf7\\xaf'\\xda\\x01PK\\x01\\x02?\\x03\\n\\x03\\x00\\x00\\x00\\x00x*\\x85W\\x1b\\xd9\\xce\\x99\\r\\x00\\x00\\x00\\r\\x00\\x00\\x00 \\x00$\\x00\\x00\\x00\\x00\\x00\\x00\\x00 \\x80\\xa4\\x81\\x07\\x02\\x00\\x00Acme/Company Accounts - Copy.txt\\n\\x00 \\x00\\x00\\x00\\x00\\x00\\x01\\x00\\x18\\x00\\x00\\xf2R\\xaa:'\\xda\\x01\\x80\\xaeu\\xbc *\\xda\\x01\\x80v\\xbd\\xf7\\xaf'\\xda\\x01PK\\x01\\x02?\\x03\\n\\x03\\x00\\x00\\x00\\x00x*\\x85W\\x1b\\xd9\\xce\\x99\\r\\x00\\x00\\x00\\r\\x00\\x00\\x00\\x19\\x00$\\x00\\x00\\x00\\x00\\x00\\x00\\x00 \\x80\\xa4\\x81R\\x02\\x00\\x00Acme/Company Accounts.txt\\n\\x00 \\x00\\x00\\x00\\x00\\x00\\x01\\x00\\x18\\x00\\x00\\xf2R\\xaa:'\\xda\\x01\\x80\\xaeu\\xbc *\\xda\\x01\\x80v\\xbd\\xf7\\xaf'\\xda\\x01PK\\x01\\x02?\\x03\\n\\x03\\x00\\x00\\x00\\x00x*\\x85W\\x1b\\xd9\\xce\\x99\\r\\x00\\x00\\x00\\r\\x00\\x00\\x00\\x1a\\x00$\\x00\\x00\\x00\\x00\\x00\\x00\\x00 \\x80\\xa4\\x81\\x96\\x02\\x00\\x00Acme/Customer payments.txt\\n\\x00 \\x00\\x00\\x00\\x00\\x00\\x01\\x00\\x18\\x00\\x00\\xf2R\\xaa:'\\xda\\x01\\x80\\xaeu\\xbc *\\xda\\x01\\x80v\\xbd\\xf7\\xaf'\\xda\\x01PK\\x01\\x02?\\x03\\n\\x03\\x00\\x00\\x00\\x00x*\\x85W\\x1b\\xd9\\xce\\x99\\r\\x00\\x00\\x00\\r\\x00\\x00\\x00\\x1e\\x00$\\x00\\x00\\x00\\x00\\x00\\x00\\x00 \\x80\\xa4\\x81\\xdb\\x02\\x00\\x00Acme/December  2022 report.txt\\n\\x00 \\x00\\x00\\x00\\x00\\x00\\x01\\x00\\x18\\x00\\x00\\xf2R\\xaa:'\\xda\\x01\\x80\\xaeu\\xbc *\\xda\\x01\\x80v\\xbd\\xf7\\xaf'\\xda\\x01PK\\x01\\x02?\\x03\\n\\x03\\x00\\x00\\x00\\x00x*\\x85W\\x1b\\xd9\\xce\\x99\\r\\x00\\x00\\x00\\r\\x00\\x00\\x00\\x1f\\x00$\\x00\\x00\\x00\\x00\\x00\\x00\\x00 \\x80\\xa4\\x81$\\x03\\x00\\x00Acme/December  2023 minutes.txt\\n\\x00 \\x00\\x00\\x00\\x00\\x00\\x01\\x00\\x18\\x00\\x00\\xf2R\\xaa:'\\xda\\x01\\x80\\xaeu\\xbc *\\xda\\x01\\x80v\\xbd\\xf7\\xaf'\\xda\\x01PK\\x01\\x02?\\x03\\n\\x03\\x00\\x00\\x00\\x00x*\\x85W\\x1b\\xd9\\xce\\x99\\r\\x00\\x00\\x00\\r\\x00\\x00\\x00\\x1e\\x00$\\x00\\x00\\x00\\x00\\x00\\x00\\x00 \\x80\\xa4\\x81n\\x03\\x00\\x00Acme/February 2023 minutes.txt\\n\\x00 \\x00\\x00\\x00\\x00\\x00\\x01\\x00\\x18\\x00\\x00\\xf2R\\xaa:'\\xda\\x01\\x80\\xaeu\\xbc *\\xda\\x01\\x80v\\xbd\\xf7\\xaf'\\xda\\x01PK\\x01\\x02?\\x03\\n\\x03\\x00\\x00\\x00\\x00x*\\x85W\\x1b\\xd9\\xce\\x99\\r\\x00\\x00\\x00\\r\\x00\\x00\\x00$\\x00$\\x00\\x00\\x00\\x00\\x00\\x00\\x00 \\x80\\xa4\\x81\\xb7\\x03\\x00\\x00Acme/February 2023 report - Copy.txt\\n\\x00 \\x00\\x00\\x00\\x00\\x00\\x01\\x00\\x18\\x00\\x00\\xf2R\\xaa:'\\xda\\x01\\x80\\xaeu\\xbc *\\xda\\x01\\x80v\\xbd\\xf7\\xaf'\\xda\\x01PK\\x01\\x02?\\x03\\n\\x03\\x00\\x00\\x00\\x00y*\\x85W\\x1b\\xd9\\xce\\x99\\r\\x00\\x00\\x00\\r\\x00\\x00\\x00\\x1d\\x00$\\x00\\x00\\x00\\x00\\x00\\x00\\x00 \\x80\\xa4\\x81\\x06\\x04\\x00\\x00Acme/February 2023 report.txt\\n\\x00 \\x00\\x00\\x00\\x00\\x00\\x01\\x00\\x18\\x00\\x00\\x1f\\x84\\xab:'\\xda\\x01\\x80\\xaeu\\xbc *\\xda\\x01\\x80v\\xbd\\xf7\\xaf'\\xda\\x01PK\\x01\\x02?\\x03\\n\\x03\\x00\\x00\\x00\\x00y*\\x85W\\x1b\\xd9\\xce\\x99\\r\\x00\\x00\\x00\\r\\x00\\x00\\x00\\x1d\\x00$\\x00\\x00\\x00\\x00\\x00\\x00\\x00 \\x80\\xa4\\x81N\\x04\\x00\\x00Acme/January 2023 minutes.txt\\n\\x00 \\x00\\x00\\x00\\x00\\x00\\x01\\x00\\x18\\x00\\x00\\x1f\\x84\\xab:'\\xda\\x01\\x80\\xaeu\\xbc *\\xda\\x01\\x80v\\xbd\\xf7\\xaf'\\xda\\x01PK\\x01\\x02?\\x03\\n\\x03\\x00\\x00\\x00\\x00y*\\x85W\\x1b\\xd9\\xce\\x99\\r\\x00\\x00\\x00\\r\\x00\\x00\\x00\\x1c\\x00$\\x00\\x00\\x00\\x00\\x00\\x00\\x00 \\x80\\xa4\\x81\\x96\\x04\\x00\\x00Acme/January 2023 report.txt\\n\\x00 \\x00\\x00\\x00\\x00\\x00\\x01\\x00\\x18\\x00\\x00\\x1f\\x84\\xab:'\\xda\\x01\\x80\\xaeu\\xbc *\\xda\\x01\\x80v\\xbd\\xf7\\xaf'\\xda\\x01PK\\x01\\x02?\\x03\\n\\x03\\x00\\x00\\x00\\x00y*\\x85W\\x1b\\xd9\\xce\\x99\\r\\x00\\x00\\x00\\r\\x00\\x00\\x00\\x19\\x00$\\x00\\x00\\x00\\x00\\x00\\x00\\x00 \\x80\\xa4\\x81\\xdd\\x04\\x00\\x00Acme/July 2022 report.txt\\n\\x00 \\x00\\x00\\x00\\x00\\x00\\x01\\x00\\x18\\x00\\x00\\x1f\\x84\\xab:'\\xda\\x01\\x80\\xaeu\\xbc *\\xda\\x01\\x80v\\xbd\\xf7\\xaf'\\xda\\x01PK\\x01\\x02?\\x03\\n\\x03\\x00\\x00\\x00\\x00y*\\x85W\\x1b\\xd9\\xce\\x99\\r\\x00\\x00\\x00\\r\\x00\\x00\\x00\\x1a\\x00$\\x00\\x00\\x00\\x00\\x00\\x00\\x00 \\x80\\xa4\\x81!\\x05\\x00\\x00Acme/July 2023 minutes.txt\\n\\x00 \\x00\\x00\\x00\\x00\\x00\\x01\\x00\\x18\\x00\\x00\\x1f\\x84\\xab:'\\xda\\x01\\x80\\xaeu\\xbc *\\xda\\x01\\x80v\\xbd\\xf7\\xaf'\\xda\\x01PK\\x01\\x02?\\x03\\n\\x03\\x00\\x00\\x00\\x00y*\\x85W\\x1b\\xd9\\xce\\x99\\r\\x00\\x00\\x00\\r\\x00\\x00\\x00!\\x00$\\x00\\x00\\x00\\x00\\x00\\x00\\x00 \\x80\\xa4\\x81f\\x05\\x00\\x00Acme/June 2023 minutes - Copy.txt\\n\\x00 \\x00\\x00\\x00\\x00\\x00\\x01\\x00\\x18\\x00\\x00\\x1f\\x84\\xab:'\\xda\\x01\\x80\\xaeu\\xbc *\\xda\\x01\\x80v\\xbd\\xf7\\xaf'\\xda\\x01PK\\x01\\x02?\\x03\\n\\x03\\x00\\x00\\x00\\x00y*\\x85W\\x1b\\xd9\\xce\\x99\\r\\x00\\x00\\x00\\r\\x00\\x00\\x00\\x1a\\x00$\\x00\\x00\\x00\\x00\\x00\\x00\\x00 \\x80\\xa4\\x81\\xb2\\x05\\x00\\x00Acme/June 2023 minutes.txt\\n\\x00 \\x00\\x00\\x00\\x00\\x00\\x01\\x00\\x18\\x00\\x00\\x1f\\x84\\xab:'\\xda\\x01\\x80\\xaeu\\xbc *\\xda\\x01\\x80v\\xbd\\xf7\\xaf'\\xda\\x01PK\\x01\\x02?\\x03\\n\\x03\\x00\\x00\\x00\\x00y*\\x85W\\x1b\\xd9\\xce\\x99\\r\\x00\\x00\\x00\\r\\x00\\x00\\x00\\x19\\x00$\\x00\\x00\\x00\\x00\\x00\\x00\\x00 \\x80\\xa4\\x81\\xf7\\x05\\x00\\x00Acme/June 2023 report.txt\\n\\x00 \\x00\\x00\\x00\\x00\\x00\\x01\\x00\\x18\\x00\\x00\\x1f\\x84\\xab:'\\xda\\x01\\x80\\xaeu\\xbc *\\xda\\x01\\x80v\\xbd\\xf7\\xaf'\\xda\\x01PK\\x01\\x02?\\x03\\n\\x03\\x00\\x00\\x00\\x00y*\\x85W\\x1b\\xd9\\xce\\x99\\r\\x00\\x00\\x00\\r\\x00\\x00\\x00\\x19\\x00$\\x00\\x00\\x00\\x00\\x00\\x00\\x00 \\x80\\xa4\\x81;\\x06\\x00\\x00Acme/Mar 2023 minutes.txt\\n\\x00 \\x00\\x00\\x00\\x00\\x00\\x01\\x00\\x18\\x00\\x00\\x1f\\x84\\xab:'\\xda\\x01\\x80\\xaeu\\xbc *\\xda\\x01\\x80v\\xbd\\xf7\\xaf'\\xda\\x01PK\\x01\\x02?\\x03\\n\\x03\\x00\\x00\\x00\\x00y*\\x85W\\x1b\\xd9\\xce\\x99\\r\\x00\\x00\\x00\\r\\x00\\x00\\x00\\x1f\\x00$\\x00\\x00\\x00\\x00\\x00\\x00\\x00 \\x80\\xa4\\x81\\x7f\\x06\\x00\\x00Acme/Mar 2023 report - Copy.txt\\n\\x00 \\x00\\x00\\x00\\x00\\x00\\x01\\x00\\x18\\x00\\x00\\x1f\\x84\\xab:'\\xda\\x01\\x80\\xaeu\\xbc *\\xda\\x01\\x80v\\xbd\\xf7\\xaf'\\xda\\x01PK\\x01\\x02?\\x03\\n\\x03\\x00\\x00\\x00\\x00y*\\x85W\\x1b\\xd9\\xce\\x99\\r\\x00\\x00\\x00\\r\\x00\\x00\\x00\\x18\\x00$\\x00\\x00\\x00\\x00\\x00\\x00\\x00 \\x80\\xa4\\x81\\xc9\\x06\\x00\\x00Acme/Mar 2023 report.txt\\n\\x00 \\x00\\x00\\x00\\x00\\x00\\x01\\x00\\x18\\x00\\x00\\x1f\\x84\\xab:'\\xda\\x01\\x80\\xaeu\\xbc *\\xda\\x01\\x80v\\xbd\\xf7\\xaf'\\xda\\x01PK\\x01\\x02?\\x03\\n\\x03\\x00\\x00\\x00\\x00y*\\x85W\\x1b\\xd9\\xce\\x99\\r\\x00\\x00\\x00\\r\\x00\\x00\\x00 \\x00$\\x00\\x00\\x00\\x00\\x00\\x00\\x00 \\x80\\xa4\\x81\\x0c\\x07\\x00\\x00Acme/May 2023 minutes - Copy.txt\\n\\x00 \\x00\\x00\\x00\\x00\\x00\\x01\\x00\\x18\\x00\\x00\\x1f\\x84\\xab:'\\xda\\x01\\x80\\xaeu\\xbc *\\xda\\x01\\x80v\\xbd\\xf7\\xaf'\\xda\\x01PK\\x01\\x02?\\x03\\n\\x03\\x00\\x00\\x00\\x00y*\\x85W\\x1b\\xd9\\xce\\x99\\r\\x00\\x00\\x00\\r\\x00\\x00\\x00\\x19\\x00$\\x00\\x00\\x00\\x00\\x00\\x00\\x00 \\x80\\xa4\\x81W\\x07\\x00\\x00Acme/May 2023 minutes.txt\\n\\x00 \\x00\\x00\\x00\\x00\\x00\\x01\\x00\\x18\\x00\\x00\\x1f\\x84\\xab:'\\xda\\x01\\x80\\xaeu\\xbc *\\xda\\x01\\x80v\\xbd\\xf7\\xaf'\\xda\\x01PK\\x01\\x02?\\x03\\n\\x03\\x00\\x00\\x00\\x00y*\\x85W\\x1b\\xd9\\xce\\x99\\r\\x00\\x00\\x00\\r\\x00\\x00\\x00\\x18\\x00$\\x00\\x00\\x00\\x00\\x00\\x00\\x00 \\x80\\xa4\\x81\\x9b\\x07\\x00\\x00Acme/May 2023 report.txt\\n\\x00 \\x00\\x00\\x00\\x00\\x00\\x01\\x00\\x18\\x00\\x00\\x1f\\x84\\xab:'\\xda\\x01\\x80\\xaeu\\xbc *\\xda\\x01\\x80v\\xbd\\xf7\\xaf'\\xda\\x01PK\\x01\\x02?\\x03\\n\\x03\\x00\\x00\\x00\\x00y*\\x85W\\x1b\\xd9\\xce\\x99\\r\\x00\\x00\\x00\\r\\x00\\x00\\x00$\\x00$\\x00\\x00\\x00\\x00\\x00\\x00\\x00 \\x80\\xa4\\x81\\xde\\x07\\x00\\x00Acme/November 2022 report - Copy.txt\\n\\x00 \\x00\\x00\\x00\\x00\\x00\\x01\\x00\\x18\\x00\\x00\\x1f\\x84\\xab:'\\xda\\x01\\x80\\xaeu\\xbc *\\xda\\x01\\x80v\\xbd\\xf7\\xaf'\\xda\\x01PK\\x01\\x02?\\x03\\n\\x03\\x00\\x00\\x00\\x00y*\\x85W\\x1b\\xd9\\xce\\x99\\r\\x00\\x00\\x00\\r\\x00\\x00\\x00\\x1d\\x00$\\x00\\x00\\x00\\x00\\x00\\x00\\x00 \\x80\\xa4\\x81-\\x08\\x00\\x00Acme/November 2022 report.txt\\n\\x00 \\x00\\x00\\x00\\x00\\x00\\x01\\x00\\x18\\x00\\x00\\x1f\\x84\\xab:'\\xda\\x01\\x80\\xaeu\\xbc *\\xda\\x01\\x80v\\xbd\\xf7\\xaf'\\xda\\x01PK\\x01\\x02?\\x03\\n\\x03\\x00\\x00\\x00\\x00y*\\x85W\\x1b\\xd9\\xce\\x99\\r\\x00\\x00\\x00\\r\\x00\\x00\\x00\\x1e\\x00$\\x00\\x00\\x00\\x00\\x00\\x00\\x00 \\x80\\xa4\\x81u\\x08\\x00\\x00Acme/November 2023 minutes.txt\\n\\x00 \\x00\\x00\\x00\\x00\\x00\\x01\\x00\\x18\\x00\\x00\\x1f\\x84\\xab:'\\xda\\x01\\x80\\xaeu\\xbc *\\xda\\x01\\x80v\\xbd\\xf7\\xaf'\\xda\\x01PK\\x01\\x02?\\x03\\n\\x03\\x00\\x00\\x00\\x00y*\\x85W\\x1b\\xd9\\xce\\x99\\r\\x00\\x00\\x00\\r\\x00\\x00\\x00\\x1c\\x00$\\x00\\x00\\x00\\x00\\x00\\x00\\x00 \\x80\\xa4\\x81\\xbe\\x08\\x00\\x00Acme/October 2022 report.txt\\n\\x00 \\x00\\x00\\x00\\x00\\x00\\x01\\x00\\x18\\x00\\x00\\x1f\\x84\\xab:'\\xda\\x01\\x80\\xaeu\\xbc *\\xda\\x01\\x80v\\xbd\\xf7\\xaf'\\xda\\x01PK\\x01\\x02?\\x03\\n\\x03\\x00\\x00\\x00\\x00y*\\x85W\\x1b\\xd9\\xce\\x99\\r\\x00\\x00\\x00\\r\\x00\\x00\\x00\\x1d\\x00$\\x00\\x00\\x00\\x00\\x00\\x00\\x00 \\x80\\xa4\\x81\\x05\\t\\x00\\x00Acme/October 2023 minutes.txt\\n\\x00 \\x00\\x00\\x00\\x00\\x00\\x01\\x00\\x18\\x00\\x00\\x1f\\x84\\xab:'\\xda\\x01\\x80\\xaeu\\xbc *\\xda\\x01\\x80v\\xbd\\xf7\\xaf'\\xda\\x01PK\\x01\\x02?\\x03\\n\\x03\\x00\\x00\\x00\\x00y*\\x85W\\x1b\\xd9\\xce\\x99\\r\\x00\\x00\\x00\\r\\x00\\x00\\x00\\x19\\x00$\\x00\\x00\\x00\\x00\\x00\\x00\\x00 \\x80\\xa4\\x81M\\t\\x00\\x00Acme/Security Project.txt\\n\\x00 \\x00\\x00\\x00\\x00\\x00\\x01\\x00\\x18\\x00\\x00\\x1f\\x84\\xab:'\\xda\\x01\\x80\\xaeu\\xbc *\\xda\\x01\\x80v\\xbd\\xf7\\xaf'\\xda\\x01PK\\x01\\x02?\\x03\\n\\x03\\x00\\x00\\x00\\x00y*\\x85W\\x1b\\xd9\\xce\\x99\\r\\x00\\x00\\x00\\r\\x00\\x00\\x00\\x1e\\x00$\\x00\\x00\\x00\\x00\\x00\\x00\\x00 \\x80\\xa4\\x81\\x91\\t\\x00\\x00Acme/September 2022 report.txt\\n\\x00 \\x00\\x00\\x00\\x00\\x00\\x01\\x00\\x18\\x00\\x00\\x1f\\x84\\xab:'\\xda\\x01\\x80\\xaeu\\xbc *\\xda\\x01\\x80v\\xbd\\xf7\\xaf'\\xda\\x01PK\\x01\\x02?\\x03\\n\\x03\\x00\\x00\\x00\\x00y*\\x85W\\x1b\\xd9\\xce\\x99\\r\\x00\\x00\\x00\\r\\x00\\x00\\x00\\x1f\\x00$\\x00\\x00\\x00\\x00\\x00\\x00\\x00 \\x80\\xa4\\x81\\xda\\t\\x00\\x00Acme/September 2023 minutes.txt\\n\\x00 \\x00\\x00\\x00\\x00\\x00\\x01\\x00\\x18\\x00\\x00\\x1f\\x84\\xab:'\\xda\\x01\\x80\\xaeu\\xbc *\\xda\\x01\\x80v\\xbd\\xf7\\xaf'\\xda\\x01PK\\x01\\x02?\\x03\\n\\x03\\x00\\x00\\x00\\x00y*\\x85W\\x1b\\xd9\\xce\\x99\\r\\x00\\x00\\x00\\r\\x00\\x00\\x00\\x18\\x00$\\x00\\x00\\x00\\x00\\x00\\x00\\x00 \\x80\\xa4\\x81$\\n\\x00\\x00Acme/Staff addresses.txt\\n\\x00 \\x00\\x00\\x00\\x00\\x00\\x01\\x00\\x18\\x00\\x00\\x1f\\x84\\xab:'\\xda\\x01\\x80\\xaeu\\xbc *\\xda\\x01\\x80v\\xbd\\xf7\\xaf'\\xda\\x01PK\\x01\\x02?\\x03\\n\\x03\\x00\\x00\\x00\\x00y*\\x85W\\x1b\\xd9\\xce\\x99\\r\\x00\\x00\\x00\\r\\x00\\x00\\x00\\x13\\x00$\\x00\\x00\\x00\\x00\\x00\\x00\\x00 \\x80\\xa4\\x81g\\n\\x00\\x00Acme/Temp staff.txt\\n\\x00 \\x00\\x00\\x00\\x00\\x00\\x01\\x00\\x18\\x00\\x00\\x1f\\x84\\xab:'\\xda\\x01\\x80\\xaeu\\xbc *\\xda\\x01\\x80v\\xbd\\xf7\\xaf'\\xda\\x01PK\\x05\\x06\\x00\\x00\\x00\\x00'\\x00'\\x00\\xa3\\x10\\x00\\x00\\xa5\\n\\x00\\x00\\x00\\x00\"}"
            ]
          },
          "metadata": {},
          "execution_count": 3
        }
      ]
    },
    {
      "cell_type": "markdown",
      "source": [
        "Extract the folder"
      ],
      "metadata": {
        "id": "PQQdbrTYptMi"
      }
    },
    {
      "cell_type": "code",
      "source": [
        "directory_to_extract_to = '/content/'\n",
        "shutil.unpack_archive(folder_name, directory_to_extract_to, \"zip\")\n",
        "directory_to_clean_up = directory_to_extract_to + folder_name[:-4]"
      ],
      "metadata": {
        "id": "CtOa3fwVlwye"
      },
      "execution_count": null,
      "outputs": []
    },
    {
      "cell_type": "markdown",
      "source": [
        "List all the files in the extracted folder"
      ],
      "metadata": {
        "id": "xyMgGu43p3KQ"
      }
    },
    {
      "cell_type": "code",
      "source": [
        "def list_files_in_folder_and_subfolders(folder):\n",
        "  directory_contents = os.walk(folder)\n",
        "  file_name_list = []\n",
        "  for root, dirs, files in directory_contents:\n",
        "    for file in files:\n",
        "      file_name_list.append(file)\n",
        "  return file_name_list\n",
        "acme_files_list = list_files_in_folder_and_subfolders(directory_to_clean_up)\n",
        "for file in acme_files_list:\n",
        "  print(file)\n",
        "\n"
      ],
      "metadata": {
        "colab": {
          "base_uri": "https://localhost:8080/"
        },
        "id": "9vEruUEWn3o2",
        "outputId": "b91890a8-faf3-442c-b642-dacc4b18f5f6"
      },
      "execution_count": null,
      "outputs": [
        {
          "output_type": "stream",
          "name": "stdout",
          "text": [
            "Company Accounts - Copy.txt\n",
            "June 2023 report.txt\n",
            "June 2023 minutes - Copy.txt\n",
            "February 2023 minutes.txt\n",
            "June 2023 minutes.txt\n",
            "September 2022 report.txt\n",
            "Mar 2023 report.txt\n",
            "May 2023 report.txt\n",
            "September 2023 minutes.txt\n",
            "Mar 2023 minutes.txt\n",
            "Bank details.txt\n",
            "July 2022 report.txt\n",
            "May 2023 minutes.txt\n",
            "August 2023 minutes.txt\n",
            "November 2022 report.txt\n",
            "February 2023 report - Copy.txt\n",
            "Mar 2023 report - Copy.txt\n",
            "Customer payments.txt\n",
            "October 2022 report.txt\n",
            "Bobs Diary.txt\n",
            "Staff addresses.txt\n",
            "May 2023 minutes - Copy.txt\n",
            "July 2023 minutes.txt\n",
            "April 2023 minutes.txt\n",
            "February 2023 report.txt\n",
            "October 2023 minutes.txt\n",
            "Security Project.txt\n",
            "Temp staff.txt\n",
            "December  2023 minutes.txt\n",
            "Company Accounts.txt\n",
            "November 2022 report - Copy.txt\n",
            "January 2023 report.txt\n",
            "January 2023 minutes.txt\n",
            "August 2023 minutes - Copy.txt\n",
            "April 2023 report.txt\n",
            "December  2022 report.txt\n",
            "August 2022 report.txt\n",
            "November 2023 minutes.txt\n"
          ]
        }
      ]
    },
    {
      "cell_type": "markdown",
      "source": [
        "Create two new subfolders titled 'Minutes' and 'Reports' in the extracted folder"
      ],
      "metadata": {
        "id": "pyXAETC0qAx7"
      }
    },
    {
      "cell_type": "code",
      "source": [
        "os.mkdir(r'/content/' + folder_name[:-4] + '/Minutes')\n",
        "os.mkdir(r'/content/' + folder_name[:-4] + '/Reports')"
      ],
      "metadata": {
        "id": "ZFWB6cFqodKD"
      },
      "execution_count": null,
      "outputs": []
    },
    {
      "cell_type": "markdown",
      "source": [
        "Move the files into subfolders titled 'Minutes' or 'Reports' if the name of the file contains the word 'minutes' or 'reports' respectively"
      ],
      "metadata": {
        "id": "O1nrkeeZqsdZ"
      }
    },
    {
      "cell_type": "code",
      "source": [
        "files_minutes_pattern = glob.glob(r'/content/' + folder_name[:-4] + '/*minutes*')\n",
        "def move_files_to_inside_folder(destination_folder_name, pathnames_matching_pattern):\n",
        "  for file_path in pathnames_matching_pattern:\n",
        "    if os.path.isfile(file_path):\n",
        "      destination = file_path.rsplit('/',1)[0] + '/' + destination_folder_name + r'/' + file_path.rsplit('/',1)[1]\n",
        "      shutil.move(file_path, destination)\n",
        "move_files_to_inside_folder(\"Minutes\",files_minutes_pattern)\n",
        "files_report_pattern = glob.glob(r'/content/' + folder_name[:-4] + '/*report*')\n",
        "move_files_to_inside_folder(\"Reports\",files_report_pattern)\n",
        "\n"
      ],
      "metadata": {
        "id": "00RvD5TcqKjy"
      },
      "execution_count": null,
      "outputs": []
    },
    {
      "cell_type": "markdown",
      "source": [
        "Create subfolders titled '2022 reports' and '2023 reports' in the 'Reports' folder"
      ],
      "metadata": {
        "id": "DyTlw2ADsZH8"
      }
    },
    {
      "cell_type": "code",
      "source": [
        "os.mkdir(r'/content/' + folder_name[:-4] + '/Reports/2022 reports')\n",
        "os.mkdir(r'/content/' + folder_name[:-4] + '/Reports/2023 reports')"
      ],
      "metadata": {
        "id": "9jz59TD9sEf7"
      },
      "execution_count": null,
      "outputs": []
    },
    {
      "cell_type": "markdown",
      "source": [
        "Move files that contain the '2022' or '2023' into the subfolders '2022 reports' and '2023 reports' respectively"
      ],
      "metadata": {
        "id": "tqvfsjn6s7RY"
      }
    },
    {
      "cell_type": "code",
      "source": [
        "files_reports_2022_pattern = glob.glob(r'/content/' + folder_name[:-4] + '/Reports/*2022*')\n",
        "files_reports_2023_pattern = glob.glob(r'/content/' + folder_name[:-4] + '/Reports/*2023*')\n",
        "move_files_to_inside_folder(\"2022 reports\", files_reports_2022_pattern)\n",
        "move_files_to_inside_folder(\"2023 reports\", files_reports_2023_pattern)\n"
      ],
      "metadata": {
        "id": "d6xar8PUsm16"
      },
      "execution_count": null,
      "outputs": []
    },
    {
      "cell_type": "markdown",
      "source": [
        "List the directory structure"
      ],
      "metadata": {
        "id": "1hv3n3y_tu6n"
      }
    },
    {
      "cell_type": "code",
      "source": [
        "def list_directory_structure(target_directory_path):\n",
        "  target_directory_contents = os.walk(r'' + target_directory_path)\n",
        "  i = 0\n",
        "  for root, dirs, files in target_directory_contents:\n",
        "    i+=1\n",
        "    print(f\"\\nLevel {i}\\n\\nThe root folder of level {i} is {root.rsplit('/',1)[1]} \\n\")\n",
        "    print(f\"The folders in {root.rsplit('/',1)[1]} are:\\n\")\n",
        "    if dirs==[]:\n",
        "      print('No folders')\n",
        "    for dir in dirs:\n",
        "          print(dir)\n",
        "    print(f\"\\nThe files in {root.rsplit('/',1)[1]} are:\\n\")\n",
        "    if files==[]:\n",
        "      print('No files')\n",
        "    for file in files:\n",
        "          print(file)\n",
        "list_directory_structure(directory_to_clean_up)"
      ],
      "metadata": {
        "id": "OEdMstkCtgbD",
        "outputId": "be837a77-a8f4-40a8-a633-1ce95550b2a9",
        "colab": {
          "base_uri": "https://localhost:8080/"
        }
      },
      "execution_count": null,
      "outputs": [
        {
          "output_type": "stream",
          "name": "stdout",
          "text": [
            "\n",
            "Level 1\n",
            "\n",
            "The root folder of level 1 is Acme \n",
            "\n",
            "The folders in Acme are:\n",
            "\n",
            "Reports\n",
            "Minutes\n",
            "\n",
            "The files in Acme are:\n",
            "\n",
            "Company Accounts - Copy.txt\n",
            "Bank details.txt\n",
            "Customer payments.txt\n",
            "Bobs Diary.txt\n",
            "Staff addresses.txt\n",
            "Security Project.txt\n",
            "Temp staff.txt\n",
            "Company Accounts.txt\n",
            "\n",
            "Level 2\n",
            "\n",
            "The root folder of level 2 is Reports \n",
            "\n",
            "The folders in Reports are:\n",
            "\n",
            "2023 reports\n",
            "2022 reports\n",
            "\n",
            "The files in Reports are:\n",
            "\n",
            "No files\n",
            "\n",
            "Level 3\n",
            "\n",
            "The root folder of level 3 is 2023 reports \n",
            "\n",
            "The folders in 2023 reports are:\n",
            "\n",
            "No folders\n",
            "\n",
            "The files in 2023 reports are:\n",
            "\n",
            "June 2023 report.txt\n",
            "Mar 2023 report.txt\n",
            "May 2023 report.txt\n",
            "February 2023 report - Copy.txt\n",
            "Mar 2023 report - Copy.txt\n",
            "February 2023 report.txt\n",
            "January 2023 report.txt\n",
            "April 2023 report.txt\n",
            "\n",
            "Level 4\n",
            "\n",
            "The root folder of level 4 is 2022 reports \n",
            "\n",
            "The folders in 2022 reports are:\n",
            "\n",
            "No folders\n",
            "\n",
            "The files in 2022 reports are:\n",
            "\n",
            "September 2022 report.txt\n",
            "July 2022 report.txt\n",
            "November 2022 report.txt\n",
            "October 2022 report.txt\n",
            "November 2022 report - Copy.txt\n",
            "December  2022 report.txt\n",
            "August 2022 report.txt\n",
            "\n",
            "Level 5\n",
            "\n",
            "The root folder of level 5 is Minutes \n",
            "\n",
            "The folders in Minutes are:\n",
            "\n",
            "No folders\n",
            "\n",
            "The files in Minutes are:\n",
            "\n",
            "June 2023 minutes - Copy.txt\n",
            "February 2023 minutes.txt\n",
            "June 2023 minutes.txt\n",
            "September 2023 minutes.txt\n",
            "Mar 2023 minutes.txt\n",
            "May 2023 minutes.txt\n",
            "August 2023 minutes.txt\n",
            "May 2023 minutes - Copy.txt\n",
            "July 2023 minutes.txt\n",
            "April 2023 minutes.txt\n",
            "October 2023 minutes.txt\n",
            "December  2023 minutes.txt\n",
            "January 2023 minutes.txt\n",
            "August 2023 minutes - Copy.txt\n",
            "November 2023 minutes.txt\n"
          ]
        }
      ]
    },
    {
      "cell_type": "markdown",
      "source": [
        "Delete all the files that contain the word 'Copy' in their name and list all the files in the directory"
      ],
      "metadata": {
        "id": "7RHhnYs2uGbC"
      }
    },
    {
      "cell_type": "code",
      "source": [
        "def delete_files_with_pattern_in_name(folder_path, pattern):\n",
        "  file_paths_to_delete = f'{folder_path}/**/*{pattern}*'\n",
        "  for file_path in glob.iglob(file_paths_to_delete,recursive=True):\n",
        "    os.remove(file_path)\n",
        "delete_files_with_pattern_in_name(directory_to_clean_up,'Copy')\n",
        "list_directory_structure(directory_to_clean_up)"
      ],
      "metadata": {
        "id": "VAruLbI_t2eE",
        "outputId": "686a2355-f5b6-4c4e-b5a0-276db69546ce",
        "colab": {
          "base_uri": "https://localhost:8080/"
        }
      },
      "execution_count": null,
      "outputs": [
        {
          "output_type": "stream",
          "name": "stdout",
          "text": [
            "\n",
            "Level 1\n",
            "\n",
            "The root folder of level 1 is Acme \n",
            "\n",
            "The folders in Acme are:\n",
            "\n",
            "Reports\n",
            "Minutes\n",
            "\n",
            "The files in Acme are:\n",
            "\n",
            "Bank details.txt\n",
            "Customer payments.txt\n",
            "Bobs Diary.txt\n",
            "Staff addresses.txt\n",
            "Security Project.txt\n",
            "Temp staff.txt\n",
            "Company Accounts.txt\n",
            "\n",
            "Level 2\n",
            "\n",
            "The root folder of level 2 is Reports \n",
            "\n",
            "The folders in Reports are:\n",
            "\n",
            "2023 reports\n",
            "2022 reports\n",
            "\n",
            "The files in Reports are:\n",
            "\n",
            "No files\n",
            "\n",
            "Level 3\n",
            "\n",
            "The root folder of level 3 is 2023 reports \n",
            "\n",
            "The folders in 2023 reports are:\n",
            "\n",
            "No folders\n",
            "\n",
            "The files in 2023 reports are:\n",
            "\n",
            "June 2023 report.txt\n",
            "Mar 2023 report.txt\n",
            "May 2023 report.txt\n",
            "February 2023 report.txt\n",
            "January 2023 report.txt\n",
            "April 2023 report.txt\n",
            "\n",
            "Level 4\n",
            "\n",
            "The root folder of level 4 is 2022 reports \n",
            "\n",
            "The folders in 2022 reports are:\n",
            "\n",
            "No folders\n",
            "\n",
            "The files in 2022 reports are:\n",
            "\n",
            "September 2022 report.txt\n",
            "July 2022 report.txt\n",
            "November 2022 report.txt\n",
            "October 2022 report.txt\n",
            "December  2022 report.txt\n",
            "August 2022 report.txt\n",
            "\n",
            "Level 5\n",
            "\n",
            "The root folder of level 5 is Minutes \n",
            "\n",
            "The folders in Minutes are:\n",
            "\n",
            "No folders\n",
            "\n",
            "The files in Minutes are:\n",
            "\n",
            "February 2023 minutes.txt\n",
            "June 2023 minutes.txt\n",
            "September 2023 minutes.txt\n",
            "Mar 2023 minutes.txt\n",
            "May 2023 minutes.txt\n",
            "August 2023 minutes.txt\n",
            "July 2023 minutes.txt\n",
            "April 2023 minutes.txt\n",
            "October 2023 minutes.txt\n",
            "December  2023 minutes.txt\n",
            "January 2023 minutes.txt\n",
            "November 2023 minutes.txt\n"
          ]
        }
      ]
    },
    {
      "cell_type": "markdown",
      "source": [
        "Check if the files in the directory contain names of months in it and replace those with number equivalents. Then list all the files in the directory"
      ],
      "metadata": {
        "id": "bod_n1douoxU"
      }
    },
    {
      "cell_type": "code",
      "source": [
        "def rename_files_based_on_pattern(folder, pattern, substitute):\n",
        "  file_paths_to_replace = f'{folder}/**/*{pattern}*'\n",
        "  for path in glob.iglob(file_paths_to_replace,recursive=True):\n",
        "    if os.path.isfile(path):\n",
        "      file_current_directory = os.path.split(path)[0]\n",
        "      file_name = os.path.split(path)[1]\n",
        "      new_file_name = file_name.replace(pattern, substitute)\n",
        "      new_path = file_current_directory + '/' + new_file_name\n",
        "      os.rename(path, new_path)\n",
        "def replace_months_with_numbers_in_file_names(folder):\n",
        "  months_numbers = {\"January\":'01',\"February\":'02',\"March\":'03',\"April\":'04',\"May\":'05',\"June\":'06',\"July\":'07',\"August\":'08',\"September\":'09',\"October\":'10',\"November\":'11',\"December\":'12'}\n",
        "  for month, number in months_numbers.items():\n",
        "    rename_files_based_on_pattern(folder,month,number)\n",
        "replace_months_with_numbers_in_file_names(directory_to_clean_up)\n",
        "list_directory_structure(directory_to_clean_up)\n"
      ],
      "metadata": {
        "id": "ZxR-1ZdquOwF",
        "outputId": "2784ddd4-f3fd-477a-c2b1-645dbf23880f",
        "colab": {
          "base_uri": "https://localhost:8080/"
        }
      },
      "execution_count": null,
      "outputs": [
        {
          "output_type": "stream",
          "name": "stdout",
          "text": [
            "\n",
            "Level 1\n",
            "\n",
            "The root folder of level 1 is Acme \n",
            "\n",
            "The folders in Acme are:\n",
            "\n",
            "Reports\n",
            "Minutes\n",
            "\n",
            "The files in Acme are:\n",
            "\n",
            "Bank details.txt\n",
            "Customer payments.txt\n",
            "Bobs Diary.txt\n",
            "Staff addresses.txt\n",
            "Security Project.txt\n",
            "Temp staff.txt\n",
            "Company Accounts.txt\n",
            "\n",
            "Level 2\n",
            "\n",
            "The root folder of level 2 is Reports \n",
            "\n",
            "The folders in Reports are:\n",
            "\n",
            "2023 reports\n",
            "2022 reports\n",
            "\n",
            "The files in Reports are:\n",
            "\n",
            "No files\n",
            "\n",
            "Level 3\n",
            "\n",
            "The root folder of level 3 is 2023 reports \n",
            "\n",
            "The folders in 2023 reports are:\n",
            "\n",
            "No folders\n",
            "\n",
            "The files in 2023 reports are:\n",
            "\n",
            "05 2023 report.txt\n",
            "02 2023 report.txt\n",
            "Mar 2023 report.txt\n",
            "06 2023 report.txt\n",
            "04 2023 report.txt\n",
            "01 2023 report.txt\n",
            "\n",
            "Level 4\n",
            "\n",
            "The root folder of level 4 is 2022 reports \n",
            "\n",
            "The folders in 2022 reports are:\n",
            "\n",
            "No folders\n",
            "\n",
            "The files in 2022 reports are:\n",
            "\n",
            "10 2022 report.txt\n",
            "07 2022 report.txt\n",
            "12  2022 report.txt\n",
            "09 2022 report.txt\n",
            "08 2022 report.txt\n",
            "11 2022 report.txt\n",
            "\n",
            "Level 5\n",
            "\n",
            "The root folder of level 5 is Minutes \n",
            "\n",
            "The folders in Minutes are:\n",
            "\n",
            "No folders\n",
            "\n",
            "The files in Minutes are:\n",
            "\n",
            "04 2023 minutes.txt\n",
            "09 2023 minutes.txt\n",
            "Mar 2023 minutes.txt\n",
            "06 2023 minutes.txt\n",
            "10 2023 minutes.txt\n",
            "01 2023 minutes.txt\n",
            "05 2023 minutes.txt\n",
            "12  2023 minutes.txt\n",
            "11 2023 minutes.txt\n",
            "02 2023 minutes.txt\n",
            "08 2023 minutes.txt\n",
            "07 2023 minutes.txt\n"
          ]
        }
      ]
    },
    {
      "cell_type": "markdown",
      "source": [
        "Replace spaces in file names of the directory with underscores and list all the files of the directory"
      ],
      "metadata": {
        "id": "41vYUvZevVPD"
      }
    },
    {
      "cell_type": "code",
      "source": [
        "rename_files_based_on_pattern(directory_to_clean_up,\" \",\"_\")\n",
        "list_directory_structure(directory_to_clean_up)"
      ],
      "metadata": {
        "id": "Q92rg_XrvGc8",
        "outputId": "b1c3d355-4da2-498a-91ff-9d88e2279121",
        "colab": {
          "base_uri": "https://localhost:8080/"
        }
      },
      "execution_count": null,
      "outputs": [
        {
          "output_type": "stream",
          "name": "stdout",
          "text": [
            "\n",
            "Level 1\n",
            "\n",
            "The root folder of level 1 is Acme \n",
            "\n",
            "The folders in Acme are:\n",
            "\n",
            "Reports\n",
            "Minutes\n",
            "\n",
            "The files in Acme are:\n",
            "\n",
            "Staff_addresses.txt\n",
            "Customer_payments.txt\n",
            "Bank_details.txt\n",
            "Company_Accounts.txt\n",
            "Security_Project.txt\n",
            "Bobs_Diary.txt\n",
            "Temp_staff.txt\n",
            "\n",
            "Level 2\n",
            "\n",
            "The root folder of level 2 is Reports \n",
            "\n",
            "The folders in Reports are:\n",
            "\n",
            "2023 reports\n",
            "2022 reports\n",
            "\n",
            "The files in Reports are:\n",
            "\n",
            "No files\n",
            "\n",
            "Level 3\n",
            "\n",
            "The root folder of level 3 is 2023 reports \n",
            "\n",
            "The folders in 2023 reports are:\n",
            "\n",
            "No folders\n",
            "\n",
            "The files in 2023 reports are:\n",
            "\n",
            "04_2023_report.txt\n",
            "01_2023_report.txt\n",
            "05_2023_report.txt\n",
            "06_2023_report.txt\n",
            "02_2023_report.txt\n",
            "Mar_2023_report.txt\n",
            "\n",
            "Level 4\n",
            "\n",
            "The root folder of level 4 is 2022 reports \n",
            "\n",
            "The folders in 2022 reports are:\n",
            "\n",
            "No folders\n",
            "\n",
            "The files in 2022 reports are:\n",
            "\n",
            "12__2022_report.txt\n",
            "10_2022_report.txt\n",
            "08_2022_report.txt\n",
            "11_2022_report.txt\n",
            "07_2022_report.txt\n",
            "09_2022_report.txt\n",
            "\n",
            "Level 5\n",
            "\n",
            "The root folder of level 5 is Minutes \n",
            "\n",
            "The folders in Minutes are:\n",
            "\n",
            "No folders\n",
            "\n",
            "The files in Minutes are:\n",
            "\n",
            "05_2023_minutes.txt\n",
            "01_2023_minutes.txt\n",
            "07_2023_minutes.txt\n",
            "Mar_2023_minutes.txt\n",
            "04_2023_minutes.txt\n",
            "06_2023_minutes.txt\n",
            "10_2023_minutes.txt\n",
            "08_2023_minutes.txt\n",
            "09_2023_minutes.txt\n",
            "11_2023_minutes.txt\n",
            "12__2023_minutes.txt\n",
            "02_2023_minutes.txt\n"
          ]
        }
      ]
    },
    {
      "cell_type": "markdown",
      "source": [
        "Back up the directory"
      ],
      "metadata": {
        "id": "EEzSR-KPyIsf"
      }
    },
    {
      "cell_type": "code",
      "source": [
        "extracted_directory_path = directory_to_extract_to + folder_name[:-4]\n",
        "destination_directory_path = directory_to_extract_to + '/' + folder_name[:-4] + '/Backup'\n",
        "shutil.copytree(extracted_directory_path, destination_directory_path, ignore_dangling_symlinks=False, dirs_exist_ok=True)"
      ],
      "metadata": {
        "id": "GT0KrkFRvfr4",
        "outputId": "32caec30-7b05-4cbd-990f-8b36634e129f",
        "colab": {
          "base_uri": "https://localhost:8080/",
          "height": 35
        }
      },
      "execution_count": 17,
      "outputs": [
        {
          "output_type": "execute_result",
          "data": {
            "text/plain": [
              "'/content//Acme/Backup'"
            ],
            "application/vnd.google.colaboratory.intrinsic+json": {
              "type": "string"
            }
          },
          "metadata": {},
          "execution_count": 17
        }
      ]
    },
    {
      "cell_type": "markdown",
      "source": [
        "Zip the backup folder and download it"
      ],
      "metadata": {
        "id": "71bJ05S2zmWr"
      }
    },
    {
      "cell_type": "code",
      "source": [
        "shutil.make_archive(folder_name[:-4] + ' Backup',\"zip\", destination_directory_path)\n",
        "files.download(folder_name[:-4] + ' Backup' + '.zip')"
      ],
      "metadata": {
        "id": "Zia49R8_yO1V",
        "outputId": "9f39c78b-cf68-493e-e6ab-6ccea3ccbc13",
        "colab": {
          "base_uri": "https://localhost:8080/",
          "height": 17
        }
      },
      "execution_count": 20,
      "outputs": [
        {
          "output_type": "display_data",
          "data": {
            "text/plain": [
              "<IPython.core.display.Javascript object>"
            ],
            "application/javascript": [
              "\n",
              "    async function download(id, filename, size) {\n",
              "      if (!google.colab.kernel.accessAllowed) {\n",
              "        return;\n",
              "      }\n",
              "      const div = document.createElement('div');\n",
              "      const label = document.createElement('label');\n",
              "      label.textContent = `Downloading \"${filename}\": `;\n",
              "      div.appendChild(label);\n",
              "      const progress = document.createElement('progress');\n",
              "      progress.max = size;\n",
              "      div.appendChild(progress);\n",
              "      document.body.appendChild(div);\n",
              "\n",
              "      const buffers = [];\n",
              "      let downloaded = 0;\n",
              "\n",
              "      const channel = await google.colab.kernel.comms.open(id);\n",
              "      // Send a message to notify the kernel that we're ready.\n",
              "      channel.send({})\n",
              "\n",
              "      for await (const message of channel.messages) {\n",
              "        // Send a message to notify the kernel that we're ready.\n",
              "        channel.send({})\n",
              "        if (message.buffers) {\n",
              "          for (const buffer of message.buffers) {\n",
              "            buffers.push(buffer);\n",
              "            downloaded += buffer.byteLength;\n",
              "            progress.value = downloaded;\n",
              "          }\n",
              "        }\n",
              "      }\n",
              "      const blob = new Blob(buffers, {type: 'application/binary'});\n",
              "      const a = document.createElement('a');\n",
              "      a.href = window.URL.createObjectURL(blob);\n",
              "      a.download = filename;\n",
              "      div.appendChild(a);\n",
              "      a.click();\n",
              "      div.remove();\n",
              "    }\n",
              "  "
            ]
          },
          "metadata": {}
        },
        {
          "output_type": "display_data",
          "data": {
            "text/plain": [
              "<IPython.core.display.Javascript object>"
            ],
            "application/javascript": [
              "download(\"download_32525b6e-d5bd-4b76-a8ae-93e502aaa602\", \"Acme Backup.zip\", 5103)"
            ]
          },
          "metadata": {}
        }
      ]
    }
  ]
}